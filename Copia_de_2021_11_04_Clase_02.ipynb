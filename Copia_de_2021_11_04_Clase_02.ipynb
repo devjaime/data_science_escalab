{
  "nbformat": 4,
  "nbformat_minor": 0,
  "metadata": {
    "colab": {
      "name": "Copia de 2021 11 04 - Clase 02.ipynb",
      "provenance": [],
      "collapsed_sections": [],
      "include_colab_link": true
    },
    "kernelspec": {
      "name": "python3",
      "display_name": "Python 3"
    },
    "language_info": {
      "name": "python"
    }
  },
  "cells": [
    {
      "cell_type": "markdown",
      "metadata": {
        "id": "view-in-github",
        "colab_type": "text"
      },
      "source": [
        "<a href=\"https://colab.research.google.com/github/devjaime/data_science_escalab/blob/main/Copia_de_2021_11_04_Clase_02.ipynb\" target=\"_parent\"><img src=\"https://colab.research.google.com/assets/colab-badge.svg\" alt=\"Open In Colab\"/></a>"
      ]
    },
    {
      "cell_type": "markdown",
      "metadata": {
        "id": "pGwkHqKYHs2A"
      },
      "source": [
        "# Importar bibliotecas que no están en Google Colaboratory\n",
        "!pip install biblioteca\n",
        "\n",
        "!apt-get install biblioteca"
      ]
    },
    {
      "cell_type": "code",
      "metadata": {
        "id": "e8sUq-zKB_wY"
      },
      "source": [
        "import random"
      ],
      "execution_count": null,
      "outputs": []
    },
    {
      "cell_type": "code",
      "metadata": {
        "id": "1nwqXyQwIMAv"
      },
      "source": [
        "from geneticalgorithm import geneticalgorithm as ga"
      ],
      "execution_count": null,
      "outputs": []
    },
    {
      "cell_type": "code",
      "metadata": {
        "id": "FgSvwrslIhiv",
        "colab": {
          "base_uri": "https://localhost:8080/"
        },
        "outputId": "0696d618-bf59-455b-ab79-9cf582f54752"
      },
      "source": [
        "!pip install geneticalgorithm"
      ],
      "execution_count": null,
      "outputs": [
        {
          "output_type": "stream",
          "name": "stdout",
          "text": [
            "Collecting geneticalgorithm\n",
            "  Downloading geneticalgorithm-1.0.2-py3-none-any.whl (16 kB)\n",
            "Requirement already satisfied: numpy in /usr/local/lib/python3.7/dist-packages (from geneticalgorithm) (1.19.5)\n",
            "Collecting func-timeout\n",
            "  Downloading func_timeout-4.3.5.tar.gz (44 kB)\n",
            "\u001b[K     |████████████████████████████████| 44 kB 1.1 MB/s \n",
            "\u001b[?25hBuilding wheels for collected packages: func-timeout\n",
            "  Building wheel for func-timeout (setup.py) ... \u001b[?25l\u001b[?25hdone\n",
            "  Created wheel for func-timeout: filename=func_timeout-4.3.5-py3-none-any.whl size=15095 sha256=7fea7353ecd2b17b885d6e3d51271150fd012f5ce93bc597ced54fbd4494e004\n",
            "  Stored in directory: /root/.cache/pip/wheels/68/b5/a5/67c4364c354e141f5a1bd3ec568126f77877ab7554cf5af8cb\n",
            "Successfully built func-timeout\n",
            "Installing collected packages: func-timeout, geneticalgorithm\n",
            "Successfully installed func-timeout-4.3.5 geneticalgorithm-1.0.2\n"
          ]
        }
      ]
    },
    {
      "cell_type": "code",
      "metadata": {
        "id": "CbN0i6B1IiwP"
      },
      "source": [
        "from geneticalgorithm import geneticalgorithm as ga"
      ],
      "execution_count": null,
      "outputs": []
    },
    {
      "cell_type": "code",
      "metadata": {
        "id": "6LAfVcSUL8SM"
      },
      "source": [
        "import libarchive"
      ],
      "execution_count": null,
      "outputs": []
    },
    {
      "cell_type": "code",
      "metadata": {
        "id": "uDIJS91IIp1W",
        "colab": {
          "base_uri": "https://localhost:8080/"
        },
        "outputId": "edea1772-759e-47f8-b950-f5bf64ab55dd"
      },
      "source": [
        "!apt-get install libarchive-dev\n",
        "!pip install libarchive"
      ],
      "execution_count": null,
      "outputs": [
        {
          "output_type": "stream",
          "name": "stdout",
          "text": [
            "Reading package lists... Done\n",
            "Building dependency tree       \n",
            "Reading state information... Done\n",
            "The following NEW packages will be installed:\n",
            "  libarchive-dev\n",
            "0 upgraded, 1 newly installed, 0 to remove and 37 not upgraded.\n",
            "Need to get 470 kB of archives.\n",
            "After this operation, 1,625 kB of additional disk space will be used.\n",
            "Get:1 http://archive.ubuntu.com/ubuntu bionic-updates/main amd64 libarchive-dev amd64 3.2.2-3.1ubuntu0.7 [470 kB]\n",
            "Fetched 470 kB in 1s (628 kB/s)\n",
            "Selecting previously unselected package libarchive-dev:amd64.\n",
            "(Reading database ... 155219 files and directories currently installed.)\n",
            "Preparing to unpack .../libarchive-dev_3.2.2-3.1ubuntu0.7_amd64.deb ...\n",
            "Unpacking libarchive-dev:amd64 (3.2.2-3.1ubuntu0.7) ...\n",
            "Setting up libarchive-dev:amd64 (3.2.2-3.1ubuntu0.7) ...\n",
            "Processing triggers for man-db (2.8.3-2ubuntu0.1) ...\n",
            "Collecting libarchive\n",
            "  Downloading libarchive-0.4.7.tar.gz (23 kB)\n",
            "Collecting nose\n",
            "  Downloading nose-1.3.7-py3-none-any.whl (154 kB)\n",
            "\u001b[K     |████████████████████████████████| 154 kB 4.5 MB/s \n",
            "\u001b[?25hBuilding wheels for collected packages: libarchive\n",
            "  Building wheel for libarchive (setup.py) ... \u001b[?25l\u001b[?25hdone\n",
            "  Created wheel for libarchive: filename=libarchive-0.4.7-py3-none-any.whl size=31647 sha256=3cc6be3590c8fb592b9ea92270712af98a54b01b577de595d2df89946ecd080f\n",
            "  Stored in directory: /root/.cache/pip/wheels/63/b1/c6/b3da79bec2012175bd43603eed98ef8548ac1733b77c1d4330\n",
            "Successfully built libarchive\n",
            "Installing collected packages: nose, libarchive\n",
            "Successfully installed libarchive-0.4.7 nose-1.3.7\n"
          ]
        }
      ]
    },
    {
      "cell_type": "markdown",
      "metadata": {
        "id": "df4aZ35sO1id"
      },
      "source": [
        "# Tipos de datos\n",
        "Númericos\n",
        "*   Enteros (int)\n",
        "*   Coma flotante (float)\n",
        "*   Complejos\n",
        "\n",
        "Textos\n",
        "\n",
        "Booleanos\n",
        "*   Verdadero → True\n",
        "*   Falso → False"
      ]
    },
    {
      "cell_type": "code",
      "metadata": {
        "colab": {
          "base_uri": "https://localhost:8080/"
        },
        "id": "YckRgELbEfZo",
        "outputId": "43700293-7707-439c-9d82-7cc5aaa8a5fc"
      },
      "source": [
        "mi_numero_1 = 125\n",
        "print(mi_numero_1)\n",
        "\n",
        "mi_numero_2 = 125.45\n",
        "print(mi_numero_2)"
      ],
      "execution_count": null,
      "outputs": [
        {
          "output_type": "stream",
          "name": "stdout",
          "text": [
            "125\n",
            "125.45\n"
          ]
        }
      ]
    },
    {
      "cell_type": "code",
      "metadata": {
        "id": "7ej6s0rPdH2Y",
        "colab": {
          "base_uri": "https://localhost:8080/"
        },
        "outputId": "30804f96-ac69-49a0-e34a-b98ed78b6297"
      },
      "source": [
        "mi_texto_1 = 'este es mi texto'\n",
        "print(mi_texto_1)\n",
        "mi_texto_2 = 'este es mi \"texto\"'\n",
        "print(mi_texto_2)\n",
        "\n",
        "mi_texto_3 = \"\"\"este\n",
        "es mi\n",
        "texto\"\"\"\n",
        "print()\n",
        "print(mi_texto_3)\n",
        "\n"
      ],
      "execution_count": null,
      "outputs": [
        {
          "output_type": "stream",
          "name": "stdout",
          "text": [
            "este es mi texto\n",
            "este es mi \"texto\"\n",
            "\n",
            "este\n",
            "es mi\n",
            "texto\n"
          ]
        }
      ]
    },
    {
      "cell_type": "code",
      "metadata": {
        "colab": {
          "base_uri": "https://localhost:8080/"
        },
        "id": "J2h8kCAzC40n",
        "outputId": "972352da-378a-427e-96f5-2c5926f02d53"
      },
      "source": [
        "# true está mal, la primera tiene que se con mayúscula\n",
        "cond_1 = True\n",
        "print(cond_1)\n",
        "cond_2 = False\n",
        "print(cond_2)"
      ],
      "execution_count": null,
      "outputs": [
        {
          "output_type": "stream",
          "name": "stdout",
          "text": [
            "True\n",
            "False\n"
          ]
        }
      ]
    },
    {
      "cell_type": "markdown",
      "metadata": {
        "id": "h8ISBAn6RLpu"
      },
      "source": [
        "# Operadores\n",
        "*   aritméticos\n",
        "\t*   suma +\n",
        "\t*   resta - \n",
        "\t*   multiplicación *\n",
        "\t*   división /\n",
        "\t*   módulo %\n",
        "\t*   exponente **\n",
        "\t*   división entera //\n",
        "*   comparación\n",
        "\t*   igual que ==\n",
        "\t*   diferente que !=\n",
        "\t*   mayor que >\n",
        "\t*   menor que <\n",
        "\t*   mayor o igual que >=\n",
        "\t*   menor o igual que <=\n",
        "*   lógicos\n",
        "\t*   AND\n",
        "\t*   OR\n",
        "\t*   NOT\n",
        "*   asignación\n",
        "\t*   igual =\n",
        "\t*   incrementeo +=\n",
        "\t*   decremento -=\n",
        "  *   /=\n",
        "  *   %=\n",
        "  *   **=\n",
        "  *   //=\n",
        "*   especiales\n",
        "\t*   IS\n",
        "\t*   IS NOT\n",
        "\t*   IN\n",
        "\t*   NOT IN\n"
      ]
    },
    {
      "cell_type": "code",
      "metadata": {
        "id": "SBNUWX7cL_SH",
        "colab": {
          "base_uri": "https://localhost:8080/"
        },
        "outputId": "e61920a9-e1f5-4b7a-b69a-79797511e167"
      },
      "source": [
        "# aritméticos\n",
        "print(\"suma → +\")\n",
        "print(10+28)\n",
        "print(10+28+78)\n",
        "print()\n",
        "\n",
        "print(\"resta → -\")\n",
        "print(28-10)\n",
        "print(28-10-10)\n",
        "print(28-(10-10))\n",
        "print()\n",
        "\n",
        "print(\"multiplicación → *\")\n",
        "print(2*4)\n",
        "print(2*4*2)\n",
        "print()\n",
        "\n",
        "print(\"división → /\")\n",
        "print(8/2)\n",
        "print()\n",
        "\n",
        "print(\"módulo → %\")\n",
        "print(9%2)\n",
        "print(23%5)\n",
        "print()\n",
        "\n",
        "print(\"exponente → **\")\n",
        "print(2**4)\n",
        "print(3**3)\n",
        "print()\n",
        "\n",
        "print(\"división entera → //\")\n",
        "print(23//5)"
      ],
      "execution_count": null,
      "outputs": [
        {
          "output_type": "stream",
          "name": "stdout",
          "text": [
            "suma → +\n",
            "38\n",
            "116\n",
            "\n",
            "resta → -\n",
            "18\n",
            "8\n",
            "28\n",
            "\n",
            "multiplicación → *\n",
            "8\n",
            "16\n",
            "\n",
            "división → /\n",
            "4.0\n",
            "\n",
            "módulo → %\n",
            "1\n",
            "3\n",
            "\n",
            "exponente → **\n",
            "16\n",
            "27\n",
            "\n",
            "división entera → //\n",
            "4\n",
            "4.6\n"
          ]
        }
      ]
    },
    {
      "cell_type": "code",
      "metadata": {
        "colab": {
          "base_uri": "https://localhost:8080/"
        },
        "id": "0TfwatKAGnPS",
        "outputId": "d7b9cd71-d6d6-485f-be66-8e9ff0a7fae1"
      },
      "source": [
        "# Comparación\n",
        "print(\"igual que → ==\")\n",
        "print(\"perro\"==\"gato\")\n",
        "print(\"perro\"==\"perro\")\n",
        "print(3==2)\n",
        "print(3==3)\n",
        "print()\n",
        "\n",
        "print(\"diferente que → !=\")\n",
        "print(\"perro\"!=\"gato\")\n",
        "print(\"perro\"!=\"perro\")\n",
        "print(3!=2)\n",
        "print(3!=3)\n",
        "print()\n",
        "\n",
        "print(\"mayor que → >\")\n",
        "print(3>4)\n",
        "print(3>2)\n",
        "print()\n",
        "\n",
        "print(\"menor que → <\")\n",
        "print(3<4)\n",
        "print(3<2)\n",
        "print()\n",
        "\n",
        "print(\"mayor o igual que → >=\")\n",
        "print(3>=4)\n",
        "print(3>=2)\n",
        "print(3>=3)\n",
        "print()\n",
        "\n",
        "print(\"menor o igual que → <=\")\n",
        "print(3<=4)\n",
        "print(3<=2)\n",
        "print(3<=3)\n",
        "print()\n"
      ],
      "execution_count": null,
      "outputs": [
        {
          "output_type": "stream",
          "name": "stdout",
          "text": [
            "igual que → ==\n",
            "False\n",
            "True\n",
            "False\n",
            "True\n",
            "\n",
            "diferente que → !=\n",
            "True\n",
            "False\n",
            "True\n",
            "False\n",
            "\n",
            "mayor que → >\n",
            "False\n",
            "True\n",
            "\n",
            "menor que → <\n",
            "True\n",
            "False\n",
            "\n",
            "mayor o igual que → >=\n",
            "False\n",
            "True\n",
            "True\n",
            "\n",
            "menor o igual que → <=\n",
            "True\n",
            "False\n",
            "True\n",
            "\n"
          ]
        }
      ]
    },
    {
      "cell_type": "code",
      "metadata": {
        "colab": {
          "base_uri": "https://localhost:8080/"
        },
        "id": "oVfjoIN4H8h1",
        "outputId": "19d0e841-5b45-45f0-b8e6-2211d2a5d847"
      },
      "source": [
        "# asignación\n",
        "mi_variable_1 = 5\n",
        "mi_variable_2 = \"mi texto\"\n",
        "print(\"asignación → =\")\n",
        "print(mi_variable_1)\n",
        "print(mi_variable_2)\n",
        "print()\n",
        "\n",
        "print(\"incremento → +=, # decremento → -=\")\n",
        "# forma 1\n",
        "a=5\n",
        "print(5)\n",
        "a += 2\n",
        "print(a)\n",
        "\n",
        "# forma 2\n",
        "a=5\n",
        "print(5)\n",
        "a = a + 2\n",
        "print(a)\n",
        "print()\n",
        "\n",
        "# a = a/2\n",
        "# a /= 2\n",
        "a = 20\n",
        "a /= 2\n",
        "print(a)\n",
        "print()\n",
        "\n",
        "a = 23\n",
        "a = a%4\n",
        "print(a)\n",
        "a = 23\n",
        "a %= 4\n",
        "print(a)\n",
        "print()\n",
        "\n",
        "a = 2\n",
        "a = a**3\n",
        "print(a)\n",
        "a = 2\n",
        "a **= 3\n",
        "print(a)\n",
        "print()\n",
        "\n",
        "a = 24\n",
        "a = a//5\n",
        "print(a)\n",
        "a = 24\n",
        "a //= 5\n",
        "print(a)\n",
        "print()\n",
        "\n",
        "\n"
      ],
      "execution_count": null,
      "outputs": [
        {
          "output_type": "stream",
          "name": "stdout",
          "text": [
            "asignación → =\n",
            "5\n",
            "mi texto\n",
            "\n",
            "incremento → +=, # decremento → -=\n",
            "5\n",
            "7\n",
            "5\n",
            "7\n",
            "\n",
            "10.0\n",
            "\n",
            "3\n",
            "3\n",
            "\n",
            "8\n",
            "8\n",
            "\n",
            "4\n",
            "4\n",
            "\n"
          ]
        }
      ]
    },
    {
      "cell_type": "code",
      "metadata": {
        "colab": {
          "base_uri": "https://localhost:8080/"
        },
        "id": "V5dcPvYcKCSK",
        "outputId": "a9474b09-7485-4011-a441-cdbeed7d665f"
      },
      "source": [
        "#especiales\n",
        "# IS\n",
        "# IS NOT\n",
        "# IN\n",
        "# NOT IN\n",
        "\n",
        "lista = [1, 2, 3, 4]\n",
        "print(1 in lista)\n",
        "print(5 in lista)\n",
        "print(1 not in lista)\n",
        "print(5 not in lista)"
      ],
      "execution_count": null,
      "outputs": [
        {
          "output_type": "stream",
          "name": "stdout",
          "text": [
            "True\n",
            "False\n",
            "False\n",
            "True\n"
          ]
        }
      ]
    },
    {
      "cell_type": "markdown",
      "metadata": {
        "id": "_6s6aP7XoN8n"
      },
      "source": [
        "# Variables\n",
        "Espacio en la memoria del ordenador donde se almacenará un valor que podrá cambiar durante la ejecución del programa\n",
        "```\n",
        "mi_variable = valor\n",
        "mi_numero = 5\n",
        "\n",
        "# no!!!\n",
        "  int mi_numero = 5;\n",
        "```\n",
        "\n",
        "\n",
        "En python todo es un objeto\n",
        "\n",
        "type(objeto)"
      ]
    },
    {
      "cell_type": "code",
      "metadata": {
        "id": "iQ8sXxYRM1mt",
        "colab": {
          "base_uri": "https://localhost:8080/"
        },
        "outputId": "530ea88d-ee96-474f-c4af-3efab477f1ed"
      },
      "source": [
        "mi_variable_1 = \"un texto\"\n",
        "print(mi_variable_1)\n",
        "print(type(mi_variable_1))\n",
        "print()\n",
        "\n",
        "mi_variable_2 = 5\n",
        "print(mi_variable_2)\n",
        "print(type(mi_variable_2))\n",
        "print()\n",
        "\n",
        "mi_variable_3 = 5.4\n",
        "print(mi_variable_3)\n",
        "print(type(mi_variable_3))\n",
        "print()\n",
        "\n",
        "mi_variable_4 = [1,2,3,4]\n",
        "print(mi_variable_4)\n",
        "print(type(mi_variable_4))\n",
        "print()\n"
      ],
      "execution_count": null,
      "outputs": [
        {
          "output_type": "stream",
          "name": "stdout",
          "text": [
            "un texto\n",
            "<class 'str'>\n",
            "\n",
            "5\n",
            "<class 'int'>\n",
            "\n",
            "5.4\n",
            "<class 'float'>\n",
            "\n",
            "[1, 2, 3, 4]\n",
            "<class 'list'>\n",
            "\n"
          ]
        }
      ]
    },
    {
      "cell_type": "markdown",
      "metadata": {
        "id": "TmR2uOTKq1o_"
      },
      "source": [
        "# Operadores de comparación y/o condicionales\n",
        "## if (elif, else)\n",
        "Permite evaluar una o más condicionesdos para ver si se cumplen o no\n",
        "\n",
        "si se cumplen podemos determinar que ejecute una acción específica así como otra cuando no se cumple\n"
      ]
    },
    {
      "cell_type": "code",
      "metadata": {
        "id": "S92VoKYFq02z",
        "colab": {
          "base_uri": "https://localhost:8080/"
        },
        "outputId": "7967c625-162c-4119-edda-241180d640bf"
      },
      "source": [
        "# if condición:\n",
        "a = 3\n",
        "b = 4\n",
        "\n",
        "\n",
        "if a < b:\n",
        "  print(\"a es menor que b\")\n",
        "else:\n",
        "  print(\"a no es menor que b\")"
      ],
      "execution_count": null,
      "outputs": [
        {
          "output_type": "stream",
          "name": "stdout",
          "text": [
            "a es menor que b\n"
          ]
        }
      ]
    },
    {
      "cell_type": "code",
      "metadata": {
        "colab": {
          "base_uri": "https://localhost:8080/"
        },
        "id": "YLKjX2oaNZJe",
        "outputId": "d548d9a4-7666-4323-a5ef-cbec5d8dbe9c"
      },
      "source": [
        "# if condición:\n",
        "a = 3\n",
        "b = 4\n",
        "c = 11\n",
        "\n",
        "if c < 5:\n",
        "  print(\"c es menor que 5\")\n",
        "elif c < 10:\n",
        "  print(\"c es menor que 10\")\n",
        "elif c < 12:\n",
        "  print(\"c es menor que 12\")\n",
        "else:\n",
        "  print(\"c no es menor que 5 ni menor que 10\")"
      ],
      "execution_count": null,
      "outputs": [
        {
          "output_type": "stream",
          "name": "stdout",
          "text": [
            "c es menor que 12\n"
          ]
        }
      ]
    },
    {
      "cell_type": "code",
      "metadata": {
        "colab": {
          "base_uri": "https://localhost:8080/"
        },
        "id": "64PhbTV3Nhhn",
        "outputId": "bf4afcaa-a8bc-4ff1-bace-6eb0da3f9603"
      },
      "source": [
        "# and, or\n",
        "# if condición:\n",
        "a = 10\n",
        "\n",
        "# quiero saber si \"\"a\" está entre 5 y 15\n",
        "\n",
        "\n",
        "if a > 5:\n",
        "  if a < 15:\n",
        "    print(\"a es mayor que 5 y es menor que 15\")\n",
        "\n",
        "if a > 5 and a < 15:\n",
        "  print(\"a es mayor que 5 y es menor que 15\")\n",
        "\n",
        "print(\"**********************\")\n",
        "\n",
        "b = 15\n",
        "c = 5\n",
        "\n",
        "# quiero saber si \"b\" o \"c\" (qualquiera de los dos) es mayor que 10\n",
        "print(\"para b = 15 y para c = 5\")\n",
        "if b > 10 or c > 10:\n",
        "  print(\"b o c, alguno de ellos es mayor que 10\")\n",
        "else:\n",
        "  print(\"ni b ni c son mayores que 10\")\n",
        "print()\n",
        "print()\n",
        "\n",
        "\n",
        "b = 7\n",
        "c = 5\n",
        "\n",
        "print(\"para b = 7 y para c = 5\")\n",
        "# quiero saber si \"b\" o \"c\" (qualquiera de los dos) es mayor que 10\n",
        "if b > 10 or c > 10:\n",
        "  print(\"b o c, alguno de ellos es mayor que 10\")\n",
        "else:\n",
        "  print(\"ni b ni c son mayores que 10\")"
      ],
      "execution_count": null,
      "outputs": [
        {
          "output_type": "stream",
          "name": "stdout",
          "text": [
            "a es mayor que 5 y es menor que 15\n",
            "a es mayor que 5 y es menor que 15\n",
            "**********************\n",
            "para b = 15 y para c = 5\n",
            "b o c, alguno de ellos es mayor que 10\n",
            "\n",
            "\n",
            "para b = 7 y para c = 5\n",
            "ni b ni c son mayores que 10\n"
          ]
        }
      ]
    },
    {
      "cell_type": "code",
      "metadata": {
        "id": "avBg7VSJMM73"
      },
      "source": [
        ""
      ],
      "execution_count": null,
      "outputs": []
    },
    {
      "cell_type": "markdown",
      "metadata": {
        "id": "1pwlUM6XrpZz"
      },
      "source": [
        "# Funciones\n",
        "### Qué son?\n",
        "*   Conjunto de líneas de código agrupadas (bloque de código) que funcionan como una unidad realizando una tarea específica.\n",
        "*   Las funciones en Python pueden devolver valores.\n",
        "*   Las funciones en Python pueden tener parámetros/argumentos.\n",
        "*   A las funciones también se las denomina \"métodos\" cuando se encuentran definidas dentro de una clase.\n",
        "\n",
        "### Utilidad\n",
        "*   Reutilización de código (cuando sea necesario o si es necesario)\n",
        "\n",
        "### Sintaxis\n",
        "*   def nombre_función():\n",
        "  *   Instrucciones de la función\n",
        "  *   return (opcional)\n",
        "\n",
        "*   def nombre_función(parámetros):\n",
        "  *   Instrucciones de la función\n",
        "  *   return (opcional)\n",
        "\n",
        "### Ejecución\n",
        "*   nombre_función()\n",
        "*   nombre_función(parámetros)"
      ]
    },
    {
      "cell_type": "code",
      "metadata": {
        "id": "y3xyWGpKStSn"
      },
      "source": [
        "def imprimir_3_textos():\n",
        "  print(\"este es mi texto 1\")\n",
        "  print(\"este es mi texto 2\")\n",
        "  print(\"este es mi texto 3\")"
      ],
      "execution_count": null,
      "outputs": []
    },
    {
      "cell_type": "code",
      "metadata": {
        "colab": {
          "base_uri": "https://localhost:8080/"
        },
        "id": "F_n5dKaGQ9ms",
        "outputId": "c66695fb-30da-415e-b06a-42da4463483e"
      },
      "source": [
        "imprimir_3_textos()"
      ],
      "execution_count": null,
      "outputs": [
        {
          "output_type": "stream",
          "name": "stdout",
          "text": [
            "este es mi texto 1\n",
            "este es mi texto 2\n",
            "este es mi texto 3\n"
          ]
        }
      ]
    },
    {
      "cell_type": "code",
      "metadata": {
        "id": "VO--xM2ERQYF"
      },
      "source": [
        "def sumar_2_3():\n",
        "  print(2+3)"
      ],
      "execution_count": null,
      "outputs": []
    },
    {
      "cell_type": "code",
      "metadata": {
        "id": "wDXFWa2oRXd9"
      },
      "source": [
        "def imprimir_2_textos(texto_1, texto_2):\n",
        "  print(texto_1)\n",
        "  print(texto_2)\n"
      ],
      "execution_count": null,
      "outputs": []
    },
    {
      "cell_type": "code",
      "metadata": {
        "colab": {
          "base_uri": "https://localhost:8080/"
        },
        "id": "CDqfD7rdRXbk",
        "outputId": "0fce2fb5-7da0-41ac-a48b-36547b9639b8"
      },
      "source": [
        "mi_texto_1 = \"hola\"\n",
        "mi_texto_2 = \"alumnos\"\n",
        "imprimir_2_textos(mi_texto_1, mi_texto_2)"
      ],
      "execution_count": null,
      "outputs": [
        {
          "output_type": "stream",
          "name": "stdout",
          "text": [
            "hola\n",
            "alumnos\n"
          ]
        }
      ]
    },
    {
      "cell_type": "code",
      "metadata": {
        "id": "rUGhu1MSRXZI"
      },
      "source": [
        "def suma(a,b):\n",
        "  c = a+b\n",
        "  return c"
      ],
      "execution_count": null,
      "outputs": []
    },
    {
      "cell_type": "code",
      "metadata": {
        "colab": {
          "base_uri": "https://localhost:8080/"
        },
        "id": "JbwqY8UoRXWx",
        "outputId": "5f8070bc-0c70-423e-939e-f85e140a97e0"
      },
      "source": [
        "resultado = suma(5,80)\n",
        "print(resultado)"
      ],
      "execution_count": null,
      "outputs": [
        {
          "output_type": "stream",
          "name": "stdout",
          "text": [
            "85\n"
          ]
        }
      ]
    },
    {
      "cell_type": "code",
      "metadata": {
        "id": "bsm8U2F4RXUH"
      },
      "source": [
        "def operacion(a,b,c,d):\n",
        "  valor_1 = a + b\n",
        "  valor_2 = valor_1 * c\n",
        "  print(valor_2)\n",
        "  valor_3 = valor_2 - d\n",
        "  return valor_3"
      ],
      "execution_count": null,
      "outputs": []
    },
    {
      "cell_type": "code",
      "metadata": {
        "colab": {
          "base_uri": "https://localhost:8080/"
        },
        "id": "gMSVUz6gTI_9",
        "outputId": "960930e7-11c4-41fa-e8c0-eef2151eb199"
      },
      "source": [
        "print(operacion(1,2,3,4))\n",
        "print(\"----\")\n",
        "print(operacion(10,20,3,10))\n"
      ],
      "execution_count": null,
      "outputs": [
        {
          "output_type": "stream",
          "name": "stdout",
          "text": [
            "9\n",
            "5\n",
            "----\n",
            "90\n",
            "80\n"
          ]
        }
      ]
    },
    {
      "cell_type": "code",
      "metadata": {
        "id": "4EMhywETTI5C"
      },
      "source": [
        "def imprimir(a,b):\n",
        "  print(a)\n",
        "  print(b)"
      ],
      "execution_count": null,
      "outputs": []
    },
    {
      "cell_type": "code",
      "metadata": {
        "colab": {
          "base_uri": "https://localhost:8080/"
        },
        "id": "7KUVXijtTIy2",
        "outputId": "e3b71223-73c2-4ed0-c275-3a2860e290ab"
      },
      "source": [
        "imprimir(123, \"texto\")"
      ],
      "execution_count": null,
      "outputs": [
        {
          "output_type": "stream",
          "name": "stdout",
          "text": [
            "123\n",
            "texto\n"
          ]
        }
      ]
    },
    {
      "cell_type": "markdown",
      "metadata": {
        "id": "wv2zlDD6vxgW"
      },
      "source": [
        "# Estrucutras de datos - Listas\n",
        "*   Estrucutra de datos que nos permite almacenar gran cantidad de valores\n",
        "*   En Python las listas pueden guardar diferentes tipos de valores (en otros lenguajes no ocurre esto con los array, arreglos, vectores...)\n",
        "*   Se pueden expandir dínamicamente añadiendo nuevos elementos\n",
        "\n",
        "Sintaxis de las listas\n",
        "*   nombre_lista = [elemento1, elemento2, elemento3...]\n",
        "\n",
        "Utilidades\n",
        "*   índice [#]\n",
        "*   porciones [#:#], [:#], [#:]\n",
        "*   .append()\n",
        "*   .insert(index, elemento)\n",
        "*   .extend([elemento1, elemento2...])\n",
        "*   .index(elemento)\n",
        "*   .remove(elemento o index)\n",
        "*   .pop()\n",
        "*   .count(elemento)\n",
        "*   elemento in mi_lista\n",
        "*   lista_1 + lista_2\n",
        "*   lista_1 * 3"
      ]
    },
    {
      "cell_type": "code",
      "metadata": {
        "id": "x27s1-pk1T8F",
        "colab": {
          "base_uri": "https://localhost:8080/"
        },
        "outputId": "53cb391c-6f95-4ee4-9e06-daebaff72128"
      },
      "source": [
        "# definir una lista\n",
        "# índice      0  1  2  3   4   5\n",
        "mi_lista_1 = [2, 4, 6, 8, 10, 12]\n",
        "print(mi_lista_1)\n",
        "mi_lista_2 = [2,\"texto\",6,[8,10], 12]\n",
        "print(mi_lista_2)\n",
        "\n",
        "mi_lista_2[1] = 4\n",
        "print(mi_lista_2)"
      ],
      "execution_count": null,
      "outputs": [
        {
          "output_type": "stream",
          "name": "stdout",
          "text": [
            "[2, 4, 6, 8, 10, 12]\n",
            "[2, 'texto', 6, [8, 10], 12]\n",
            "[2, 4, 6, [8, 10], 12]\n"
          ]
        }
      ]
    },
    {
      "cell_type": "code",
      "metadata": {
        "colab": {
          "base_uri": "https://localhost:8080/"
        },
        "id": "9ZqcKjEVVm-H",
        "outputId": "e3a00b14-fc6a-45f3-8f31-07f2170d76f8"
      },
      "source": [
        "mi_lista_2[3]"
      ],
      "execution_count": null,
      "outputs": [
        {
          "output_type": "execute_result",
          "data": {
            "text/plain": [
              "[8, 10]"
            ]
          },
          "metadata": {},
          "execution_count": 165
        }
      ]
    },
    {
      "cell_type": "code",
      "metadata": {
        "colab": {
          "base_uri": "https://localhost:8080/"
        },
        "id": "kMTBFzYCWPB-",
        "outputId": "1efd67a8-03d6-4008-cb89-0515448cd82d"
      },
      "source": [
        "#porciones [#:#], [:#], [#:]\n",
        "print(mi_lista_1[2:5])\n",
        "print(mi_lista_1[2:])\n",
        "print(mi_lista_1[:4])\n",
        "print()\n",
        "\n",
        "print(mi_lista_1[-3])\n",
        "print(mi_lista_1[-3:])\n",
        "print(mi_lista_1[:-3])\n",
        "\n"
      ],
      "execution_count": null,
      "outputs": [
        {
          "output_type": "stream",
          "name": "stdout",
          "text": [
            "[6, 8, 10]\n",
            "[6, 8, 10, 12]\n",
            "[2, 4, 6, 8]\n",
            "\n",
            "8\n",
            "[8, 10, 12]\n",
            "[2, 4, 6]\n"
          ]
        }
      ]
    },
    {
      "cell_type": "code",
      "metadata": {
        "colab": {
          "base_uri": "https://localhost:8080/"
        },
        "id": "JEBOgXoqWisV",
        "outputId": "31caabf2-7a5b-4a3c-cf74-8b1b4f05baf0"
      },
      "source": [
        "# append()\n",
        "mi_lista_1 = [2, 4, 6, 8, 10, 12]\n",
        "print(mi_lista_1)\n",
        "mi_lista_1.append(14)\n",
        "print(mi_lista_1)\n",
        "mi_lista_1.append(18)\n",
        "print(mi_lista_1)\n",
        "print(\"*********\\n\")\n",
        "\n",
        "# insert(index, elemento)\n",
        "mi_lista_1.insert(7, 16)\n",
        "print(mi_lista_1)\n",
        "print(\"*********\\n\")\n",
        "\n",
        "\n",
        "# extend([elemento1, elemento2...])\n",
        "mi_lista_1.extend([20,22,24,26])\n",
        "print(mi_lista_1)\n",
        "\n",
        "# tener cuidado con esto!!!!\n",
        "mi_lista_1.append([20,22,24,26])\n",
        "print(mi_lista_1)"
      ],
      "execution_count": null,
      "outputs": [
        {
          "output_type": "stream",
          "name": "stdout",
          "text": [
            "[2, 4, 6, 8, 10, 12]\n",
            "[2, 4, 6, 8, 10, 12, 14]\n",
            "[2, 4, 6, 8, 10, 12, 14, 18]\n",
            "*********\n",
            "\n",
            "[2, 4, 6, 8, 10, 12, 14, 16, 18]\n",
            "*********\n",
            "\n",
            "[2, 4, 6, 8, 10, 12, 14, 16, 18, 20, 22, 24, 26]\n",
            "[2, 4, 6, 8, 10, 12, 14, 16, 18, 20, 22, 24, 26, [20, 22, 24, 26]]\n"
          ]
        }
      ]
    },
    {
      "cell_type": "code",
      "metadata": {
        "colab": {
          "base_uri": "https://localhost:8080/"
        },
        "id": "FHm3xVKhYzfC",
        "outputId": "2f0e262b-75ce-4333-b8bd-d0671ef03a00"
      },
      "source": [
        "# pop()\n",
        "mi_lista_1 = [2, 4, 6, 8, 10, 12]\n",
        "print(mi_lista_1)\n",
        "\n",
        "mi_lista_1.pop()\n",
        "print(mi_lista_1)\n",
        "\n",
        "print()\n",
        "# remove()\n",
        "mi_lista_1 = [\"Ana\", \"Juan\", \"Diana\", \"Pedro\"]\n",
        "print(mi_lista_1)\n",
        "mi_lista_1.insert(1, \"Samuel\")\n",
        "print(mi_lista_1)\n",
        "\n",
        "\n",
        "mi_lista_1.remove(\"Diana\")\n",
        "print(mi_lista_1)\n",
        "\n",
        "del mi_lista_1[2]\n",
        "print(mi_lista_1)"
      ],
      "execution_count": null,
      "outputs": [
        {
          "output_type": "stream",
          "name": "stdout",
          "text": [
            "[2, 4, 6, 8, 10, 12]\n",
            "[2, 4, 6, 8, 10]\n",
            "\n",
            "['Ana', 'Juan', 'Diana', 'Pedro']\n",
            "['Ana', 'Samuel', 'Juan', 'Diana', 'Pedro']\n",
            "['Ana', 'Samuel', 'Juan', 'Pedro']\n",
            "['Ana', 'Samuel', 'Pedro']\n"
          ]
        }
      ]
    },
    {
      "cell_type": "code",
      "metadata": {
        "colab": {
          "base_uri": "https://localhost:8080/"
        },
        "id": "OlA1XGEGWipu",
        "outputId": "a67542e8-c62b-4417-9d39-87f3fe01219f"
      },
      "source": [
        "mi_lista_4 = [2, 4, 6, 8, 10, 12, 14, 10, 18, 20, 10, 24, 26]\n",
        "print(mi_lista_4.count(10))\n",
        "\n",
        "print(len(mi_lista_4))\n",
        "print(mi_lista_4[12])\n",
        "print(mi_lista_4[-1])"
      ],
      "execution_count": null,
      "outputs": [
        {
          "output_type": "stream",
          "name": "stdout",
          "text": [
            "3\n",
            "13\n",
            "26\n",
            "26\n"
          ]
        }
      ]
    },
    {
      "cell_type": "code",
      "metadata": {
        "colab": {
          "base_uri": "https://localhost:8080/"
        },
        "id": "VXapP3ABWinM",
        "outputId": "6a972b87-10b7-41bd-b9d4-c3034b0b28cd"
      },
      "source": [
        "# saber si un elemento pertenece a la lista\n",
        "mi_lista_4 = [2, 4, 6, 8, 10, 12, 14, 10, 18, 20, 10, 24, 26]\n",
        "print(8 in mi_lista_4)\n",
        "print(16 in mi_lista_4)"
      ],
      "execution_count": null,
      "outputs": [
        {
          "output_type": "stream",
          "name": "stdout",
          "text": [
            "True\n",
            "False\n"
          ]
        }
      ]
    },
    {
      "cell_type": "code",
      "metadata": {
        "colab": {
          "base_uri": "https://localhost:8080/"
        },
        "id": "g2YVGRf1a6Ai",
        "outputId": "b6d731a9-d397-485b-8f4d-3f85670420c5"
      },
      "source": [
        "lista_1 = [1,2,3]\n",
        "lista_2 = [4,5,6]\n",
        "print(lista_1 + lista_2)\n",
        "\n",
        "print(lista_1*5)"
      ],
      "execution_count": null,
      "outputs": [
        {
          "output_type": "stream",
          "name": "stdout",
          "text": [
            "[1, 2, 3, 4, 5, 6]\n",
            "[1, 2, 3, 1, 2, 3, 1, 2, 3, 1, 2, 3, 1, 2, 3]\n"
          ]
        }
      ]
    },
    {
      "cell_type": "code",
      "metadata": {
        "id": "iKb_8cO_a596"
      },
      "source": [
        ""
      ],
      "execution_count": null,
      "outputs": []
    },
    {
      "cell_type": "code",
      "metadata": {
        "id": "1zQY14dna57d"
      },
      "source": [
        ""
      ],
      "execution_count": null,
      "outputs": []
    },
    {
      "cell_type": "code",
      "metadata": {
        "id": "SkI4MoIyWikY"
      },
      "source": [
        ""
      ],
      "execution_count": null,
      "outputs": []
    },
    {
      "cell_type": "code",
      "metadata": {
        "id": "Ai5iqu2UWihr"
      },
      "source": [
        ""
      ],
      "execution_count": null,
      "outputs": []
    },
    {
      "cell_type": "markdown",
      "metadata": {
        "id": "H0izYVJj2Zeg"
      },
      "source": [
        "# Estrucutras de datos - Tuplas\n",
        "*   Son listas inmutables, no se pueden modificar después de su creación\n",
        "  *   No permiten añadir, eliminar, mover elementos, etc\n",
        "  *   Permiten extraer porciones pero el resultado es una tupla nueva\n",
        "  *   Permite comprobar si un elemento se encuentra en la tupla\n",
        "\n",
        "*   Utilidad?\n",
        "  *    Más rápidas\n",
        "  *    Menos espacio (mayor optimización)\n",
        "  *    Pueden utilizarse como claves en un diccionario (las listas no)\n",
        "\n",
        "Sintaxis de las listas\n",
        "*   nombre_tupla = (elemento1, elemento2, elemento3...)\n",
        "\n",
        "Utilidades\n",
        "*   mi_lista = list(mi_tupla)\n",
        "*   mi_tupla = tuple(mi_lista)\n",
        "*   índice [#]\n",
        "*   porciones [#:#], [:#], [#:]\n",
        "*   elemento in mi_tupla\n",
        "*   .count(elemento)\n",
        "*   lista_1 + lista_2\n",
        "*   lista_1 * 3"
      ]
    },
    {
      "cell_type": "code",
      "metadata": {
        "colab": {
          "base_uri": "https://localhost:8080/"
        },
        "id": "pPsnL2wA2YuT",
        "outputId": "728b5d8f-f9a8-499e-df04-c57ade43b390"
      },
      "source": [
        "mi_tupla_1 = (1,2,3,4,5)\n",
        "print(mi_tupla_1)\n",
        "\n",
        "mi_lista_10 = list(mi_tupla_1)\n",
        "print(mi_lista_10)\n",
        "\n",
        "mi_tupla_2 = tuple(mi_lista_10)\n",
        "print(mi_tupla_2)"
      ],
      "execution_count": null,
      "outputs": [
        {
          "output_type": "stream",
          "name": "stdout",
          "text": [
            "(1, 2, 3, 4, 5)\n",
            "[1, 2, 3, 4, 5]\n",
            "(1, 2, 3, 4, 5)\n"
          ]
        }
      ]
    },
    {
      "cell_type": "code",
      "metadata": {
        "colab": {
          "base_uri": "https://localhost:8080/"
        },
        "id": "lTKfTsDich_I",
        "outputId": "5e5253c0-60d4-46dc-ecff-db1767577cce"
      },
      "source": [
        "mi_tupla_1 = (1,2,3,4,5)\n",
        "print(mi_tupla_1)\n",
        "print(mi_tupla_1[0])\n",
        "print(mi_tupla_1[-2])\n",
        "print(mi_tupla_1[1:4])\n",
        "print(mi_tupla_1[:4])"
      ],
      "execution_count": null,
      "outputs": [
        {
          "output_type": "stream",
          "name": "stdout",
          "text": [
            "(1, 2, 3, 4, 5)\n",
            "1\n",
            "4\n",
            "(2, 3, 4)\n",
            "(1, 2, 3, 4)\n"
          ]
        }
      ]
    },
    {
      "cell_type": "code",
      "metadata": {
        "colab": {
          "base_uri": "https://localhost:8080/"
        },
        "id": "1Zk0k5Q8ch86",
        "outputId": "130f772e-2f8e-4beb-c09b-88fe0a951b36"
      },
      "source": [
        "mi_tupla_1 = (1,2,3,4,5)\n",
        "print(2 in mi_tupla_1)\n",
        "print(7 in mi_tupla_1)"
      ],
      "execution_count": null,
      "outputs": [
        {
          "output_type": "stream",
          "name": "stdout",
          "text": [
            "True\n",
            "False\n"
          ]
        }
      ]
    },
    {
      "cell_type": "code",
      "metadata": {
        "colab": {
          "base_uri": "https://localhost:8080/"
        },
        "id": "3LaH0EPAch6Y",
        "outputId": "636913fe-5a71-40cb-e611-002aba41d1eb"
      },
      "source": [
        "mi_tupla_1 = (1,2,3,4,5,3,7,3, 7, 8, 3, 5, 3)\n",
        "print(mi_tupla_1.count(3))\n",
        "print(len(mi_tupla_1))"
      ],
      "execution_count": null,
      "outputs": [
        {
          "output_type": "stream",
          "name": "stdout",
          "text": [
            "5\n",
            "13\n"
          ]
        }
      ]
    },
    {
      "cell_type": "code",
      "metadata": {
        "colab": {
          "base_uri": "https://localhost:8080/"
        },
        "id": "u3iMuxJvch3c",
        "outputId": "5ad7095e-60da-4d65-f3e6-1f0d44e75906"
      },
      "source": [
        "mi_tupla_1 = (1,2,3,4,5)\n",
        "mi_tupla_2 = (5, 6, 7)\n",
        "print(mi_tupla_1)\n",
        "print(mi_tupla_2)\n",
        "mi_tupla_3 = mi_tupla_1 + mi_tupla_2\n",
        "print(mi_tupla_3)\n",
        "mi_tupla_4 = (1,2,3,4,5) + (5, 6, 7)\n",
        "print(mi_tupla_4)\n",
        "print(mi_tupla_4*3)\n",
        "\n",
        "print()\n",
        "print(\"no es permitido\")\n",
        "# no es permitido\n",
        "print(mi_tupla_1)\n",
        "print(mi_tupla_1[1])\n",
        "\n",
        "# esto va a dar error!!!!\n",
        "# mi_tupla_1[1] = 5\n"
      ],
      "execution_count": null,
      "outputs": [
        {
          "output_type": "stream",
          "name": "stdout",
          "text": [
            "(1, 2, 3, 4, 5)\n",
            "(5, 6, 7)\n",
            "(1, 2, 3, 4, 5, 5, 6, 7)\n",
            "(1, 2, 3, 4, 5, 5, 6, 7)\n",
            "(1, 2, 3, 4, 5, 5, 6, 7, 1, 2, 3, 4, 5, 5, 6, 7, 1, 2, 3, 4, 5, 5, 6, 7)\n",
            "\n",
            "no es permitido\n",
            "(1, 2, 3, 4, 5)\n",
            "2\n"
          ]
        }
      ]
    },
    {
      "cell_type": "markdown",
      "metadata": {
        "id": "sO7miAY25zqW"
      },
      "source": [
        "### utilidades\n",
        "*   crear tuplas y listas unitarias [elemento] (elemento,)\n",
        "*   tupla = elemento1, elemento2, elemento3\n",
        "  *    empaquetado de tupla\n",
        "  *    no se recomienda\n",
        "  *    desempaquetado de tupla → elemento1, elemento2 = tupla\n",
        "\n",
        "  \n"
      ]
    },
    {
      "cell_type": "code",
      "metadata": {
        "id": "5wq0uMFZ6bPw",
        "colab": {
          "base_uri": "https://localhost:8080/"
        },
        "outputId": "9a86cabf-0372-451f-f31e-87183dbc2412"
      },
      "source": [
        "mi_lista_unitaria_1 = [2]\n",
        "print(type(mi_lista_unitaria_1))\n",
        "print(len(mi_lista_unitaria_1))\n",
        "\n",
        "\n",
        "print()\n",
        "mi_lista_unitaria_2 = []\n",
        "print(mi_lista_unitaria_2)\n",
        "print(type(mi_lista_unitaria_2))\n",
        "print(len(mi_lista_unitaria_2))\n"
      ],
      "execution_count": null,
      "outputs": [
        {
          "output_type": "stream",
          "name": "stdout",
          "text": [
            "<class 'list'>\n",
            "1\n",
            "\n",
            "[]\n",
            "<class 'list'>\n",
            "0\n"
          ]
        }
      ]
    },
    {
      "cell_type": "code",
      "metadata": {
        "colab": {
          "base_uri": "https://localhost:8080/"
        },
        "id": "6Ul9vWSseT0L",
        "outputId": "894f135b-4fd4-44bc-e92e-5888b1379112"
      },
      "source": [
        "mi_tupla_unitaria_1 = (45,)\n",
        "print(mi_tupla_unitaria_1)\n",
        "print(type(mi_tupla_unitaria_1))\n",
        "print(len(mi_tupla_unitaria_1))"
      ],
      "execution_count": null,
      "outputs": [
        {
          "output_type": "stream",
          "name": "stdout",
          "text": [
            "(45,)\n",
            "<class 'tuple'>\n",
            "1\n"
          ]
        }
      ]
    },
    {
      "cell_type": "code",
      "metadata": {
        "colab": {
          "base_uri": "https://localhost:8080/"
        },
        "id": "2LADEBy4d_hS",
        "outputId": "073959ce-72ab-4d5e-897a-7fb824fcb5a5"
      },
      "source": [
        "a = 1\n",
        "b = 2\n",
        "print(a, b)"
      ],
      "execution_count": null,
      "outputs": [
        {
          "output_type": "stream",
          "name": "stdout",
          "text": [
            "1 2\n"
          ]
        }
      ]
    },
    {
      "cell_type": "code",
      "metadata": {
        "colab": {
          "base_uri": "https://localhost:8080/"
        },
        "id": "DMJJP8eYd_eB",
        "outputId": "67ca5dc0-22ae-4c5f-f2c7-5c2b67eed63b"
      },
      "source": [
        "ab = (10, 20)\n",
        "print(ab)\n",
        "a = ab[0]\n",
        "b = ab[1]\n",
        "print(a, b)\n",
        "\n",
        "c, d = (10, 20)\n",
        "print(c, d)\n",
        "\n",
        "c, d, e, f, g = 10, 20, 30, 40, 50\n",
        "print(c, d, e, f, g)\n",
        "\n"
      ],
      "execution_count": null,
      "outputs": [
        {
          "output_type": "stream",
          "name": "stdout",
          "text": [
            "(10, 20)\n",
            "10 20\n",
            "10 20\n",
            "10 20 30 40 50\n"
          ]
        }
      ]
    },
    {
      "cell_type": "code",
      "metadata": {
        "id": "cpLcjwixd_cO"
      },
      "source": [
        "def regresa_3_valores():\n",
        "  \"\"\"\n",
        "  realiza operaciones\n",
        "  \"\"\"\n",
        "  d = (3,4,5)\n",
        "  return 5, \"text\", [2,4,6], d"
      ],
      "execution_count": null,
      "outputs": []
    },
    {
      "cell_type": "code",
      "metadata": {
        "id": "ffqG8Jwdd_Y_"
      },
      "source": [
        "res = regresa_3_valores()"
      ],
      "execution_count": null,
      "outputs": []
    },
    {
      "cell_type": "code",
      "metadata": {
        "colab": {
          "base_uri": "https://localhost:8080/"
        },
        "id": "ImhxNXTGd_WZ",
        "outputId": "27ed2f36-6a18-482e-90a0-79e22305056f"
      },
      "source": [
        "edad, texto, lista_1, tupla_1 = res\n",
        "print(edad)\n",
        "print(texto)\n",
        "print(lista_1)\n",
        "print(tupla_1)"
      ],
      "execution_count": null,
      "outputs": [
        {
          "output_type": "stream",
          "name": "stdout",
          "text": [
            "5\n",
            "text\n",
            "[2, 4, 6]\n",
            "(3, 4, 5)\n"
          ]
        }
      ]
    },
    {
      "cell_type": "code",
      "metadata": {
        "colab": {
          "base_uri": "https://localhost:8080/"
        },
        "id": "JPiRKs5Hgvx1",
        "outputId": "433098e6-a761-4ab4-c0d4-a7562dde5cf3"
      },
      "source": [
        "edad, texto, lista_1, tupla_1 = regresa_3_valores()\n",
        "print(edad)\n",
        "print(texto)\n",
        "print(lista_1)\n",
        "print(tupla_1)"
      ],
      "execution_count": null,
      "outputs": [
        {
          "output_type": "stream",
          "name": "stdout",
          "text": [
            "5\n",
            "text\n",
            "[2, 4, 6]\n",
            "(3, 4, 5)\n"
          ]
        }
      ]
    },
    {
      "cell_type": "code",
      "metadata": {
        "colab": {
          "base_uri": "https://localhost:8080/"
        },
        "id": "-6QZ3vEwgvt8",
        "outputId": "534e0075-ee2f-4f2b-925c-164264938dca"
      },
      "source": [
        "edad, texto, lista_1, tupla_1 = regresa_3_valores()\n",
        "print(edad)\n",
        "print(texto)\n",
        "print(lista_1)\n",
        "print(tupla_1)"
      ],
      "execution_count": null,
      "outputs": [
        {
          "output_type": "stream",
          "name": "stdout",
          "text": [
            "5\n",
            "text\n",
            "[2, 4, 6]\n",
            "(3, 4, 5)\n"
          ]
        }
      ]
    },
    {
      "cell_type": "code",
      "metadata": {
        "colab": {
          "base_uri": "https://localhost:8080/"
        },
        "id": "DZNTj9VEgvrY",
        "outputId": "89b58ff5-c1e7-4b93-a833-a679b370606c"
      },
      "source": [
        "_, texto, _, tupla_1 = regresa_3_valores()\n",
        "print(texto)\n",
        "print(tupla_1)"
      ],
      "execution_count": null,
      "outputs": [
        {
          "output_type": "stream",
          "name": "stdout",
          "text": [
            "text\n",
            "(3, 4, 5)\n"
          ]
        }
      ]
    },
    {
      "cell_type": "code",
      "metadata": {
        "id": "GVwQ2LWdd_To"
      },
      "source": [
        ""
      ],
      "execution_count": null,
      "outputs": []
    },
    {
      "cell_type": "markdown",
      "metadata": {
        "id": "gq4eGeX_3ONN"
      },
      "source": [
        "# Estrucutras de datos - Diccionarios\n",
        "Estrucutras de datos que nos permite almacenar valores dde diferente tipo (enteros, cadenas de texto, decimales) e incluso listas y otros diccionarios\n",
        "\n",
        "La principal característica de los diccionarios es que los datos se almacenan asociados a una clave de tal forma que se crea una asociación de tipo clave:valor para cada elemento almacenado\n",
        "\n",
        "Los elementos almacenados no están ordenados, el orden es indiferente a la hora de almacenar la información en un diccionario\n",
        "\n",
        "Sintaxis de los diccionarios\n",
        "*   nombre_diccionario = {}\n",
        "*   nombre_diccionario = {\"clave\":\"valor\", \"clave\":\"valor\"...}\n",
        "\n",
        "Utilidades\n",
        "*   print(nombre_diccionario[\"clave\"])\n",
        "*   adicionar elemento → nombre_diccionario[\"clave\"] = \"valor\"\n",
        "*   modificar elemento → nombre_diccionario[\"clave\"] = \"valor\"\n",
        "*   eliminar elemento → del nombre_diccionario[\"clave\"]\n",
        "*   nombre_diccionario.keys()\n",
        "*   nombre_diccionario.values()\n",
        "*   len(nombre_diccionario)\n",
        "*   clave in nombre_diccionario"
      ]
    },
    {
      "cell_type": "code",
      "metadata": {
        "id": "e91F7k7R7GPr"
      },
      "source": [
        ""
      ],
      "execution_count": null,
      "outputs": []
    },
    {
      "cell_type": "code",
      "metadata": {
        "id": "HIPB9EqL8Nog"
      },
      "source": [
        ""
      ],
      "execution_count": null,
      "outputs": []
    },
    {
      "cell_type": "code",
      "metadata": {
        "id": "avoew-cb8O-0"
      },
      "source": [
        ""
      ],
      "execution_count": null,
      "outputs": []
    },
    {
      "cell_type": "code",
      "metadata": {
        "id": "YxRJ6_Ki88hs"
      },
      "source": [
        ""
      ],
      "execution_count": null,
      "outputs": []
    },
    {
      "cell_type": "code",
      "metadata": {
        "id": "vr1cntbk9JN0"
      },
      "source": [
        ""
      ],
      "execution_count": null,
      "outputs": []
    }
  ]
}