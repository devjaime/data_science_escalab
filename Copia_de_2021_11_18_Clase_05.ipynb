{
  "nbformat": 4,
  "nbformat_minor": 0,
  "metadata": {
    "colab": {
      "name": "Copia de 2021 11 18 - Clase 05.ipynb",
      "provenance": [],
      "collapsed_sections": [],
      "include_colab_link": true
    },
    "kernelspec": {
      "name": "python3",
      "display_name": "Python 3"
    },
    "language_info": {
      "name": "python"
    }
  },
  "cells": [
    {
      "cell_type": "markdown",
      "metadata": {
        "id": "view-in-github",
        "colab_type": "text"
      },
      "source": [
        "<a href=\"https://colab.research.google.com/github/devjaime/data_science_escalab/blob/main/Copia_de_2021_11_18_Clase_05.ipynb\" target=\"_parent\"><img src=\"https://colab.research.google.com/assets/colab-badge.svg\" alt=\"Open In Colab\"/></a>"
      ]
    },
    {
      "cell_type": "markdown",
      "metadata": {
        "id": "9YZLZU3FYW_3"
      },
      "source": [
        "# Leer y guardar datos en formato de texto"
      ]
    },
    {
      "cell_type": "code",
      "metadata": {
        "id": "3YEAJPWbXczz"
      },
      "source": [
        "import os, glob\n",
        "import pandas as pd\n",
        "import numpy as np"
      ],
      "execution_count": null,
      "outputs": []
    },
    {
      "cell_type": "code",
      "metadata": {
        "id": "cK4_hh2PpYtO"
      },
      "source": [
        "# crear un archivo de texto (después vemos más detalles)\n",
        "f = open(\"archivo_demo_01.txt\", \"w\")\n",
        "f.write(\"\"\"Este es mi archivo de texto, creado aquí\n",
        "es un test para poder manipular archivos\n",
        "y estudiar las diferentes funciones de la clase\n",
        "esta es una línea adicional\n",
        "esta es mi linea número 5\n",
        "esta es mi linea número 6\n",
        "esta es mi linea número 7\n",
        "esta es mi linea número 8\"\"\")\n",
        "f.close()\n"
      ],
      "execution_count": null,
      "outputs": []
    },
    {
      "cell_type": "markdown",
      "metadata": {
        "id": "3EqEGXs0myWd"
      },
      "source": [
        "## Crear carpetas y verificar si existen"
      ]
    },
    {
      "cell_type": "code",
      "metadata": {
        "id": "vsqB9r7tcf7Z"
      },
      "source": [
        "# preparamos el entorno, crea las carpetas \"dataset\" y \"output\" si no existen\n",
        "\n",
        "if not os.path.exists('dataset'):\n",
        "    !mkdir dataset\n",
        "\n",
        "os.makedirs('output', exist_ok=True)"
      ],
      "execution_count": null,
      "outputs": []
    },
    {
      "cell_type": "code",
      "metadata": {
        "id": "9_1cU8YFkENn",
        "colab": {
          "base_uri": "https://localhost:8080/"
        },
        "outputId": "45acb47b-c70a-49b3-8a1f-63cbd6563df2"
      },
      "source": [
        "print(os.path.exists('dataset'))\n",
        "print(os.path.exists('dataset/'))\n",
        "print(os.path.exists('dataset/sub_carpeta'))\n",
        "print(os.path.exists('dataset/sub_carpeta/'))\n",
        "print(os.path.exists(\"archivo_demo_01.txt\"))\n"
      ],
      "execution_count": null,
      "outputs": [
        {
          "output_type": "stream",
          "name": "stdout",
          "text": [
            "True\n",
            "True\n",
            "False\n",
            "False\n",
            "True\n"
          ]
        }
      ]
    },
    {
      "cell_type": "code",
      "metadata": {
        "colab": {
          "base_uri": "https://localhost:8080/"
        },
        "id": "yem3Vm97PvuB",
        "outputId": "083b25d6-05c9-4f41-f751-e4ae76e34ab3"
      },
      "source": [
        "!ls"
      ],
      "execution_count": null,
      "outputs": [
        {
          "output_type": "stream",
          "name": "stdout",
          "text": [
            "archivo_demo_01.txt  dataset  folder_1\toutput\tsample_data\n"
          ]
        }
      ]
    },
    {
      "cell_type": "code",
      "metadata": {
        "id": "NrsBTUWgkItu"
      },
      "source": [
        "os.makedirs('folder_1/sub_folder_1/subsub_folder_1/subsubsub_folder_1/', exist_ok=True)"
      ],
      "execution_count": null,
      "outputs": []
    },
    {
      "cell_type": "markdown",
      "metadata": {
        "id": "wSuIuoZY0Oip"
      },
      "source": [
        "Verificar si es un archivo o carpeta"
      ]
    },
    {
      "cell_type": "code",
      "metadata": {
        "id": "iz5PrIvtqIlG",
        "colab": {
          "base_uri": "https://localhost:8080/"
        },
        "outputId": "e47ff4d1-f2c0-42f9-e952-5935142bfde1"
      },
      "source": [
        "print(os.path.isdir(\"archivo_demo_01.txt\"))\n",
        "print(os.path.isfile(\"archivo_demo_01.txt\"))\n",
        "print()\n",
        "print(os.path.isdir(\"dataset\"))\n",
        "print(os.path.isfile(\"dataset\"))"
      ],
      "execution_count": null,
      "outputs": [
        {
          "output_type": "stream",
          "name": "stdout",
          "text": [
            "False\n",
            "True\n",
            "\n",
            "True\n",
            "False\n"
          ]
        }
      ]
    },
    {
      "cell_type": "markdown",
      "metadata": {
        "id": "UyIzaEeunCEY"
      },
      "source": [
        "## Abrir y leer archivos en Python → open()\n",
        "\n",
        "El manejo de archivos es una parte muy importante de cualquier aplicación\n",
        "\n",
        "Python tiene diferentes formas de crear, leer, actualizar y eliminar archivos\n",
        "\n",
        "**Modos para abrir archivos**\n",
        "*   \"r\"- Leer (read): valor predeterminado. Abre un archivo para lectura, error si el archivo no existe\n",
        "*   \"a\" - Agregar (append): abre un archivo para agregarlo, crea el archivo si no existe\n",
        "*   \"w\" - Escribir (write): abre un archivo para escribir, crea el archivo si no existe\n",
        "*   \"x\" - Crear (create): crea el archivo especificado\n",
        "\n",
        "\n",
        "Especificar si se maneja en modo binario o de texto\n",
        "\n",
        "**Modos para abrir archivos**\n",
        "\n",
        "*   \"t\"- Texto: valor predeterminado. Modo texto\n",
        "*   \"b\" - Binario - Modo binario (por ejemplo, imágenes)\n",
        "\n",
        "\n",
        "\n",
        "```\n",
        "archivo_1 = open(\"archivo_1.txt\")\n",
        "archivo_2 = open(\"archivo_1.txt\", \"rt\")\n",
        "```\n",
        "\n"
      ]
    },
    {
      "cell_type": "code",
      "metadata": {
        "id": "fjB48b7znBO-",
        "colab": {
          "base_uri": "https://localhost:8080/"
        },
        "outputId": "80ffdb90-9ea7-461c-c5cf-4c73debee470"
      },
      "source": [
        "f_name = \"archivo_demo_01.txt\"\n",
        "f = open(\"archivo_demo_01.txt\", \"r\")\n",
        "print(f.read())\n",
        "# f = open(\"D:\\\\myfiles\\welcome.txt\", \"r\")\n",
        "# para abrir un archivo de otra carpeta"
      ],
      "execution_count": null,
      "outputs": [
        {
          "output_type": "stream",
          "name": "stdout",
          "text": [
            "Este es mi archivo de texto, creado aquí\n",
            "es un test para poder manipular archivos\n",
            "y estudiar las diferentes funciones de la clase\n",
            "esta es una línea adicional\n",
            "esta es mi linea número 5\n",
            "esta es mi linea número 6\n",
            "esta es mi linea número 7\n",
            "esta es mi linea número 8\n"
          ]
        }
      ]
    },
    {
      "cell_type": "code",
      "metadata": {
        "id": "kT7D8Fx1kdim",
        "colab": {
          "base_uri": "https://localhost:8080/"
        },
        "outputId": "6f920268-e27f-43a5-ea5c-82f8e1e37d52"
      },
      "source": [
        "# abrir el archivo y leer todas las lineas → regresa una lista\n",
        "f = open(\"archivo_demo_01.txt\", \"r\")\n",
        "print(f.read(14))"
      ],
      "execution_count": null,
      "outputs": [
        {
          "output_type": "stream",
          "name": "stdout",
          "text": [
            "Este es mi arc\n"
          ]
        }
      ]
    },
    {
      "cell_type": "code",
      "metadata": {
        "id": "SE874TmUqJa-",
        "colab": {
          "base_uri": "https://localhost:8080/"
        },
        "outputId": "4b14a80e-c80e-42c3-bf0b-55914b330c70"
      },
      "source": [
        "# abrir el archivo y leer lineas \\n\n",
        "f = open(\"archivo_demo_01.txt\", \"r\")\n",
        "print(f.readline())\n",
        "print(f.readline())\n",
        "print(repr(f.readline()))\n",
        "print(repr(f.readline()))"
      ],
      "execution_count": null,
      "outputs": [
        {
          "output_type": "stream",
          "name": "stdout",
          "text": [
            "Este es mi archivo de texto, creado aquí\n",
            "\n",
            "es un test para poder manipular archivos\n",
            "\n",
            "'y estudiar las diferentes funciones de la clase\\n'\n",
            "'esta es una línea adicional\\n'\n"
          ]
        }
      ]
    },
    {
      "cell_type": "code",
      "metadata": {
        "colab": {
          "base_uri": "https://localhost:8080/"
        },
        "id": "DyG4yTkyTXyi",
        "outputId": "559a5d8e-651b-4d59-c6a0-2971375e21d3"
      },
      "source": [
        "print(\"hola\\nhola\")\n",
        "print(\"hola\\\\hola\")\n",
        "print(\"hola\\thola\")\n",
        "print(\"hola    hola\")\n",
        "\n",
        "print()\n",
        "print(\"D:\\\\myfiles\\\\nombres.txt\")\n",
        "print(\"/myfiles/nombres.txt\")"
      ],
      "execution_count": null,
      "outputs": [
        {
          "output_type": "stream",
          "name": "stdout",
          "text": [
            "hola\n",
            "hola\n",
            "hola\\hola\n",
            "hola\thola\n",
            "hola    hola\n",
            "\n",
            "D:\\myfiles\\nombres.txt\n",
            "/myfiles/nombres.txt\n"
          ]
        }
      ]
    },
    {
      "cell_type": "code",
      "metadata": {
        "id": "7hMH99_NqJYY",
        "colab": {
          "base_uri": "https://localhost:8080/"
        },
        "outputId": "e962d0bb-392d-4317-adf4-ed90db11a690"
      },
      "source": [
        "# abrir el archivo y leer todas las lineas → regresa una lista\n",
        "f = open(\"archivo_demo_01.txt\", \"r\")\n",
        "print(f.readlines())"
      ],
      "execution_count": null,
      "outputs": [
        {
          "output_type": "stream",
          "name": "stdout",
          "text": [
            "['Este es mi archivo de texto, creado aquí\\n', 'es un test para poder manipular archivos\\n', 'y estudiar las diferentes funciones de la clase\\n', 'esta es una línea adicional\\n', 'esta es mi linea número 5\\n', 'esta es mi linea número 6\\n', 'esta es mi linea número 7\\n', 'esta es mi linea número 8']\n"
          ]
        }
      ]
    },
    {
      "cell_type": "code",
      "metadata": {
        "id": "vUaP9ANrqJVk",
        "colab": {
          "base_uri": "https://localhost:8080/"
        },
        "outputId": "0c048e64-44a2-42ba-dcfd-4c5188d9c1f5"
      },
      "source": [
        "# abrir el archivo y leer en loop\n",
        "f = open(\"archivo_demo_01.txt\", \"r\")\n",
        "for x in f:\n",
        "  print(x)"
      ],
      "execution_count": null,
      "outputs": [
        {
          "output_type": "stream",
          "name": "stdout",
          "text": [
            "Este es mi archivo de texto, creado aquí\n",
            "\n",
            "es un test para poder manipular archivos\n",
            "\n",
            "y estudiar las diferentes funciones de la clase\n",
            "\n",
            "esta es una línea adicional\n",
            "\n",
            "esta es mi linea número 5\n",
            "\n",
            "esta es mi linea número 6\n",
            "\n",
            "esta es mi linea número 7\n",
            "\n",
            "esta es mi linea número 8\n"
          ]
        }
      ]
    },
    {
      "cell_type": "code",
      "metadata": {
        "id": "81iNpDUnqJSo",
        "colab": {
          "base_uri": "https://localhost:8080/"
        },
        "outputId": "9257ed37-438d-4165-b900-e7e204b6d060"
      },
      "source": [
        "# cerrar el archivo al final \n",
        "f = open(\"archivo_demo_01.txt\", \"r\")\n",
        "print(f.readline())\n",
        "f.close()"
      ],
      "execution_count": null,
      "outputs": [
        {
          "output_type": "stream",
          "name": "stdout",
          "text": [
            "Este es mi archivo de texto, creado aquí\n",
            "\n"
          ]
        }
      ]
    },
    {
      "cell_type": "code",
      "metadata": {
        "colab": {
          "base_uri": "https://localhost:8080/"
        },
        "id": "F8uoIHPaUx5T",
        "outputId": "5d4556ef-5359-4129-805b-03297bc3e082"
      },
      "source": [
        ""
      ],
      "execution_count": null,
      "outputs": [
        {
          "output_type": "stream",
          "name": "stdout",
          "text": [
            "<_io.TextIOWrapper name='archivo_demo_01.txt' mode='r' encoding='UTF-8'>\n"
          ]
        }
      ]
    },
    {
      "cell_type": "markdown",
      "metadata": {
        "id": "bSK8TtuQupNv"
      },
      "source": [
        "## Crear y escribir archivos en Python → open()\n",
        "\n",
        "*   \"a\" - Agregar (append): abre un archivo para agregarlo, crea el archivo si no existe\n",
        "*   \"w\" - Escribir (write): abre un archivo para escribir, crea el archivo si no existe\n",
        "*   \"x\" - Crear (create): crea el archivo especificado"
      ]
    },
    {
      "cell_type": "code",
      "metadata": {
        "id": "CZfnk-CEu_Cv"
      },
      "source": [
        "# creamos una carpeta para nuestros archivos\n",
        "os.makedirs('archivos_texto',exist_ok=True)"
      ],
      "execution_count": null,
      "outputs": []
    },
    {
      "cell_type": "code",
      "metadata": {
        "colab": {
          "base_uri": "https://localhost:8080/"
        },
        "id": "BaZqMD06VJII",
        "outputId": "db2dadf6-f062-494a-bef2-a1ce88fedd09"
      },
      "source": [
        "!ls"
      ],
      "execution_count": null,
      "outputs": [
        {
          "output_type": "stream",
          "name": "stdout",
          "text": [
            "archivo_demo_01.txt  archivos_texto  dataset  folder_1\toutput\tsample_data\n"
          ]
        }
      ]
    },
    {
      "cell_type": "code",
      "metadata": {
        "id": "5CfME0tWqJPh"
      },
      "source": [
        "# abre el archivo (si no existe lo crea) y borra todo para empezar a escribir\n",
        "f = open(\"archivos_texto/archivo_demo_02.txt\", \"w\")\n",
        "f.write(\"Esta es mi línea 1 de mi archivo nuevo!.\")\n",
        "f.close()\n"
      ],
      "execution_count": null,
      "outputs": []
    },
    {
      "cell_type": "code",
      "metadata": {
        "id": "Lts2AnO3qJMo",
        "colab": {
          "base_uri": "https://localhost:8080/"
        },
        "outputId": "970ab386-512b-4036-c614-3a65fae5f118"
      },
      "source": [
        "# abre el archivo y lo lee\n",
        "f = open(\"archivos_texto/archivo_demo_02.txt\", \"r\")\n",
        "print(f.read())"
      ],
      "execution_count": null,
      "outputs": [
        {
          "output_type": "stream",
          "name": "stdout",
          "text": [
            "Esta es mi línea 1 de mi archivo nuevo!.\n"
          ]
        }
      ]
    },
    {
      "cell_type": "code",
      "metadata": {
        "id": "W4HgpHrdqJJw"
      },
      "source": [
        "# abre el archivo y adiciona contenido\n",
        "f = open(\"archivos_texto/archivo_demo_02.txt\", \"a\")\n",
        "f.write(\"Este es el texto que estoy adicionando!\")\n",
        "f.close()"
      ],
      "execution_count": null,
      "outputs": []
    },
    {
      "cell_type": "code",
      "metadata": {
        "id": "moivNC7mqJHL",
        "colab": {
          "base_uri": "https://localhost:8080/"
        },
        "outputId": "976bbd37-c29d-44c3-a72b-d8816ca19952"
      },
      "source": [
        "# abre el archivo en la parte final y lo lee\n",
        "f = open(\"archivos_texto/archivo_demo_02.txt\", \"r\")\n",
        "print(f.read())"
      ],
      "execution_count": null,
      "outputs": [
        {
          "output_type": "stream",
          "name": "stdout",
          "text": [
            "Esta es mi línea 1 de mi archivo nuevo!.Este es el texto que estoy adicionando!\n"
          ]
        }
      ]
    },
    {
      "cell_type": "code",
      "metadata": {
        "id": "HoFh4PJvqJEE"
      },
      "source": [
        "# adicionando un saldo de línea \"\\n\"\n",
        "f = open(\"archivos_texto/archivo_demo_02.txt\", \"a\")\n",
        "f.write(\"\\n\")\n",
        "f.write(\"Este es el texto que estoy adicionando!\")\n",
        "f.close()"
      ],
      "execution_count": null,
      "outputs": []
    },
    {
      "cell_type": "code",
      "metadata": {
        "id": "m6xu8usCqJBE",
        "colab": {
          "base_uri": "https://localhost:8080/"
        },
        "outputId": "b91c23ea-e64e-4b3d-85df-fab2954b7d55"
      },
      "source": [
        "# abre el archivo en la parte final y lo lee\n",
        "f = open(\"archivos_texto/archivo_demo_02.txt\", \"r\")\n",
        "print(f.read())"
      ],
      "execution_count": null,
      "outputs": [
        {
          "output_type": "stream",
          "name": "stdout",
          "text": [
            "Esta es mi línea 1 de mi archivo nuevo!.Este es el texto que estoy adicionando!\n",
            "Este es el texto que estoy adicionando!\n"
          ]
        }
      ]
    },
    {
      "cell_type": "code",
      "metadata": {
        "id": "lI7VGk2XqI-K"
      },
      "source": [
        "# abre el archivo (si no existe lo crea) y borra todo para empezar a escribir\n",
        "f = open(\"archivos_texto/archivo_demo_02.txt\", \"w\")\n",
        "f.write(\"Borró todo el contenido y crea la línea nueva!.\")\n",
        "f.close()"
      ],
      "execution_count": null,
      "outputs": []
    },
    {
      "cell_type": "code",
      "metadata": {
        "id": "Rai7BwWgqI4z",
        "colab": {
          "base_uri": "https://localhost:8080/"
        },
        "outputId": "67efe8f6-5c5d-41bd-dd30-cecd80da7708"
      },
      "source": [
        "# abre el archivo en la parte final y lo lee\n",
        "f = open(\"archivos_texto/archivo_demo_02.txt\", \"r\")\n",
        "print(f.read())"
      ],
      "execution_count": null,
      "outputs": [
        {
          "output_type": "stream",
          "name": "stdout",
          "text": [
            "Borró todo el contenido y crea la línea nueva!.\n"
          ]
        }
      ]
    },
    {
      "cell_type": "code",
      "metadata": {
        "id": "GOKsADYmqI1r"
      },
      "source": [
        "# crear un archivo nuevo\n",
        "f = open(\"archivos_texto/archivo_demo_03.txt\", \"x\")"
      ],
      "execution_count": null,
      "outputs": []
    },
    {
      "cell_type": "code",
      "metadata": {
        "colab": {
          "base_uri": "https://localhost:8080/"
        },
        "id": "N7Ur9K4AW0sQ",
        "outputId": "d90ed8f5-3ff8-49e8-eb7c-938e6f123cd3"
      },
      "source": [
        "!ls archivos_texto\\"
      ],
      "execution_count": null,
      "outputs": [
        {
          "output_type": "stream",
          "name": "stdout",
          "text": [
            "archivo_demo_02.txt  archivo_demo_03.txt\n"
          ]
        }
      ]
    },
    {
      "cell_type": "code",
      "metadata": {
        "id": "BnSyweInqIy1",
        "colab": {
          "base_uri": "https://localhost:8080/"
        },
        "outputId": "8dd3b142-436c-4f44-a2fc-d87a8bca77c0"
      },
      "source": [
        "# abre el archivo en la parte final y lo lee\n",
        "f = open(\"archivos_texto/archivo_demo_03.txt\", \"r\")\n",
        "print(repr(f.read()))\n",
        "# print(f.read())"
      ],
      "execution_count": null,
      "outputs": [
        {
          "output_type": "stream",
          "name": "stdout",
          "text": [
            "''\n"
          ]
        }
      ]
    },
    {
      "cell_type": "code",
      "metadata": {
        "id": "l6F1WcOB5esY"
      },
      "source": [
        "# crear archivos con with para no colocar el close al final\n",
        "with open(\"archivos_texto/archivo_demo_05.txt\", \"w\") as f:\n",
        "  f.write(\"línea 1\\n\")\n",
        "  f.write(\"línea 2\\n\")\n",
        "  f.write(\"línea 3\\n\")\n",
        "\n",
        "# siguen mis comandos"
      ],
      "execution_count": null,
      "outputs": []
    },
    {
      "cell_type": "code",
      "metadata": {
        "id": "J-3WfY258eWC",
        "colab": {
          "base_uri": "https://localhost:8080/"
        },
        "outputId": "307e5ef1-ffef-4e73-9dfa-778579f9a904"
      },
      "source": [
        "# crear archivos con print\n",
        "# print(\"texto\", sep=\",\", end=\"\\n\")\n",
        "with open(\"archivos_texto/archivo_demo_06.txt\", \"wt\") as f:\n",
        "  print(\"linea 1\", end=\"--1--\", file=f)\n",
        "  print(\"texto en consola\")\n",
        "  print(\"linea 2\", file=f)\n",
        "  print(\"linea 3\", file=f)"
      ],
      "execution_count": null,
      "outputs": [
        {
          "output_type": "stream",
          "name": "stdout",
          "text": [
            "texto en consola\n"
          ]
        }
      ]
    },
    {
      "cell_type": "code",
      "metadata": {
        "colab": {
          "base_uri": "https://localhost:8080/"
        },
        "id": "MI_yZlf1X4BL",
        "outputId": "678db698-d60b-4f7a-a47b-51223e8e4aa3"
      },
      "source": [
        "print(\"texto 1\")\n",
        "print(\"texto 2\")\n",
        "print()\n",
        "print(\"texto 1\", end=\"--\")\n",
        "print(\"texto 2\")"
      ],
      "execution_count": null,
      "outputs": [
        {
          "output_type": "stream",
          "name": "stdout",
          "text": [
            "texto 1\n",
            "texto 2\n",
            "\n",
            "texto 1--texto 2\n"
          ]
        }
      ]
    },
    {
      "cell_type": "markdown",
      "metadata": {
        "id": "1Rs-qOjp8vRN"
      },
      "source": [
        "se puede usar todas las funciones de print\n",
        "end, sep, etc"
      ]
    },
    {
      "cell_type": "code",
      "metadata": {
        "colab": {
          "base_uri": "https://localhost:8080/"
        },
        "id": "BTW6e7YTZhoe",
        "outputId": "5413b6f3-6afe-4007-ca78-28b03813b79f"
      },
      "source": [
        "mi_lista = [\"texto 1\", \"texto 2\", \"texto 3\", \"texto 4\", \"texto 5\", \"texto 6\", \"texto 7\"]\n",
        "print(mi_lista)\n",
        "print()\n",
        "for linea in mi_lista:\n",
        "  print(linea)"
      ],
      "execution_count": null,
      "outputs": [
        {
          "output_type": "stream",
          "name": "stdout",
          "text": [
            "['texto 1', 'texto 2', 'texto 3', 'texto 4', 'texto 5', 'texto 6', 'texto 7']\n",
            "\n",
            "texto 1\n",
            "texto 2\n",
            "texto 3\n",
            "texto 4\n",
            "texto 5\n",
            "texto 6\n",
            "texto 7\n"
          ]
        }
      ]
    },
    {
      "cell_type": "code",
      "metadata": {
        "colab": {
          "base_uri": "https://localhost:8080/"
        },
        "id": "56VWjNgfaTCX",
        "outputId": "3e6f571a-924b-4cb4-d71e-74eb1e049c49"
      },
      "source": [
        "texto_1 = \"hola\"\n",
        "texto_2 = \"mundo.\"\n",
        "texto_3 = texto_1 + \" \" +texto_2\n",
        "print(repr(texto_3))"
      ],
      "execution_count": null,
      "outputs": [
        {
          "output_type": "stream",
          "name": "stdout",
          "text": [
            "'hola mundo.'\n"
          ]
        }
      ]
    },
    {
      "cell_type": "code",
      "metadata": {
        "id": "cmfPmltjZqsw"
      },
      "source": [
        "# crear archivos desde listas\n",
        "\n",
        "with open(\"archivos_texto/archivo_demo_07.txt\", \"w\") as f:\n",
        "  for linea in mi_lista[2:5]:\n",
        "    f.write(linea + \".\\n\")"
      ],
      "execution_count": null,
      "outputs": []
    },
    {
      "cell_type": "markdown",
      "metadata": {
        "id": "6a6La7Up5QXy"
      },
      "source": [
        "Escritura y lectura de datos binarios"
      ]
    },
    {
      "cell_type": "code",
      "metadata": {
        "id": "yL8RcxKK62X9"
      },
      "source": [
        "# crear archivo binario\n",
        "# no colocar acentos, etc\n",
        "with open(\"archivos_texto/archivo_demo_binario.dat\", \"wb\") as f:\n",
        "  f.write(b\"mi texto 1\\n\")\n",
        "  f.write(b\"mi texto 2\\n\")\n",
        "  f.write(b\"mi texto 3\\n\")"
      ],
      "execution_count": null,
      "outputs": []
    },
    {
      "cell_type": "code",
      "metadata": {
        "id": "i_Sty88n7RC7",
        "colab": {
          "base_uri": "https://localhost:8080/"
        },
        "outputId": "cc06f9ea-152a-4da4-db86-e052d3fbd3c1"
      },
      "source": [
        "with open(\"archivos_texto/archivo_demo_binario.dat\", \"rb\") as f:\n",
        "  datos = f.read()\n",
        "print(datos)\n",
        "\n",
        "print()\n",
        "\n",
        "print(datos.decode('utf-8'))"
      ],
      "execution_count": null,
      "outputs": [
        {
          "output_type": "stream",
          "name": "stdout",
          "text": [
            "b'mi texto 1\\nmi texto 2\\nmi texto 3\\n'\n",
            "\n",
            "mi texto 1\n",
            "mi texto 2\n",
            "mi texto 3\n",
            "\n"
          ]
        }
      ]
    },
    {
      "cell_type": "markdown",
      "metadata": {
        "id": "ozzj3ZVPyKM1"
      },
      "source": [
        "## Eliminar archivos y carpetas"
      ]
    },
    {
      "cell_type": "code",
      "metadata": {
        "id": "uyID21OtqIv7"
      },
      "source": [
        "# eliminar archivos \n",
        "os.remove(\"archivos_texto/archivo_demo_03.txt\")"
      ],
      "execution_count": null,
      "outputs": []
    },
    {
      "cell_type": "code",
      "metadata": {
        "id": "hlJch6kLqItL",
        "colab": {
          "base_uri": "https://localhost:8080/"
        },
        "outputId": "f0989239-5b0e-42cd-9201-3a1a497cac24"
      },
      "source": [
        "print(os.path.exists(\"archivos_texto/archivo_demo_03.txt\"))"
      ],
      "execution_count": null,
      "outputs": [
        {
          "output_type": "stream",
          "name": "stdout",
          "text": [
            "False\n"
          ]
        }
      ]
    },
    {
      "cell_type": "code",
      "metadata": {
        "id": "W8fO-Yw6yviO"
      },
      "source": [
        "os.makedirs('carpeta_para_borrar', exist_ok=True)"
      ],
      "execution_count": null,
      "outputs": []
    },
    {
      "cell_type": "code",
      "metadata": {
        "id": "bdVpMaNmy1oq",
        "colab": {
          "base_uri": "https://localhost:8080/"
        },
        "outputId": "2e3e3780-f894-46fc-fd5b-11a684277409"
      },
      "source": [
        "print(os.path.exists(\"carpeta_para_borrar\"))"
      ],
      "execution_count": null,
      "outputs": [
        {
          "output_type": "stream",
          "name": "stdout",
          "text": [
            "True\n"
          ]
        }
      ]
    },
    {
      "cell_type": "code",
      "metadata": {
        "id": "boWfUdfjqIqa"
      },
      "source": [
        "# eliminar carpetas\n",
        "os.rmdir(\"carpeta_para_borrar\")"
      ],
      "execution_count": null,
      "outputs": []
    },
    {
      "cell_type": "code",
      "metadata": {
        "id": "1GZJAbfmqInm",
        "colab": {
          "base_uri": "https://localhost:8080/"
        },
        "outputId": "cfaa7522-ca38-49ca-e5f8-af3689e11f05"
      },
      "source": [
        "print(os.path.exists(\"carpeta_para_borrar\"))"
      ],
      "execution_count": null,
      "outputs": [
        {
          "output_type": "stream",
          "name": "stdout",
          "text": [
            "False\n"
          ]
        }
      ]
    },
    {
      "cell_type": "markdown",
      "metadata": {
        "id": "htIsoTCP1uCn"
      },
      "source": [
        "# Trabajando con archivos"
      ]
    },
    {
      "cell_type": "code",
      "metadata": {
        "id": "0WH4wQDwqIio"
      },
      "source": [
        "# preparar archivos\n",
        "# creamos la carpeta\n",
        "os.makedirs('carpeta_test/subcarpeta/',exist_ok=True)\n",
        "\n",
        "# creamos los archivos\n",
        "f = open(\"carpeta_test/subcarpeta/archivo_test_01.txt\", \"x\")\n",
        "f = open(\"carpeta_test/subcarpeta/archivo_test_02.txt\", \"x\")\n",
        "f = open(\"carpeta_test/subcarpeta/archivo_test_03.txt\", \"x\")\n",
        "f = open(\"carpeta_test/subcarpeta/archivo_test_04.txt\", \"x\")\n",
        "f = open(\"carpeta_test/subcarpeta/archivo_test_05.txt\", \"x\")\n",
        "f = open(\"carpeta_test/subcarpeta/archivo_test_06.txt\", \"x\")\n",
        "f = open(\"carpeta_test/subcarpeta/archivo_test_07.csv\", \"x\")\n",
        "f = open(\"carpeta_test/subcarpeta/archivo_test_08.csv\", \"x\")\n",
        "f = open(\"carpeta_test/subcarpeta/archivo_test_09.json\", \"x\")\n"
      ],
      "execution_count": null,
      "outputs": []
    },
    {
      "cell_type": "code",
      "metadata": {
        "id": "Q7NO3EfkfqGN"
      },
      "source": [
        "os.makedirs('carpeta_test/sub_carpeta_01/',exist_ok=True)\n",
        "os.makedirs('carpeta_test/sub_carpeta_02/',exist_ok=True)\n",
        "os.makedirs('carpeta_test/sub_carpeta_03/',exist_ok=True)\n",
        "os.makedirs('carpeta_test/subcarpeta_01/',exist_ok=True)\n",
        "os.makedirs('carpeta_test/subcarpeta_02/',exist_ok=True)\n",
        "os.makedirs('carpeta_test/subcarpeta_03/',exist_ok=True)"
      ],
      "execution_count": null,
      "outputs": []
    },
    {
      "cell_type": "code",
      "metadata": {
        "colab": {
          "base_uri": "https://localhost:8080/"
        },
        "id": "ztocdjxXf1s0",
        "outputId": "e5a6a278-43fd-4fa9-9f76-bdb21aba0e75"
      },
      "source": [
        "!ls carpeta_test/"
      ],
      "execution_count": null,
      "outputs": [
        {
          "output_type": "stream",
          "name": "stdout",
          "text": [
            "subcarpeta   sub_carpeta_01  sub_carpeta_02  sub_carpeta_03\n",
            "sub_carpeta  subcarpeta_01   subcarpeta_02   subcarpeta_03\n"
          ]
        }
      ]
    },
    {
      "cell_type": "code",
      "metadata": {
        "id": "LvKO_Xw_qIgM",
        "colab": {
          "base_uri": "https://localhost:8080/"
        },
        "outputId": "9fdf13cd-9821-4b21-c609-e7979553c075"
      },
      "source": [
        "contenidos_01 = glob.glob(\"carpeta_test/subcar*\")\n",
        "for contenido in contenidos_01:\n",
        "  print(contenido)"
      ],
      "execution_count": null,
      "outputs": [
        {
          "output_type": "stream",
          "name": "stdout",
          "text": [
            "carpeta_test/subcarpeta_03\n",
            "carpeta_test/subcarpeta\n",
            "carpeta_test/subcarpeta_01\n",
            "carpeta_test/subcarpeta_02\n"
          ]
        }
      ]
    },
    {
      "cell_type": "code",
      "metadata": {
        "id": "MdLQmG4TqIdk",
        "colab": {
          "base_uri": "https://localhost:8080/"
        },
        "outputId": "d61b2ea2-134c-41bb-9d58-7d3baa0c3148"
      },
      "source": [
        "contenidos_02 = glob.glob(\"carpeta_test/subcarpeta/\"+\"*\")\n",
        "print(contenidos_02)"
      ],
      "execution_count": null,
      "outputs": [
        {
          "output_type": "stream",
          "name": "stdout",
          "text": [
            "['carpeta_test/subcarpeta/archivo_test_09.json', 'carpeta_test/subcarpeta/archivo_test_07.csv', 'carpeta_test/subcarpeta/archivo_test_01.txt', 'carpeta_test/subcarpeta/archivo_test_04.txt', 'carpeta_test/subcarpeta/archivo_test_03.txt', 'carpeta_test/subcarpeta/archivo_test_02.txt', 'carpeta_test/subcarpeta/archivo_test_06.txt', 'carpeta_test/subcarpeta/archivo_test_05.txt', 'carpeta_test/subcarpeta/archivo_test_08.csv']\n"
          ]
        }
      ]
    },
    {
      "cell_type": "code",
      "metadata": {
        "id": "12O1aeeYqIa7",
        "colab": {
          "base_uri": "https://localhost:8080/"
        },
        "outputId": "eb121cc5-3690-4ee4-b6f6-bf1e3017acbf"
      },
      "source": [
        "contenidos_03 = glob.glob(\"carpeta_test/subcarpeta/\"+\"*.csv\")\n",
        "print(contenidos_03)\n",
        "contenidos_04 = glob.glob(\"carpeta_test/subcarpeta/\"+\"*.json\")\n",
        "contenidos_03.extend(contenidos_04)\n",
        "print(contenidos_03)"
      ],
      "execution_count": null,
      "outputs": [
        {
          "output_type": "stream",
          "name": "stdout",
          "text": [
            "['carpeta_test/subcarpeta/archivo_test_07.csv', 'carpeta_test/subcarpeta/archivo_test_08.csv']\n",
            "['carpeta_test/subcarpeta/archivo_test_07.csv', 'carpeta_test/subcarpeta/archivo_test_08.csv', 'carpeta_test/subcarpeta/archivo_test_09.json']\n"
          ]
        }
      ]
    },
    {
      "cell_type": "code",
      "metadata": {
        "colab": {
          "base_uri": "https://localhost:8080/"
        },
        "id": "m21lFxpvhSop",
        "outputId": "d7a80143-7816-4473-98b1-cc6a1f6cdb05"
      },
      "source": [
        "archivo = contenidos_03[0]\n",
        "# camino del archivo\n",
        "print(archivo)\n",
        "print(type(archivo))\n",
        "print()\n",
        "\n",
        "# solamente la carpeta\n",
        "print(os.path.dirname(archivo))\n",
        "print()\n",
        "\n",
        "# solamente el nombre del archivo\n",
        "print(os.path.basename(archivo))\n",
        "\n",
        "# archivo dividido en carpeta y archivo\n",
        "carpeta, archivo_nombre = os.path.split(archivo)\n",
        "print(\"carpeta:\", carpeta)\n",
        "print(\"nombre del archivo:\", archivo_nombre)\n",
        "print()\n",
        "\n",
        "# \"C://documentos//proyectos//python_test//archivo_texto.txt\"\n",
        "# \"C://documentos//proyectos//python_test//archivos_01//archivo_texto.txt\"\n",
        "# \"C://documentos//proyectos//python_test//\"      camino del proyecto\n",
        "# open(\"archivo_texto.txt\")\n",
        "# open(\"archivos_01//archivo_texto.txt\"\n",
        "\n",
        "\n",
        "# camino absoluto del archivo\n",
        "print(os.path.abspath(archivo))"
      ],
      "execution_count": null,
      "outputs": [
        {
          "output_type": "stream",
          "name": "stdout",
          "text": [
            "carpeta_test/subcarpeta/archivo_test_07.csv\n",
            "<class 'str'>\n",
            "\n",
            "carpeta_test/subcarpeta\n",
            "\n",
            "archivo_test_07.csv\n",
            "carpeta: carpeta_test/subcarpeta\n",
            "nombre del archivo: archivo_test_07.csv\n",
            "\n",
            "/content/carpeta_test/subcarpeta/archivo_test_07.csv\n"
          ]
        }
      ]
    },
    {
      "cell_type": "code",
      "metadata": {
        "id": "mqtkymaNqIYa",
        "colab": {
          "base_uri": "https://localhost:8080/"
        },
        "outputId": "804704d1-4602-45c5-d5b8-55ac27129f0d"
      },
      "source": [
        "archivo = contenidos_03[0]\n",
        "# camino del archivo\n",
        "print(archivo)\n",
        "\n",
        "# solamente la carpeta\n",
        "print(os.path.dirname(archivo))\n",
        "\n",
        "# solamente el nombre del archivo\n",
        "print(os.path.basename(archivo))\n",
        "\n",
        "# archivo dividido en carpeta y archivo\n",
        "print(os.path.split(archivo))\n",
        "\n",
        "# camino absoluto del archivo\n",
        "print(os.path.abspath(archivo))\n",
        "\n",
        "# obtener sin extensión \n",
        "print(os.path.splitext(archivo)[0])\n",
        "\n",
        "# obtener extensión \n",
        "print(os.path.splitext(archivo)[1])"
      ],
      "execution_count": null,
      "outputs": [
        {
          "output_type": "stream",
          "name": "stdout",
          "text": [
            "carpeta_test/subcarpeta/archivo_test_07.csv\n",
            "carpeta_test/subcarpeta\n",
            "archivo_test_07.csv\n",
            "('carpeta_test/subcarpeta', 'archivo_test_07.csv')\n",
            "/content/carpeta_test/subcarpeta/archivo_test_07.csv\n",
            "carpeta_test/subcarpeta/archivo_test_07\n",
            ".csv\n"
          ]
        }
      ]
    },
    {
      "cell_type": "markdown",
      "metadata": {
        "id": "bZ05Iw_y9Vhy"
      },
      "source": [
        "# Serializar archivos\n",
        "\n",
        "https://www.pythonforthelab.com/blog/storing-binary-data-and-serializing/\n",
        "\n",
        "\n",
        "## Serializar archivos\n"
      ]
    },
    {
      "cell_type": "code",
      "metadata": {
        "id": "96zHt7UyjRUm"
      },
      "source": [
        "mi_lista_numeros = [1,2,3,4,5,6,7,8,9]\n",
        "with open(\"archivo_lista.txt\", \"w\") as f:\n",
        "  for numero in mi_lista_numeros:\n",
        "    f.write(str(numero)+\"-\")\n",
        "\n",
        "with open(\"archivo_lista.txt\", \"r\") as f:\n",
        "  valor = f.read()"
      ],
      "execution_count": null,
      "outputs": []
    },
    {
      "cell_type": "code",
      "metadata": {
        "colab": {
          "base_uri": "https://localhost:8080/"
        },
        "id": "o6ydlighj2Ms",
        "outputId": "3d112581-9d68-4b24-c743-f5552ba98a89"
      },
      "source": [
        "print(valor)\n",
        "print(type(valor))"
      ],
      "execution_count": null,
      "outputs": [
        {
          "output_type": "stream",
          "name": "stdout",
          "text": [
            "1-2-3-4-5-6-7-8-9-\n",
            "<class 'str'>\n"
          ]
        }
      ]
    },
    {
      "cell_type": "code",
      "metadata": {
        "colab": {
          "base_uri": "https://localhost:8080/"
        },
        "id": "PtdK94RwkF-P",
        "outputId": "47283eab-3c2f-45c5-f1c4-62489f0e097b"
      },
      "source": [
        "mi_lista_nueva = valor.split(\"-\")\n",
        "print(mi_lista_nueva)"
      ],
      "execution_count": null,
      "outputs": [
        {
          "output_type": "stream",
          "name": "stdout",
          "text": [
            "['1', '2', '3', '4', '5', '6', '7', '8', '9', '']\n"
          ]
        }
      ]
    },
    {
      "cell_type": "code",
      "metadata": {
        "colab": {
          "base_uri": "https://localhost:8080/"
        },
        "id": "EedoWpDJkW-a",
        "outputId": "a07f4124-9dba-48a5-9a4b-5b62915cfa34"
      },
      "source": [
        "mi_lista_nueva = mi_lista_nueva[:-1]\n",
        "print(mi_lista_nueva)"
      ],
      "execution_count": null,
      "outputs": [
        {
          "output_type": "stream",
          "name": "stdout",
          "text": [
            "['1', '2', '3', '4', '5', '6', '7', '8', '9']\n"
          ]
        }
      ]
    },
    {
      "cell_type": "code",
      "metadata": {
        "colab": {
          "base_uri": "https://localhost:8080/"
        },
        "id": "Sn4Aj9aCk_HZ",
        "outputId": "796e2bf1-077c-41f1-d766-22bb4342f418"
      },
      "source": [
        "mi_lista_final = []\n",
        "for elemento in mi_lista_nueva:\n",
        "  mi_lista_final.append(int(elemento))\n",
        "\n",
        "print(mi_lista_final)\n",
        "print(type(mi_lista_final))\n",
        "print(type(mi_lista_final[0]))"
      ],
      "execution_count": null,
      "outputs": [
        {
          "output_type": "stream",
          "name": "stdout",
          "text": [
            "[1, 2, 3, 4, 5, 6, 7, 8, 9]\n",
            "<class 'list'>\n",
            "<class 'int'>\n"
          ]
        }
      ]
    },
    {
      "cell_type": "code",
      "metadata": {
        "id": "RnyKy0PyqIWH",
        "colab": {
          "base_uri": "https://localhost:8080/"
        },
        "outputId": "2390ddd7-7946-4b4a-defb-c36ba5b051a4"
      },
      "source": [
        "mi_diccionario = {\"nombre\": \"Juan\", \"Edad\": 34, \"Materias\":[\"Matemáticas\", \"Física\", \"Química\"], \"sub_diccionario\": {\"Alemania\":\"Berlín\", \"Francia\":\"Paris\", \"Brasil\":\"Brasilia\"}}\n",
        "print(mi_diccionario)\n",
        "print(type(mi_diccionario))"
      ],
      "execution_count": null,
      "outputs": [
        {
          "output_type": "stream",
          "name": "stdout",
          "text": [
            "{'nombre': 'Juan', 'Edad': 34, 'Materias': ['Matemáticas', 'Física', 'Química'], 'sub_diccionario': {'Alemania': 'Berlín', 'Francia': 'Paris', 'Brasil': 'Brasilia'}}\n",
            "<class 'dict'>\n"
          ]
        }
      ]
    },
    {
      "cell_type": "code",
      "metadata": {
        "id": "7U2OEau3-R1V"
      },
      "source": [
        "import pickle"
      ],
      "execution_count": null,
      "outputs": []
    },
    {
      "cell_type": "code",
      "metadata": {
        "id": "5WPQBkwS-hbG",
        "colab": {
          "base_uri": "https://localhost:8080/"
        },
        "outputId": "4cadd496-1ad0-478e-ac0a-c17cd08c637e"
      },
      "source": [
        "print(pickle.dumps(mi_diccionario))"
      ],
      "execution_count": null,
      "outputs": [
        {
          "output_type": "stream",
          "name": "stdout",
          "text": [
            "b'\\x80\\x03}q\\x00(X\\x06\\x00\\x00\\x00nombreq\\x01X\\x04\\x00\\x00\\x00Juanq\\x02X\\x04\\x00\\x00\\x00Edadq\\x03K\"X\\x08\\x00\\x00\\x00Materiasq\\x04]q\\x05(X\\x0c\\x00\\x00\\x00Matem\\xc3\\xa1ticasq\\x06X\\x07\\x00\\x00\\x00F\\xc3\\xadsicaq\\x07X\\x08\\x00\\x00\\x00Qu\\xc3\\xadmicaq\\x08eX\\x0f\\x00\\x00\\x00sub_diccionarioq\\t}q\\n(X\\x08\\x00\\x00\\x00Alemaniaq\\x0bX\\x07\\x00\\x00\\x00Berl\\xc3\\xadnq\\x0cX\\x07\\x00\\x00\\x00Franciaq\\rX\\x05\\x00\\x00\\x00Parisq\\x0eX\\x06\\x00\\x00\\x00Brasilq\\x0fX\\x08\\x00\\x00\\x00Brasiliaq\\x10uu.'\n"
          ]
        }
      ]
    },
    {
      "cell_type": "code",
      "metadata": {
        "id": "A4uQQzt2qITg"
      },
      "source": [
        "with open(\"archivo_serializado.dat\", \"wb\") as f:\n",
        "  pickle.dump(mi_diccionario, f)"
      ],
      "execution_count": null,
      "outputs": []
    },
    {
      "cell_type": "markdown",
      "metadata": {
        "id": "YV9uFYtd_HR9"
      },
      "source": [
        "## deserializar archivos"
      ]
    },
    {
      "cell_type": "code",
      "metadata": {
        "id": "kwL68S3R-Pnj"
      },
      "source": [
        "with open(\"archivo_serializado.dat\", \"rb\") as f:\n",
        "  datos = pickle.load(f)"
      ],
      "execution_count": null,
      "outputs": []
    },
    {
      "cell_type": "code",
      "metadata": {
        "id": "hcLrS70-_Q2n",
        "colab": {
          "base_uri": "https://localhost:8080/"
        },
        "outputId": "b882ba84-f773-4459-8ea2-ce51efd4deb8"
      },
      "source": [
        "print(datos)\n",
        "print(type(datos))"
      ],
      "execution_count": null,
      "outputs": [
        {
          "output_type": "stream",
          "name": "stdout",
          "text": [
            "{'nombre': 'Juan', 'Edad': 34, 'Materias': ['Matemáticas', 'Física', 'Química'], 'sub_diccionario': {'Alemania': 'Berlín', 'Francia': 'Paris', 'Brasil': 'Brasilia'}}\n",
            "<class 'dict'>\n"
          ]
        }
      ]
    },
    {
      "cell_type": "code",
      "metadata": {
        "id": "fUF93HXgATVs"
      },
      "source": [
        ""
      ],
      "execution_count": null,
      "outputs": []
    },
    {
      "cell_type": "markdown",
      "metadata": {
        "id": "PpgfYGs2Bmz1"
      },
      "source": [
        "# Bases de datos\n",
        "Kaggle\n",
        "\n",
        "\n",
        "\n",
        "\n",
        "\n",
        "---\n",
        "\n",
        "\n",
        "**directamente desde colab**\n",
        "\n",
        "https://www.analyticsvidhya.com/blog/2021/06/how-to-load-kaggle-datasets-directly-into-google-colab/"
      ]
    },
    {
      "cell_type": "code",
      "metadata": {
        "id": "jywdQr01C54X",
        "colab": {
          "base_uri": "https://localhost:8080/"
        },
        "outputId": "85b81838-3432-4145-91ae-cba6deb15e76"
      },
      "source": [
        "fp = 'dataset/winequality-red.csv' # filepath del archivo\n",
        "\n",
        "\n",
        "# https://drive.google.com/file/d/1iX0odJl3FNjKr-oUEefsydxqsrGmusCq/view?usp=sharing\n",
        "file_id = \"1iX0odJl3FNjKr-oUEefsydxqsrGmusCq\"\n",
        "!wget --load-cookies /tmp/cookies.txt \"https://docs.google.com/uc?export=download&confirm=$(wget --quiet --save-cookies /tmp/cookies.txt --keep-session-cookies --no-check-certificate 'https://docs.google.com/uc?export=download&id=$file_id' -O- | sed -rn 's/.*confirm=([0-9A-Za-z_]+).*/\\1\\n/p')&id=$file_id\" -O $fp && rm -rf /tmp/cookies.txt"
      ],
      "execution_count": null,
      "outputs": [
        {
          "output_type": "stream",
          "name": "stdout",
          "text": [
            "--2021-11-19 00:46:09--  https://docs.google.com/uc?export=download&confirm=&id=1iX0odJl3FNjKr-oUEefsydxqsrGmusCq\n",
            "Resolving docs.google.com (docs.google.com)... 64.233.188.138, 64.233.188.113, 64.233.188.100, ...\n",
            "Connecting to docs.google.com (docs.google.com)|64.233.188.138|:443... connected.\n",
            "HTTP request sent, awaiting response... 302 Moved Temporarily\n",
            "Location: https://doc-00-00-docs.googleusercontent.com/docs/securesc/t6h26gcabqkrl5qh848h4skh0p2n1mu3/ee0sq7almp1fd2uip8uqacolgdersuq2/1637282700000/10174960064696422613/04244521109595721410Z/1iX0odJl3FNjKr-oUEefsydxqsrGmusCq?e=download [following]\n",
            "--2021-11-19 00:46:09--  https://doc-00-00-docs.googleusercontent.com/docs/securesc/t6h26gcabqkrl5qh848h4skh0p2n1mu3/ee0sq7almp1fd2uip8uqacolgdersuq2/1637282700000/10174960064696422613/04244521109595721410Z/1iX0odJl3FNjKr-oUEefsydxqsrGmusCq?e=download\n",
            "Resolving doc-00-00-docs.googleusercontent.com (doc-00-00-docs.googleusercontent.com)... 142.251.8.132, 2404:6800:4008:c15::84\n",
            "Connecting to doc-00-00-docs.googleusercontent.com (doc-00-00-docs.googleusercontent.com)|142.251.8.132|:443... connected.\n",
            "HTTP request sent, awaiting response... 302 Found\n",
            "Location: https://docs.google.com/nonceSigner?nonce=9vu406p9utls6&continue=https://doc-00-00-docs.googleusercontent.com/docs/securesc/t6h26gcabqkrl5qh848h4skh0p2n1mu3/ee0sq7almp1fd2uip8uqacolgdersuq2/1637282700000/10174960064696422613/04244521109595721410Z/1iX0odJl3FNjKr-oUEefsydxqsrGmusCq?e%3Ddownload&hash=oilrd82i36nbtjq7jsqpq3vjkhnrnhsg [following]\n",
            "--2021-11-19 00:46:09--  https://docs.google.com/nonceSigner?nonce=9vu406p9utls6&continue=https://doc-00-00-docs.googleusercontent.com/docs/securesc/t6h26gcabqkrl5qh848h4skh0p2n1mu3/ee0sq7almp1fd2uip8uqacolgdersuq2/1637282700000/10174960064696422613/04244521109595721410Z/1iX0odJl3FNjKr-oUEefsydxqsrGmusCq?e%3Ddownload&hash=oilrd82i36nbtjq7jsqpq3vjkhnrnhsg\n",
            "Connecting to docs.google.com (docs.google.com)|64.233.188.138|:443... connected.\n",
            "HTTP request sent, awaiting response... 302 Found\n",
            "Location: https://doc-00-00-docs.googleusercontent.com/docs/securesc/t6h26gcabqkrl5qh848h4skh0p2n1mu3/ee0sq7almp1fd2uip8uqacolgdersuq2/1637282700000/10174960064696422613/04244521109595721410Z/1iX0odJl3FNjKr-oUEefsydxqsrGmusCq?e=download&nonce=9vu406p9utls6&user=04244521109595721410Z&hash=tv0o257aeaonh2nsr5tpgpi6b24rclpa [following]\n",
            "--2021-11-19 00:46:10--  https://doc-00-00-docs.googleusercontent.com/docs/securesc/t6h26gcabqkrl5qh848h4skh0p2n1mu3/ee0sq7almp1fd2uip8uqacolgdersuq2/1637282700000/10174960064696422613/04244521109595721410Z/1iX0odJl3FNjKr-oUEefsydxqsrGmusCq?e=download&nonce=9vu406p9utls6&user=04244521109595721410Z&hash=tv0o257aeaonh2nsr5tpgpi6b24rclpa\n",
            "Connecting to doc-00-00-docs.googleusercontent.com (doc-00-00-docs.googleusercontent.com)|142.251.8.132|:443... connected.\n",
            "HTTP request sent, awaiting response... 200 OK\n",
            "Length: 100951 (99K) [text/csv]\n",
            "Saving to: ‘dataset/winequality-red.csv’\n",
            "\n",
            "dataset/winequality 100%[===================>]  98.58K  --.-KB/s    in 0.001s  \n",
            "\n",
            "2021-11-19 00:46:10 (89.8 MB/s) - ‘dataset/winequality-red.csv’ saved [100951/100951]\n",
            "\n"
          ]
        }
      ]
    },
    {
      "cell_type": "code",
      "metadata": {
        "id": "66TATtMZCGXL"
      },
      "source": [
        ""
      ],
      "execution_count": null,
      "outputs": []
    },
    {
      "cell_type": "code",
      "metadata": {
        "id": "gzkn1-AuD5kc"
      },
      "source": [
        ""
      ],
      "execution_count": null,
      "outputs": []
    }
  ]
}