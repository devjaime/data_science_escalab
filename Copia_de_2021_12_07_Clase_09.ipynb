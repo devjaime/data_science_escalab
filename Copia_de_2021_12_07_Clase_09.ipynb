{
  "nbformat": 4,
  "nbformat_minor": 0,
  "metadata": {
    "colab": {
      "name": "Copia de 2021 12 07 - Clase 09.ipynb",
      "provenance": [],
      "collapsed_sections": [],
      "include_colab_link": true
    },
    "kernelspec": {
      "name": "python3",
      "display_name": "Python 3"
    },
    "language_info": {
      "name": "python"
    }
  },
  "cells": [
    {
      "cell_type": "markdown",
      "metadata": {
        "id": "view-in-github",
        "colab_type": "text"
      },
      "source": [
        "<a href=\"https://colab.research.google.com/github/devjaime/data_science_escalab/blob/main/Copia_de_2021_12_07_Clase_09.ipynb\" target=\"_parent\"><img src=\"https://colab.research.google.com/assets/colab-badge.svg\" alt=\"Open In Colab\"/></a>"
      ]
    },
    {
      "cell_type": "markdown",
      "metadata": {
        "id": "EoegVK2du8cG"
      },
      "source": [
        "#Consolidación de Datos"
      ]
    },
    {
      "cell_type": "markdown",
      "metadata": {
        "id": "bEA_ErP6NmxS"
      },
      "source": [
        "- Es normal encontrar datos repartidos entre distintas fuentes, ya sean archivos o bases de datos.\n",
        "- También es común ver datos organizados de una forma \"poco intuitiva\" o que no es fácil de entender.\n",
        "- Hoy nos enfocaremos en herramientas que nos ayuden a combinar, mezclar y reorganizar datos."
      ]
    },
    {
      "cell_type": "code",
      "metadata": {
        "id": "nxiacNrkQ-lw"
      },
      "source": [
        "from io import StringIO\n",
        "\n",
        "import numpy as np\n",
        "import pandas as pd"
      ],
      "execution_count": null,
      "outputs": []
    },
    {
      "cell_type": "markdown",
      "metadata": {
        "id": "_0-Ffx_wRSaF"
      },
      "source": [
        "## Índices y columnas"
      ]
    },
    {
      "cell_type": "markdown",
      "metadata": {
        "id": "Pr4QAFmJTwep"
      },
      "source": [
        "`Pandas` acepta columnas y filas con el mismo nombre, pero en la mayoría de los casos no tiene mucho sentido y puede desencadenar errores."
      ]
    },
    {
      "cell_type": "code",
      "metadata": {
        "colab": {
          "base_uri": "https://localhost:8080/"
        },
        "id": "bftwKuXoQq-d",
        "outputId": "bb8f3b4f-1132-4a9e-a306-86732cd56595"
      },
      "source": [
        "data1 = pd.Series(np.random.randn(5), index=[0,1,1,2,2])\n",
        "data1"
      ],
      "execution_count": null,
      "outputs": [
        {
          "output_type": "execute_result",
          "data": {
            "text/plain": [
              "0   -2.002092\n",
              "1   -0.035184\n",
              "1   -0.219052\n",
              "2   -0.327824\n",
              "2   -0.484474\n",
              "dtype: float64"
            ]
          },
          "metadata": {},
          "execution_count": 2
        }
      ]
    },
    {
      "cell_type": "code",
      "metadata": {
        "colab": {
          "base_uri": "https://localhost:8080/"
        },
        "id": "9T5k4dkzRaEu",
        "outputId": "42ee29d6-4099-42bf-850c-7c5e8fa130b8"
      },
      "source": [
        "data1[1]"
      ],
      "execution_count": null,
      "outputs": [
        {
          "output_type": "execute_result",
          "data": {
            "text/plain": [
              "1   -0.035184\n",
              "1   -0.219052\n",
              "dtype: float64"
            ]
          },
          "metadata": {},
          "execution_count": 3
        }
      ]
    },
    {
      "cell_type": "code",
      "metadata": {
        "colab": {
          "base_uri": "https://localhost:8080/",
          "height": 363
        },
        "id": "-I-73alRSrtl",
        "outputId": "001f6612-b462-4116-907b-3ea91abcaab9"
      },
      "source": [
        "data2 = pd.DataFrame({\n",
        "    'col_x': range(10,20),\n",
        "    'col_x': range(10), # dict con keys repetidas, el último sobreescribe al anterior\n",
        "    '0':range(40,50),\n",
        "    0:range(70,80)\n",
        "})\n",
        "\n",
        "data2"
      ],
      "execution_count": null,
      "outputs": [
        {
          "output_type": "execute_result",
          "data": {
            "text/html": [
              "<div>\n",
              "<style scoped>\n",
              "    .dataframe tbody tr th:only-of-type {\n",
              "        vertical-align: middle;\n",
              "    }\n",
              "\n",
              "    .dataframe tbody tr th {\n",
              "        vertical-align: top;\n",
              "    }\n",
              "\n",
              "    .dataframe thead th {\n",
              "        text-align: right;\n",
              "    }\n",
              "</style>\n",
              "<table border=\"1\" class=\"dataframe\">\n",
              "  <thead>\n",
              "    <tr style=\"text-align: right;\">\n",
              "      <th></th>\n",
              "      <th>col_x</th>\n",
              "      <th>0</th>\n",
              "      <th>0</th>\n",
              "    </tr>\n",
              "  </thead>\n",
              "  <tbody>\n",
              "    <tr>\n",
              "      <th>0</th>\n",
              "      <td>0</td>\n",
              "      <td>40</td>\n",
              "      <td>70</td>\n",
              "    </tr>\n",
              "    <tr>\n",
              "      <th>1</th>\n",
              "      <td>1</td>\n",
              "      <td>41</td>\n",
              "      <td>71</td>\n",
              "    </tr>\n",
              "    <tr>\n",
              "      <th>2</th>\n",
              "      <td>2</td>\n",
              "      <td>42</td>\n",
              "      <td>72</td>\n",
              "    </tr>\n",
              "    <tr>\n",
              "      <th>3</th>\n",
              "      <td>3</td>\n",
              "      <td>43</td>\n",
              "      <td>73</td>\n",
              "    </tr>\n",
              "    <tr>\n",
              "      <th>4</th>\n",
              "      <td>4</td>\n",
              "      <td>44</td>\n",
              "      <td>74</td>\n",
              "    </tr>\n",
              "    <tr>\n",
              "      <th>5</th>\n",
              "      <td>5</td>\n",
              "      <td>45</td>\n",
              "      <td>75</td>\n",
              "    </tr>\n",
              "    <tr>\n",
              "      <th>6</th>\n",
              "      <td>6</td>\n",
              "      <td>46</td>\n",
              "      <td>76</td>\n",
              "    </tr>\n",
              "    <tr>\n",
              "      <th>7</th>\n",
              "      <td>7</td>\n",
              "      <td>47</td>\n",
              "      <td>77</td>\n",
              "    </tr>\n",
              "    <tr>\n",
              "      <th>8</th>\n",
              "      <td>8</td>\n",
              "      <td>48</td>\n",
              "      <td>78</td>\n",
              "    </tr>\n",
              "    <tr>\n",
              "      <th>9</th>\n",
              "      <td>9</td>\n",
              "      <td>49</td>\n",
              "      <td>79</td>\n",
              "    </tr>\n",
              "  </tbody>\n",
              "</table>\n",
              "</div>"
            ],
            "text/plain": [
              "   col_x   0   0\n",
              "0      0  40  70\n",
              "1      1  41  71\n",
              "2      2  42  72\n",
              "3      3  43  73\n",
              "4      4  44  74\n",
              "5      5  45  75\n",
              "6      6  46  76\n",
              "7      7  47  77\n",
              "8      8  48  78\n",
              "9      9  49  79"
            ]
          },
          "metadata": {},
          "execution_count": 4
        }
      ]
    },
    {
      "cell_type": "code",
      "metadata": {
        "colab": {
          "base_uri": "https://localhost:8080/",
          "height": 363
        },
        "id": "0JEdNZOlTIwa",
        "outputId": "4db327cc-a377-4a6c-c452-9e4695614320"
      },
      "source": [
        "data2.rename(columns={0:'col_x'}, inplace=True)\n",
        "data2.col_x"
      ],
      "execution_count": null,
      "outputs": [
        {
          "output_type": "execute_result",
          "data": {
            "text/html": [
              "<div>\n",
              "<style scoped>\n",
              "    .dataframe tbody tr th:only-of-type {\n",
              "        vertical-align: middle;\n",
              "    }\n",
              "\n",
              "    .dataframe tbody tr th {\n",
              "        vertical-align: top;\n",
              "    }\n",
              "\n",
              "    .dataframe thead th {\n",
              "        text-align: right;\n",
              "    }\n",
              "</style>\n",
              "<table border=\"1\" class=\"dataframe\">\n",
              "  <thead>\n",
              "    <tr style=\"text-align: right;\">\n",
              "      <th></th>\n",
              "      <th>col_x</th>\n",
              "      <th>col_x</th>\n",
              "    </tr>\n",
              "  </thead>\n",
              "  <tbody>\n",
              "    <tr>\n",
              "      <th>0</th>\n",
              "      <td>0</td>\n",
              "      <td>70</td>\n",
              "    </tr>\n",
              "    <tr>\n",
              "      <th>1</th>\n",
              "      <td>1</td>\n",
              "      <td>71</td>\n",
              "    </tr>\n",
              "    <tr>\n",
              "      <th>2</th>\n",
              "      <td>2</td>\n",
              "      <td>72</td>\n",
              "    </tr>\n",
              "    <tr>\n",
              "      <th>3</th>\n",
              "      <td>3</td>\n",
              "      <td>73</td>\n",
              "    </tr>\n",
              "    <tr>\n",
              "      <th>4</th>\n",
              "      <td>4</td>\n",
              "      <td>74</td>\n",
              "    </tr>\n",
              "    <tr>\n",
              "      <th>5</th>\n",
              "      <td>5</td>\n",
              "      <td>75</td>\n",
              "    </tr>\n",
              "    <tr>\n",
              "      <th>6</th>\n",
              "      <td>6</td>\n",
              "      <td>76</td>\n",
              "    </tr>\n",
              "    <tr>\n",
              "      <th>7</th>\n",
              "      <td>7</td>\n",
              "      <td>77</td>\n",
              "    </tr>\n",
              "    <tr>\n",
              "      <th>8</th>\n",
              "      <td>8</td>\n",
              "      <td>78</td>\n",
              "    </tr>\n",
              "    <tr>\n",
              "      <th>9</th>\n",
              "      <td>9</td>\n",
              "      <td>79</td>\n",
              "    </tr>\n",
              "  </tbody>\n",
              "</table>\n",
              "</div>"
            ],
            "text/plain": [
              "   col_x  col_x\n",
              "0      0     70\n",
              "1      1     71\n",
              "2      2     72\n",
              "3      3     73\n",
              "4      4     74\n",
              "5      5     75\n",
              "6      6     76\n",
              "7      7     77\n",
              "8      8     78\n",
              "9      9     79"
            ]
          },
          "metadata": {},
          "execution_count": 5
        }
      ]
    },
    {
      "cell_type": "code",
      "metadata": {
        "colab": {
          "base_uri": "https://localhost:8080/",
          "height": 363
        },
        "id": "8kOLGFpITj-c",
        "outputId": "2aaa0e4e-ba7f-49c6-9cb2-5a32e75ba008"
      },
      "source": [
        "data2.loc[:,['col_x']]"
      ],
      "execution_count": null,
      "outputs": [
        {
          "output_type": "execute_result",
          "data": {
            "text/html": [
              "<div>\n",
              "<style scoped>\n",
              "    .dataframe tbody tr th:only-of-type {\n",
              "        vertical-align: middle;\n",
              "    }\n",
              "\n",
              "    .dataframe tbody tr th {\n",
              "        vertical-align: top;\n",
              "    }\n",
              "\n",
              "    .dataframe thead th {\n",
              "        text-align: right;\n",
              "    }\n",
              "</style>\n",
              "<table border=\"1\" class=\"dataframe\">\n",
              "  <thead>\n",
              "    <tr style=\"text-align: right;\">\n",
              "      <th></th>\n",
              "      <th>col_x</th>\n",
              "      <th>col_x</th>\n",
              "    </tr>\n",
              "  </thead>\n",
              "  <tbody>\n",
              "    <tr>\n",
              "      <th>0</th>\n",
              "      <td>0</td>\n",
              "      <td>70</td>\n",
              "    </tr>\n",
              "    <tr>\n",
              "      <th>1</th>\n",
              "      <td>1</td>\n",
              "      <td>71</td>\n",
              "    </tr>\n",
              "    <tr>\n",
              "      <th>2</th>\n",
              "      <td>2</td>\n",
              "      <td>72</td>\n",
              "    </tr>\n",
              "    <tr>\n",
              "      <th>3</th>\n",
              "      <td>3</td>\n",
              "      <td>73</td>\n",
              "    </tr>\n",
              "    <tr>\n",
              "      <th>4</th>\n",
              "      <td>4</td>\n",
              "      <td>74</td>\n",
              "    </tr>\n",
              "    <tr>\n",
              "      <th>5</th>\n",
              "      <td>5</td>\n",
              "      <td>75</td>\n",
              "    </tr>\n",
              "    <tr>\n",
              "      <th>6</th>\n",
              "      <td>6</td>\n",
              "      <td>76</td>\n",
              "    </tr>\n",
              "    <tr>\n",
              "      <th>7</th>\n",
              "      <td>7</td>\n",
              "      <td>77</td>\n",
              "    </tr>\n",
              "    <tr>\n",
              "      <th>8</th>\n",
              "      <td>8</td>\n",
              "      <td>78</td>\n",
              "    </tr>\n",
              "    <tr>\n",
              "      <th>9</th>\n",
              "      <td>9</td>\n",
              "      <td>79</td>\n",
              "    </tr>\n",
              "  </tbody>\n",
              "</table>\n",
              "</div>"
            ],
            "text/plain": [
              "   col_x  col_x\n",
              "0      0     70\n",
              "1      1     71\n",
              "2      2     72\n",
              "3      3     73\n",
              "4      4     74\n",
              "5      5     75\n",
              "6      6     76\n",
              "7      7     77\n",
              "8      8     78\n",
              "9      9     79"
            ]
          },
          "metadata": {},
          "execution_count": 6
        }
      ]
    },
    {
      "cell_type": "markdown",
      "metadata": {
        "id": "DQB_hOOcOCNe"
      },
      "source": [
        "## Indexación jerárquica"
      ]
    },
    {
      "cell_type": "markdown",
      "metadata": {
        "id": "fx8ZRD7CPYlz"
      },
      "source": [
        "- La *indexación jerárquica* es una funcionalidad de `pandas` que permite dos o más niveles de índices en un eje.\n",
        "- De forma abstracta, nos permite manejar mayores dimensiones de datos en una presentación de dos dimensiones.\n",
        "- También llamado `MultiIndex`."
      ]
    },
    {
      "cell_type": "markdown",
      "metadata": {
        "id": "DJ0MSRySXpsk"
      },
      "source": [
        "### Series"
      ]
    },
    {
      "cell_type": "code",
      "metadata": {
        "colab": {
          "base_uri": "https://localhost:8080/"
        },
        "id": "QyPNPkWZuqVU",
        "outputId": "f589b114-1f66-425b-9ad0-ac03078e8787"
      },
      "source": [
        "data3 = pd.Series(\n",
        "  np.random.randn(9),\n",
        "  index=[\n",
        "    ['a', 'a', 'a', 'b', 'b', 'c', 'c', 'd', 'd'],\n",
        "    [1, 2, 3, 1, 2, 3, 1, 2, 3]\n",
        "  ]\n",
        ")\n",
        "\n",
        "data3"
      ],
      "execution_count": null,
      "outputs": [
        {
          "output_type": "execute_result",
          "data": {
            "text/plain": [
              "a  1    1.350135\n",
              "   2   -0.233801\n",
              "   3   -0.234127\n",
              "b  1    0.051648\n",
              "   2   -0.168304\n",
              "c  3    0.571746\n",
              "   1   -0.127998\n",
              "d  2    1.187666\n",
              "   3    0.168218\n",
              "dtype: float64"
            ]
          },
          "metadata": {},
          "execution_count": 7
        }
      ]
    },
    {
      "cell_type": "markdown",
      "metadata": {
        "id": "JMFBFpRoQMze"
      },
      "source": [
        "- La vista superior es una forma cómoda de ver una serie con un índice múltiple, o `MultiIndex`.\n",
        "- Los espacios en blanco del primer índice indican \"usar el mismo índice anterior\"."
      ]
    },
    {
      "cell_type": "code",
      "metadata": {
        "colab": {
          "base_uri": "https://localhost:8080/"
        },
        "id": "y7qNH7SzQMBT",
        "outputId": "5603993d-6fee-48f3-8f79-34c183083340"
      },
      "source": [
        "data3.index"
      ],
      "execution_count": null,
      "outputs": [
        {
          "output_type": "execute_result",
          "data": {
            "text/plain": [
              "MultiIndex([('a', 1),\n",
              "            ('a', 2),\n",
              "            ('a', 3),\n",
              "            ('b', 1),\n",
              "            ('b', 2),\n",
              "            ('c', 3),\n",
              "            ('c', 1),\n",
              "            ('d', 2),\n",
              "            ('d', 3)],\n",
              "           )"
            ]
          },
          "metadata": {},
          "execution_count": 8
        }
      ]
    },
    {
      "cell_type": "code",
      "metadata": {
        "colab": {
          "base_uri": "https://localhost:8080/"
        },
        "id": "PJQG8u-6UgWa",
        "outputId": "32fd0c12-1cc0-450e-9977-3316e9bb8bab"
      },
      "source": [
        "data3.index.levels"
      ],
      "execution_count": null,
      "outputs": [
        {
          "output_type": "execute_result",
          "data": {
            "text/plain": [
              "FrozenList([['a', 'b', 'c', 'd'], [1, 2, 3]])"
            ]
          },
          "metadata": {},
          "execution_count": 9
        }
      ]
    },
    {
      "cell_type": "markdown",
      "metadata": {
        "id": "y4nGObXNVO89"
      },
      "source": [
        "- Con un objeto con índice jerárquico, podemos hacer un indexado parcial.\n",
        "- De esta forma podemos acceder a subconjuntos de los datos."
      ]
    },
    {
      "cell_type": "code",
      "metadata": {
        "colab": {
          "base_uri": "https://localhost:8080/"
        },
        "id": "zW-Ug4u7VSJH",
        "outputId": "cf68c8c2-c49a-4fe2-912e-50ac0862a658"
      },
      "source": [
        "data3['b']"
      ],
      "execution_count": null,
      "outputs": [
        {
          "output_type": "execute_result",
          "data": {
            "text/plain": [
              "1    0.051648\n",
              "2   -0.168304\n",
              "dtype: float64"
            ]
          },
          "metadata": {},
          "execution_count": 10
        }
      ]
    },
    {
      "cell_type": "code",
      "metadata": {
        "colab": {
          "base_uri": "https://localhost:8080/"
        },
        "id": "11Jd5BCWVTnJ",
        "outputId": "dea7cc21-9c00-436c-e6cf-cd790f506d6e"
      },
      "source": [
        "data3['b':'c'] # incluye el límite superior"
      ],
      "execution_count": null,
      "outputs": [
        {
          "output_type": "execute_result",
          "data": {
            "text/plain": [
              "b  1    0.051648\n",
              "   2   -0.168304\n",
              "c  3    0.571746\n",
              "   1   -0.127998\n",
              "dtype: float64"
            ]
          },
          "metadata": {},
          "execution_count": 11
        }
      ]
    },
    {
      "cell_type": "code",
      "metadata": {
        "colab": {
          "base_uri": "https://localhost:8080/"
        },
        "id": "H3oMUqkGVVhf",
        "outputId": "08998da5-963d-47a9-d589-22c8f6c9e015"
      },
      "source": [
        "data3.loc[['b', 'd']]"
      ],
      "execution_count": null,
      "outputs": [
        {
          "output_type": "execute_result",
          "data": {
            "text/plain": [
              "b  1    0.051648\n",
              "   2   -0.168304\n",
              "d  2    1.187666\n",
              "   3    0.168218\n",
              "dtype: float64"
            ]
          },
          "metadata": {},
          "execution_count": 12
        }
      ]
    },
    {
      "cell_type": "markdown",
      "metadata": {
        "id": "ytM6Tv9IVhxH"
      },
      "source": [
        "- Incluso se puede seleccionar los niveles \"internos\"."
      ]
    },
    {
      "cell_type": "code",
      "metadata": {
        "colab": {
          "base_uri": "https://localhost:8080/"
        },
        "id": "z2KastYtV4ti",
        "outputId": "2d9d2b73-1704-470d-c6e7-d00f01ec650f"
      },
      "source": [
        "data3 # solo para recordar"
      ],
      "execution_count": null,
      "outputs": [
        {
          "output_type": "execute_result",
          "data": {
            "text/plain": [
              "a  1    1.350135\n",
              "   2   -0.233801\n",
              "   3   -0.234127\n",
              "b  1    0.051648\n",
              "   2   -0.168304\n",
              "c  3    0.571746\n",
              "   1   -0.127998\n",
              "d  2    1.187666\n",
              "   3    0.168218\n",
              "dtype: float64"
            ]
          },
          "metadata": {},
          "execution_count": 13
        }
      ]
    },
    {
      "cell_type": "code",
      "metadata": {
        "colab": {
          "base_uri": "https://localhost:8080/"
        },
        "id": "tx65S6GMVmV9",
        "outputId": "4e1d57a0-ae19-4008-e095-79d3a4ca613d"
      },
      "source": [
        "data3.loc[:, 2] # todos lo índices de 2do nivel igual a 2"
      ],
      "execution_count": null,
      "outputs": [
        {
          "output_type": "execute_result",
          "data": {
            "text/plain": [
              "a   -0.233801\n",
              "b   -0.168304\n",
              "d    1.187666\n",
              "dtype: float64"
            ]
          },
          "metadata": {},
          "execution_count": 14
        }
      ]
    },
    {
      "cell_type": "code",
      "metadata": {
        "colab": {
          "base_uri": "https://localhost:8080/"
        },
        "id": "VqqlODj1WYlB",
        "outputId": "554ebac6-ebc0-4428-c184-2daa03a95222"
      },
      "source": [
        "data3.loc[:, [2,3]] # todos los índices de 2do nivel 2 o 3"
      ],
      "execution_count": null,
      "outputs": [
        {
          "output_type": "execute_result",
          "data": {
            "text/plain": [
              "a  2   -0.233801\n",
              "   3   -0.234127\n",
              "b  2   -0.168304\n",
              "c  3    0.571746\n",
              "d  2    1.187666\n",
              "   3    0.168218\n",
              "dtype: float64"
            ]
          },
          "metadata": {},
          "execution_count": 15
        }
      ]
    },
    {
      "cell_type": "markdown",
      "metadata": {
        "id": "j6t2HsNFWTXG"
      },
      "source": [
        "- La indexación jerárquica tiene un rol importante en la reorganización de datos y operaciones basadas en grupos, como crear una tabla *pivote*.\n",
        "- Por ejemplo, se puede reordenar los datos de una `Series` en un `DataFrame`.\n",
        "- Para esto, se utiliza el método `unstack`."
      ]
    },
    {
      "cell_type": "code",
      "metadata": {
        "colab": {
          "base_uri": "https://localhost:8080/",
          "height": 400
        },
        "id": "48kBWpCfWzQL",
        "outputId": "b6e4bb08-e590-49f3-8730-ca5d14a603d9"
      },
      "source": [
        "# https://pandas.pydata.org/docs/reference/api/pandas.Series.unstack.html\n",
        "\n",
        "print(data3)\n",
        "print('\\n-------------------------------\\n')\n",
        "desmontado = data3.unstack() # transforma la series en un df de acuerdo a su multiIndex\n",
        "desmontado"
      ],
      "execution_count": null,
      "outputs": [
        {
          "output_type": "stream",
          "name": "stdout",
          "text": [
            "a  1    1.350135\n",
            "   2   -0.233801\n",
            "   3   -0.234127\n",
            "b  1    0.051648\n",
            "   2   -0.168304\n",
            "c  3    0.571746\n",
            "   1   -0.127998\n",
            "d  2    1.187666\n",
            "   3    0.168218\n",
            "dtype: float64\n",
            "\n",
            "-------------------------------\n",
            "\n"
          ]
        },
        {
          "output_type": "execute_result",
          "data": {
            "text/html": [
              "<div>\n",
              "<style scoped>\n",
              "    .dataframe tbody tr th:only-of-type {\n",
              "        vertical-align: middle;\n",
              "    }\n",
              "\n",
              "    .dataframe tbody tr th {\n",
              "        vertical-align: top;\n",
              "    }\n",
              "\n",
              "    .dataframe thead th {\n",
              "        text-align: right;\n",
              "    }\n",
              "</style>\n",
              "<table border=\"1\" class=\"dataframe\">\n",
              "  <thead>\n",
              "    <tr style=\"text-align: right;\">\n",
              "      <th></th>\n",
              "      <th>1</th>\n",
              "      <th>2</th>\n",
              "      <th>3</th>\n",
              "    </tr>\n",
              "  </thead>\n",
              "  <tbody>\n",
              "    <tr>\n",
              "      <th>a</th>\n",
              "      <td>1.350135</td>\n",
              "      <td>-0.233801</td>\n",
              "      <td>-0.234127</td>\n",
              "    </tr>\n",
              "    <tr>\n",
              "      <th>b</th>\n",
              "      <td>0.051648</td>\n",
              "      <td>-0.168304</td>\n",
              "      <td>NaN</td>\n",
              "    </tr>\n",
              "    <tr>\n",
              "      <th>c</th>\n",
              "      <td>-0.127998</td>\n",
              "      <td>NaN</td>\n",
              "      <td>0.571746</td>\n",
              "    </tr>\n",
              "    <tr>\n",
              "      <th>d</th>\n",
              "      <td>NaN</td>\n",
              "      <td>1.187666</td>\n",
              "      <td>0.168218</td>\n",
              "    </tr>\n",
              "  </tbody>\n",
              "</table>\n",
              "</div>"
            ],
            "text/plain": [
              "          1         2         3\n",
              "a  1.350135 -0.233801 -0.234127\n",
              "b  0.051648 -0.168304       NaN\n",
              "c -0.127998       NaN  0.571746\n",
              "d       NaN  1.187666  0.168218"
            ]
          },
          "metadata": {},
          "execution_count": 16
        }
      ]
    },
    {
      "cell_type": "markdown",
      "metadata": {
        "id": "3AiijX_aXYnj"
      },
      "source": [
        "- La función inversa de `unstack`, es `stack`."
      ]
    },
    {
      "cell_type": "code",
      "metadata": {
        "colab": {
          "base_uri": "https://localhost:8080/"
        },
        "id": "nt_ftbXVXbgr",
        "outputId": "c9242023-1f56-406f-9061-11b90fdfd79b"
      },
      "source": [
        "desmontado.stack()"
      ],
      "execution_count": null,
      "outputs": [
        {
          "output_type": "execute_result",
          "data": {
            "text/plain": [
              "a  1    1.350135\n",
              "   2   -0.233801\n",
              "   3   -0.234127\n",
              "b  1    0.051648\n",
              "   2   -0.168304\n",
              "c  1   -0.127998\n",
              "   3    0.571746\n",
              "d  2    1.187666\n",
              "   3    0.168218\n",
              "dtype: float64"
            ]
          },
          "metadata": {},
          "execution_count": 17
        }
      ]
    },
    {
      "cell_type": "markdown",
      "metadata": {
        "id": "RODrcsEnXkz5"
      },
      "source": [
        "### DataFrame\n",
        "- En un `DataFrame`, cada eje (fila o columna) puede tener múltiples índices."
      ]
    },
    {
      "cell_type": "code",
      "metadata": {
        "id": "x49hhKOwXywq",
        "colab": {
          "base_uri": "https://localhost:8080/",
          "height": 206
        },
        "outputId": "c18123de-7697-4b0a-935c-b4e59364382c"
      },
      "source": [
        "frame = pd.DataFrame(\n",
        "    np.arange(12).reshape((4, 3)),\n",
        "    index=[['a', 'a', 'b', 'b'], [1, 2, 1, 2]], # lista de listas: 2 listas de igual tamaño\n",
        "    columns=[['Santiago', 'Santiago', 'Concepción'], ['Verde', 'Rojo', 'Verde']] # lista de listas: 2 listas de igual tamaño\n",
        ")\n",
        "\n",
        "frame"
      ],
      "execution_count": null,
      "outputs": [
        {
          "output_type": "execute_result",
          "data": {
            "text/html": [
              "<div>\n",
              "<style scoped>\n",
              "    .dataframe tbody tr th:only-of-type {\n",
              "        vertical-align: middle;\n",
              "    }\n",
              "\n",
              "    .dataframe tbody tr th {\n",
              "        vertical-align: top;\n",
              "    }\n",
              "\n",
              "    .dataframe thead tr th {\n",
              "        text-align: left;\n",
              "    }\n",
              "</style>\n",
              "<table border=\"1\" class=\"dataframe\">\n",
              "  <thead>\n",
              "    <tr>\n",
              "      <th></th>\n",
              "      <th></th>\n",
              "      <th colspan=\"2\" halign=\"left\">Santiago</th>\n",
              "      <th>Concepción</th>\n",
              "    </tr>\n",
              "    <tr>\n",
              "      <th></th>\n",
              "      <th></th>\n",
              "      <th>Verde</th>\n",
              "      <th>Rojo</th>\n",
              "      <th>Verde</th>\n",
              "    </tr>\n",
              "  </thead>\n",
              "  <tbody>\n",
              "    <tr>\n",
              "      <th rowspan=\"2\" valign=\"top\">a</th>\n",
              "      <th>1</th>\n",
              "      <td>0</td>\n",
              "      <td>1</td>\n",
              "      <td>2</td>\n",
              "    </tr>\n",
              "    <tr>\n",
              "      <th>2</th>\n",
              "      <td>3</td>\n",
              "      <td>4</td>\n",
              "      <td>5</td>\n",
              "    </tr>\n",
              "    <tr>\n",
              "      <th rowspan=\"2\" valign=\"top\">b</th>\n",
              "      <th>1</th>\n",
              "      <td>6</td>\n",
              "      <td>7</td>\n",
              "      <td>8</td>\n",
              "    </tr>\n",
              "    <tr>\n",
              "      <th>2</th>\n",
              "      <td>9</td>\n",
              "      <td>10</td>\n",
              "      <td>11</td>\n",
              "    </tr>\n",
              "  </tbody>\n",
              "</table>\n",
              "</div>"
            ],
            "text/plain": [
              "    Santiago      Concepción\n",
              "       Verde Rojo      Verde\n",
              "a 1        0    1          2\n",
              "  2        3    4          5\n",
              "b 1        6    7          8\n",
              "  2        9   10         11"
            ]
          },
          "metadata": {},
          "execution_count": 18
        }
      ]
    },
    {
      "cell_type": "code",
      "metadata": {
        "id": "xhnnhH4Saf6r",
        "colab": {
          "base_uri": "https://localhost:8080/",
          "height": 498
        },
        "outputId": "0b4ef302-54c3-4e43-f829-4a14051250e4"
      },
      "source": [
        "# podemos darle nombres a los niveles (después nos es útil para operar sobre ellos)\n",
        "\n",
        "frame.index.names = ['clave1', 'clave2']\n",
        "frame.columns.names = ['ciudad', 'color']\n",
        "\n",
        "print(frame.columns)\n",
        "print('\\n--------------------------------------------\\n')\n",
        "print(frame.index)\n",
        "print('\\n--------------------------------------------\\n')\n",
        "frame"
      ],
      "execution_count": null,
      "outputs": [
        {
          "output_type": "stream",
          "name": "stdout",
          "text": [
            "MultiIndex([(  'Santiago', 'Verde'),\n",
            "            (  'Santiago',  'Rojo'),\n",
            "            ('Concepción', 'Verde')],\n",
            "           names=['ciudad', 'color'])\n",
            "\n",
            "--------------------------------------------\n",
            "\n",
            "MultiIndex([('a', 1),\n",
            "            ('a', 2),\n",
            "            ('b', 1),\n",
            "            ('b', 2)],\n",
            "           names=['clave1', 'clave2'])\n",
            "\n",
            "--------------------------------------------\n",
            "\n"
          ]
        },
        {
          "output_type": "execute_result",
          "data": {
            "text/html": [
              "<div>\n",
              "<style scoped>\n",
              "    .dataframe tbody tr th:only-of-type {\n",
              "        vertical-align: middle;\n",
              "    }\n",
              "\n",
              "    .dataframe tbody tr th {\n",
              "        vertical-align: top;\n",
              "    }\n",
              "\n",
              "    .dataframe thead tr th {\n",
              "        text-align: left;\n",
              "    }\n",
              "\n",
              "    .dataframe thead tr:last-of-type th {\n",
              "        text-align: right;\n",
              "    }\n",
              "</style>\n",
              "<table border=\"1\" class=\"dataframe\">\n",
              "  <thead>\n",
              "    <tr>\n",
              "      <th></th>\n",
              "      <th>ciudad</th>\n",
              "      <th colspan=\"2\" halign=\"left\">Santiago</th>\n",
              "      <th>Concepción</th>\n",
              "    </tr>\n",
              "    <tr>\n",
              "      <th></th>\n",
              "      <th>color</th>\n",
              "      <th>Verde</th>\n",
              "      <th>Rojo</th>\n",
              "      <th>Verde</th>\n",
              "    </tr>\n",
              "    <tr>\n",
              "      <th>clave1</th>\n",
              "      <th>clave2</th>\n",
              "      <th></th>\n",
              "      <th></th>\n",
              "      <th></th>\n",
              "    </tr>\n",
              "  </thead>\n",
              "  <tbody>\n",
              "    <tr>\n",
              "      <th rowspan=\"2\" valign=\"top\">a</th>\n",
              "      <th>1</th>\n",
              "      <td>0</td>\n",
              "      <td>1</td>\n",
              "      <td>2</td>\n",
              "    </tr>\n",
              "    <tr>\n",
              "      <th>2</th>\n",
              "      <td>3</td>\n",
              "      <td>4</td>\n",
              "      <td>5</td>\n",
              "    </tr>\n",
              "    <tr>\n",
              "      <th rowspan=\"2\" valign=\"top\">b</th>\n",
              "      <th>1</th>\n",
              "      <td>6</td>\n",
              "      <td>7</td>\n",
              "      <td>8</td>\n",
              "    </tr>\n",
              "    <tr>\n",
              "      <th>2</th>\n",
              "      <td>9</td>\n",
              "      <td>10</td>\n",
              "      <td>11</td>\n",
              "    </tr>\n",
              "  </tbody>\n",
              "</table>\n",
              "</div>"
            ],
            "text/plain": [
              "ciudad        Santiago      Concepción\n",
              "color            Verde Rojo      Verde\n",
              "clave1 clave2                         \n",
              "a      1             0    1          2\n",
              "       2             3    4          5\n",
              "b      1             6    7          8\n",
              "       2             9   10         11"
            ]
          },
          "metadata": {},
          "execution_count": 19
        }
      ]
    },
    {
      "cell_type": "markdown",
      "metadata": {
        "id": "cSzj6_llb5iT"
      },
      "source": [
        "- Indexando parcialmente las columnas, también podemos seleccionar un grupo de columnas."
      ]
    },
    {
      "cell_type": "code",
      "metadata": {
        "id": "jRJG-Z8Bb-LP",
        "colab": {
          "base_uri": "https://localhost:8080/",
          "height": 206
        },
        "outputId": "31f1a36c-ae82-45c4-8139-7cb68e954322"
      },
      "source": [
        "frame['Santiago'] # igual que antes, si no hay nada más es columna"
      ],
      "execution_count": null,
      "outputs": [
        {
          "output_type": "execute_result",
          "data": {
            "text/html": [
              "<div>\n",
              "<style scoped>\n",
              "    .dataframe tbody tr th:only-of-type {\n",
              "        vertical-align: middle;\n",
              "    }\n",
              "\n",
              "    .dataframe tbody tr th {\n",
              "        vertical-align: top;\n",
              "    }\n",
              "\n",
              "    .dataframe thead th {\n",
              "        text-align: right;\n",
              "    }\n",
              "</style>\n",
              "<table border=\"1\" class=\"dataframe\">\n",
              "  <thead>\n",
              "    <tr style=\"text-align: right;\">\n",
              "      <th></th>\n",
              "      <th>color</th>\n",
              "      <th>Verde</th>\n",
              "      <th>Rojo</th>\n",
              "    </tr>\n",
              "    <tr>\n",
              "      <th>clave1</th>\n",
              "      <th>clave2</th>\n",
              "      <th></th>\n",
              "      <th></th>\n",
              "    </tr>\n",
              "  </thead>\n",
              "  <tbody>\n",
              "    <tr>\n",
              "      <th rowspan=\"2\" valign=\"top\">a</th>\n",
              "      <th>1</th>\n",
              "      <td>0</td>\n",
              "      <td>1</td>\n",
              "    </tr>\n",
              "    <tr>\n",
              "      <th>2</th>\n",
              "      <td>3</td>\n",
              "      <td>4</td>\n",
              "    </tr>\n",
              "    <tr>\n",
              "      <th rowspan=\"2\" valign=\"top\">b</th>\n",
              "      <th>1</th>\n",
              "      <td>6</td>\n",
              "      <td>7</td>\n",
              "    </tr>\n",
              "    <tr>\n",
              "      <th>2</th>\n",
              "      <td>9</td>\n",
              "      <td>10</td>\n",
              "    </tr>\n",
              "  </tbody>\n",
              "</table>\n",
              "</div>"
            ],
            "text/plain": [
              "color          Verde  Rojo\n",
              "clave1 clave2             \n",
              "a      1           0     1\n",
              "       2           3     4\n",
              "b      1           6     7\n",
              "       2           9    10"
            ]
          },
          "metadata": {},
          "execution_count": 20
        }
      ]
    },
    {
      "cell_type": "code",
      "metadata": {
        "id": "V4XtffcVmUit",
        "colab": {
          "base_uri": "https://localhost:8080/",
          "height": 571
        },
        "outputId": "131ee4cc-a696-456f-c040-f08cb3b1b570"
      },
      "source": [
        "# frame['Rojo'] # ups! se cae porque estamos tratando de acceder a un nivel interno"
      ],
      "execution_count": null,
      "outputs": [
        {
          "output_type": "error",
          "ename": "KeyError",
          "evalue": "ignored",
          "traceback": [
            "\u001b[0;31m---------------------------------------------------------------------------\u001b[0m",
            "\u001b[0;31mKeyError\u001b[0m                                  Traceback (most recent call last)",
            "\u001b[0;32m/usr/local/lib/python3.7/dist-packages/pandas/core/indexes/base.py\u001b[0m in \u001b[0;36mget_loc\u001b[0;34m(self, key, method, tolerance)\u001b[0m\n\u001b[1;32m   2897\u001b[0m             \u001b[0;32mtry\u001b[0m\u001b[0;34m:\u001b[0m\u001b[0;34m\u001b[0m\u001b[0;34m\u001b[0m\u001b[0m\n\u001b[0;32m-> 2898\u001b[0;31m                 \u001b[0;32mreturn\u001b[0m \u001b[0mself\u001b[0m\u001b[0;34m.\u001b[0m\u001b[0m_engine\u001b[0m\u001b[0;34m.\u001b[0m\u001b[0mget_loc\u001b[0m\u001b[0;34m(\u001b[0m\u001b[0mcasted_key\u001b[0m\u001b[0;34m)\u001b[0m\u001b[0;34m\u001b[0m\u001b[0;34m\u001b[0m\u001b[0m\n\u001b[0m\u001b[1;32m   2899\u001b[0m             \u001b[0;32mexcept\u001b[0m \u001b[0mKeyError\u001b[0m \u001b[0;32mas\u001b[0m \u001b[0merr\u001b[0m\u001b[0;34m:\u001b[0m\u001b[0;34m\u001b[0m\u001b[0;34m\u001b[0m\u001b[0m\n",
            "\u001b[0;32mpandas/_libs/index.pyx\u001b[0m in \u001b[0;36mpandas._libs.index.IndexEngine.get_loc\u001b[0;34m()\u001b[0m\n",
            "\u001b[0;32mpandas/_libs/index.pyx\u001b[0m in \u001b[0;36mpandas._libs.index.IndexEngine.get_loc\u001b[0;34m()\u001b[0m\n",
            "\u001b[0;32mpandas/_libs/hashtable_class_helper.pxi\u001b[0m in \u001b[0;36mpandas._libs.hashtable.PyObjectHashTable.get_item\u001b[0;34m()\u001b[0m\n",
            "\u001b[0;32mpandas/_libs/hashtable_class_helper.pxi\u001b[0m in \u001b[0;36mpandas._libs.hashtable.PyObjectHashTable.get_item\u001b[0;34m()\u001b[0m\n",
            "\u001b[0;31mKeyError\u001b[0m: 'Rojo'",
            "\nThe above exception was the direct cause of the following exception:\n",
            "\u001b[0;31mKeyError\u001b[0m                                  Traceback (most recent call last)",
            "\u001b[0;32m<ipython-input-21-7315687f2769>\u001b[0m in \u001b[0;36m<module>\u001b[0;34m()\u001b[0m\n\u001b[0;32m----> 1\u001b[0;31m \u001b[0mframe\u001b[0m\u001b[0;34m[\u001b[0m\u001b[0;34m'Rojo'\u001b[0m\u001b[0;34m]\u001b[0m \u001b[0;31m# ups! se cae porque estamos tratando de acceder a un nivel interno\u001b[0m\u001b[0;34m\u001b[0m\u001b[0;34m\u001b[0m\u001b[0m\n\u001b[0m",
            "\u001b[0;32m/usr/local/lib/python3.7/dist-packages/pandas/core/frame.py\u001b[0m in \u001b[0;36m__getitem__\u001b[0;34m(self, key)\u001b[0m\n\u001b[1;32m   2903\u001b[0m         \u001b[0;32mif\u001b[0m \u001b[0mis_single_key\u001b[0m\u001b[0;34m:\u001b[0m\u001b[0;34m\u001b[0m\u001b[0;34m\u001b[0m\u001b[0m\n\u001b[1;32m   2904\u001b[0m             \u001b[0;32mif\u001b[0m \u001b[0mself\u001b[0m\u001b[0;34m.\u001b[0m\u001b[0mcolumns\u001b[0m\u001b[0;34m.\u001b[0m\u001b[0mnlevels\u001b[0m \u001b[0;34m>\u001b[0m \u001b[0;36m1\u001b[0m\u001b[0;34m:\u001b[0m\u001b[0;34m\u001b[0m\u001b[0;34m\u001b[0m\u001b[0m\n\u001b[0;32m-> 2905\u001b[0;31m                 \u001b[0;32mreturn\u001b[0m \u001b[0mself\u001b[0m\u001b[0;34m.\u001b[0m\u001b[0m_getitem_multilevel\u001b[0m\u001b[0;34m(\u001b[0m\u001b[0mkey\u001b[0m\u001b[0;34m)\u001b[0m\u001b[0;34m\u001b[0m\u001b[0;34m\u001b[0m\u001b[0m\n\u001b[0m\u001b[1;32m   2906\u001b[0m             \u001b[0mindexer\u001b[0m \u001b[0;34m=\u001b[0m \u001b[0mself\u001b[0m\u001b[0;34m.\u001b[0m\u001b[0mcolumns\u001b[0m\u001b[0;34m.\u001b[0m\u001b[0mget_loc\u001b[0m\u001b[0;34m(\u001b[0m\u001b[0mkey\u001b[0m\u001b[0;34m)\u001b[0m\u001b[0;34m\u001b[0m\u001b[0;34m\u001b[0m\u001b[0m\n\u001b[1;32m   2907\u001b[0m             \u001b[0;32mif\u001b[0m \u001b[0mis_integer\u001b[0m\u001b[0;34m(\u001b[0m\u001b[0mindexer\u001b[0m\u001b[0;34m)\u001b[0m\u001b[0;34m:\u001b[0m\u001b[0;34m\u001b[0m\u001b[0;34m\u001b[0m\u001b[0m\n",
            "\u001b[0;32m/usr/local/lib/python3.7/dist-packages/pandas/core/frame.py\u001b[0m in \u001b[0;36m_getitem_multilevel\u001b[0;34m(self, key)\u001b[0m\n\u001b[1;32m   2953\u001b[0m     \u001b[0;32mdef\u001b[0m \u001b[0m_getitem_multilevel\u001b[0m\u001b[0;34m(\u001b[0m\u001b[0mself\u001b[0m\u001b[0;34m,\u001b[0m \u001b[0mkey\u001b[0m\u001b[0;34m)\u001b[0m\u001b[0;34m:\u001b[0m\u001b[0;34m\u001b[0m\u001b[0;34m\u001b[0m\u001b[0m\n\u001b[1;32m   2954\u001b[0m         \u001b[0;31m# self.columns is a MultiIndex\u001b[0m\u001b[0;34m\u001b[0m\u001b[0;34m\u001b[0m\u001b[0;34m\u001b[0m\u001b[0m\n\u001b[0;32m-> 2955\u001b[0;31m         \u001b[0mloc\u001b[0m \u001b[0;34m=\u001b[0m \u001b[0mself\u001b[0m\u001b[0;34m.\u001b[0m\u001b[0mcolumns\u001b[0m\u001b[0;34m.\u001b[0m\u001b[0mget_loc\u001b[0m\u001b[0;34m(\u001b[0m\u001b[0mkey\u001b[0m\u001b[0;34m)\u001b[0m\u001b[0;34m\u001b[0m\u001b[0;34m\u001b[0m\u001b[0m\n\u001b[0m\u001b[1;32m   2956\u001b[0m         \u001b[0;32mif\u001b[0m \u001b[0misinstance\u001b[0m\u001b[0;34m(\u001b[0m\u001b[0mloc\u001b[0m\u001b[0;34m,\u001b[0m \u001b[0;34m(\u001b[0m\u001b[0mslice\u001b[0m\u001b[0;34m,\u001b[0m \u001b[0mnp\u001b[0m\u001b[0;34m.\u001b[0m\u001b[0mndarray\u001b[0m\u001b[0;34m)\u001b[0m\u001b[0;34m)\u001b[0m\u001b[0;34m:\u001b[0m\u001b[0;34m\u001b[0m\u001b[0;34m\u001b[0m\u001b[0m\n\u001b[1;32m   2957\u001b[0m             \u001b[0mnew_columns\u001b[0m \u001b[0;34m=\u001b[0m \u001b[0mself\u001b[0m\u001b[0;34m.\u001b[0m\u001b[0mcolumns\u001b[0m\u001b[0;34m[\u001b[0m\u001b[0mloc\u001b[0m\u001b[0;34m]\u001b[0m\u001b[0;34m\u001b[0m\u001b[0;34m\u001b[0m\u001b[0m\n",
            "\u001b[0;32m/usr/local/lib/python3.7/dist-packages/pandas/core/indexes/multi.py\u001b[0m in \u001b[0;36mget_loc\u001b[0;34m(self, key, method)\u001b[0m\n\u001b[1;32m   2702\u001b[0m \u001b[0;34m\u001b[0m\u001b[0m\n\u001b[1;32m   2703\u001b[0m         \u001b[0;32mif\u001b[0m \u001b[0;32mnot\u001b[0m \u001b[0misinstance\u001b[0m\u001b[0;34m(\u001b[0m\u001b[0mkey\u001b[0m\u001b[0;34m,\u001b[0m \u001b[0mtuple\u001b[0m\u001b[0;34m)\u001b[0m\u001b[0;34m:\u001b[0m\u001b[0;34m\u001b[0m\u001b[0;34m\u001b[0m\u001b[0m\n\u001b[0;32m-> 2704\u001b[0;31m             \u001b[0mloc\u001b[0m \u001b[0;34m=\u001b[0m \u001b[0mself\u001b[0m\u001b[0;34m.\u001b[0m\u001b[0m_get_level_indexer\u001b[0m\u001b[0;34m(\u001b[0m\u001b[0mkey\u001b[0m\u001b[0;34m,\u001b[0m \u001b[0mlevel\u001b[0m\u001b[0;34m=\u001b[0m\u001b[0;36m0\u001b[0m\u001b[0;34m)\u001b[0m\u001b[0;34m\u001b[0m\u001b[0;34m\u001b[0m\u001b[0m\n\u001b[0m\u001b[1;32m   2705\u001b[0m             \u001b[0;32mreturn\u001b[0m \u001b[0m_maybe_to_slice\u001b[0m\u001b[0;34m(\u001b[0m\u001b[0mloc\u001b[0m\u001b[0;34m)\u001b[0m\u001b[0;34m\u001b[0m\u001b[0;34m\u001b[0m\u001b[0m\n\u001b[1;32m   2706\u001b[0m \u001b[0;34m\u001b[0m\u001b[0m\n",
            "\u001b[0;32m/usr/local/lib/python3.7/dist-packages/pandas/core/indexes/multi.py\u001b[0m in \u001b[0;36m_get_level_indexer\u001b[0;34m(self, key, level, indexer)\u001b[0m\n\u001b[1;32m   2967\u001b[0m         \u001b[0;32melse\u001b[0m\u001b[0;34m:\u001b[0m\u001b[0;34m\u001b[0m\u001b[0;34m\u001b[0m\u001b[0m\n\u001b[1;32m   2968\u001b[0m \u001b[0;34m\u001b[0m\u001b[0m\n\u001b[0;32m-> 2969\u001b[0;31m             \u001b[0mcode\u001b[0m \u001b[0;34m=\u001b[0m \u001b[0mself\u001b[0m\u001b[0;34m.\u001b[0m\u001b[0m_get_loc_single_level_index\u001b[0m\u001b[0;34m(\u001b[0m\u001b[0mlevel_index\u001b[0m\u001b[0;34m,\u001b[0m \u001b[0mkey\u001b[0m\u001b[0;34m)\u001b[0m\u001b[0;34m\u001b[0m\u001b[0;34m\u001b[0m\u001b[0m\n\u001b[0m\u001b[1;32m   2970\u001b[0m \u001b[0;34m\u001b[0m\u001b[0m\n\u001b[1;32m   2971\u001b[0m             \u001b[0;32mif\u001b[0m \u001b[0mlevel\u001b[0m \u001b[0;34m>\u001b[0m \u001b[0;36m0\u001b[0m \u001b[0;32mor\u001b[0m \u001b[0mself\u001b[0m\u001b[0;34m.\u001b[0m\u001b[0mlexsort_depth\u001b[0m \u001b[0;34m==\u001b[0m \u001b[0;36m0\u001b[0m\u001b[0;34m:\u001b[0m\u001b[0;34m\u001b[0m\u001b[0;34m\u001b[0m\u001b[0m\n",
            "\u001b[0;32m/usr/local/lib/python3.7/dist-packages/pandas/core/indexes/multi.py\u001b[0m in \u001b[0;36m_get_loc_single_level_index\u001b[0;34m(self, level_index, key)\u001b[0m\n\u001b[1;32m   2635\u001b[0m             \u001b[0;32mreturn\u001b[0m \u001b[0;34m-\u001b[0m\u001b[0;36m1\u001b[0m\u001b[0;34m\u001b[0m\u001b[0;34m\u001b[0m\u001b[0m\n\u001b[1;32m   2636\u001b[0m         \u001b[0;32melse\u001b[0m\u001b[0;34m:\u001b[0m\u001b[0;34m\u001b[0m\u001b[0;34m\u001b[0m\u001b[0m\n\u001b[0;32m-> 2637\u001b[0;31m             \u001b[0;32mreturn\u001b[0m \u001b[0mlevel_index\u001b[0m\u001b[0;34m.\u001b[0m\u001b[0mget_loc\u001b[0m\u001b[0;34m(\u001b[0m\u001b[0mkey\u001b[0m\u001b[0;34m)\u001b[0m\u001b[0;34m\u001b[0m\u001b[0;34m\u001b[0m\u001b[0m\n\u001b[0m\u001b[1;32m   2638\u001b[0m \u001b[0;34m\u001b[0m\u001b[0m\n\u001b[1;32m   2639\u001b[0m     \u001b[0;32mdef\u001b[0m \u001b[0mget_loc\u001b[0m\u001b[0;34m(\u001b[0m\u001b[0mself\u001b[0m\u001b[0;34m,\u001b[0m \u001b[0mkey\u001b[0m\u001b[0;34m,\u001b[0m \u001b[0mmethod\u001b[0m\u001b[0;34m=\u001b[0m\u001b[0;32mNone\u001b[0m\u001b[0;34m)\u001b[0m\u001b[0;34m:\u001b[0m\u001b[0;34m\u001b[0m\u001b[0;34m\u001b[0m\u001b[0m\n",
            "\u001b[0;32m/usr/local/lib/python3.7/dist-packages/pandas/core/indexes/base.py\u001b[0m in \u001b[0;36mget_loc\u001b[0;34m(self, key, method, tolerance)\u001b[0m\n\u001b[1;32m   2898\u001b[0m                 \u001b[0;32mreturn\u001b[0m \u001b[0mself\u001b[0m\u001b[0;34m.\u001b[0m\u001b[0m_engine\u001b[0m\u001b[0;34m.\u001b[0m\u001b[0mget_loc\u001b[0m\u001b[0;34m(\u001b[0m\u001b[0mcasted_key\u001b[0m\u001b[0;34m)\u001b[0m\u001b[0;34m\u001b[0m\u001b[0;34m\u001b[0m\u001b[0m\n\u001b[1;32m   2899\u001b[0m             \u001b[0;32mexcept\u001b[0m \u001b[0mKeyError\u001b[0m \u001b[0;32mas\u001b[0m \u001b[0merr\u001b[0m\u001b[0;34m:\u001b[0m\u001b[0;34m\u001b[0m\u001b[0;34m\u001b[0m\u001b[0m\n\u001b[0;32m-> 2900\u001b[0;31m                 \u001b[0;32mraise\u001b[0m \u001b[0mKeyError\u001b[0m\u001b[0;34m(\u001b[0m\u001b[0mkey\u001b[0m\u001b[0;34m)\u001b[0m \u001b[0;32mfrom\u001b[0m \u001b[0merr\u001b[0m\u001b[0;34m\u001b[0m\u001b[0;34m\u001b[0m\u001b[0m\n\u001b[0m\u001b[1;32m   2901\u001b[0m \u001b[0;34m\u001b[0m\u001b[0m\n\u001b[1;32m   2902\u001b[0m         \u001b[0;32mif\u001b[0m \u001b[0mtolerance\u001b[0m \u001b[0;32mis\u001b[0m \u001b[0;32mnot\u001b[0m \u001b[0;32mNone\u001b[0m\u001b[0;34m:\u001b[0m\u001b[0;34m\u001b[0m\u001b[0;34m\u001b[0m\u001b[0m\n",
            "\u001b[0;31mKeyError\u001b[0m: 'Rojo'"
          ]
        }
      ]
    },
    {
      "cell_type": "code",
      "metadata": {
        "id": "GXoG4nWTcGOE",
        "colab": {
          "base_uri": "https://localhost:8080/"
        },
        "outputId": "92340ed3-6b10-4809-b617-6e1541131452"
      },
      "source": [
        "# https://pandas.pydata.org/docs/user_guide/advanced.html#advanced-mi-slicers\n",
        "\n",
        "frame.loc[('b', 2), ['Concepción']]"
      ],
      "execution_count": null,
      "outputs": [
        {
          "output_type": "execute_result",
          "data": {
            "text/plain": [
              "ciudad      color\n",
              "Concepción  Verde    11\n",
              "Name: (b, 2), dtype: int64"
            ]
          },
          "metadata": {},
          "execution_count": 22
        }
      ]
    },
    {
      "cell_type": "code",
      "metadata": {
        "id": "E6yO_B10gALR",
        "colab": {
          "base_uri": "https://localhost:8080/",
          "height": 143
        },
        "outputId": "bd3c9b34-63e4-4939-ba6f-b650aee86657"
      },
      "source": [
        "# la notación más intuitiva frame.loc[(:, 2), 'Concepción'] no funciona. Es un tema abierto\n",
        "\n",
        "frame.loc[(slice(None), 2), 'Concepción']"
      ],
      "execution_count": null,
      "outputs": [
        {
          "output_type": "execute_result",
          "data": {
            "text/html": [
              "<div>\n",
              "<style scoped>\n",
              "    .dataframe tbody tr th:only-of-type {\n",
              "        vertical-align: middle;\n",
              "    }\n",
              "\n",
              "    .dataframe tbody tr th {\n",
              "        vertical-align: top;\n",
              "    }\n",
              "\n",
              "    .dataframe thead th {\n",
              "        text-align: right;\n",
              "    }\n",
              "</style>\n",
              "<table border=\"1\" class=\"dataframe\">\n",
              "  <thead>\n",
              "    <tr style=\"text-align: right;\">\n",
              "      <th></th>\n",
              "      <th>color</th>\n",
              "      <th>Verde</th>\n",
              "    </tr>\n",
              "    <tr>\n",
              "      <th>clave1</th>\n",
              "      <th>clave2</th>\n",
              "      <th></th>\n",
              "    </tr>\n",
              "  </thead>\n",
              "  <tbody>\n",
              "    <tr>\n",
              "      <th>a</th>\n",
              "      <th>2</th>\n",
              "      <td>5</td>\n",
              "    </tr>\n",
              "    <tr>\n",
              "      <th>b</th>\n",
              "      <th>2</th>\n",
              "      <td>11</td>\n",
              "    </tr>\n",
              "  </tbody>\n",
              "</table>\n",
              "</div>"
            ],
            "text/plain": [
              "color          Verde\n",
              "clave1 clave2       \n",
              "a      2           5\n",
              "b      2          11"
            ]
          },
          "metadata": {},
          "execution_count": 25
        }
      ]
    },
    {
      "cell_type": "code",
      "metadata": {
        "id": "GDuUeUMPgKbQ",
        "colab": {
          "base_uri": "https://localhost:8080/",
          "height": 143
        },
        "outputId": "b18a7de9-8ebf-4337-d8ed-640e5332a109"
      },
      "source": [
        "frame.loc[(slice('a','b'), 2), 'Concepción'] # en este caso, equivalente a frame.loc[(slice(None), 2), 'Concepción']"
      ],
      "execution_count": null,
      "outputs": [
        {
          "output_type": "execute_result",
          "data": {
            "text/html": [
              "<div>\n",
              "<style scoped>\n",
              "    .dataframe tbody tr th:only-of-type {\n",
              "        vertical-align: middle;\n",
              "    }\n",
              "\n",
              "    .dataframe tbody tr th {\n",
              "        vertical-align: top;\n",
              "    }\n",
              "\n",
              "    .dataframe thead th {\n",
              "        text-align: right;\n",
              "    }\n",
              "</style>\n",
              "<table border=\"1\" class=\"dataframe\">\n",
              "  <thead>\n",
              "    <tr style=\"text-align: right;\">\n",
              "      <th></th>\n",
              "      <th>color</th>\n",
              "      <th>Verde</th>\n",
              "    </tr>\n",
              "    <tr>\n",
              "      <th>clave1</th>\n",
              "      <th>clave2</th>\n",
              "      <th></th>\n",
              "    </tr>\n",
              "  </thead>\n",
              "  <tbody>\n",
              "    <tr>\n",
              "      <th>a</th>\n",
              "      <th>2</th>\n",
              "      <td>5</td>\n",
              "    </tr>\n",
              "    <tr>\n",
              "      <th>b</th>\n",
              "      <th>2</th>\n",
              "      <td>11</td>\n",
              "    </tr>\n",
              "  </tbody>\n",
              "</table>\n",
              "</div>"
            ],
            "text/plain": [
              "color          Verde\n",
              "clave1 clave2       \n",
              "a      2           5\n",
              "b      2          11"
            ]
          },
          "metadata": {},
          "execution_count": 27
        }
      ]
    },
    {
      "cell_type": "code",
      "metadata": {
        "id": "EjdkJiRjo6zi"
      },
      "source": [
        "# https://stackoverflow.com/q/26486501/1510734\n",
        "\n",
        "# frame.query('clave2==2 & ciudad==\"Concepción\"') # ups! no puedo filtrar fila y columna al mismo tiempo"
      ],
      "execution_count": null,
      "outputs": []
    },
    {
      "cell_type": "markdown",
      "metadata": {
        "id": "7yO7ReszgcyO"
      },
      "source": [
        "### Reordenando y clasificando niveles"
      ]
    },
    {
      "cell_type": "markdown",
      "metadata": {
        "id": "MDfEoYK4ggXR"
      },
      "source": [
        "- A veces es necesario reorganizar el orden de los niveles en un eje.\n",
        "- También puede ser necesario ordenar los datos por un nivel específico.\n",
        "- El método `swaplevel` toma el número o nombre de dos niveles, y retorna un nuevo objeto con los niveles intercambiados."
      ]
    },
    {
      "cell_type": "code",
      "source": [
        "frame"
      ],
      "metadata": {
        "colab": {
          "base_uri": "https://localhost:8080/",
          "height": 238
        },
        "id": "qtnrbH_3G0nV",
        "outputId": "e4623d67-2c81-4cba-b266-6e8f820e2893"
      },
      "execution_count": null,
      "outputs": [
        {
          "output_type": "execute_result",
          "data": {
            "text/html": [
              "<div>\n",
              "<style scoped>\n",
              "    .dataframe tbody tr th:only-of-type {\n",
              "        vertical-align: middle;\n",
              "    }\n",
              "\n",
              "    .dataframe tbody tr th {\n",
              "        vertical-align: top;\n",
              "    }\n",
              "\n",
              "    .dataframe thead tr th {\n",
              "        text-align: left;\n",
              "    }\n",
              "\n",
              "    .dataframe thead tr:last-of-type th {\n",
              "        text-align: right;\n",
              "    }\n",
              "</style>\n",
              "<table border=\"1\" class=\"dataframe\">\n",
              "  <thead>\n",
              "    <tr>\n",
              "      <th></th>\n",
              "      <th>ciudad</th>\n",
              "      <th colspan=\"2\" halign=\"left\">Santiago</th>\n",
              "      <th>Concepción</th>\n",
              "    </tr>\n",
              "    <tr>\n",
              "      <th></th>\n",
              "      <th>color</th>\n",
              "      <th>Verde</th>\n",
              "      <th>Rojo</th>\n",
              "      <th>Verde</th>\n",
              "    </tr>\n",
              "    <tr>\n",
              "      <th>clave1</th>\n",
              "      <th>clave2</th>\n",
              "      <th></th>\n",
              "      <th></th>\n",
              "      <th></th>\n",
              "    </tr>\n",
              "  </thead>\n",
              "  <tbody>\n",
              "    <tr>\n",
              "      <th rowspan=\"2\" valign=\"top\">a</th>\n",
              "      <th>1</th>\n",
              "      <td>0</td>\n",
              "      <td>1</td>\n",
              "      <td>2</td>\n",
              "    </tr>\n",
              "    <tr>\n",
              "      <th>2</th>\n",
              "      <td>3</td>\n",
              "      <td>4</td>\n",
              "      <td>5</td>\n",
              "    </tr>\n",
              "    <tr>\n",
              "      <th rowspan=\"2\" valign=\"top\">b</th>\n",
              "      <th>1</th>\n",
              "      <td>6</td>\n",
              "      <td>7</td>\n",
              "      <td>8</td>\n",
              "    </tr>\n",
              "    <tr>\n",
              "      <th>2</th>\n",
              "      <td>9</td>\n",
              "      <td>10</td>\n",
              "      <td>11</td>\n",
              "    </tr>\n",
              "  </tbody>\n",
              "</table>\n",
              "</div>"
            ],
            "text/plain": [
              "ciudad        Santiago      Concepción\n",
              "color            Verde Rojo      Verde\n",
              "clave1 clave2                         \n",
              "a      1             0    1          2\n",
              "       2             3    4          5\n",
              "b      1             6    7          8\n",
              "       2             9   10         11"
            ]
          },
          "metadata": {},
          "execution_count": 31
        }
      ]
    },
    {
      "cell_type": "code",
      "metadata": {
        "id": "zeNwvCtrgnye",
        "colab": {
          "base_uri": "https://localhost:8080/",
          "height": 238
        },
        "outputId": "afe95c6a-0af8-4074-eae5-9342fef728db"
      },
      "source": [
        "intercambiados = frame.swaplevel('clave1', 'clave2') # intercambiamos índices de filas\n",
        "intercambiados"
      ],
      "execution_count": null,
      "outputs": [
        {
          "output_type": "execute_result",
          "data": {
            "text/html": [
              "<div>\n",
              "<style scoped>\n",
              "    .dataframe tbody tr th:only-of-type {\n",
              "        vertical-align: middle;\n",
              "    }\n",
              "\n",
              "    .dataframe tbody tr th {\n",
              "        vertical-align: top;\n",
              "    }\n",
              "\n",
              "    .dataframe thead tr th {\n",
              "        text-align: left;\n",
              "    }\n",
              "\n",
              "    .dataframe thead tr:last-of-type th {\n",
              "        text-align: right;\n",
              "    }\n",
              "</style>\n",
              "<table border=\"1\" class=\"dataframe\">\n",
              "  <thead>\n",
              "    <tr>\n",
              "      <th></th>\n",
              "      <th>ciudad</th>\n",
              "      <th colspan=\"2\" halign=\"left\">Santiago</th>\n",
              "      <th>Concepción</th>\n",
              "    </tr>\n",
              "    <tr>\n",
              "      <th></th>\n",
              "      <th>color</th>\n",
              "      <th>Verde</th>\n",
              "      <th>Rojo</th>\n",
              "      <th>Verde</th>\n",
              "    </tr>\n",
              "    <tr>\n",
              "      <th>clave2</th>\n",
              "      <th>clave1</th>\n",
              "      <th></th>\n",
              "      <th></th>\n",
              "      <th></th>\n",
              "    </tr>\n",
              "  </thead>\n",
              "  <tbody>\n",
              "    <tr>\n",
              "      <th>1</th>\n",
              "      <th>a</th>\n",
              "      <td>0</td>\n",
              "      <td>1</td>\n",
              "      <td>2</td>\n",
              "    </tr>\n",
              "    <tr>\n",
              "      <th>2</th>\n",
              "      <th>a</th>\n",
              "      <td>3</td>\n",
              "      <td>4</td>\n",
              "      <td>5</td>\n",
              "    </tr>\n",
              "    <tr>\n",
              "      <th>1</th>\n",
              "      <th>b</th>\n",
              "      <td>6</td>\n",
              "      <td>7</td>\n",
              "      <td>8</td>\n",
              "    </tr>\n",
              "    <tr>\n",
              "      <th>2</th>\n",
              "      <th>b</th>\n",
              "      <td>9</td>\n",
              "      <td>10</td>\n",
              "      <td>11</td>\n",
              "    </tr>\n",
              "  </tbody>\n",
              "</table>\n",
              "</div>"
            ],
            "text/plain": [
              "ciudad        Santiago      Concepción\n",
              "color            Verde Rojo      Verde\n",
              "clave2 clave1                         \n",
              "1      a             0    1          2\n",
              "2      a             3    4          5\n",
              "1      b             6    7          8\n",
              "2      b             9   10         11"
            ]
          },
          "metadata": {},
          "execution_count": 30
        }
      ]
    },
    {
      "cell_type": "markdown",
      "metadata": {
        "id": "5_WWB5cvhhoX"
      },
      "source": [
        "- Por otro lado, el método `sort_index` ordena los datos utilizando los valores de un nivel específico.\n",
        "- Es común utilizar `sort_index` luego de `swaplevel`, para que los datos queden ordenados respecto del índice de primer nivel y obtengamos la vista cómoda."
      ]
    },
    {
      "cell_type": "code",
      "metadata": {
        "id": "j2Ix9v_zrn1w",
        "colab": {
          "base_uri": "https://localhost:8080/",
          "height": 238
        },
        "outputId": "1787aa4c-29ac-44c8-b116-d7960ff7bbbe"
      },
      "source": [
        "intercambiados = intercambiados.sort_index(level='clave2') # así obtenemos una vista cómoda\n",
        "intercambiados"
      ],
      "execution_count": null,
      "outputs": [
        {
          "output_type": "execute_result",
          "data": {
            "text/html": [
              "<div>\n",
              "<style scoped>\n",
              "    .dataframe tbody tr th:only-of-type {\n",
              "        vertical-align: middle;\n",
              "    }\n",
              "\n",
              "    .dataframe tbody tr th {\n",
              "        vertical-align: top;\n",
              "    }\n",
              "\n",
              "    .dataframe thead tr th {\n",
              "        text-align: left;\n",
              "    }\n",
              "\n",
              "    .dataframe thead tr:last-of-type th {\n",
              "        text-align: right;\n",
              "    }\n",
              "</style>\n",
              "<table border=\"1\" class=\"dataframe\">\n",
              "  <thead>\n",
              "    <tr>\n",
              "      <th></th>\n",
              "      <th>ciudad</th>\n",
              "      <th colspan=\"2\" halign=\"left\">Santiago</th>\n",
              "      <th>Concepción</th>\n",
              "    </tr>\n",
              "    <tr>\n",
              "      <th></th>\n",
              "      <th>color</th>\n",
              "      <th>Verde</th>\n",
              "      <th>Rojo</th>\n",
              "      <th>Verde</th>\n",
              "    </tr>\n",
              "    <tr>\n",
              "      <th>clave2</th>\n",
              "      <th>clave1</th>\n",
              "      <th></th>\n",
              "      <th></th>\n",
              "      <th></th>\n",
              "    </tr>\n",
              "  </thead>\n",
              "  <tbody>\n",
              "    <tr>\n",
              "      <th rowspan=\"2\" valign=\"top\">1</th>\n",
              "      <th>a</th>\n",
              "      <td>0</td>\n",
              "      <td>1</td>\n",
              "      <td>2</td>\n",
              "    </tr>\n",
              "    <tr>\n",
              "      <th>b</th>\n",
              "      <td>6</td>\n",
              "      <td>7</td>\n",
              "      <td>8</td>\n",
              "    </tr>\n",
              "    <tr>\n",
              "      <th rowspan=\"2\" valign=\"top\">2</th>\n",
              "      <th>a</th>\n",
              "      <td>3</td>\n",
              "      <td>4</td>\n",
              "      <td>5</td>\n",
              "    </tr>\n",
              "    <tr>\n",
              "      <th>b</th>\n",
              "      <td>9</td>\n",
              "      <td>10</td>\n",
              "      <td>11</td>\n",
              "    </tr>\n",
              "  </tbody>\n",
              "</table>\n",
              "</div>"
            ],
            "text/plain": [
              "ciudad        Santiago      Concepción\n",
              "color            Verde Rojo      Verde\n",
              "clave2 clave1                         \n",
              "1      a             0    1          2\n",
              "       b             6    7          8\n",
              "2      a             3    4          5\n",
              "       b             9   10         11"
            ]
          },
          "metadata": {},
          "execution_count": 32
        }
      ]
    },
    {
      "cell_type": "code",
      "source": [
        "intercambiados.loc[(2, 'b'), ['Concepción']]"
      ],
      "metadata": {
        "colab": {
          "base_uri": "https://localhost:8080/"
        },
        "id": "vfHAvR_nHgpb",
        "outputId": "6b91a709-2b47-475c-c342-312384c1b809"
      },
      "execution_count": null,
      "outputs": [
        {
          "output_type": "execute_result",
          "data": {
            "text/plain": [
              "ciudad      color\n",
              "Concepción  Verde    11\n",
              "Name: (2, b), dtype: int64"
            ]
          },
          "metadata": {},
          "execution_count": 34
        }
      ]
    },
    {
      "cell_type": "markdown",
      "metadata": {
        "id": "ia7vy8BssYNY"
      },
      "source": [
        "### Resúmenes estadísticos por nivel"
      ]
    },
    {
      "cell_type": "markdown",
      "metadata": {
        "id": "ymcvxb07saal"
      },
      "source": [
        "- Muchos de los métodos de estadística descriptiva y de resumen en `Series` y `DataFrame` tienen un parámetro opcional `level`.\n",
        "- Al pasar este parámetro, podemos escoger el nivel en el índice de un eje.\n",
        "- Consideremos que en un `DataFrame` podemos seleccionar si el cálculo se realiza en filas o columnas."
      ]
    },
    {
      "cell_type": "code",
      "metadata": {
        "id": "cIgl_nOppfmZ",
        "colab": {
          "base_uri": "https://localhost:8080/",
          "height": 238
        },
        "outputId": "1aa2b55b-bd8b-47fe-a756-1cb3c7160ba6"
      },
      "source": [
        "frame"
      ],
      "execution_count": null,
      "outputs": [
        {
          "output_type": "execute_result",
          "data": {
            "text/html": [
              "<div>\n",
              "<style scoped>\n",
              "    .dataframe tbody tr th:only-of-type {\n",
              "        vertical-align: middle;\n",
              "    }\n",
              "\n",
              "    .dataframe tbody tr th {\n",
              "        vertical-align: top;\n",
              "    }\n",
              "\n",
              "    .dataframe thead tr th {\n",
              "        text-align: left;\n",
              "    }\n",
              "\n",
              "    .dataframe thead tr:last-of-type th {\n",
              "        text-align: right;\n",
              "    }\n",
              "</style>\n",
              "<table border=\"1\" class=\"dataframe\">\n",
              "  <thead>\n",
              "    <tr>\n",
              "      <th></th>\n",
              "      <th>ciudad</th>\n",
              "      <th colspan=\"2\" halign=\"left\">Santiago</th>\n",
              "      <th>Concepción</th>\n",
              "    </tr>\n",
              "    <tr>\n",
              "      <th></th>\n",
              "      <th>color</th>\n",
              "      <th>Verde</th>\n",
              "      <th>Rojo</th>\n",
              "      <th>Verde</th>\n",
              "    </tr>\n",
              "    <tr>\n",
              "      <th>clave1</th>\n",
              "      <th>clave2</th>\n",
              "      <th></th>\n",
              "      <th></th>\n",
              "      <th></th>\n",
              "    </tr>\n",
              "  </thead>\n",
              "  <tbody>\n",
              "    <tr>\n",
              "      <th rowspan=\"2\" valign=\"top\">a</th>\n",
              "      <th>1</th>\n",
              "      <td>0</td>\n",
              "      <td>1</td>\n",
              "      <td>2</td>\n",
              "    </tr>\n",
              "    <tr>\n",
              "      <th>2</th>\n",
              "      <td>3</td>\n",
              "      <td>4</td>\n",
              "      <td>5</td>\n",
              "    </tr>\n",
              "    <tr>\n",
              "      <th rowspan=\"2\" valign=\"top\">b</th>\n",
              "      <th>1</th>\n",
              "      <td>6</td>\n",
              "      <td>7</td>\n",
              "      <td>8</td>\n",
              "    </tr>\n",
              "    <tr>\n",
              "      <th>2</th>\n",
              "      <td>9</td>\n",
              "      <td>10</td>\n",
              "      <td>11</td>\n",
              "    </tr>\n",
              "  </tbody>\n",
              "</table>\n",
              "</div>"
            ],
            "text/plain": [
              "ciudad        Santiago      Concepción\n",
              "color            Verde Rojo      Verde\n",
              "clave1 clave2                         \n",
              "a      1             0    1          2\n",
              "       2             3    4          5\n",
              "b      1             6    7          8\n",
              "       2             9   10         11"
            ]
          },
          "metadata": {},
          "execution_count": 35
        }
      ]
    },
    {
      "cell_type": "code",
      "metadata": {
        "id": "f_a8aZMSsi4i",
        "colab": {
          "base_uri": "https://localhost:8080/",
          "height": 175
        },
        "outputId": "d2debbe4-8255-487b-cb80-e27ab3872a83"
      },
      "source": [
        "frame.sum(level='clave2')"
      ],
      "execution_count": null,
      "outputs": [
        {
          "output_type": "execute_result",
          "data": {
            "text/html": [
              "<div>\n",
              "<style scoped>\n",
              "    .dataframe tbody tr th:only-of-type {\n",
              "        vertical-align: middle;\n",
              "    }\n",
              "\n",
              "    .dataframe tbody tr th {\n",
              "        vertical-align: top;\n",
              "    }\n",
              "\n",
              "    .dataframe thead tr th {\n",
              "        text-align: left;\n",
              "    }\n",
              "\n",
              "    .dataframe thead tr:last-of-type th {\n",
              "        text-align: right;\n",
              "    }\n",
              "</style>\n",
              "<table border=\"1\" class=\"dataframe\">\n",
              "  <thead>\n",
              "    <tr>\n",
              "      <th>ciudad</th>\n",
              "      <th colspan=\"2\" halign=\"left\">Santiago</th>\n",
              "      <th>Concepción</th>\n",
              "    </tr>\n",
              "    <tr>\n",
              "      <th>color</th>\n",
              "      <th>Verde</th>\n",
              "      <th>Rojo</th>\n",
              "      <th>Verde</th>\n",
              "    </tr>\n",
              "    <tr>\n",
              "      <th>clave2</th>\n",
              "      <th></th>\n",
              "      <th></th>\n",
              "      <th></th>\n",
              "    </tr>\n",
              "  </thead>\n",
              "  <tbody>\n",
              "    <tr>\n",
              "      <th>1</th>\n",
              "      <td>6</td>\n",
              "      <td>8</td>\n",
              "      <td>10</td>\n",
              "    </tr>\n",
              "    <tr>\n",
              "      <th>2</th>\n",
              "      <td>12</td>\n",
              "      <td>14</td>\n",
              "      <td>16</td>\n",
              "    </tr>\n",
              "  </tbody>\n",
              "</table>\n",
              "</div>"
            ],
            "text/plain": [
              "ciudad Santiago      Concepción\n",
              "color     Verde Rojo      Verde\n",
              "clave2                         \n",
              "1             6    8         10\n",
              "2            12   14         16"
            ]
          },
          "metadata": {},
          "execution_count": 39
        }
      ]
    },
    {
      "cell_type": "code",
      "metadata": {
        "id": "IYGPoTy_sk9Q",
        "colab": {
          "base_uri": "https://localhost:8080/",
          "height": 206
        },
        "outputId": "851ae6f4-daca-4a3e-d76a-f5c58917365d"
      },
      "source": [
        "frame.sum(level='color', axis='columns')"
      ],
      "execution_count": null,
      "outputs": [
        {
          "output_type": "execute_result",
          "data": {
            "text/html": [
              "<div>\n",
              "<style scoped>\n",
              "    .dataframe tbody tr th:only-of-type {\n",
              "        vertical-align: middle;\n",
              "    }\n",
              "\n",
              "    .dataframe tbody tr th {\n",
              "        vertical-align: top;\n",
              "    }\n",
              "\n",
              "    .dataframe thead th {\n",
              "        text-align: right;\n",
              "    }\n",
              "</style>\n",
              "<table border=\"1\" class=\"dataframe\">\n",
              "  <thead>\n",
              "    <tr style=\"text-align: right;\">\n",
              "      <th></th>\n",
              "      <th>color</th>\n",
              "      <th>Verde</th>\n",
              "      <th>Rojo</th>\n",
              "    </tr>\n",
              "    <tr>\n",
              "      <th>clave1</th>\n",
              "      <th>clave2</th>\n",
              "      <th></th>\n",
              "      <th></th>\n",
              "    </tr>\n",
              "  </thead>\n",
              "  <tbody>\n",
              "    <tr>\n",
              "      <th rowspan=\"2\" valign=\"top\">a</th>\n",
              "      <th>1</th>\n",
              "      <td>2</td>\n",
              "      <td>1</td>\n",
              "    </tr>\n",
              "    <tr>\n",
              "      <th>2</th>\n",
              "      <td>8</td>\n",
              "      <td>4</td>\n",
              "    </tr>\n",
              "    <tr>\n",
              "      <th rowspan=\"2\" valign=\"top\">b</th>\n",
              "      <th>1</th>\n",
              "      <td>14</td>\n",
              "      <td>7</td>\n",
              "    </tr>\n",
              "    <tr>\n",
              "      <th>2</th>\n",
              "      <td>20</td>\n",
              "      <td>10</td>\n",
              "    </tr>\n",
              "  </tbody>\n",
              "</table>\n",
              "</div>"
            ],
            "text/plain": [
              "color          Verde  Rojo\n",
              "clave1 clave2             \n",
              "a      1           2     1\n",
              "       2           8     4\n",
              "b      1          14     7\n",
              "       2          20    10"
            ]
          },
          "metadata": {},
          "execution_count": 41
        }
      ]
    },
    {
      "cell_type": "markdown",
      "metadata": {
        "id": "u5YTtRNtsn_6"
      },
      "source": [
        "- Por debajo, estas funciones utilizan la mecánica de agrupación de `pandas`."
      ]
    },
    {
      "cell_type": "markdown",
      "metadata": {
        "id": "hXiOcoo9spr9"
      },
      "source": [
        "### Indexando con las columnas de un DataFrame"
      ]
    },
    {
      "cell_type": "markdown",
      "metadata": {
        "id": "joRqOUPsstu4"
      },
      "source": [
        "- Otra tarea común es utilizar una o más columnas de un `DataFrame` como el índice de filas.\n",
        "- Alternativamente, podríamos querer utilizar filas como el índice de columnas."
      ]
    },
    {
      "cell_type": "code",
      "metadata": {
        "id": "JV5NgCGJszhb",
        "colab": {
          "base_uri": "https://localhost:8080/",
          "height": 269
        },
        "outputId": "ffd472c5-ab98-4bba-f401-fe1916c29e25"
      },
      "source": [
        "ex1 = \"\"\"\n",
        "a,b,c,d\n",
        "0,7,uno,0\n",
        "1,6,dos,1\n",
        "2,5,uno,2\n",
        "3,4,dos,0\n",
        "4,3,uno,1\n",
        "5,2,dos,2\n",
        "6,1,dos,3\n",
        "\"\"\"\n",
        "\n",
        "frame = pd.read_csv(StringIO(ex1))\n",
        "frame"
      ],
      "execution_count": null,
      "outputs": [
        {
          "output_type": "execute_result",
          "data": {
            "text/html": [
              "<div>\n",
              "<style scoped>\n",
              "    .dataframe tbody tr th:only-of-type {\n",
              "        vertical-align: middle;\n",
              "    }\n",
              "\n",
              "    .dataframe tbody tr th {\n",
              "        vertical-align: top;\n",
              "    }\n",
              "\n",
              "    .dataframe thead th {\n",
              "        text-align: right;\n",
              "    }\n",
              "</style>\n",
              "<table border=\"1\" class=\"dataframe\">\n",
              "  <thead>\n",
              "    <tr style=\"text-align: right;\">\n",
              "      <th></th>\n",
              "      <th>a</th>\n",
              "      <th>b</th>\n",
              "      <th>c</th>\n",
              "      <th>d</th>\n",
              "    </tr>\n",
              "  </thead>\n",
              "  <tbody>\n",
              "    <tr>\n",
              "      <th>0</th>\n",
              "      <td>0</td>\n",
              "      <td>7</td>\n",
              "      <td>uno</td>\n",
              "      <td>0</td>\n",
              "    </tr>\n",
              "    <tr>\n",
              "      <th>1</th>\n",
              "      <td>1</td>\n",
              "      <td>6</td>\n",
              "      <td>dos</td>\n",
              "      <td>1</td>\n",
              "    </tr>\n",
              "    <tr>\n",
              "      <th>2</th>\n",
              "      <td>2</td>\n",
              "      <td>5</td>\n",
              "      <td>uno</td>\n",
              "      <td>2</td>\n",
              "    </tr>\n",
              "    <tr>\n",
              "      <th>3</th>\n",
              "      <td>3</td>\n",
              "      <td>4</td>\n",
              "      <td>dos</td>\n",
              "      <td>0</td>\n",
              "    </tr>\n",
              "    <tr>\n",
              "      <th>4</th>\n",
              "      <td>4</td>\n",
              "      <td>3</td>\n",
              "      <td>uno</td>\n",
              "      <td>1</td>\n",
              "    </tr>\n",
              "    <tr>\n",
              "      <th>5</th>\n",
              "      <td>5</td>\n",
              "      <td>2</td>\n",
              "      <td>dos</td>\n",
              "      <td>2</td>\n",
              "    </tr>\n",
              "    <tr>\n",
              "      <th>6</th>\n",
              "      <td>6</td>\n",
              "      <td>1</td>\n",
              "      <td>dos</td>\n",
              "      <td>3</td>\n",
              "    </tr>\n",
              "  </tbody>\n",
              "</table>\n",
              "</div>"
            ],
            "text/plain": [
              "   a  b    c  d\n",
              "0  0  7  uno  0\n",
              "1  1  6  dos  1\n",
              "2  2  5  uno  2\n",
              "3  3  4  dos  0\n",
              "4  4  3  uno  1\n",
              "5  5  2  dos  2\n",
              "6  6  1  dos  3"
            ]
          },
          "metadata": {},
          "execution_count": 42
        }
      ]
    },
    {
      "cell_type": "markdown",
      "metadata": {
        "id": "6ly0ClWpt881"
      },
      "source": [
        "- El método `set_index` utiliza una o más columnas del `DataFrame` como índice de filas"
      ]
    },
    {
      "cell_type": "code",
      "metadata": {
        "id": "AW-_dYvluA4o",
        "colab": {
          "base_uri": "https://localhost:8080/",
          "height": 300
        },
        "outputId": "8f938aba-1020-421c-e319-96793e49b3dc"
      },
      "source": [
        "frame2 = frame.set_index(['c', 'd'])\n",
        "frame2"
      ],
      "execution_count": null,
      "outputs": [
        {
          "output_type": "execute_result",
          "data": {
            "text/html": [
              "<div>\n",
              "<style scoped>\n",
              "    .dataframe tbody tr th:only-of-type {\n",
              "        vertical-align: middle;\n",
              "    }\n",
              "\n",
              "    .dataframe tbody tr th {\n",
              "        vertical-align: top;\n",
              "    }\n",
              "\n",
              "    .dataframe thead th {\n",
              "        text-align: right;\n",
              "    }\n",
              "</style>\n",
              "<table border=\"1\" class=\"dataframe\">\n",
              "  <thead>\n",
              "    <tr style=\"text-align: right;\">\n",
              "      <th></th>\n",
              "      <th></th>\n",
              "      <th>a</th>\n",
              "      <th>b</th>\n",
              "    </tr>\n",
              "    <tr>\n",
              "      <th>c</th>\n",
              "      <th>d</th>\n",
              "      <th></th>\n",
              "      <th></th>\n",
              "    </tr>\n",
              "  </thead>\n",
              "  <tbody>\n",
              "    <tr>\n",
              "      <th>uno</th>\n",
              "      <th>0</th>\n",
              "      <td>0</td>\n",
              "      <td>7</td>\n",
              "    </tr>\n",
              "    <tr>\n",
              "      <th>dos</th>\n",
              "      <th>1</th>\n",
              "      <td>1</td>\n",
              "      <td>6</td>\n",
              "    </tr>\n",
              "    <tr>\n",
              "      <th>uno</th>\n",
              "      <th>2</th>\n",
              "      <td>2</td>\n",
              "      <td>5</td>\n",
              "    </tr>\n",
              "    <tr>\n",
              "      <th>dos</th>\n",
              "      <th>0</th>\n",
              "      <td>3</td>\n",
              "      <td>4</td>\n",
              "    </tr>\n",
              "    <tr>\n",
              "      <th>uno</th>\n",
              "      <th>1</th>\n",
              "      <td>4</td>\n",
              "      <td>3</td>\n",
              "    </tr>\n",
              "    <tr>\n",
              "      <th rowspan=\"2\" valign=\"top\">dos</th>\n",
              "      <th>2</th>\n",
              "      <td>5</td>\n",
              "      <td>2</td>\n",
              "    </tr>\n",
              "    <tr>\n",
              "      <th>3</th>\n",
              "      <td>6</td>\n",
              "      <td>1</td>\n",
              "    </tr>\n",
              "  </tbody>\n",
              "</table>\n",
              "</div>"
            ],
            "text/plain": [
              "       a  b\n",
              "c   d      \n",
              "uno 0  0  7\n",
              "dos 1  1  6\n",
              "uno 2  2  5\n",
              "dos 0  3  4\n",
              "uno 1  4  3\n",
              "dos 2  5  2\n",
              "    3  6  1"
            ]
          },
          "metadata": {},
          "execution_count": 43
        }
      ]
    },
    {
      "cell_type": "markdown",
      "metadata": {
        "id": "TEKsux1kuE-8"
      },
      "source": [
        "- Por defecto quita las columnas utilizadas como índice.\n",
        "- Podemos mantenerlas estableciendo el parámetro `drop=False`"
      ]
    },
    {
      "cell_type": "code",
      "metadata": {
        "id": "Z2n7ALJQuNU2",
        "colab": {
          "base_uri": "https://localhost:8080/",
          "height": 300
        },
        "outputId": "fc289a60-c1b1-49e9-ef0a-a49ce455b3e6"
      },
      "source": [
        "frame.set_index(['c', 'd'], drop=False)"
      ],
      "execution_count": null,
      "outputs": [
        {
          "output_type": "execute_result",
          "data": {
            "text/html": [
              "<div>\n",
              "<style scoped>\n",
              "    .dataframe tbody tr th:only-of-type {\n",
              "        vertical-align: middle;\n",
              "    }\n",
              "\n",
              "    .dataframe tbody tr th {\n",
              "        vertical-align: top;\n",
              "    }\n",
              "\n",
              "    .dataframe thead th {\n",
              "        text-align: right;\n",
              "    }\n",
              "</style>\n",
              "<table border=\"1\" class=\"dataframe\">\n",
              "  <thead>\n",
              "    <tr style=\"text-align: right;\">\n",
              "      <th></th>\n",
              "      <th></th>\n",
              "      <th>a</th>\n",
              "      <th>b</th>\n",
              "      <th>c</th>\n",
              "      <th>d</th>\n",
              "    </tr>\n",
              "    <tr>\n",
              "      <th>c</th>\n",
              "      <th>d</th>\n",
              "      <th></th>\n",
              "      <th></th>\n",
              "      <th></th>\n",
              "      <th></th>\n",
              "    </tr>\n",
              "  </thead>\n",
              "  <tbody>\n",
              "    <tr>\n",
              "      <th>uno</th>\n",
              "      <th>0</th>\n",
              "      <td>0</td>\n",
              "      <td>7</td>\n",
              "      <td>uno</td>\n",
              "      <td>0</td>\n",
              "    </tr>\n",
              "    <tr>\n",
              "      <th>dos</th>\n",
              "      <th>1</th>\n",
              "      <td>1</td>\n",
              "      <td>6</td>\n",
              "      <td>dos</td>\n",
              "      <td>1</td>\n",
              "    </tr>\n",
              "    <tr>\n",
              "      <th>uno</th>\n",
              "      <th>2</th>\n",
              "      <td>2</td>\n",
              "      <td>5</td>\n",
              "      <td>uno</td>\n",
              "      <td>2</td>\n",
              "    </tr>\n",
              "    <tr>\n",
              "      <th>dos</th>\n",
              "      <th>0</th>\n",
              "      <td>3</td>\n",
              "      <td>4</td>\n",
              "      <td>dos</td>\n",
              "      <td>0</td>\n",
              "    </tr>\n",
              "    <tr>\n",
              "      <th>uno</th>\n",
              "      <th>1</th>\n",
              "      <td>4</td>\n",
              "      <td>3</td>\n",
              "      <td>uno</td>\n",
              "      <td>1</td>\n",
              "    </tr>\n",
              "    <tr>\n",
              "      <th rowspan=\"2\" valign=\"top\">dos</th>\n",
              "      <th>2</th>\n",
              "      <td>5</td>\n",
              "      <td>2</td>\n",
              "      <td>dos</td>\n",
              "      <td>2</td>\n",
              "    </tr>\n",
              "    <tr>\n",
              "      <th>3</th>\n",
              "      <td>6</td>\n",
              "      <td>1</td>\n",
              "      <td>dos</td>\n",
              "      <td>3</td>\n",
              "    </tr>\n",
              "  </tbody>\n",
              "</table>\n",
              "</div>"
            ],
            "text/plain": [
              "       a  b    c  d\n",
              "c   d              \n",
              "uno 0  0  7  uno  0\n",
              "dos 1  1  6  dos  1\n",
              "uno 2  2  5  uno  2\n",
              "dos 0  3  4  dos  0\n",
              "uno 1  4  3  uno  1\n",
              "dos 2  5  2  dos  2\n",
              "    3  6  1  dos  3"
            ]
          },
          "metadata": {},
          "execution_count": 44
        }
      ]
    },
    {
      "cell_type": "markdown",
      "metadata": {
        "id": "-ixyexnuuRg6"
      },
      "source": [
        "- Además, vemos que las filas siguen en el mismo orden\n",
        "- Podemos reordenarlas con el método `sort_index`"
      ]
    },
    {
      "cell_type": "code",
      "metadata": {
        "id": "fOK_-I8MuVKo",
        "colab": {
          "base_uri": "https://localhost:8080/",
          "height": 300
        },
        "outputId": "22219306-17af-4207-be05-b1a2a4f93031"
      },
      "source": [
        "frame2.sort_index(level='c')"
      ],
      "execution_count": null,
      "outputs": [
        {
          "output_type": "execute_result",
          "data": {
            "text/html": [
              "<div>\n",
              "<style scoped>\n",
              "    .dataframe tbody tr th:only-of-type {\n",
              "        vertical-align: middle;\n",
              "    }\n",
              "\n",
              "    .dataframe tbody tr th {\n",
              "        vertical-align: top;\n",
              "    }\n",
              "\n",
              "    .dataframe thead th {\n",
              "        text-align: right;\n",
              "    }\n",
              "</style>\n",
              "<table border=\"1\" class=\"dataframe\">\n",
              "  <thead>\n",
              "    <tr style=\"text-align: right;\">\n",
              "      <th></th>\n",
              "      <th></th>\n",
              "      <th>a</th>\n",
              "      <th>b</th>\n",
              "    </tr>\n",
              "    <tr>\n",
              "      <th>c</th>\n",
              "      <th>d</th>\n",
              "      <th></th>\n",
              "      <th></th>\n",
              "    </tr>\n",
              "  </thead>\n",
              "  <tbody>\n",
              "    <tr>\n",
              "      <th rowspan=\"4\" valign=\"top\">dos</th>\n",
              "      <th>0</th>\n",
              "      <td>3</td>\n",
              "      <td>4</td>\n",
              "    </tr>\n",
              "    <tr>\n",
              "      <th>1</th>\n",
              "      <td>1</td>\n",
              "      <td>6</td>\n",
              "    </tr>\n",
              "    <tr>\n",
              "      <th>2</th>\n",
              "      <td>5</td>\n",
              "      <td>2</td>\n",
              "    </tr>\n",
              "    <tr>\n",
              "      <th>3</th>\n",
              "      <td>6</td>\n",
              "      <td>1</td>\n",
              "    </tr>\n",
              "    <tr>\n",
              "      <th rowspan=\"3\" valign=\"top\">uno</th>\n",
              "      <th>0</th>\n",
              "      <td>0</td>\n",
              "      <td>7</td>\n",
              "    </tr>\n",
              "    <tr>\n",
              "      <th>1</th>\n",
              "      <td>4</td>\n",
              "      <td>3</td>\n",
              "    </tr>\n",
              "    <tr>\n",
              "      <th>2</th>\n",
              "      <td>2</td>\n",
              "      <td>5</td>\n",
              "    </tr>\n",
              "  </tbody>\n",
              "</table>\n",
              "</div>"
            ],
            "text/plain": [
              "       a  b\n",
              "c   d      \n",
              "dos 0  3  4\n",
              "    1  1  6\n",
              "    2  5  2\n",
              "    3  6  1\n",
              "uno 0  0  7\n",
              "    1  4  3\n",
              "    2  2  5"
            ]
          },
          "metadata": {},
          "execution_count": 49
        }
      ]
    },
    {
      "cell_type": "markdown",
      "metadata": {
        "id": "Tawf10R8uXqc"
      },
      "source": [
        "- La operación inversa, de transformar índices en filas, se realiza con el método `reset_index`"
      ]
    },
    {
      "cell_type": "code",
      "metadata": {
        "id": "jipaPtKjuaSy",
        "colab": {
          "base_uri": "https://localhost:8080/",
          "height": 269
        },
        "outputId": "d32639e9-76ad-4e22-c4ce-eca6f1ed11a7"
      },
      "source": [
        "frame2.reset_index()"
      ],
      "execution_count": null,
      "outputs": [
        {
          "output_type": "execute_result",
          "data": {
            "text/html": [
              "<div>\n",
              "<style scoped>\n",
              "    .dataframe tbody tr th:only-of-type {\n",
              "        vertical-align: middle;\n",
              "    }\n",
              "\n",
              "    .dataframe tbody tr th {\n",
              "        vertical-align: top;\n",
              "    }\n",
              "\n",
              "    .dataframe thead th {\n",
              "        text-align: right;\n",
              "    }\n",
              "</style>\n",
              "<table border=\"1\" class=\"dataframe\">\n",
              "  <thead>\n",
              "    <tr style=\"text-align: right;\">\n",
              "      <th></th>\n",
              "      <th>c</th>\n",
              "      <th>d</th>\n",
              "      <th>a</th>\n",
              "      <th>b</th>\n",
              "    </tr>\n",
              "  </thead>\n",
              "  <tbody>\n",
              "    <tr>\n",
              "      <th>0</th>\n",
              "      <td>uno</td>\n",
              "      <td>0</td>\n",
              "      <td>0</td>\n",
              "      <td>7</td>\n",
              "    </tr>\n",
              "    <tr>\n",
              "      <th>1</th>\n",
              "      <td>dos</td>\n",
              "      <td>1</td>\n",
              "      <td>1</td>\n",
              "      <td>6</td>\n",
              "    </tr>\n",
              "    <tr>\n",
              "      <th>2</th>\n",
              "      <td>uno</td>\n",
              "      <td>2</td>\n",
              "      <td>2</td>\n",
              "      <td>5</td>\n",
              "    </tr>\n",
              "    <tr>\n",
              "      <th>3</th>\n",
              "      <td>dos</td>\n",
              "      <td>0</td>\n",
              "      <td>3</td>\n",
              "      <td>4</td>\n",
              "    </tr>\n",
              "    <tr>\n",
              "      <th>4</th>\n",
              "      <td>uno</td>\n",
              "      <td>1</td>\n",
              "      <td>4</td>\n",
              "      <td>3</td>\n",
              "    </tr>\n",
              "    <tr>\n",
              "      <th>5</th>\n",
              "      <td>dos</td>\n",
              "      <td>2</td>\n",
              "      <td>5</td>\n",
              "      <td>2</td>\n",
              "    </tr>\n",
              "    <tr>\n",
              "      <th>6</th>\n",
              "      <td>dos</td>\n",
              "      <td>3</td>\n",
              "      <td>6</td>\n",
              "      <td>1</td>\n",
              "    </tr>\n",
              "  </tbody>\n",
              "</table>\n",
              "</div>"
            ],
            "text/plain": [
              "     c  d  a  b\n",
              "0  uno  0  0  7\n",
              "1  dos  1  1  6\n",
              "2  uno  2  2  5\n",
              "3  dos  0  3  4\n",
              "4  uno  1  4  3\n",
              "5  dos  2  5  2\n",
              "6  dos  3  6  1"
            ]
          },
          "metadata": {},
          "execution_count": 50
        }
      ]
    },
    {
      "cell_type": "markdown",
      "metadata": {
        "id": "xmfjvL15ucgY"
      },
      "source": [
        "## Combinando y mezclando datasets"
      ]
    },
    {
      "cell_type": "markdown",
      "metadata": {
        "id": "AndWZHLIuhEQ"
      },
      "source": [
        "- Los datos contenidos en estructuras de `pandas` pueden combinarse de varias formas:\n",
        "    - La función `pandas.concat` \"concatena\" o \"apila\" objetos sobre un eje específico.\n",
        "    - La funciones `pandas.merge` y `pandas.join` combinan las filas de distintos `DataFrames`, basado en una o varias *claves*. Operan de forma similar,  pero `join` es más fácil de usar, de hecho, utiliza `merge` por debajo."
      ]
    },
    {
      "cell_type": "markdown",
      "metadata": {
        "id": "ag5nKVTiuk4k"
      },
      "source": [
        "### Mezclando DataFrames como bases de datos"
      ]
    },
    {
      "cell_type": "markdown",
      "metadata": {
        "id": "ZmD54Wrrum8D"
      },
      "source": [
        "- Las operaciones `merge` y `join` combinan datasets enlazando sus filas.\n",
        "- Para lograrlo, utilizan uno o más valores *clave*.\n",
        "- Estas operaciones son usuales en bases de datos relacionales.\n",
        "\n",
        "[Referencia](https://stackoverflow.com/a/37891437/1510734)"
      ]
    },
    {
      "cell_type": "code",
      "metadata": {
        "id": "osGBl3cKupn1",
        "colab": {
          "base_uri": "https://localhost:8080/",
          "height": 269
        },
        "outputId": "b6dfa175-c942-4c3e-d61b-071c405ee481"
      },
      "source": [
        "df1 = \"\"\"\n",
        "clave,data1\n",
        "b,0\n",
        "b,1\n",
        "a,2\n",
        "c,3\n",
        "a,4\n",
        "a,5\n",
        "b,6\n",
        "\"\"\"\n",
        "\n",
        "df1 = pd.read_csv(StringIO(df1))\n",
        "df1"
      ],
      "execution_count": null,
      "outputs": [
        {
          "output_type": "execute_result",
          "data": {
            "text/html": [
              "<div>\n",
              "<style scoped>\n",
              "    .dataframe tbody tr th:only-of-type {\n",
              "        vertical-align: middle;\n",
              "    }\n",
              "\n",
              "    .dataframe tbody tr th {\n",
              "        vertical-align: top;\n",
              "    }\n",
              "\n",
              "    .dataframe thead th {\n",
              "        text-align: right;\n",
              "    }\n",
              "</style>\n",
              "<table border=\"1\" class=\"dataframe\">\n",
              "  <thead>\n",
              "    <tr style=\"text-align: right;\">\n",
              "      <th></th>\n",
              "      <th>clave</th>\n",
              "      <th>data1</th>\n",
              "    </tr>\n",
              "  </thead>\n",
              "  <tbody>\n",
              "    <tr>\n",
              "      <th>0</th>\n",
              "      <td>b</td>\n",
              "      <td>0</td>\n",
              "    </tr>\n",
              "    <tr>\n",
              "      <th>1</th>\n",
              "      <td>b</td>\n",
              "      <td>1</td>\n",
              "    </tr>\n",
              "    <tr>\n",
              "      <th>2</th>\n",
              "      <td>a</td>\n",
              "      <td>2</td>\n",
              "    </tr>\n",
              "    <tr>\n",
              "      <th>3</th>\n",
              "      <td>c</td>\n",
              "      <td>3</td>\n",
              "    </tr>\n",
              "    <tr>\n",
              "      <th>4</th>\n",
              "      <td>a</td>\n",
              "      <td>4</td>\n",
              "    </tr>\n",
              "    <tr>\n",
              "      <th>5</th>\n",
              "      <td>a</td>\n",
              "      <td>5</td>\n",
              "    </tr>\n",
              "    <tr>\n",
              "      <th>6</th>\n",
              "      <td>b</td>\n",
              "      <td>6</td>\n",
              "    </tr>\n",
              "  </tbody>\n",
              "</table>\n",
              "</div>"
            ],
            "text/plain": [
              "  clave  data1\n",
              "0     b      0\n",
              "1     b      1\n",
              "2     a      2\n",
              "3     c      3\n",
              "4     a      4\n",
              "5     a      5\n",
              "6     b      6"
            ]
          },
          "metadata": {},
          "execution_count": 51
        }
      ]
    },
    {
      "cell_type": "code",
      "metadata": {
        "id": "NqfkExt4vd1n",
        "colab": {
          "base_uri": "https://localhost:8080/",
          "height": 143
        },
        "outputId": "ce367e9c-8102-4f42-b6f1-2be9bb8f0cae"
      },
      "source": [
        "df2 = \"\"\"\n",
        "clave,data2\n",
        "a,0\n",
        "b,1\n",
        "d,2\n",
        "\"\"\"\n",
        "\n",
        "df2 = pd.read_csv(StringIO(df2))\n",
        "df2"
      ],
      "execution_count": null,
      "outputs": [
        {
          "output_type": "execute_result",
          "data": {
            "text/html": [
              "<div>\n",
              "<style scoped>\n",
              "    .dataframe tbody tr th:only-of-type {\n",
              "        vertical-align: middle;\n",
              "    }\n",
              "\n",
              "    .dataframe tbody tr th {\n",
              "        vertical-align: top;\n",
              "    }\n",
              "\n",
              "    .dataframe thead th {\n",
              "        text-align: right;\n",
              "    }\n",
              "</style>\n",
              "<table border=\"1\" class=\"dataframe\">\n",
              "  <thead>\n",
              "    <tr style=\"text-align: right;\">\n",
              "      <th></th>\n",
              "      <th>clave</th>\n",
              "      <th>data2</th>\n",
              "    </tr>\n",
              "  </thead>\n",
              "  <tbody>\n",
              "    <tr>\n",
              "      <th>0</th>\n",
              "      <td>a</td>\n",
              "      <td>0</td>\n",
              "    </tr>\n",
              "    <tr>\n",
              "      <th>1</th>\n",
              "      <td>b</td>\n",
              "      <td>1</td>\n",
              "    </tr>\n",
              "    <tr>\n",
              "      <th>2</th>\n",
              "      <td>d</td>\n",
              "      <td>2</td>\n",
              "    </tr>\n",
              "  </tbody>\n",
              "</table>\n",
              "</div>"
            ],
            "text/plain": [
              "  clave  data2\n",
              "0     a      0\n",
              "1     b      1\n",
              "2     d      2"
            ]
          },
          "metadata": {},
          "execution_count": 52
        }
      ]
    },
    {
      "cell_type": "markdown",
      "metadata": {
        "id": "kZLxifnCvziN"
      },
      "source": [
        "- En este caso la única columna en común es `clave`.Dentro de esta columna, los únicos valores en común son `a` y *b*.\n",
        "- Además, para un valor de la columna `clave` en `df2`, tenemos muchos valores de `df1` que se corresponden para la misma `clave`.\n",
        "- Esto es llamado *many-to-one* en relaciones de bases de datos.\n",
        "- Si aplicamos a la función `merge`, repetiremos los valores mezclados."
      ]
    },
    {
      "cell_type": "code",
      "metadata": {
        "id": "AJY8iyRuv19p",
        "colab": {
          "base_uri": "https://localhost:8080/",
          "height": 550
        },
        "outputId": "05ddbbb5-83dd-4a6d-f97a-30b8c31cece8"
      },
      "source": [
        "print(df1)\n",
        "print('\\n----------------------------------\\n')\n",
        "print(df2)\n",
        "print('\\n----------------------------------\\n')\n",
        "pd.merge(df1, df2) "
      ],
      "execution_count": null,
      "outputs": [
        {
          "output_type": "stream",
          "name": "stdout",
          "text": [
            "  clave  data1\n",
            "0     b      0\n",
            "1     b      1\n",
            "2     a      2\n",
            "3     c      3\n",
            "4     a      4\n",
            "5     a      5\n",
            "6     b      6\n",
            "\n",
            "----------------------------------\n",
            "\n",
            "  clave  data2\n",
            "0     a      0\n",
            "1     b      1\n",
            "2     d      2\n",
            "\n",
            "----------------------------------\n",
            "\n"
          ]
        },
        {
          "output_type": "execute_result",
          "data": {
            "text/html": [
              "<div>\n",
              "<style scoped>\n",
              "    .dataframe tbody tr th:only-of-type {\n",
              "        vertical-align: middle;\n",
              "    }\n",
              "\n",
              "    .dataframe tbody tr th {\n",
              "        vertical-align: top;\n",
              "    }\n",
              "\n",
              "    .dataframe thead th {\n",
              "        text-align: right;\n",
              "    }\n",
              "</style>\n",
              "<table border=\"1\" class=\"dataframe\">\n",
              "  <thead>\n",
              "    <tr style=\"text-align: right;\">\n",
              "      <th></th>\n",
              "      <th>clave</th>\n",
              "      <th>data1</th>\n",
              "      <th>data2</th>\n",
              "    </tr>\n",
              "  </thead>\n",
              "  <tbody>\n",
              "    <tr>\n",
              "      <th>0</th>\n",
              "      <td>b</td>\n",
              "      <td>0</td>\n",
              "      <td>1</td>\n",
              "    </tr>\n",
              "    <tr>\n",
              "      <th>1</th>\n",
              "      <td>b</td>\n",
              "      <td>1</td>\n",
              "      <td>1</td>\n",
              "    </tr>\n",
              "    <tr>\n",
              "      <th>2</th>\n",
              "      <td>b</td>\n",
              "      <td>6</td>\n",
              "      <td>1</td>\n",
              "    </tr>\n",
              "    <tr>\n",
              "      <th>3</th>\n",
              "      <td>a</td>\n",
              "      <td>2</td>\n",
              "      <td>0</td>\n",
              "    </tr>\n",
              "    <tr>\n",
              "      <th>4</th>\n",
              "      <td>a</td>\n",
              "      <td>4</td>\n",
              "      <td>0</td>\n",
              "    </tr>\n",
              "    <tr>\n",
              "      <th>5</th>\n",
              "      <td>a</td>\n",
              "      <td>5</td>\n",
              "      <td>0</td>\n",
              "    </tr>\n",
              "  </tbody>\n",
              "</table>\n",
              "</div>"
            ],
            "text/plain": [
              "  clave  data1  data2\n",
              "0     b      0      1\n",
              "1     b      1      1\n",
              "2     b      6      1\n",
              "3     a      2      0\n",
              "4     a      4      0\n",
              "5     a      5      0"
            ]
          },
          "metadata": {},
          "execution_count": 58
        }
      ]
    },
    {
      "cell_type": "markdown",
      "metadata": {
        "id": "JLJTd669v4Mw"
      },
      "source": [
        "- Notemos que no se especificó la columna que se usaría como `clave`.\n",
        "- Si no se especifica, la función buscará las columnas que tengan el mismo nombre en ambos dataset, y las usará como `claves`.\n",
        "- Sin embargo, es una buena práctica **especificarlo siempre**."
      ]
    },
    {
      "cell_type": "code",
      "metadata": {
        "id": "JwPbSobcv7gS",
        "colab": {
          "base_uri": "https://localhost:8080/",
          "height": 238
        },
        "outputId": "9cc0a853-5d72-4628-ee2b-3767f903dc19"
      },
      "source": [
        "pd.merge(df1, df2, on='clave')"
      ],
      "execution_count": null,
      "outputs": [
        {
          "output_type": "execute_result",
          "data": {
            "text/html": [
              "<div>\n",
              "<style scoped>\n",
              "    .dataframe tbody tr th:only-of-type {\n",
              "        vertical-align: middle;\n",
              "    }\n",
              "\n",
              "    .dataframe tbody tr th {\n",
              "        vertical-align: top;\n",
              "    }\n",
              "\n",
              "    .dataframe thead th {\n",
              "        text-align: right;\n",
              "    }\n",
              "</style>\n",
              "<table border=\"1\" class=\"dataframe\">\n",
              "  <thead>\n",
              "    <tr style=\"text-align: right;\">\n",
              "      <th></th>\n",
              "      <th>clave</th>\n",
              "      <th>data1</th>\n",
              "      <th>data2</th>\n",
              "    </tr>\n",
              "  </thead>\n",
              "  <tbody>\n",
              "    <tr>\n",
              "      <th>0</th>\n",
              "      <td>b</td>\n",
              "      <td>0</td>\n",
              "      <td>1</td>\n",
              "    </tr>\n",
              "    <tr>\n",
              "      <th>1</th>\n",
              "      <td>b</td>\n",
              "      <td>1</td>\n",
              "      <td>1</td>\n",
              "    </tr>\n",
              "    <tr>\n",
              "      <th>2</th>\n",
              "      <td>b</td>\n",
              "      <td>6</td>\n",
              "      <td>1</td>\n",
              "    </tr>\n",
              "    <tr>\n",
              "      <th>3</th>\n",
              "      <td>a</td>\n",
              "      <td>2</td>\n",
              "      <td>0</td>\n",
              "    </tr>\n",
              "    <tr>\n",
              "      <th>4</th>\n",
              "      <td>a</td>\n",
              "      <td>4</td>\n",
              "      <td>0</td>\n",
              "    </tr>\n",
              "    <tr>\n",
              "      <th>5</th>\n",
              "      <td>a</td>\n",
              "      <td>5</td>\n",
              "      <td>0</td>\n",
              "    </tr>\n",
              "  </tbody>\n",
              "</table>\n",
              "</div>"
            ],
            "text/plain": [
              "  clave  data1  data2\n",
              "0     b      0      1\n",
              "1     b      1      1\n",
              "2     b      6      1\n",
              "3     a      2      0\n",
              "4     a      4      0\n",
              "5     a      5      0"
            ]
          },
          "metadata": {},
          "execution_count": 54
        }
      ]
    },
    {
      "cell_type": "markdown",
      "metadata": {
        "id": "07JDfOJVv921"
      },
      "source": [
        "- Si los nombres fueran diferentes en cada dataset, se pueden especificar por separado para realizar el *mapeo*."
      ]
    },
    {
      "cell_type": "code",
      "metadata": {
        "id": "bMSfpO2-wAZp",
        "colab": {
          "base_uri": "https://localhost:8080/",
          "height": 143
        },
        "outputId": "22e8ec7e-6aa0-4ca7-a02d-df9e7de20b46"
      },
      "source": [
        "df3 = df2.rename(columns={'clave': 'key'})\n",
        "df3"
      ],
      "execution_count": null,
      "outputs": [
        {
          "output_type": "execute_result",
          "data": {
            "text/html": [
              "<div>\n",
              "<style scoped>\n",
              "    .dataframe tbody tr th:only-of-type {\n",
              "        vertical-align: middle;\n",
              "    }\n",
              "\n",
              "    .dataframe tbody tr th {\n",
              "        vertical-align: top;\n",
              "    }\n",
              "\n",
              "    .dataframe thead th {\n",
              "        text-align: right;\n",
              "    }\n",
              "</style>\n",
              "<table border=\"1\" class=\"dataframe\">\n",
              "  <thead>\n",
              "    <tr style=\"text-align: right;\">\n",
              "      <th></th>\n",
              "      <th>key</th>\n",
              "      <th>data2</th>\n",
              "    </tr>\n",
              "  </thead>\n",
              "  <tbody>\n",
              "    <tr>\n",
              "      <th>0</th>\n",
              "      <td>a</td>\n",
              "      <td>0</td>\n",
              "    </tr>\n",
              "    <tr>\n",
              "      <th>1</th>\n",
              "      <td>b</td>\n",
              "      <td>1</td>\n",
              "    </tr>\n",
              "    <tr>\n",
              "      <th>2</th>\n",
              "      <td>d</td>\n",
              "      <td>2</td>\n",
              "    </tr>\n",
              "  </tbody>\n",
              "</table>\n",
              "</div>"
            ],
            "text/plain": [
              "  key  data2\n",
              "0   a      0\n",
              "1   b      1\n",
              "2   d      2"
            ]
          },
          "metadata": {},
          "execution_count": 55
        }
      ]
    },
    {
      "cell_type": "code",
      "metadata": {
        "id": "Gr2PUo5JwDMJ",
        "colab": {
          "base_uri": "https://localhost:8080/",
          "height": 238
        },
        "outputId": "cfb4dda8-d662-414d-966c-6126714c3e3f"
      },
      "source": [
        "pd.merge(df1, df3, left_on='clave', right_on='key')"
      ],
      "execution_count": null,
      "outputs": [
        {
          "output_type": "execute_result",
          "data": {
            "text/html": [
              "<div>\n",
              "<style scoped>\n",
              "    .dataframe tbody tr th:only-of-type {\n",
              "        vertical-align: middle;\n",
              "    }\n",
              "\n",
              "    .dataframe tbody tr th {\n",
              "        vertical-align: top;\n",
              "    }\n",
              "\n",
              "    .dataframe thead th {\n",
              "        text-align: right;\n",
              "    }\n",
              "</style>\n",
              "<table border=\"1\" class=\"dataframe\">\n",
              "  <thead>\n",
              "    <tr style=\"text-align: right;\">\n",
              "      <th></th>\n",
              "      <th>clave</th>\n",
              "      <th>data1</th>\n",
              "      <th>key</th>\n",
              "      <th>data2</th>\n",
              "    </tr>\n",
              "  </thead>\n",
              "  <tbody>\n",
              "    <tr>\n",
              "      <th>0</th>\n",
              "      <td>b</td>\n",
              "      <td>0</td>\n",
              "      <td>b</td>\n",
              "      <td>1</td>\n",
              "    </tr>\n",
              "    <tr>\n",
              "      <th>1</th>\n",
              "      <td>b</td>\n",
              "      <td>1</td>\n",
              "      <td>b</td>\n",
              "      <td>1</td>\n",
              "    </tr>\n",
              "    <tr>\n",
              "      <th>2</th>\n",
              "      <td>b</td>\n",
              "      <td>6</td>\n",
              "      <td>b</td>\n",
              "      <td>1</td>\n",
              "    </tr>\n",
              "    <tr>\n",
              "      <th>3</th>\n",
              "      <td>a</td>\n",
              "      <td>2</td>\n",
              "      <td>a</td>\n",
              "      <td>0</td>\n",
              "    </tr>\n",
              "    <tr>\n",
              "      <th>4</th>\n",
              "      <td>a</td>\n",
              "      <td>4</td>\n",
              "      <td>a</td>\n",
              "      <td>0</td>\n",
              "    </tr>\n",
              "    <tr>\n",
              "      <th>5</th>\n",
              "      <td>a</td>\n",
              "      <td>5</td>\n",
              "      <td>a</td>\n",
              "      <td>0</td>\n",
              "    </tr>\n",
              "  </tbody>\n",
              "</table>\n",
              "</div>"
            ],
            "text/plain": [
              "  clave  data1 key  data2\n",
              "0     b      0   b      1\n",
              "1     b      1   b      1\n",
              "2     b      6   b      1\n",
              "3     a      2   a      0\n",
              "4     a      4   a      0\n",
              "5     a      5   a      0"
            ]
          },
          "metadata": {},
          "execution_count": 56
        }
      ]
    },
    {
      "cell_type": "markdown",
      "metadata": {
        "id": "HTp30kQawG7G"
      },
      "source": [
        "- Hasta ahora, se puede notar que los valores `c` y `d` de las columnas clave no aparecen en el resultado.\n",
        "- Esto es porque, por defecto, realiza un *inner join*, o una mezcla con la **intersección de claves**.\n",
        "- Otras posibles opciones son *left join*, *right join*, u *outer join*.\n",
        "\n",
        "https://pandas.pydata.org/pandas-docs/stable/user_guide/merging.html"
      ]
    },
    {
      "cell_type": "markdown",
      "metadata": {
        "id": "Z0TlV03GwYJf"
      },
      "source": [
        "![1_9eH1_7VbTZPZd9jBiGIyNA.png](data:image/png;base64,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)"
      ]
    },
    {
      "cell_type": "markdown",
      "metadata": {
        "id": "6g4QIXf9wj8Z"
      },
      "source": [
        "- Para modificar el tipo de mezcla, utilizamos el parámetro `how`"
      ]
    },
    {
      "cell_type": "code",
      "metadata": {
        "id": "eTU_Ce00wnGp",
        "colab": {
          "base_uri": "https://localhost:8080/",
          "height": 613
        },
        "outputId": "f9091455-5995-4ec6-e963-799ee6c05f8b"
      },
      "source": [
        "print(df1)\n",
        "print('\\n----------------------------------\\n')\n",
        "print(df2)\n",
        "print('\\n----------------------------------\\n')\n",
        "pd.merge(df1, df2, on='clave', how='outer') # mantengo todas las filas y relleno con nan"
      ],
      "execution_count": null,
      "outputs": [
        {
          "output_type": "stream",
          "name": "stdout",
          "text": [
            "  clave  data1\n",
            "0     b      0\n",
            "1     b      1\n",
            "2     a      2\n",
            "3     c      3\n",
            "4     a      4\n",
            "5     a      5\n",
            "6     b      6\n",
            "\n",
            "----------------------------------\n",
            "\n",
            "  clave  data2\n",
            "0     a      0\n",
            "1     b      1\n",
            "2     d      2\n",
            "\n",
            "----------------------------------\n",
            "\n"
          ]
        },
        {
          "output_type": "execute_result",
          "data": {
            "text/html": [
              "<div>\n",
              "<style scoped>\n",
              "    .dataframe tbody tr th:only-of-type {\n",
              "        vertical-align: middle;\n",
              "    }\n",
              "\n",
              "    .dataframe tbody tr th {\n",
              "        vertical-align: top;\n",
              "    }\n",
              "\n",
              "    .dataframe thead th {\n",
              "        text-align: right;\n",
              "    }\n",
              "</style>\n",
              "<table border=\"1\" class=\"dataframe\">\n",
              "  <thead>\n",
              "    <tr style=\"text-align: right;\">\n",
              "      <th></th>\n",
              "      <th>clave</th>\n",
              "      <th>data1</th>\n",
              "      <th>data2</th>\n",
              "    </tr>\n",
              "  </thead>\n",
              "  <tbody>\n",
              "    <tr>\n",
              "      <th>0</th>\n",
              "      <td>b</td>\n",
              "      <td>0.0</td>\n",
              "      <td>1.0</td>\n",
              "    </tr>\n",
              "    <tr>\n",
              "      <th>1</th>\n",
              "      <td>b</td>\n",
              "      <td>1.0</td>\n",
              "      <td>1.0</td>\n",
              "    </tr>\n",
              "    <tr>\n",
              "      <th>2</th>\n",
              "      <td>b</td>\n",
              "      <td>6.0</td>\n",
              "      <td>1.0</td>\n",
              "    </tr>\n",
              "    <tr>\n",
              "      <th>3</th>\n",
              "      <td>a</td>\n",
              "      <td>2.0</td>\n",
              "      <td>0.0</td>\n",
              "    </tr>\n",
              "    <tr>\n",
              "      <th>4</th>\n",
              "      <td>a</td>\n",
              "      <td>4.0</td>\n",
              "      <td>0.0</td>\n",
              "    </tr>\n",
              "    <tr>\n",
              "      <th>5</th>\n",
              "      <td>a</td>\n",
              "      <td>5.0</td>\n",
              "      <td>0.0</td>\n",
              "    </tr>\n",
              "    <tr>\n",
              "      <th>6</th>\n",
              "      <td>c</td>\n",
              "      <td>3.0</td>\n",
              "      <td>NaN</td>\n",
              "    </tr>\n",
              "    <tr>\n",
              "      <th>7</th>\n",
              "      <td>d</td>\n",
              "      <td>NaN</td>\n",
              "      <td>2.0</td>\n",
              "    </tr>\n",
              "  </tbody>\n",
              "</table>\n",
              "</div>"
            ],
            "text/plain": [
              "  clave  data1  data2\n",
              "0     b    0.0    1.0\n",
              "1     b    1.0    1.0\n",
              "2     b    6.0    1.0\n",
              "3     a    2.0    0.0\n",
              "4     a    4.0    0.0\n",
              "5     a    5.0    0.0\n",
              "6     c    3.0    NaN\n",
              "7     d    NaN    2.0"
            ]
          },
          "metadata": {},
          "execution_count": 57
        }
      ]
    },
    {
      "cell_type": "markdown",
      "metadata": {
        "id": "89P5IsQuwsll"
      },
      "source": [
        "- ¿Pero que pasa si tenemos claves repetidas en ambos datasets?\n",
        "- Estos casos son llamados *many-to-many* en bases de datos\n",
        "- La forma en que se genera la mezcla está bien definida, pero no es necesariamente intuitiva\n",
        "- Veamos un ejemplo"
      ]
    },
    {
      "cell_type": "code",
      "metadata": {
        "id": "5LeMK7PVwyIQ",
        "colab": {
          "base_uri": "https://localhost:8080/",
          "height": 206
        },
        "outputId": "36d1b087-5fb5-4c63-d900-0792db921845"
      },
      "source": [
        "df4 = \"\"\"\n",
        "clave,data2\n",
        "a,0\n",
        "b,1\n",
        "a,2\n",
        "b,3\n",
        "d,4\n",
        "\"\"\"\n",
        "\n",
        "df4 = pd.read_csv(StringIO(df4))\n",
        "df4"
      ],
      "execution_count": null,
      "outputs": [
        {
          "output_type": "execute_result",
          "data": {
            "text/html": [
              "<div>\n",
              "<style scoped>\n",
              "    .dataframe tbody tr th:only-of-type {\n",
              "        vertical-align: middle;\n",
              "    }\n",
              "\n",
              "    .dataframe tbody tr th {\n",
              "        vertical-align: top;\n",
              "    }\n",
              "\n",
              "    .dataframe thead th {\n",
              "        text-align: right;\n",
              "    }\n",
              "</style>\n",
              "<table border=\"1\" class=\"dataframe\">\n",
              "  <thead>\n",
              "    <tr style=\"text-align: right;\">\n",
              "      <th></th>\n",
              "      <th>clave</th>\n",
              "      <th>data2</th>\n",
              "    </tr>\n",
              "  </thead>\n",
              "  <tbody>\n",
              "    <tr>\n",
              "      <th>0</th>\n",
              "      <td>a</td>\n",
              "      <td>0</td>\n",
              "    </tr>\n",
              "    <tr>\n",
              "      <th>1</th>\n",
              "      <td>b</td>\n",
              "      <td>1</td>\n",
              "    </tr>\n",
              "    <tr>\n",
              "      <th>2</th>\n",
              "      <td>a</td>\n",
              "      <td>2</td>\n",
              "    </tr>\n",
              "    <tr>\n",
              "      <th>3</th>\n",
              "      <td>b</td>\n",
              "      <td>3</td>\n",
              "    </tr>\n",
              "    <tr>\n",
              "      <th>4</th>\n",
              "      <td>d</td>\n",
              "      <td>4</td>\n",
              "    </tr>\n",
              "  </tbody>\n",
              "</table>\n",
              "</div>"
            ],
            "text/plain": [
              "  clave  data2\n",
              "0     a      0\n",
              "1     b      1\n",
              "2     a      2\n",
              "3     b      3\n",
              "4     d      4"
            ]
          },
          "metadata": {},
          "execution_count": 59
        }
      ]
    },
    {
      "cell_type": "code",
      "metadata": {
        "id": "MtJyod3IxISZ",
        "colab": {
          "base_uri": "https://localhost:8080/",
          "height": 773
        },
        "outputId": "15660f85-e481-408f-c23c-16ef3520fc42"
      },
      "source": [
        "print(df1)\n",
        "print('\\n---------------------------\\n')\n",
        "print(df4)\n",
        "print('\\n---------------------------\\n')\n",
        "pd.merge(df1, df4, on='clave') # por defecto es un inner, i.e., no vamos a tener nans"
      ],
      "execution_count": null,
      "outputs": [
        {
          "output_type": "stream",
          "name": "stdout",
          "text": [
            "  clave  data1\n",
            "0     b      0\n",
            "1     b      1\n",
            "2     a      2\n",
            "3     c      3\n",
            "4     a      4\n",
            "5     a      5\n",
            "6     b      6\n",
            "\n",
            "---------------------------\n",
            "\n",
            "  clave  data2\n",
            "0     a      0\n",
            "1     b      1\n",
            "2     a      2\n",
            "3     b      3\n",
            "4     d      4\n",
            "\n",
            "---------------------------\n",
            "\n"
          ]
        },
        {
          "output_type": "execute_result",
          "data": {
            "text/html": [
              "<div>\n",
              "<style scoped>\n",
              "    .dataframe tbody tr th:only-of-type {\n",
              "        vertical-align: middle;\n",
              "    }\n",
              "\n",
              "    .dataframe tbody tr th {\n",
              "        vertical-align: top;\n",
              "    }\n",
              "\n",
              "    .dataframe thead th {\n",
              "        text-align: right;\n",
              "    }\n",
              "</style>\n",
              "<table border=\"1\" class=\"dataframe\">\n",
              "  <thead>\n",
              "    <tr style=\"text-align: right;\">\n",
              "      <th></th>\n",
              "      <th>clave</th>\n",
              "      <th>data1</th>\n",
              "      <th>data2</th>\n",
              "    </tr>\n",
              "  </thead>\n",
              "  <tbody>\n",
              "    <tr>\n",
              "      <th>0</th>\n",
              "      <td>b</td>\n",
              "      <td>0</td>\n",
              "      <td>1</td>\n",
              "    </tr>\n",
              "    <tr>\n",
              "      <th>1</th>\n",
              "      <td>b</td>\n",
              "      <td>0</td>\n",
              "      <td>3</td>\n",
              "    </tr>\n",
              "    <tr>\n",
              "      <th>2</th>\n",
              "      <td>b</td>\n",
              "      <td>1</td>\n",
              "      <td>1</td>\n",
              "    </tr>\n",
              "    <tr>\n",
              "      <th>3</th>\n",
              "      <td>b</td>\n",
              "      <td>1</td>\n",
              "      <td>3</td>\n",
              "    </tr>\n",
              "    <tr>\n",
              "      <th>4</th>\n",
              "      <td>b</td>\n",
              "      <td>6</td>\n",
              "      <td>1</td>\n",
              "    </tr>\n",
              "    <tr>\n",
              "      <th>5</th>\n",
              "      <td>b</td>\n",
              "      <td>6</td>\n",
              "      <td>3</td>\n",
              "    </tr>\n",
              "    <tr>\n",
              "      <th>6</th>\n",
              "      <td>a</td>\n",
              "      <td>2</td>\n",
              "      <td>0</td>\n",
              "    </tr>\n",
              "    <tr>\n",
              "      <th>7</th>\n",
              "      <td>a</td>\n",
              "      <td>2</td>\n",
              "      <td>2</td>\n",
              "    </tr>\n",
              "    <tr>\n",
              "      <th>8</th>\n",
              "      <td>a</td>\n",
              "      <td>4</td>\n",
              "      <td>0</td>\n",
              "    </tr>\n",
              "    <tr>\n",
              "      <th>9</th>\n",
              "      <td>a</td>\n",
              "      <td>4</td>\n",
              "      <td>2</td>\n",
              "    </tr>\n",
              "    <tr>\n",
              "      <th>10</th>\n",
              "      <td>a</td>\n",
              "      <td>5</td>\n",
              "      <td>0</td>\n",
              "    </tr>\n",
              "    <tr>\n",
              "      <th>11</th>\n",
              "      <td>a</td>\n",
              "      <td>5</td>\n",
              "      <td>2</td>\n",
              "    </tr>\n",
              "  </tbody>\n",
              "</table>\n",
              "</div>"
            ],
            "text/plain": [
              "   clave  data1  data2\n",
              "0      b      0      1\n",
              "1      b      0      3\n",
              "2      b      1      1\n",
              "3      b      1      3\n",
              "4      b      6      1\n",
              "5      b      6      3\n",
              "6      a      2      0\n",
              "7      a      2      2\n",
              "8      a      4      0\n",
              "9      a      4      2\n",
              "10     a      5      0\n",
              "11     a      5      2"
            ]
          },
          "metadata": {},
          "execution_count": 60
        }
      ]
    },
    {
      "cell_type": "markdown",
      "metadata": {
        "id": "7rpCwf3VxMSA"
      },
      "source": [
        "- La mezcla produce todas las combinaciones posibles entre las *clave* en común.\n",
        "- Como en el `df1` hay tres valores `b`, y en el `df4` hay 2 valores `b`, en el resultado vemos 6 filas con valor `b`\n",
        "- Esto se conoce como *producto cartesiano* entre las filas.\n",
        "- Esto sólo afecta a los valores repetidos."
      ]
    },
    {
      "cell_type": "code",
      "metadata": {
        "id": "q_YUgj58xQHU",
        "colab": {
          "base_uri": "https://localhost:8080/",
          "height": 804
        },
        "outputId": "3a73455a-6113-411b-f6fe-8b035543a98d"
      },
      "source": [
        "print(df1)\n",
        "print('\\n--------------------------\\n')\n",
        "print(df4)\n",
        "print('\\n--------------------------\\n')\n",
        "\n",
        "# left join: mantengo todos los del df1. Es decir, podría tener nans en columna data2\n",
        "mezcla = pd.merge(df1, df4, on='clave', how='left')\n",
        "mezcla"
      ],
      "execution_count": null,
      "outputs": [
        {
          "output_type": "stream",
          "name": "stdout",
          "text": [
            "  clave  data1\n",
            "0     b      0\n",
            "1     b      1\n",
            "2     a      2\n",
            "3     c      3\n",
            "4     a      4\n",
            "5     a      5\n",
            "6     b      6\n",
            "\n",
            "--------------------------\n",
            "\n",
            "  clave  data2\n",
            "0     a      0\n",
            "1     b      1\n",
            "2     a      2\n",
            "3     b      3\n",
            "4     d      4\n",
            "\n",
            "--------------------------\n",
            "\n"
          ]
        },
        {
          "output_type": "execute_result",
          "data": {
            "text/html": [
              "<div>\n",
              "<style scoped>\n",
              "    .dataframe tbody tr th:only-of-type {\n",
              "        vertical-align: middle;\n",
              "    }\n",
              "\n",
              "    .dataframe tbody tr th {\n",
              "        vertical-align: top;\n",
              "    }\n",
              "\n",
              "    .dataframe thead th {\n",
              "        text-align: right;\n",
              "    }\n",
              "</style>\n",
              "<table border=\"1\" class=\"dataframe\">\n",
              "  <thead>\n",
              "    <tr style=\"text-align: right;\">\n",
              "      <th></th>\n",
              "      <th>clave</th>\n",
              "      <th>data1</th>\n",
              "      <th>data2</th>\n",
              "    </tr>\n",
              "  </thead>\n",
              "  <tbody>\n",
              "    <tr>\n",
              "      <th>0</th>\n",
              "      <td>b</td>\n",
              "      <td>0</td>\n",
              "      <td>1.0</td>\n",
              "    </tr>\n",
              "    <tr>\n",
              "      <th>1</th>\n",
              "      <td>b</td>\n",
              "      <td>0</td>\n",
              "      <td>3.0</td>\n",
              "    </tr>\n",
              "    <tr>\n",
              "      <th>2</th>\n",
              "      <td>b</td>\n",
              "      <td>1</td>\n",
              "      <td>1.0</td>\n",
              "    </tr>\n",
              "    <tr>\n",
              "      <th>3</th>\n",
              "      <td>b</td>\n",
              "      <td>1</td>\n",
              "      <td>3.0</td>\n",
              "    </tr>\n",
              "    <tr>\n",
              "      <th>4</th>\n",
              "      <td>a</td>\n",
              "      <td>2</td>\n",
              "      <td>0.0</td>\n",
              "    </tr>\n",
              "    <tr>\n",
              "      <th>5</th>\n",
              "      <td>a</td>\n",
              "      <td>2</td>\n",
              "      <td>2.0</td>\n",
              "    </tr>\n",
              "    <tr>\n",
              "      <th>6</th>\n",
              "      <td>c</td>\n",
              "      <td>3</td>\n",
              "      <td>NaN</td>\n",
              "    </tr>\n",
              "    <tr>\n",
              "      <th>7</th>\n",
              "      <td>a</td>\n",
              "      <td>4</td>\n",
              "      <td>0.0</td>\n",
              "    </tr>\n",
              "    <tr>\n",
              "      <th>8</th>\n",
              "      <td>a</td>\n",
              "      <td>4</td>\n",
              "      <td>2.0</td>\n",
              "    </tr>\n",
              "    <tr>\n",
              "      <th>9</th>\n",
              "      <td>a</td>\n",
              "      <td>5</td>\n",
              "      <td>0.0</td>\n",
              "    </tr>\n",
              "    <tr>\n",
              "      <th>10</th>\n",
              "      <td>a</td>\n",
              "      <td>5</td>\n",
              "      <td>2.0</td>\n",
              "    </tr>\n",
              "    <tr>\n",
              "      <th>11</th>\n",
              "      <td>b</td>\n",
              "      <td>6</td>\n",
              "      <td>1.0</td>\n",
              "    </tr>\n",
              "    <tr>\n",
              "      <th>12</th>\n",
              "      <td>b</td>\n",
              "      <td>6</td>\n",
              "      <td>3.0</td>\n",
              "    </tr>\n",
              "  </tbody>\n",
              "</table>\n",
              "</div>"
            ],
            "text/plain": [
              "   clave  data1  data2\n",
              "0      b      0    1.0\n",
              "1      b      0    3.0\n",
              "2      b      1    1.0\n",
              "3      b      1    3.0\n",
              "4      a      2    0.0\n",
              "5      a      2    2.0\n",
              "6      c      3    NaN\n",
              "7      a      4    0.0\n",
              "8      a      4    2.0\n",
              "9      a      5    0.0\n",
              "10     a      5    2.0\n",
              "11     b      6    1.0\n",
              "12     b      6    3.0"
            ]
          },
          "metadata": {},
          "execution_count": 63
        }
      ]
    },
    {
      "cell_type": "markdown",
      "metadata": {
        "id": "kJMsQFiyzgIw"
      },
      "source": [
        "- Como vemos, hay sólo una fila con el valor `c`"
      ]
    },
    {
      "cell_type": "code",
      "metadata": {
        "id": "2G8KcLB_ziFF",
        "colab": {
          "base_uri": "https://localhost:8080/",
          "height": 81
        },
        "outputId": "6eae0c09-ceba-4faa-e2d7-bb8303e725f9"
      },
      "source": [
        "mezcla[mezcla['clave'] == 'c']"
      ],
      "execution_count": null,
      "outputs": [
        {
          "output_type": "execute_result",
          "data": {
            "text/html": [
              "<div>\n",
              "<style scoped>\n",
              "    .dataframe tbody tr th:only-of-type {\n",
              "        vertical-align: middle;\n",
              "    }\n",
              "\n",
              "    .dataframe tbody tr th {\n",
              "        vertical-align: top;\n",
              "    }\n",
              "\n",
              "    .dataframe thead th {\n",
              "        text-align: right;\n",
              "    }\n",
              "</style>\n",
              "<table border=\"1\" class=\"dataframe\">\n",
              "  <thead>\n",
              "    <tr style=\"text-align: right;\">\n",
              "      <th></th>\n",
              "      <th>clave</th>\n",
              "      <th>data1</th>\n",
              "      <th>data2</th>\n",
              "    </tr>\n",
              "  </thead>\n",
              "  <tbody>\n",
              "    <tr>\n",
              "      <th>6</th>\n",
              "      <td>c</td>\n",
              "      <td>3</td>\n",
              "      <td>NaN</td>\n",
              "    </tr>\n",
              "  </tbody>\n",
              "</table>\n",
              "</div>"
            ],
            "text/plain": [
              "  clave  data1  data2\n",
              "6     c      3    NaN"
            ]
          },
          "metadata": {},
          "execution_count": 64
        }
      ]
    },
    {
      "cell_type": "markdown",
      "metadata": {
        "id": "U1lf7mXMzkOc"
      },
      "source": [
        "- Si queremos mezclar múltiples claves, necesitamos pasar una lista de claves"
      ]
    },
    {
      "cell_type": "code",
      "metadata": {
        "id": "f8-UFrNfzmWG",
        "colab": {
          "base_uri": "https://localhost:8080/",
          "height": 143
        },
        "outputId": "20fc03e5-1b5f-4bb7-ae31-6d787dc56590"
      },
      "source": [
        "izq_csv = \"\"\"\n",
        "clave1,clave2,valor_izq\n",
        "foo,uno,0\n",
        "foo,dos,1\n",
        "bar,uno,2\n",
        "\"\"\"\n",
        "\n",
        "izq = pd.read_csv(StringIO(izq_csv))\n",
        "izq"
      ],
      "execution_count": null,
      "outputs": [
        {
          "output_type": "execute_result",
          "data": {
            "text/html": [
              "<div>\n",
              "<style scoped>\n",
              "    .dataframe tbody tr th:only-of-type {\n",
              "        vertical-align: middle;\n",
              "    }\n",
              "\n",
              "    .dataframe tbody tr th {\n",
              "        vertical-align: top;\n",
              "    }\n",
              "\n",
              "    .dataframe thead th {\n",
              "        text-align: right;\n",
              "    }\n",
              "</style>\n",
              "<table border=\"1\" class=\"dataframe\">\n",
              "  <thead>\n",
              "    <tr style=\"text-align: right;\">\n",
              "      <th></th>\n",
              "      <th>clave1</th>\n",
              "      <th>clave2</th>\n",
              "      <th>valor_izq</th>\n",
              "    </tr>\n",
              "  </thead>\n",
              "  <tbody>\n",
              "    <tr>\n",
              "      <th>0</th>\n",
              "      <td>foo</td>\n",
              "      <td>uno</td>\n",
              "      <td>0</td>\n",
              "    </tr>\n",
              "    <tr>\n",
              "      <th>1</th>\n",
              "      <td>foo</td>\n",
              "      <td>dos</td>\n",
              "      <td>1</td>\n",
              "    </tr>\n",
              "    <tr>\n",
              "      <th>2</th>\n",
              "      <td>bar</td>\n",
              "      <td>uno</td>\n",
              "      <td>2</td>\n",
              "    </tr>\n",
              "  </tbody>\n",
              "</table>\n",
              "</div>"
            ],
            "text/plain": [
              "  clave1 clave2  valor_izq\n",
              "0    foo    uno          0\n",
              "1    foo    dos          1\n",
              "2    bar    uno          2"
            ]
          },
          "metadata": {},
          "execution_count": 68
        }
      ]
    },
    {
      "cell_type": "code",
      "metadata": {
        "id": "bJjuIC4g0R4L",
        "colab": {
          "base_uri": "https://localhost:8080/",
          "height": 175
        },
        "outputId": "121cf7d2-688e-4459-f9ac-f23db944b22f"
      },
      "source": [
        "der_csv = \"\"\"\n",
        "clave1,clave2,valor_der\n",
        "foo,uno,0\n",
        "foo,uno,1\n",
        "bar,uno,2\n",
        "bar,dos,3\n",
        "\"\"\"\n",
        "der = pd.read_csv(StringIO(der_csv))\n",
        "der"
      ],
      "execution_count": null,
      "outputs": [
        {
          "output_type": "execute_result",
          "data": {
            "text/html": [
              "<div>\n",
              "<style scoped>\n",
              "    .dataframe tbody tr th:only-of-type {\n",
              "        vertical-align: middle;\n",
              "    }\n",
              "\n",
              "    .dataframe tbody tr th {\n",
              "        vertical-align: top;\n",
              "    }\n",
              "\n",
              "    .dataframe thead th {\n",
              "        text-align: right;\n",
              "    }\n",
              "</style>\n",
              "<table border=\"1\" class=\"dataframe\">\n",
              "  <thead>\n",
              "    <tr style=\"text-align: right;\">\n",
              "      <th></th>\n",
              "      <th>clave1</th>\n",
              "      <th>clave2</th>\n",
              "      <th>valor_der</th>\n",
              "    </tr>\n",
              "  </thead>\n",
              "  <tbody>\n",
              "    <tr>\n",
              "      <th>0</th>\n",
              "      <td>foo</td>\n",
              "      <td>uno</td>\n",
              "      <td>0</td>\n",
              "    </tr>\n",
              "    <tr>\n",
              "      <th>1</th>\n",
              "      <td>foo</td>\n",
              "      <td>uno</td>\n",
              "      <td>1</td>\n",
              "    </tr>\n",
              "    <tr>\n",
              "      <th>2</th>\n",
              "      <td>bar</td>\n",
              "      <td>uno</td>\n",
              "      <td>2</td>\n",
              "    </tr>\n",
              "    <tr>\n",
              "      <th>3</th>\n",
              "      <td>bar</td>\n",
              "      <td>dos</td>\n",
              "      <td>3</td>\n",
              "    </tr>\n",
              "  </tbody>\n",
              "</table>\n",
              "</div>"
            ],
            "text/plain": [
              "  clave1 clave2  valor_der\n",
              "0    foo    uno          0\n",
              "1    foo    uno          1\n",
              "2    bar    uno          2\n",
              "3    bar    dos          3"
            ]
          },
          "metadata": {},
          "execution_count": 70
        }
      ]
    },
    {
      "cell_type": "code",
      "metadata": {
        "id": "WA2F3PIg0kvw",
        "colab": {
          "base_uri": "https://localhost:8080/",
          "height": 467
        },
        "outputId": "24a2974b-ecab-4730-bea2-2cc5f96ef7d4"
      },
      "source": [
        "print(izq)\n",
        "print('\\n----------------------------\\n')\n",
        "print(der)\n",
        "print('\\n----------------------------\\n')\n",
        "\n",
        "# vamos a mantener todas la filas. Para entenderlo conviene partir desde la tabla que tiene más filas\n",
        "pd.merge(izq, der, on=['clave1', 'clave2'], how='outer')"
      ],
      "execution_count": null,
      "outputs": [
        {
          "output_type": "stream",
          "name": "stdout",
          "text": [
            "  clave1 clave2  valor_izq\n",
            "0    foo    uno          0\n",
            "1    foo    dos          1\n",
            "2    bar    uno          2\n",
            "\n",
            "----------------------------\n",
            "\n",
            "  clave1 clave2  valor_der\n",
            "0    foo    uno          0\n",
            "1    foo    uno          1\n",
            "2    bar    uno          2\n",
            "3    bar    dos          3\n",
            "\n",
            "----------------------------\n",
            "\n"
          ]
        },
        {
          "output_type": "execute_result",
          "data": {
            "text/html": [
              "<div>\n",
              "<style scoped>\n",
              "    .dataframe tbody tr th:only-of-type {\n",
              "        vertical-align: middle;\n",
              "    }\n",
              "\n",
              "    .dataframe tbody tr th {\n",
              "        vertical-align: top;\n",
              "    }\n",
              "\n",
              "    .dataframe thead th {\n",
              "        text-align: right;\n",
              "    }\n",
              "</style>\n",
              "<table border=\"1\" class=\"dataframe\">\n",
              "  <thead>\n",
              "    <tr style=\"text-align: right;\">\n",
              "      <th></th>\n",
              "      <th>clave1</th>\n",
              "      <th>clave2</th>\n",
              "      <th>valor_izq</th>\n",
              "      <th>valor_der</th>\n",
              "    </tr>\n",
              "  </thead>\n",
              "  <tbody>\n",
              "    <tr>\n",
              "      <th>0</th>\n",
              "      <td>foo</td>\n",
              "      <td>uno</td>\n",
              "      <td>0.0</td>\n",
              "      <td>0.0</td>\n",
              "    </tr>\n",
              "    <tr>\n",
              "      <th>1</th>\n",
              "      <td>foo</td>\n",
              "      <td>uno</td>\n",
              "      <td>0.0</td>\n",
              "      <td>1.0</td>\n",
              "    </tr>\n",
              "    <tr>\n",
              "      <th>2</th>\n",
              "      <td>foo</td>\n",
              "      <td>dos</td>\n",
              "      <td>1.0</td>\n",
              "      <td>NaN</td>\n",
              "    </tr>\n",
              "    <tr>\n",
              "      <th>3</th>\n",
              "      <td>bar</td>\n",
              "      <td>uno</td>\n",
              "      <td>2.0</td>\n",
              "      <td>2.0</td>\n",
              "    </tr>\n",
              "    <tr>\n",
              "      <th>4</th>\n",
              "      <td>bar</td>\n",
              "      <td>dos</td>\n",
              "      <td>NaN</td>\n",
              "      <td>3.0</td>\n",
              "    </tr>\n",
              "  </tbody>\n",
              "</table>\n",
              "</div>"
            ],
            "text/plain": [
              "  clave1 clave2  valor_izq  valor_der\n",
              "0    foo    uno        0.0        0.0\n",
              "1    foo    uno        0.0        1.0\n",
              "2    foo    dos        1.0        NaN\n",
              "3    bar    uno        2.0        2.0\n",
              "4    bar    dos        NaN        3.0"
            ]
          },
          "metadata": {},
          "execution_count": 71
        }
      ]
    },
    {
      "cell_type": "markdown",
      "metadata": {
        "id": "4Z6gZ4_40m9m"
      },
      "source": [
        "- Para determinar la combinación resultante, se puede considerar cada mezcla de claves como una tupla, y cada tupla se considera una **clave unitaria**.\n",
        "<br/><br/>\n",
        "- Un último punto que revisar sobre las mezclas es la forma de lidiar con nombres de columnas repetidos.\n",
        "- La función `merge` agrega sufijos por defecto a las columnas repetidas, pero los nombres son poco significativos."
      ]
    },
    {
      "cell_type": "code",
      "metadata": {
        "id": "RBhp0DyX0sRl",
        "colab": {
          "base_uri": "https://localhost:8080/",
          "height": 238
        },
        "outputId": "53f8f64b-b3ac-4204-8c3e-56ba8d6e0cf9"
      },
      "source": [
        "pd.merge(izq, der, on='clave1')"
      ],
      "execution_count": null,
      "outputs": [
        {
          "output_type": "execute_result",
          "data": {
            "text/html": [
              "<div>\n",
              "<style scoped>\n",
              "    .dataframe tbody tr th:only-of-type {\n",
              "        vertical-align: middle;\n",
              "    }\n",
              "\n",
              "    .dataframe tbody tr th {\n",
              "        vertical-align: top;\n",
              "    }\n",
              "\n",
              "    .dataframe thead th {\n",
              "        text-align: right;\n",
              "    }\n",
              "</style>\n",
              "<table border=\"1\" class=\"dataframe\">\n",
              "  <thead>\n",
              "    <tr style=\"text-align: right;\">\n",
              "      <th></th>\n",
              "      <th>clave1</th>\n",
              "      <th>clave2_x</th>\n",
              "      <th>valor_izq</th>\n",
              "      <th>clave2_y</th>\n",
              "      <th>valor_der</th>\n",
              "    </tr>\n",
              "  </thead>\n",
              "  <tbody>\n",
              "    <tr>\n",
              "      <th>0</th>\n",
              "      <td>foo</td>\n",
              "      <td>uno</td>\n",
              "      <td>0</td>\n",
              "      <td>uno</td>\n",
              "      <td>0</td>\n",
              "    </tr>\n",
              "    <tr>\n",
              "      <th>1</th>\n",
              "      <td>foo</td>\n",
              "      <td>uno</td>\n",
              "      <td>0</td>\n",
              "      <td>uno</td>\n",
              "      <td>1</td>\n",
              "    </tr>\n",
              "    <tr>\n",
              "      <th>2</th>\n",
              "      <td>foo</td>\n",
              "      <td>dos</td>\n",
              "      <td>1</td>\n",
              "      <td>uno</td>\n",
              "      <td>0</td>\n",
              "    </tr>\n",
              "    <tr>\n",
              "      <th>3</th>\n",
              "      <td>foo</td>\n",
              "      <td>dos</td>\n",
              "      <td>1</td>\n",
              "      <td>uno</td>\n",
              "      <td>1</td>\n",
              "    </tr>\n",
              "    <tr>\n",
              "      <th>4</th>\n",
              "      <td>bar</td>\n",
              "      <td>uno</td>\n",
              "      <td>2</td>\n",
              "      <td>uno</td>\n",
              "      <td>2</td>\n",
              "    </tr>\n",
              "    <tr>\n",
              "      <th>5</th>\n",
              "      <td>bar</td>\n",
              "      <td>uno</td>\n",
              "      <td>2</td>\n",
              "      <td>dos</td>\n",
              "      <td>3</td>\n",
              "    </tr>\n",
              "  </tbody>\n",
              "</table>\n",
              "</div>"
            ],
            "text/plain": [
              "  clave1 clave2_x  valor_izq clave2_y  valor_der\n",
              "0    foo      uno          0      uno          0\n",
              "1    foo      uno          0      uno          1\n",
              "2    foo      dos          1      uno          0\n",
              "3    foo      dos          1      uno          1\n",
              "4    bar      uno          2      uno          2\n",
              "5    bar      uno          2      dos          3"
            ]
          },
          "metadata": {},
          "execution_count": 72
        }
      ]
    },
    {
      "cell_type": "markdown",
      "metadata": {
        "id": "LHmwKrSO0usR"
      },
      "source": [
        "- Una opción poco práctica es renombrar las columnas manualmente.\n",
        "- Otra opción es usar el parámetro `suffixes` de la función `merge`, que permite dar *sufijos* al nombre de la columna de cada `DataFrame`."
      ]
    },
    {
      "cell_type": "code",
      "metadata": {
        "id": "i2FcZXmT0w6x",
        "colab": {
          "base_uri": "https://localhost:8080/",
          "height": 238
        },
        "outputId": "612aceef-fd86-4e8e-b31d-77dcfa317b18"
      },
      "source": [
        "pd.merge(izq, der, on='clave1', suffixes=('_izq__', '_der__')) # permite diferenciar columnas con el mismo nombre"
      ],
      "execution_count": null,
      "outputs": [
        {
          "output_type": "execute_result",
          "data": {
            "text/html": [
              "<div>\n",
              "<style scoped>\n",
              "    .dataframe tbody tr th:only-of-type {\n",
              "        vertical-align: middle;\n",
              "    }\n",
              "\n",
              "    .dataframe tbody tr th {\n",
              "        vertical-align: top;\n",
              "    }\n",
              "\n",
              "    .dataframe thead th {\n",
              "        text-align: right;\n",
              "    }\n",
              "</style>\n",
              "<table border=\"1\" class=\"dataframe\">\n",
              "  <thead>\n",
              "    <tr style=\"text-align: right;\">\n",
              "      <th></th>\n",
              "      <th>clave1</th>\n",
              "      <th>clave2_izq__</th>\n",
              "      <th>valor_izq</th>\n",
              "      <th>clave2_der__</th>\n",
              "      <th>valor_der</th>\n",
              "    </tr>\n",
              "  </thead>\n",
              "  <tbody>\n",
              "    <tr>\n",
              "      <th>0</th>\n",
              "      <td>foo</td>\n",
              "      <td>uno</td>\n",
              "      <td>0</td>\n",
              "      <td>uno</td>\n",
              "      <td>0</td>\n",
              "    </tr>\n",
              "    <tr>\n",
              "      <th>1</th>\n",
              "      <td>foo</td>\n",
              "      <td>uno</td>\n",
              "      <td>0</td>\n",
              "      <td>uno</td>\n",
              "      <td>1</td>\n",
              "    </tr>\n",
              "    <tr>\n",
              "      <th>2</th>\n",
              "      <td>foo</td>\n",
              "      <td>dos</td>\n",
              "      <td>1</td>\n",
              "      <td>uno</td>\n",
              "      <td>0</td>\n",
              "    </tr>\n",
              "    <tr>\n",
              "      <th>3</th>\n",
              "      <td>foo</td>\n",
              "      <td>dos</td>\n",
              "      <td>1</td>\n",
              "      <td>uno</td>\n",
              "      <td>1</td>\n",
              "    </tr>\n",
              "    <tr>\n",
              "      <th>4</th>\n",
              "      <td>bar</td>\n",
              "      <td>uno</td>\n",
              "      <td>2</td>\n",
              "      <td>uno</td>\n",
              "      <td>2</td>\n",
              "    </tr>\n",
              "    <tr>\n",
              "      <th>5</th>\n",
              "      <td>bar</td>\n",
              "      <td>uno</td>\n",
              "      <td>2</td>\n",
              "      <td>dos</td>\n",
              "      <td>3</td>\n",
              "    </tr>\n",
              "  </tbody>\n",
              "</table>\n",
              "</div>"
            ],
            "text/plain": [
              "  clave1 clave2_izq__  valor_izq clave2_der__  valor_der\n",
              "0    foo          uno          0          uno          0\n",
              "1    foo          uno          0          uno          1\n",
              "2    foo          dos          1          uno          0\n",
              "3    foo          dos          1          uno          1\n",
              "4    bar          uno          2          uno          2\n",
              "5    bar          uno          2          dos          3"
            ]
          },
          "metadata": {},
          "execution_count": 74
        }
      ]
    },
    {
      "cell_type": "markdown",
      "metadata": {
        "id": "APnQztlZ0yWk"
      },
      "source": [
        "### Mezclando con índices"
      ]
    },
    {
      "cell_type": "markdown",
      "metadata": {
        "id": "EaaKqP-JaSsi"
      },
      "source": [
        "- En algunos casos, las claves para `merge` serán los índices de las filas.\n",
        "- En estos casos, debemos usar los parámetros `left_index` o `right_index` (o ambos) con valor `True`.\n",
        "- De esta forma indicamos que la mezcla se realiza utilizando los índices."
      ]
    },
    {
      "cell_type": "code",
      "metadata": {
        "id": "V8rbykl-afgG",
        "colab": {
          "base_uri": "https://localhost:8080/",
          "height": 238
        },
        "outputId": "fb088ed3-7a1c-49a4-ca89-31784800dca2"
      },
      "source": [
        "izq1 = pd.DataFrame({\n",
        "    'clave':['a','b','a', 'a','b','c'],\n",
        "    'valor': range(6),\n",
        "})\n",
        "\n",
        "izq1"
      ],
      "execution_count": null,
      "outputs": [
        {
          "output_type": "execute_result",
          "data": {
            "text/html": [
              "<div>\n",
              "<style scoped>\n",
              "    .dataframe tbody tr th:only-of-type {\n",
              "        vertical-align: middle;\n",
              "    }\n",
              "\n",
              "    .dataframe tbody tr th {\n",
              "        vertical-align: top;\n",
              "    }\n",
              "\n",
              "    .dataframe thead th {\n",
              "        text-align: right;\n",
              "    }\n",
              "</style>\n",
              "<table border=\"1\" class=\"dataframe\">\n",
              "  <thead>\n",
              "    <tr style=\"text-align: right;\">\n",
              "      <th></th>\n",
              "      <th>clave</th>\n",
              "      <th>valor</th>\n",
              "    </tr>\n",
              "  </thead>\n",
              "  <tbody>\n",
              "    <tr>\n",
              "      <th>0</th>\n",
              "      <td>a</td>\n",
              "      <td>0</td>\n",
              "    </tr>\n",
              "    <tr>\n",
              "      <th>1</th>\n",
              "      <td>b</td>\n",
              "      <td>1</td>\n",
              "    </tr>\n",
              "    <tr>\n",
              "      <th>2</th>\n",
              "      <td>a</td>\n",
              "      <td>2</td>\n",
              "    </tr>\n",
              "    <tr>\n",
              "      <th>3</th>\n",
              "      <td>a</td>\n",
              "      <td>3</td>\n",
              "    </tr>\n",
              "    <tr>\n",
              "      <th>4</th>\n",
              "      <td>b</td>\n",
              "      <td>4</td>\n",
              "    </tr>\n",
              "    <tr>\n",
              "      <th>5</th>\n",
              "      <td>c</td>\n",
              "      <td>5</td>\n",
              "    </tr>\n",
              "  </tbody>\n",
              "</table>\n",
              "</div>"
            ],
            "text/plain": [
              "  clave  valor\n",
              "0     a      0\n",
              "1     b      1\n",
              "2     a      2\n",
              "3     a      3\n",
              "4     b      4\n",
              "5     c      5"
            ]
          },
          "metadata": {},
          "execution_count": 75
        }
      ]
    },
    {
      "cell_type": "code",
      "metadata": {
        "id": "4hdIGpina_uH",
        "colab": {
          "base_uri": "https://localhost:8080/",
          "height": 143
        },
        "outputId": "e9a2559f-84ca-4bd8-b172-9a1c87ae275e"
      },
      "source": [
        "der1 = pd.DataFrame({\n",
        "    'indice':['a', 'b'],\n",
        "    'val_grupo': [3.5, 7.0]\n",
        "}).set_index('indice')\n",
        "\n",
        "der1"
      ],
      "execution_count": null,
      "outputs": [
        {
          "output_type": "execute_result",
          "data": {
            "text/html": [
              "<div>\n",
              "<style scoped>\n",
              "    .dataframe tbody tr th:only-of-type {\n",
              "        vertical-align: middle;\n",
              "    }\n",
              "\n",
              "    .dataframe tbody tr th {\n",
              "        vertical-align: top;\n",
              "    }\n",
              "\n",
              "    .dataframe thead th {\n",
              "        text-align: right;\n",
              "    }\n",
              "</style>\n",
              "<table border=\"1\" class=\"dataframe\">\n",
              "  <thead>\n",
              "    <tr style=\"text-align: right;\">\n",
              "      <th></th>\n",
              "      <th>val_grupo</th>\n",
              "    </tr>\n",
              "    <tr>\n",
              "      <th>indice</th>\n",
              "      <th></th>\n",
              "    </tr>\n",
              "  </thead>\n",
              "  <tbody>\n",
              "    <tr>\n",
              "      <th>a</th>\n",
              "      <td>3.5</td>\n",
              "    </tr>\n",
              "    <tr>\n",
              "      <th>b</th>\n",
              "      <td>7.0</td>\n",
              "    </tr>\n",
              "  </tbody>\n",
              "</table>\n",
              "</div>"
            ],
            "text/plain": [
              "        val_grupo\n",
              "indice           \n",
              "a             3.5\n",
              "b             7.0"
            ]
          },
          "metadata": {},
          "execution_count": 76
        }
      ]
    },
    {
      "cell_type": "code",
      "metadata": {
        "id": "gC-Tl039bpm-",
        "colab": {
          "base_uri": "https://localhost:8080/",
          "height": 206
        },
        "outputId": "90970da9-d981-4456-988c-bc5d1f2af1d9"
      },
      "source": [
        "# del dataframe izquierdo ocupa la columna clave y del derecho su índice\n",
        "pd.merge(izq1, der1, left_on='clave', right_index=True)"
      ],
      "execution_count": null,
      "outputs": [
        {
          "output_type": "execute_result",
          "data": {
            "text/html": [
              "<div>\n",
              "<style scoped>\n",
              "    .dataframe tbody tr th:only-of-type {\n",
              "        vertical-align: middle;\n",
              "    }\n",
              "\n",
              "    .dataframe tbody tr th {\n",
              "        vertical-align: top;\n",
              "    }\n",
              "\n",
              "    .dataframe thead th {\n",
              "        text-align: right;\n",
              "    }\n",
              "</style>\n",
              "<table border=\"1\" class=\"dataframe\">\n",
              "  <thead>\n",
              "    <tr style=\"text-align: right;\">\n",
              "      <th></th>\n",
              "      <th>clave</th>\n",
              "      <th>valor</th>\n",
              "      <th>val_grupo</th>\n",
              "    </tr>\n",
              "  </thead>\n",
              "  <tbody>\n",
              "    <tr>\n",
              "      <th>0</th>\n",
              "      <td>a</td>\n",
              "      <td>0</td>\n",
              "      <td>3.5</td>\n",
              "    </tr>\n",
              "    <tr>\n",
              "      <th>2</th>\n",
              "      <td>a</td>\n",
              "      <td>2</td>\n",
              "      <td>3.5</td>\n",
              "    </tr>\n",
              "    <tr>\n",
              "      <th>3</th>\n",
              "      <td>a</td>\n",
              "      <td>3</td>\n",
              "      <td>3.5</td>\n",
              "    </tr>\n",
              "    <tr>\n",
              "      <th>1</th>\n",
              "      <td>b</td>\n",
              "      <td>1</td>\n",
              "      <td>7.0</td>\n",
              "    </tr>\n",
              "    <tr>\n",
              "      <th>4</th>\n",
              "      <td>b</td>\n",
              "      <td>4</td>\n",
              "      <td>7.0</td>\n",
              "    </tr>\n",
              "  </tbody>\n",
              "</table>\n",
              "</div>"
            ],
            "text/plain": [
              "  clave  valor  val_grupo\n",
              "0     a      0        3.5\n",
              "2     a      2        3.5\n",
              "3     a      3        3.5\n",
              "1     b      1        7.0\n",
              "4     b      4        7.0"
            ]
          },
          "metadata": {},
          "execution_count": 77
        }
      ]
    },
    {
      "cell_type": "markdown",
      "metadata": {
        "id": "OMMP67lPbsDR"
      },
      "source": [
        "- Y si queremos contar con todas las filas"
      ]
    },
    {
      "cell_type": "code",
      "metadata": {
        "id": "6Csp2t7sbu30",
        "colab": {
          "base_uri": "https://localhost:8080/",
          "height": 238
        },
        "outputId": "f99e7bab-1582-4154-8af4-e3cfb19fa239"
      },
      "source": [
        "# del dataframe izquierdo ocupa la columna clave y del derecho su índice,con outer merge\n",
        "pd.merge(izq1, der1, left_on='clave', right_index=True, how='outer')"
      ],
      "execution_count": null,
      "outputs": [
        {
          "output_type": "execute_result",
          "data": {
            "text/html": [
              "<div>\n",
              "<style scoped>\n",
              "    .dataframe tbody tr th:only-of-type {\n",
              "        vertical-align: middle;\n",
              "    }\n",
              "\n",
              "    .dataframe tbody tr th {\n",
              "        vertical-align: top;\n",
              "    }\n",
              "\n",
              "    .dataframe thead th {\n",
              "        text-align: right;\n",
              "    }\n",
              "</style>\n",
              "<table border=\"1\" class=\"dataframe\">\n",
              "  <thead>\n",
              "    <tr style=\"text-align: right;\">\n",
              "      <th></th>\n",
              "      <th>clave</th>\n",
              "      <th>valor</th>\n",
              "      <th>val_grupo</th>\n",
              "    </tr>\n",
              "  </thead>\n",
              "  <tbody>\n",
              "    <tr>\n",
              "      <th>0</th>\n",
              "      <td>a</td>\n",
              "      <td>0</td>\n",
              "      <td>3.5</td>\n",
              "    </tr>\n",
              "    <tr>\n",
              "      <th>2</th>\n",
              "      <td>a</td>\n",
              "      <td>2</td>\n",
              "      <td>3.5</td>\n",
              "    </tr>\n",
              "    <tr>\n",
              "      <th>3</th>\n",
              "      <td>a</td>\n",
              "      <td>3</td>\n",
              "      <td>3.5</td>\n",
              "    </tr>\n",
              "    <tr>\n",
              "      <th>1</th>\n",
              "      <td>b</td>\n",
              "      <td>1</td>\n",
              "      <td>7.0</td>\n",
              "    </tr>\n",
              "    <tr>\n",
              "      <th>4</th>\n",
              "      <td>b</td>\n",
              "      <td>4</td>\n",
              "      <td>7.0</td>\n",
              "    </tr>\n",
              "    <tr>\n",
              "      <th>5</th>\n",
              "      <td>c</td>\n",
              "      <td>5</td>\n",
              "      <td>NaN</td>\n",
              "    </tr>\n",
              "  </tbody>\n",
              "</table>\n",
              "</div>"
            ],
            "text/plain": [
              "  clave  valor  val_grupo\n",
              "0     a      0        3.5\n",
              "2     a      2        3.5\n",
              "3     a      3        3.5\n",
              "1     b      1        7.0\n",
              "4     b      4        7.0\n",
              "5     c      5        NaN"
            ]
          },
          "metadata": {},
          "execution_count": 78
        }
      ]
    },
    {
      "cell_type": "markdown",
      "metadata": {
        "id": "8MqBdeHobxgr"
      },
      "source": [
        "- Para datos con indexación jerárquica, es un poco más complicado.\n",
        "- Si mezclamos con el índice jerárquico, implicitamente indicamos una mezcla de múltiples claves."
      ]
    },
    {
      "cell_type": "code",
      "metadata": {
        "id": "t9-i5j_sb0cs",
        "colab": {
          "base_uri": "https://localhost:8080/",
          "height": 206
        },
        "outputId": "810399a2-2957-49ba-a2ce-1bbc0a9d9b2f"
      },
      "source": [
        "izq_jer = pd.DataFrame({\n",
        "    'ciudad': ['Concepción']*3 + ['Osorno']*2,\n",
        "    'año':[2000, 2001, 2002,  2001, 2002],\n",
        "    'data': np.arange(5.)\n",
        "})\n",
        "\n",
        "izq_jer"
      ],
      "execution_count": null,
      "outputs": [
        {
          "output_type": "execute_result",
          "data": {
            "text/html": [
              "<div>\n",
              "<style scoped>\n",
              "    .dataframe tbody tr th:only-of-type {\n",
              "        vertical-align: middle;\n",
              "    }\n",
              "\n",
              "    .dataframe tbody tr th {\n",
              "        vertical-align: top;\n",
              "    }\n",
              "\n",
              "    .dataframe thead th {\n",
              "        text-align: right;\n",
              "    }\n",
              "</style>\n",
              "<table border=\"1\" class=\"dataframe\">\n",
              "  <thead>\n",
              "    <tr style=\"text-align: right;\">\n",
              "      <th></th>\n",
              "      <th>ciudad</th>\n",
              "      <th>año</th>\n",
              "      <th>data</th>\n",
              "    </tr>\n",
              "  </thead>\n",
              "  <tbody>\n",
              "    <tr>\n",
              "      <th>0</th>\n",
              "      <td>Concepción</td>\n",
              "      <td>2000</td>\n",
              "      <td>0.0</td>\n",
              "    </tr>\n",
              "    <tr>\n",
              "      <th>1</th>\n",
              "      <td>Concepción</td>\n",
              "      <td>2001</td>\n",
              "      <td>1.0</td>\n",
              "    </tr>\n",
              "    <tr>\n",
              "      <th>2</th>\n",
              "      <td>Concepción</td>\n",
              "      <td>2002</td>\n",
              "      <td>2.0</td>\n",
              "    </tr>\n",
              "    <tr>\n",
              "      <th>3</th>\n",
              "      <td>Osorno</td>\n",
              "      <td>2001</td>\n",
              "      <td>3.0</td>\n",
              "    </tr>\n",
              "    <tr>\n",
              "      <th>4</th>\n",
              "      <td>Osorno</td>\n",
              "      <td>2002</td>\n",
              "      <td>4.0</td>\n",
              "    </tr>\n",
              "  </tbody>\n",
              "</table>\n",
              "</div>"
            ],
            "text/plain": [
              "       ciudad   año  data\n",
              "0  Concepción  2000   0.0\n",
              "1  Concepción  2001   1.0\n",
              "2  Concepción  2002   2.0\n",
              "3      Osorno  2001   3.0\n",
              "4      Osorno  2002   4.0"
            ]
          },
          "metadata": {},
          "execution_count": 79
        }
      ]
    },
    {
      "cell_type": "code",
      "metadata": {
        "id": "QDkOtQ8OcXz0",
        "colab": {
          "base_uri": "https://localhost:8080/",
          "height": 269
        },
        "outputId": "6b5aef77-575d-49f4-f094-75390af119e5"
      },
      "source": [
        "der_jer = pd.DataFrame({\n",
        "    'ciudad': ['Osorno']*2 + ['Concepción']*4,\n",
        "    'año': [2001, 2000, 2000, 2000, 2001,  2002],\n",
        "    'evento1': range(0,12,2),\n",
        "    'evento2': range(1,13,2)\n",
        "}).set_index(['ciudad', 'año'])\n",
        "\n",
        "der_jer"
      ],
      "execution_count": null,
      "outputs": [
        {
          "output_type": "execute_result",
          "data": {
            "text/html": [
              "<div>\n",
              "<style scoped>\n",
              "    .dataframe tbody tr th:only-of-type {\n",
              "        vertical-align: middle;\n",
              "    }\n",
              "\n",
              "    .dataframe tbody tr th {\n",
              "        vertical-align: top;\n",
              "    }\n",
              "\n",
              "    .dataframe thead th {\n",
              "        text-align: right;\n",
              "    }\n",
              "</style>\n",
              "<table border=\"1\" class=\"dataframe\">\n",
              "  <thead>\n",
              "    <tr style=\"text-align: right;\">\n",
              "      <th></th>\n",
              "      <th></th>\n",
              "      <th>evento1</th>\n",
              "      <th>evento2</th>\n",
              "    </tr>\n",
              "    <tr>\n",
              "      <th>ciudad</th>\n",
              "      <th>año</th>\n",
              "      <th></th>\n",
              "      <th></th>\n",
              "    </tr>\n",
              "  </thead>\n",
              "  <tbody>\n",
              "    <tr>\n",
              "      <th rowspan=\"2\" valign=\"top\">Osorno</th>\n",
              "      <th>2001</th>\n",
              "      <td>0</td>\n",
              "      <td>1</td>\n",
              "    </tr>\n",
              "    <tr>\n",
              "      <th>2000</th>\n",
              "      <td>2</td>\n",
              "      <td>3</td>\n",
              "    </tr>\n",
              "    <tr>\n",
              "      <th rowspan=\"4\" valign=\"top\">Concepción</th>\n",
              "      <th>2000</th>\n",
              "      <td>4</td>\n",
              "      <td>5</td>\n",
              "    </tr>\n",
              "    <tr>\n",
              "      <th>2000</th>\n",
              "      <td>6</td>\n",
              "      <td>7</td>\n",
              "    </tr>\n",
              "    <tr>\n",
              "      <th>2001</th>\n",
              "      <td>8</td>\n",
              "      <td>9</td>\n",
              "    </tr>\n",
              "    <tr>\n",
              "      <th>2002</th>\n",
              "      <td>10</td>\n",
              "      <td>11</td>\n",
              "    </tr>\n",
              "  </tbody>\n",
              "</table>\n",
              "</div>"
            ],
            "text/plain": [
              "                 evento1  evento2\n",
              "ciudad     año                   \n",
              "Osorno     2001        0        1\n",
              "           2000        2        3\n",
              "Concepción 2000        4        5\n",
              "           2000        6        7\n",
              "           2001        8        9\n",
              "           2002       10       11"
            ]
          },
          "metadata": {},
          "execution_count": 80
        }
      ]
    },
    {
      "cell_type": "markdown",
      "metadata": {
        "id": "-TKU16rcdnLW"
      },
      "source": [
        "- En estos casos, necesitamos indicar múltiples columnas para mezclas el índice jerárquico"
      ]
    },
    {
      "cell_type": "code",
      "metadata": {
        "id": "0iaDEaD9dp6T",
        "colab": {
          "base_uri": "https://localhost:8080/",
          "height": 206
        },
        "outputId": "af9d2993-fa4d-41e2-9c23-ec022175b4a9"
      },
      "source": [
        "# en el dataframe izquierdo utilizamos las columnas (ciudad, año) y en el\n",
        "# dataframe derecho usamos el índice jerárquico de (ciudad, año)\n",
        "pd.merge(izq_jer, der_jer, left_on=['ciudad', 'año'], right_index=True)"
      ],
      "execution_count": null,
      "outputs": [
        {
          "output_type": "execute_result",
          "data": {
            "text/html": [
              "<div>\n",
              "<style scoped>\n",
              "    .dataframe tbody tr th:only-of-type {\n",
              "        vertical-align: middle;\n",
              "    }\n",
              "\n",
              "    .dataframe tbody tr th {\n",
              "        vertical-align: top;\n",
              "    }\n",
              "\n",
              "    .dataframe thead th {\n",
              "        text-align: right;\n",
              "    }\n",
              "</style>\n",
              "<table border=\"1\" class=\"dataframe\">\n",
              "  <thead>\n",
              "    <tr style=\"text-align: right;\">\n",
              "      <th></th>\n",
              "      <th>ciudad</th>\n",
              "      <th>año</th>\n",
              "      <th>data</th>\n",
              "      <th>evento1</th>\n",
              "      <th>evento2</th>\n",
              "    </tr>\n",
              "  </thead>\n",
              "  <tbody>\n",
              "    <tr>\n",
              "      <th>0</th>\n",
              "      <td>Concepción</td>\n",
              "      <td>2000</td>\n",
              "      <td>0.0</td>\n",
              "      <td>4</td>\n",
              "      <td>5</td>\n",
              "    </tr>\n",
              "    <tr>\n",
              "      <th>0</th>\n",
              "      <td>Concepción</td>\n",
              "      <td>2000</td>\n",
              "      <td>0.0</td>\n",
              "      <td>6</td>\n",
              "      <td>7</td>\n",
              "    </tr>\n",
              "    <tr>\n",
              "      <th>1</th>\n",
              "      <td>Concepción</td>\n",
              "      <td>2001</td>\n",
              "      <td>1.0</td>\n",
              "      <td>8</td>\n",
              "      <td>9</td>\n",
              "    </tr>\n",
              "    <tr>\n",
              "      <th>2</th>\n",
              "      <td>Concepción</td>\n",
              "      <td>2002</td>\n",
              "      <td>2.0</td>\n",
              "      <td>10</td>\n",
              "      <td>11</td>\n",
              "    </tr>\n",
              "    <tr>\n",
              "      <th>3</th>\n",
              "      <td>Osorno</td>\n",
              "      <td>2001</td>\n",
              "      <td>3.0</td>\n",
              "      <td>0</td>\n",
              "      <td>1</td>\n",
              "    </tr>\n",
              "  </tbody>\n",
              "</table>\n",
              "</div>"
            ],
            "text/plain": [
              "       ciudad   año  data  evento1  evento2\n",
              "0  Concepción  2000   0.0        4        5\n",
              "0  Concepción  2000   0.0        6        7\n",
              "1  Concepción  2001   1.0        8        9\n",
              "2  Concepción  2002   2.0       10       11\n",
              "3      Osorno  2001   3.0        0        1"
            ]
          },
          "metadata": {},
          "execution_count": 81
        }
      ]
    },
    {
      "cell_type": "markdown",
      "metadata": {
        "id": "Soc8TvwCdsHx"
      },
      "source": [
        "- Y si queremos todas las filas"
      ]
    },
    {
      "cell_type": "code",
      "metadata": {
        "id": "jHty48pAdulo",
        "colab": {
          "base_uri": "https://localhost:8080/",
          "height": 269
        },
        "outputId": "bf1e73de-e5d4-4b70-ea83-2c2eea30666a"
      },
      "source": [
        "pd.merge(izq_jer, der_jer, left_on=['ciudad', 'año'], right_index=True, how='outer')"
      ],
      "execution_count": null,
      "outputs": [
        {
          "output_type": "execute_result",
          "data": {
            "text/html": [
              "<div>\n",
              "<style scoped>\n",
              "    .dataframe tbody tr th:only-of-type {\n",
              "        vertical-align: middle;\n",
              "    }\n",
              "\n",
              "    .dataframe tbody tr th {\n",
              "        vertical-align: top;\n",
              "    }\n",
              "\n",
              "    .dataframe thead th {\n",
              "        text-align: right;\n",
              "    }\n",
              "</style>\n",
              "<table border=\"1\" class=\"dataframe\">\n",
              "  <thead>\n",
              "    <tr style=\"text-align: right;\">\n",
              "      <th></th>\n",
              "      <th>ciudad</th>\n",
              "      <th>año</th>\n",
              "      <th>data</th>\n",
              "      <th>evento1</th>\n",
              "      <th>evento2</th>\n",
              "    </tr>\n",
              "  </thead>\n",
              "  <tbody>\n",
              "    <tr>\n",
              "      <th>0</th>\n",
              "      <td>Concepción</td>\n",
              "      <td>2000</td>\n",
              "      <td>0.0</td>\n",
              "      <td>4.0</td>\n",
              "      <td>5.0</td>\n",
              "    </tr>\n",
              "    <tr>\n",
              "      <th>0</th>\n",
              "      <td>Concepción</td>\n",
              "      <td>2000</td>\n",
              "      <td>0.0</td>\n",
              "      <td>6.0</td>\n",
              "      <td>7.0</td>\n",
              "    </tr>\n",
              "    <tr>\n",
              "      <th>1</th>\n",
              "      <td>Concepción</td>\n",
              "      <td>2001</td>\n",
              "      <td>1.0</td>\n",
              "      <td>8.0</td>\n",
              "      <td>9.0</td>\n",
              "    </tr>\n",
              "    <tr>\n",
              "      <th>2</th>\n",
              "      <td>Concepción</td>\n",
              "      <td>2002</td>\n",
              "      <td>2.0</td>\n",
              "      <td>10.0</td>\n",
              "      <td>11.0</td>\n",
              "    </tr>\n",
              "    <tr>\n",
              "      <th>3</th>\n",
              "      <td>Osorno</td>\n",
              "      <td>2001</td>\n",
              "      <td>3.0</td>\n",
              "      <td>0.0</td>\n",
              "      <td>1.0</td>\n",
              "    </tr>\n",
              "    <tr>\n",
              "      <th>4</th>\n",
              "      <td>Osorno</td>\n",
              "      <td>2002</td>\n",
              "      <td>4.0</td>\n",
              "      <td>NaN</td>\n",
              "      <td>NaN</td>\n",
              "    </tr>\n",
              "    <tr>\n",
              "      <th>4</th>\n",
              "      <td>Osorno</td>\n",
              "      <td>2000</td>\n",
              "      <td>NaN</td>\n",
              "      <td>2.0</td>\n",
              "      <td>3.0</td>\n",
              "    </tr>\n",
              "  </tbody>\n",
              "</table>\n",
              "</div>"
            ],
            "text/plain": [
              "       ciudad   año  data  evento1  evento2\n",
              "0  Concepción  2000   0.0      4.0      5.0\n",
              "0  Concepción  2000   0.0      6.0      7.0\n",
              "1  Concepción  2001   1.0      8.0      9.0\n",
              "2  Concepción  2002   2.0     10.0     11.0\n",
              "3      Osorno  2001   3.0      0.0      1.0\n",
              "4      Osorno  2002   4.0      NaN      NaN\n",
              "4      Osorno  2000   NaN      2.0      3.0"
            ]
          },
          "metadata": {},
          "execution_count": 82
        }
      ]
    },
    {
      "cell_type": "markdown",
      "metadata": {
        "id": "cCL1o7uMdw4Z"
      },
      "source": [
        "- Por supuesto, también es posible realizar mezclas con ambos índices"
      ]
    },
    {
      "cell_type": "code",
      "metadata": {
        "id": "YV279uOqdz_7",
        "colab": {
          "base_uri": "https://localhost:8080/",
          "height": 175
        },
        "outputId": "39f3e010-ce82-42f2-aa35-11af0d1d90d3"
      },
      "source": [
        "izq_ind = pd.DataFrame({\n",
        "    'indice': ['a', 'c', 'e'],\n",
        "    'Iquique': np.arange(0,5., 2.),\n",
        "    'La Serena': np.arange(1., 7., 2.)\n",
        "}).set_index('indice')\n",
        "\n",
        "izq_ind"
      ],
      "execution_count": null,
      "outputs": [
        {
          "output_type": "execute_result",
          "data": {
            "text/html": [
              "<div>\n",
              "<style scoped>\n",
              "    .dataframe tbody tr th:only-of-type {\n",
              "        vertical-align: middle;\n",
              "    }\n",
              "\n",
              "    .dataframe tbody tr th {\n",
              "        vertical-align: top;\n",
              "    }\n",
              "\n",
              "    .dataframe thead th {\n",
              "        text-align: right;\n",
              "    }\n",
              "</style>\n",
              "<table border=\"1\" class=\"dataframe\">\n",
              "  <thead>\n",
              "    <tr style=\"text-align: right;\">\n",
              "      <th></th>\n",
              "      <th>Iquique</th>\n",
              "      <th>La Serena</th>\n",
              "    </tr>\n",
              "    <tr>\n",
              "      <th>indice</th>\n",
              "      <th></th>\n",
              "      <th></th>\n",
              "    </tr>\n",
              "  </thead>\n",
              "  <tbody>\n",
              "    <tr>\n",
              "      <th>a</th>\n",
              "      <td>0.0</td>\n",
              "      <td>1.0</td>\n",
              "    </tr>\n",
              "    <tr>\n",
              "      <th>c</th>\n",
              "      <td>2.0</td>\n",
              "      <td>3.0</td>\n",
              "    </tr>\n",
              "    <tr>\n",
              "      <th>e</th>\n",
              "      <td>4.0</td>\n",
              "      <td>5.0</td>\n",
              "    </tr>\n",
              "  </tbody>\n",
              "</table>\n",
              "</div>"
            ],
            "text/plain": [
              "        Iquique  La Serena\n",
              "indice                    \n",
              "a           0.0        1.0\n",
              "c           2.0        3.0\n",
              "e           4.0        5.0"
            ]
          },
          "metadata": {},
          "execution_count": 83
        }
      ]
    },
    {
      "cell_type": "code",
      "metadata": {
        "id": "noi0okr0esFf",
        "colab": {
          "base_uri": "https://localhost:8080/",
          "height": 206
        },
        "outputId": "a34136e6-a05f-4ff2-da51-fef004cbf2d8"
      },
      "source": [
        "der_ind = pd.DataFrame({\n",
        "    'indice': ['b','c', 'd', 'e'],\n",
        "    'Santiago': np.arange(7, 15., 2),\n",
        "    'Puerto Montt': np.arange(8., 16,2.)\n",
        "}).set_index('indice')\n",
        "\n",
        "der_ind"
      ],
      "execution_count": null,
      "outputs": [
        {
          "output_type": "execute_result",
          "data": {
            "text/html": [
              "<div>\n",
              "<style scoped>\n",
              "    .dataframe tbody tr th:only-of-type {\n",
              "        vertical-align: middle;\n",
              "    }\n",
              "\n",
              "    .dataframe tbody tr th {\n",
              "        vertical-align: top;\n",
              "    }\n",
              "\n",
              "    .dataframe thead th {\n",
              "        text-align: right;\n",
              "    }\n",
              "</style>\n",
              "<table border=\"1\" class=\"dataframe\">\n",
              "  <thead>\n",
              "    <tr style=\"text-align: right;\">\n",
              "      <th></th>\n",
              "      <th>Santiago</th>\n",
              "      <th>Puerto Montt</th>\n",
              "    </tr>\n",
              "    <tr>\n",
              "      <th>indice</th>\n",
              "      <th></th>\n",
              "      <th></th>\n",
              "    </tr>\n",
              "  </thead>\n",
              "  <tbody>\n",
              "    <tr>\n",
              "      <th>b</th>\n",
              "      <td>7.0</td>\n",
              "      <td>8.0</td>\n",
              "    </tr>\n",
              "    <tr>\n",
              "      <th>c</th>\n",
              "      <td>9.0</td>\n",
              "      <td>10.0</td>\n",
              "    </tr>\n",
              "    <tr>\n",
              "      <th>d</th>\n",
              "      <td>11.0</td>\n",
              "      <td>12.0</td>\n",
              "    </tr>\n",
              "    <tr>\n",
              "      <th>e</th>\n",
              "      <td>13.0</td>\n",
              "      <td>14.0</td>\n",
              "    </tr>\n",
              "  </tbody>\n",
              "</table>\n",
              "</div>"
            ],
            "text/plain": [
              "        Santiago  Puerto Montt\n",
              "indice                        \n",
              "b            7.0           8.0\n",
              "c            9.0          10.0\n",
              "d           11.0          12.0\n",
              "e           13.0          14.0"
            ]
          },
          "metadata": {},
          "execution_count": 84
        }
      ]
    },
    {
      "cell_type": "code",
      "metadata": {
        "id": "9vjr1e-pfFNp",
        "colab": {
          "base_uri": "https://localhost:8080/",
          "height": 238
        },
        "outputId": "45e96422-796b-4e79-c2a7-6737b083750a"
      },
      "source": [
        "# en ambos dataframe utilizamos el índice\n",
        "pd.merge(izq_ind, der_ind, how='outer', left_index=True, right_index=True)"
      ],
      "execution_count": null,
      "outputs": [
        {
          "output_type": "execute_result",
          "data": {
            "text/html": [
              "<div>\n",
              "<style scoped>\n",
              "    .dataframe tbody tr th:only-of-type {\n",
              "        vertical-align: middle;\n",
              "    }\n",
              "\n",
              "    .dataframe tbody tr th {\n",
              "        vertical-align: top;\n",
              "    }\n",
              "\n",
              "    .dataframe thead th {\n",
              "        text-align: right;\n",
              "    }\n",
              "</style>\n",
              "<table border=\"1\" class=\"dataframe\">\n",
              "  <thead>\n",
              "    <tr style=\"text-align: right;\">\n",
              "      <th></th>\n",
              "      <th>Iquique</th>\n",
              "      <th>La Serena</th>\n",
              "      <th>Santiago</th>\n",
              "      <th>Puerto Montt</th>\n",
              "    </tr>\n",
              "    <tr>\n",
              "      <th>indice</th>\n",
              "      <th></th>\n",
              "      <th></th>\n",
              "      <th></th>\n",
              "      <th></th>\n",
              "    </tr>\n",
              "  </thead>\n",
              "  <tbody>\n",
              "    <tr>\n",
              "      <th>a</th>\n",
              "      <td>0.0</td>\n",
              "      <td>1.0</td>\n",
              "      <td>NaN</td>\n",
              "      <td>NaN</td>\n",
              "    </tr>\n",
              "    <tr>\n",
              "      <th>b</th>\n",
              "      <td>NaN</td>\n",
              "      <td>NaN</td>\n",
              "      <td>7.0</td>\n",
              "      <td>8.0</td>\n",
              "    </tr>\n",
              "    <tr>\n",
              "      <th>c</th>\n",
              "      <td>2.0</td>\n",
              "      <td>3.0</td>\n",
              "      <td>9.0</td>\n",
              "      <td>10.0</td>\n",
              "    </tr>\n",
              "    <tr>\n",
              "      <th>d</th>\n",
              "      <td>NaN</td>\n",
              "      <td>NaN</td>\n",
              "      <td>11.0</td>\n",
              "      <td>12.0</td>\n",
              "    </tr>\n",
              "    <tr>\n",
              "      <th>e</th>\n",
              "      <td>4.0</td>\n",
              "      <td>5.0</td>\n",
              "      <td>13.0</td>\n",
              "      <td>14.0</td>\n",
              "    </tr>\n",
              "  </tbody>\n",
              "</table>\n",
              "</div>"
            ],
            "text/plain": [
              "        Iquique  La Serena  Santiago  Puerto Montt\n",
              "indice                                            \n",
              "a           0.0        1.0       NaN           NaN\n",
              "b           NaN        NaN       7.0           8.0\n",
              "c           2.0        3.0       9.0          10.0\n",
              "d           NaN        NaN      11.0          12.0\n",
              "e           4.0        5.0      13.0          14.0"
            ]
          },
          "metadata": {},
          "execution_count": 85
        }
      ]
    },
    {
      "cell_type": "markdown",
      "metadata": {
        "id": "QxhSITi1fK54"
      },
      "source": [
        "- Los `DataFrames` tienen un método `join`, que permite mezclar utilizando **índices**.\n",
        "- También se utiliza para mezclar muchos `DataFrames` que tienen índices iguales o similares.\n",
        "- **La única restricción es que las columnas no pueden estar repetidas.**"
      ]
    },
    {
      "cell_type": "markdown",
      "metadata": {
        "id": "pYsEQvkQoL7M"
      },
      "source": [
        "### DataFrame join"
      ]
    },
    {
      "cell_type": "code",
      "metadata": {
        "id": "fNcm9fPmfIHj",
        "colab": {
          "base_uri": "https://localhost:8080/",
          "height": 533
        },
        "outputId": "0cfaea71-b2aa-42bc-b9e9-3a911fdb7efe"
      },
      "source": [
        "# https://pandas.pydata.org/docs/reference/api/pandas.DataFrame.join.html\n",
        "\n",
        "print(izq_ind)\n",
        "print('\\n----------------------------------------------------\\n')\n",
        "print(der_ind)\n",
        "print('\\n----------------------------------------------------\\n')\n",
        "\n",
        "izq_ind.join(der_ind, how='outer') # por defecto es índice con índice "
      ],
      "execution_count": null,
      "outputs": [
        {
          "output_type": "stream",
          "name": "stdout",
          "text": [
            "        Iquique  La Serena\n",
            "indice                    \n",
            "a           0.0        1.0\n",
            "c           2.0        3.0\n",
            "e           4.0        5.0\n",
            "\n",
            "----------------------------------------------------\n",
            "\n",
            "        Santiago  Puerto Montt\n",
            "indice                        \n",
            "b            7.0           8.0\n",
            "c            9.0          10.0\n",
            "d           11.0          12.0\n",
            "e           13.0          14.0\n",
            "\n",
            "----------------------------------------------------\n",
            "\n"
          ]
        },
        {
          "output_type": "execute_result",
          "data": {
            "text/html": [
              "<div>\n",
              "<style scoped>\n",
              "    .dataframe tbody tr th:only-of-type {\n",
              "        vertical-align: middle;\n",
              "    }\n",
              "\n",
              "    .dataframe tbody tr th {\n",
              "        vertical-align: top;\n",
              "    }\n",
              "\n",
              "    .dataframe thead th {\n",
              "        text-align: right;\n",
              "    }\n",
              "</style>\n",
              "<table border=\"1\" class=\"dataframe\">\n",
              "  <thead>\n",
              "    <tr style=\"text-align: right;\">\n",
              "      <th></th>\n",
              "      <th>Iquique</th>\n",
              "      <th>La Serena</th>\n",
              "      <th>Santiago</th>\n",
              "      <th>Puerto Montt</th>\n",
              "    </tr>\n",
              "    <tr>\n",
              "      <th>indice</th>\n",
              "      <th></th>\n",
              "      <th></th>\n",
              "      <th></th>\n",
              "      <th></th>\n",
              "    </tr>\n",
              "  </thead>\n",
              "  <tbody>\n",
              "    <tr>\n",
              "      <th>a</th>\n",
              "      <td>0.0</td>\n",
              "      <td>1.0</td>\n",
              "      <td>NaN</td>\n",
              "      <td>NaN</td>\n",
              "    </tr>\n",
              "    <tr>\n",
              "      <th>b</th>\n",
              "      <td>NaN</td>\n",
              "      <td>NaN</td>\n",
              "      <td>7.0</td>\n",
              "      <td>8.0</td>\n",
              "    </tr>\n",
              "    <tr>\n",
              "      <th>c</th>\n",
              "      <td>2.0</td>\n",
              "      <td>3.0</td>\n",
              "      <td>9.0</td>\n",
              "      <td>10.0</td>\n",
              "    </tr>\n",
              "    <tr>\n",
              "      <th>d</th>\n",
              "      <td>NaN</td>\n",
              "      <td>NaN</td>\n",
              "      <td>11.0</td>\n",
              "      <td>12.0</td>\n",
              "    </tr>\n",
              "    <tr>\n",
              "      <th>e</th>\n",
              "      <td>4.0</td>\n",
              "      <td>5.0</td>\n",
              "      <td>13.0</td>\n",
              "      <td>14.0</td>\n",
              "    </tr>\n",
              "  </tbody>\n",
              "</table>\n",
              "</div>"
            ],
            "text/plain": [
              "        Iquique  La Serena  Santiago  Puerto Montt\n",
              "indice                                            \n",
              "a           0.0        1.0       NaN           NaN\n",
              "b           NaN        NaN       7.0           8.0\n",
              "c           2.0        3.0       9.0          10.0\n",
              "d           NaN        NaN      11.0          12.0\n",
              "e           4.0        5.0      13.0          14.0"
            ]
          },
          "metadata": {},
          "execution_count": 86
        }
      ]
    },
    {
      "cell_type": "markdown",
      "metadata": {
        "id": "pyr6fuisfQ1Y"
      },
      "source": [
        "- Por defecto, y por razones de compatibilidad con versiones iniciales de `pandas`, **el método `join` realiza por defecto un *left join*.**\n",
        "- Así, se mantienen todos los índices del objeto que invoca al método `join`.\n",
        "- Además, se puede realizar un `join` indicando la columna clave del `DataFrame` que realiza la invocación."
      ]
    },
    {
      "cell_type": "code",
      "metadata": {
        "id": "bfnRonTHfW4p",
        "colab": {
          "base_uri": "https://localhost:8080/",
          "height": 533
        },
        "outputId": "e3d093cc-5b06-448d-cfee-6321e6b2f38e"
      },
      "source": [
        "print(izq1)\n",
        "print('\\n-----------------------------\\n')\n",
        "print(der1)\n",
        "print('\\n-----------------------------\\n')\n",
        "\n",
        "# izq1 utiliza columna clave y der1 su índice\n",
        "izq1.join(der1, on='clave') # on: Column or index level name(s) in the caller to join on the index in other, otherwise joins index-on-index"
      ],
      "execution_count": null,
      "outputs": [
        {
          "output_type": "stream",
          "name": "stdout",
          "text": [
            "  clave  valor\n",
            "0     a      0\n",
            "1     b      1\n",
            "2     a      2\n",
            "3     a      3\n",
            "4     b      4\n",
            "5     c      5\n",
            "\n",
            "-----------------------------\n",
            "\n",
            "        val_grupo\n",
            "indice           \n",
            "a             3.5\n",
            "b             7.0\n",
            "\n",
            "-----------------------------\n",
            "\n"
          ]
        },
        {
          "output_type": "execute_result",
          "data": {
            "text/html": [
              "<div>\n",
              "<style scoped>\n",
              "    .dataframe tbody tr th:only-of-type {\n",
              "        vertical-align: middle;\n",
              "    }\n",
              "\n",
              "    .dataframe tbody tr th {\n",
              "        vertical-align: top;\n",
              "    }\n",
              "\n",
              "    .dataframe thead th {\n",
              "        text-align: right;\n",
              "    }\n",
              "</style>\n",
              "<table border=\"1\" class=\"dataframe\">\n",
              "  <thead>\n",
              "    <tr style=\"text-align: right;\">\n",
              "      <th></th>\n",
              "      <th>clave</th>\n",
              "      <th>valor</th>\n",
              "      <th>val_grupo</th>\n",
              "    </tr>\n",
              "  </thead>\n",
              "  <tbody>\n",
              "    <tr>\n",
              "      <th>0</th>\n",
              "      <td>a</td>\n",
              "      <td>0</td>\n",
              "      <td>3.5</td>\n",
              "    </tr>\n",
              "    <tr>\n",
              "      <th>1</th>\n",
              "      <td>b</td>\n",
              "      <td>1</td>\n",
              "      <td>7.0</td>\n",
              "    </tr>\n",
              "    <tr>\n",
              "      <th>2</th>\n",
              "      <td>a</td>\n",
              "      <td>2</td>\n",
              "      <td>3.5</td>\n",
              "    </tr>\n",
              "    <tr>\n",
              "      <th>3</th>\n",
              "      <td>a</td>\n",
              "      <td>3</td>\n",
              "      <td>3.5</td>\n",
              "    </tr>\n",
              "    <tr>\n",
              "      <th>4</th>\n",
              "      <td>b</td>\n",
              "      <td>4</td>\n",
              "      <td>7.0</td>\n",
              "    </tr>\n",
              "    <tr>\n",
              "      <th>5</th>\n",
              "      <td>c</td>\n",
              "      <td>5</td>\n",
              "      <td>NaN</td>\n",
              "    </tr>\n",
              "  </tbody>\n",
              "</table>\n",
              "</div>"
            ],
            "text/plain": [
              "  clave  valor  val_grupo\n",
              "0     a      0        3.5\n",
              "1     b      1        7.0\n",
              "2     a      2        3.5\n",
              "3     a      3        3.5\n",
              "4     b      4        7.0\n",
              "5     c      5        NaN"
            ]
          },
          "metadata": {},
          "execution_count": 87
        }
      ]
    },
    {
      "cell_type": "markdown",
      "metadata": {
        "id": "FJhxPxrXfZLO"
      },
      "source": [
        "- Finalmente, para mezclar con índices, se pueden pasar una lista de `DataFrames` al método `join`."
      ]
    },
    {
      "cell_type": "code",
      "metadata": {
        "id": "GsZAwTgffb89",
        "colab": {
          "base_uri": "https://localhost:8080/",
          "height": 206
        },
        "outputId": "f2e2d2b5-a774-4a4d-c284-5bad2a5b3742"
      },
      "source": [
        "otro = pd.DataFrame({\n",
        "    'indice': ['a', 'c', 'e', 'f'],\n",
        "    'Valdivia': [7., 9., 11.,16],\n",
        "    'Concepción': [8., 10, 12, 17],\n",
        "}).set_index('indice')\n",
        "\n",
        "otro"
      ],
      "execution_count": null,
      "outputs": [
        {
          "output_type": "execute_result",
          "data": {
            "text/html": [
              "<div>\n",
              "<style scoped>\n",
              "    .dataframe tbody tr th:only-of-type {\n",
              "        vertical-align: middle;\n",
              "    }\n",
              "\n",
              "    .dataframe tbody tr th {\n",
              "        vertical-align: top;\n",
              "    }\n",
              "\n",
              "    .dataframe thead th {\n",
              "        text-align: right;\n",
              "    }\n",
              "</style>\n",
              "<table border=\"1\" class=\"dataframe\">\n",
              "  <thead>\n",
              "    <tr style=\"text-align: right;\">\n",
              "      <th></th>\n",
              "      <th>Valdivia</th>\n",
              "      <th>Concepción</th>\n",
              "    </tr>\n",
              "    <tr>\n",
              "      <th>indice</th>\n",
              "      <th></th>\n",
              "      <th></th>\n",
              "    </tr>\n",
              "  </thead>\n",
              "  <tbody>\n",
              "    <tr>\n",
              "      <th>a</th>\n",
              "      <td>7.0</td>\n",
              "      <td>8.0</td>\n",
              "    </tr>\n",
              "    <tr>\n",
              "      <th>c</th>\n",
              "      <td>9.0</td>\n",
              "      <td>10.0</td>\n",
              "    </tr>\n",
              "    <tr>\n",
              "      <th>e</th>\n",
              "      <td>11.0</td>\n",
              "      <td>12.0</td>\n",
              "    </tr>\n",
              "    <tr>\n",
              "      <th>f</th>\n",
              "      <td>16.0</td>\n",
              "      <td>17.0</td>\n",
              "    </tr>\n",
              "  </tbody>\n",
              "</table>\n",
              "</div>"
            ],
            "text/plain": [
              "        Valdivia  Concepción\n",
              "indice                      \n",
              "a            7.0         8.0\n",
              "c            9.0        10.0\n",
              "e           11.0        12.0\n",
              "f           16.0        17.0"
            ]
          },
          "metadata": {},
          "execution_count": 88
        }
      ]
    },
    {
      "cell_type": "code",
      "metadata": {
        "id": "D_78_8wYgB9b",
        "colab": {
          "base_uri": "https://localhost:8080/",
          "height": 626
        },
        "outputId": "844828f1-80b3-49c1-9108-702bbcce0a03"
      },
      "source": [
        "print(izq_ind)\n",
        "print('\\n-----------------------------\\n')\n",
        "print(der_ind)\n",
        "print('\\n-----------------------------\\n')\n",
        "print(otro)\n",
        "print('\\n-----------------------------\\n')\n",
        "\n",
        "izq_ind.join([der_ind, otro])"
      ],
      "execution_count": null,
      "outputs": [
        {
          "output_type": "stream",
          "name": "stdout",
          "text": [
            "        Iquique  La Serena\n",
            "indice                    \n",
            "a           0.0        1.0\n",
            "c           2.0        3.0\n",
            "e           4.0        5.0\n",
            "\n",
            "-----------------------------\n",
            "\n",
            "        Santiago  Puerto Montt\n",
            "indice                        \n",
            "b            7.0           8.0\n",
            "c            9.0          10.0\n",
            "d           11.0          12.0\n",
            "e           13.0          14.0\n",
            "\n",
            "-----------------------------\n",
            "\n",
            "        Valdivia  Concepción\n",
            "indice                      \n",
            "a            7.0         8.0\n",
            "c            9.0        10.0\n",
            "e           11.0        12.0\n",
            "f           16.0        17.0\n",
            "\n",
            "-----------------------------\n",
            "\n"
          ]
        },
        {
          "output_type": "execute_result",
          "data": {
            "text/html": [
              "<div>\n",
              "<style scoped>\n",
              "    .dataframe tbody tr th:only-of-type {\n",
              "        vertical-align: middle;\n",
              "    }\n",
              "\n",
              "    .dataframe tbody tr th {\n",
              "        vertical-align: top;\n",
              "    }\n",
              "\n",
              "    .dataframe thead th {\n",
              "        text-align: right;\n",
              "    }\n",
              "</style>\n",
              "<table border=\"1\" class=\"dataframe\">\n",
              "  <thead>\n",
              "    <tr style=\"text-align: right;\">\n",
              "      <th></th>\n",
              "      <th>Iquique</th>\n",
              "      <th>La Serena</th>\n",
              "      <th>Santiago</th>\n",
              "      <th>Puerto Montt</th>\n",
              "      <th>Valdivia</th>\n",
              "      <th>Concepción</th>\n",
              "    </tr>\n",
              "    <tr>\n",
              "      <th>indice</th>\n",
              "      <th></th>\n",
              "      <th></th>\n",
              "      <th></th>\n",
              "      <th></th>\n",
              "      <th></th>\n",
              "      <th></th>\n",
              "    </tr>\n",
              "  </thead>\n",
              "  <tbody>\n",
              "    <tr>\n",
              "      <th>a</th>\n",
              "      <td>0.0</td>\n",
              "      <td>1.0</td>\n",
              "      <td>NaN</td>\n",
              "      <td>NaN</td>\n",
              "      <td>7.0</td>\n",
              "      <td>8.0</td>\n",
              "    </tr>\n",
              "    <tr>\n",
              "      <th>c</th>\n",
              "      <td>2.0</td>\n",
              "      <td>3.0</td>\n",
              "      <td>9.0</td>\n",
              "      <td>10.0</td>\n",
              "      <td>9.0</td>\n",
              "      <td>10.0</td>\n",
              "    </tr>\n",
              "    <tr>\n",
              "      <th>e</th>\n",
              "      <td>4.0</td>\n",
              "      <td>5.0</td>\n",
              "      <td>13.0</td>\n",
              "      <td>14.0</td>\n",
              "      <td>11.0</td>\n",
              "      <td>12.0</td>\n",
              "    </tr>\n",
              "  </tbody>\n",
              "</table>\n",
              "</div>"
            ],
            "text/plain": [
              "        Iquique  La Serena  Santiago  Puerto Montt  Valdivia  Concepción\n",
              "indice                                                                  \n",
              "a           0.0        1.0       NaN           NaN       7.0         8.0\n",
              "c           2.0        3.0       9.0          10.0       9.0        10.0\n",
              "e           4.0        5.0      13.0          14.0      11.0        12.0"
            ]
          },
          "metadata": {},
          "execution_count": 89
        }
      ]
    },
    {
      "cell_type": "code",
      "metadata": {
        "id": "sF7mqYlvgD76",
        "colab": {
          "base_uri": "https://localhost:8080/",
          "height": 238
        },
        "outputId": "f60390bb-49f6-4b18-d14d-271921d956c3"
      },
      "source": [
        "izq_ind.join([der_ind, otro], how='outer')"
      ],
      "execution_count": null,
      "outputs": [
        {
          "output_type": "execute_result",
          "data": {
            "text/html": [
              "<div>\n",
              "<style scoped>\n",
              "    .dataframe tbody tr th:only-of-type {\n",
              "        vertical-align: middle;\n",
              "    }\n",
              "\n",
              "    .dataframe tbody tr th {\n",
              "        vertical-align: top;\n",
              "    }\n",
              "\n",
              "    .dataframe thead th {\n",
              "        text-align: right;\n",
              "    }\n",
              "</style>\n",
              "<table border=\"1\" class=\"dataframe\">\n",
              "  <thead>\n",
              "    <tr style=\"text-align: right;\">\n",
              "      <th></th>\n",
              "      <th>Iquique</th>\n",
              "      <th>La Serena</th>\n",
              "      <th>Santiago</th>\n",
              "      <th>Puerto Montt</th>\n",
              "      <th>Valdivia</th>\n",
              "      <th>Concepción</th>\n",
              "    </tr>\n",
              "  </thead>\n",
              "  <tbody>\n",
              "    <tr>\n",
              "      <th>a</th>\n",
              "      <td>0.0</td>\n",
              "      <td>1.0</td>\n",
              "      <td>NaN</td>\n",
              "      <td>NaN</td>\n",
              "      <td>7.0</td>\n",
              "      <td>8.0</td>\n",
              "    </tr>\n",
              "    <tr>\n",
              "      <th>c</th>\n",
              "      <td>2.0</td>\n",
              "      <td>3.0</td>\n",
              "      <td>9.0</td>\n",
              "      <td>10.0</td>\n",
              "      <td>9.0</td>\n",
              "      <td>10.0</td>\n",
              "    </tr>\n",
              "    <tr>\n",
              "      <th>e</th>\n",
              "      <td>4.0</td>\n",
              "      <td>5.0</td>\n",
              "      <td>13.0</td>\n",
              "      <td>14.0</td>\n",
              "      <td>11.0</td>\n",
              "      <td>12.0</td>\n",
              "    </tr>\n",
              "    <tr>\n",
              "      <th>b</th>\n",
              "      <td>NaN</td>\n",
              "      <td>NaN</td>\n",
              "      <td>7.0</td>\n",
              "      <td>8.0</td>\n",
              "      <td>NaN</td>\n",
              "      <td>NaN</td>\n",
              "    </tr>\n",
              "    <tr>\n",
              "      <th>d</th>\n",
              "      <td>NaN</td>\n",
              "      <td>NaN</td>\n",
              "      <td>11.0</td>\n",
              "      <td>12.0</td>\n",
              "      <td>NaN</td>\n",
              "      <td>NaN</td>\n",
              "    </tr>\n",
              "    <tr>\n",
              "      <th>f</th>\n",
              "      <td>NaN</td>\n",
              "      <td>NaN</td>\n",
              "      <td>NaN</td>\n",
              "      <td>NaN</td>\n",
              "      <td>16.0</td>\n",
              "      <td>17.0</td>\n",
              "    </tr>\n",
              "  </tbody>\n",
              "</table>\n",
              "</div>"
            ],
            "text/plain": [
              "   Iquique  La Serena  Santiago  Puerto Montt  Valdivia  Concepción\n",
              "a      0.0        1.0       NaN           NaN       7.0         8.0\n",
              "c      2.0        3.0       9.0          10.0       9.0        10.0\n",
              "e      4.0        5.0      13.0          14.0      11.0        12.0\n",
              "b      NaN        NaN       7.0           8.0       NaN         NaN\n",
              "d      NaN        NaN      11.0          12.0       NaN         NaN\n",
              "f      NaN        NaN       NaN           NaN      16.0        17.0"
            ]
          },
          "metadata": {},
          "execution_count": 90
        }
      ]
    },
    {
      "cell_type": "markdown",
      "metadata": {
        "id": "7VFIoslrgGQC"
      },
      "source": [
        "### Concatenando en un eje"
      ]
    },
    {
      "cell_type": "markdown",
      "metadata": {
        "id": "Y1CY_N0YgIXp"
      },
      "source": [
        "- Otro tipo de operación de combinación es llamado de forma intercambiable como *concatenación*, *agrupación* o *apilación*\n",
        "- `numpy` permite hacer esto con sus arreglos"
      ]
    },
    {
      "cell_type": "code",
      "metadata": {
        "id": "5WNzkfhsgKS_",
        "colab": {
          "base_uri": "https://localhost:8080/"
        },
        "outputId": "76f2ca28-487d-43ee-a610-f26c616264f8"
      },
      "source": [
        "arreglo = np.arange(12).reshape((3, 4))\n",
        "arreglo"
      ],
      "execution_count": null,
      "outputs": [
        {
          "output_type": "execute_result",
          "data": {
            "text/plain": [
              "array([[ 0,  1,  2,  3],\n",
              "       [ 4,  5,  6,  7],\n",
              "       [ 8,  9, 10, 11]])"
            ]
          },
          "metadata": {},
          "execution_count": 91
        }
      ]
    },
    {
      "cell_type": "markdown",
      "metadata": {
        "id": "dgJEQmQDo1EQ"
      },
      "source": [
        "- *numpy concatenate* ya lo vimos en clases pasadas"
      ]
    },
    {
      "cell_type": "code",
      "metadata": {
        "id": "peTMPyqCgMIS",
        "colab": {
          "base_uri": "https://localhost:8080/"
        },
        "outputId": "40bc4059-f01e-4141-bd07-fc1beda37d55"
      },
      "source": [
        "# esto ya lo vimos en clases pasadas\n",
        "np.concatenate([arreglo, arreglo]) # por defecto axis=0"
      ],
      "execution_count": null,
      "outputs": [
        {
          "output_type": "execute_result",
          "data": {
            "text/plain": [
              "array([[ 0,  1,  2,  3],\n",
              "       [ 4,  5,  6,  7],\n",
              "       [ 8,  9, 10, 11],\n",
              "       [ 0,  1,  2,  3],\n",
              "       [ 4,  5,  6,  7],\n",
              "       [ 8,  9, 10, 11]])"
            ]
          },
          "metadata": {},
          "execution_count": 92
        }
      ]
    },
    {
      "cell_type": "markdown",
      "metadata": {
        "id": "OjjIIyAxgOG9"
      },
      "source": [
        "- Por defecto se apilan las filas, o `axis=0`.\n",
        "- Pero podemos indicar el eje por el que se concatenan."
      ]
    },
    {
      "cell_type": "code",
      "metadata": {
        "id": "VIVQ3FGRgUqe",
        "colab": {
          "base_uri": "https://localhost:8080/"
        },
        "outputId": "070becf0-886b-4f45-ec37-9eaca53579c5"
      },
      "source": [
        "np.concatenate([arreglo, arreglo], axis=1)"
      ],
      "execution_count": null,
      "outputs": [
        {
          "output_type": "execute_result",
          "data": {
            "text/plain": [
              "array([[ 0,  1,  2,  3,  0,  1,  2,  3],\n",
              "       [ 4,  5,  6,  7,  4,  5,  6,  7],\n",
              "       [ 8,  9, 10, 11,  8,  9, 10, 11]])"
            ]
          },
          "metadata": {},
          "execution_count": 93
        }
      ]
    },
    {
      "cell_type": "markdown",
      "metadata": {
        "id": "9ioeiCXugXBB"
      },
      "source": [
        "- **En el contexto de las estructuras de `pandas` (como `Series` y `DataFrames`)**, al tener ejes con etiquetas, permite ir mas allá que la concatenación de arreglos.\n",
        "- En particular, tenemos algunos puntos adicionales que considerar\n",
        "  - Si los objetos tienen indexados diferentes, ¿debemos combinar los elementos compartidos solamente? (*ie*, la intersección)\n",
        "  - ¿Deben ser identificables las porciones de datos en el resultado?\n",
        "  - ¿El \"eje de concatenación\" contiene datos que deben preservarse? En muchos casos, es mejor que las etiquetas por defecto de un `DataFrame` se descarten\n",
        "\n",
        "\n",
        "- La función `concat` en `pandas` provee una forma consistente de revisar estos casos."
      ]
    },
    {
      "cell_type": "code",
      "metadata": {
        "id": "c2e0-dIbgcHz",
        "colab": {
          "base_uri": "https://localhost:8080/"
        },
        "outputId": "45ede0a9-f9f3-4593-fd9d-3f44e6183cea"
      },
      "source": [
        "s1 = pd.Series([0, 1], index=['a', 'b'], name='s1')\n",
        "s2 = pd.Series([2, 3, 4], index=['c', 'd', 'e'], name='s2')\n",
        "s3 = pd.Series([5, 6], index=['f', 'g'], name='s3')\n",
        "print(s1)\n",
        "print(\"*****************\")\n",
        "print(s2)\n",
        "print(\"*****************\")\n",
        "print(s3)"
      ],
      "execution_count": null,
      "outputs": [
        {
          "output_type": "stream",
          "name": "stdout",
          "text": [
            "a    0\n",
            "b    1\n",
            "Name: s1, dtype: int64\n",
            "*****************\n",
            "c    2\n",
            "d    3\n",
            "e    4\n",
            "Name: s2, dtype: int64\n",
            "*****************\n",
            "f    5\n",
            "g    6\n",
            "Name: s3, dtype: int64\n"
          ]
        }
      ]
    },
    {
      "cell_type": "code",
      "metadata": {
        "id": "6YYALuDJgeIr",
        "colab": {
          "base_uri": "https://localhost:8080/"
        },
        "outputId": "202f8901-f713-4150-e5cc-d15295a1b0f4"
      },
      "source": [
        "# https://pandas.pydata.org/docs/reference/api/pandas.concat.html\n",
        "\n",
        "pd.concat([s1, s2, s3])"
      ],
      "execution_count": null,
      "outputs": [
        {
          "output_type": "execute_result",
          "data": {
            "text/plain": [
              "a    0\n",
              "b    1\n",
              "c    2\n",
              "d    3\n",
              "e    4\n",
              "f    5\n",
              "g    6\n",
              "dtype: int64"
            ]
          },
          "metadata": {},
          "execution_count": 103
        }
      ]
    },
    {
      "cell_type": "markdown",
      "metadata": {
        "id": "yiQVvxGPggQI"
      },
      "source": [
        "- Por defecto, la concatenación funciona en el eje de las filas (`axis=0`), igual que en `numpy`.\n",
        "- Si cambiamos el eje, el resultado será un `DataFrame`."
      ]
    },
    {
      "cell_type": "code",
      "metadata": {
        "id": "5ZJ2RCGPgia_",
        "colab": {
          "base_uri": "https://localhost:8080/",
          "height": 269
        },
        "outputId": "c258d18a-5539-4012-9e88-49be48a91112"
      },
      "source": [
        "pd.concat([s1, s2, s3], axis='columns') # es equivalente a axis=1"
      ],
      "execution_count": null,
      "outputs": [
        {
          "output_type": "execute_result",
          "data": {
            "text/html": [
              "<div>\n",
              "<style scoped>\n",
              "    .dataframe tbody tr th:only-of-type {\n",
              "        vertical-align: middle;\n",
              "    }\n",
              "\n",
              "    .dataframe tbody tr th {\n",
              "        vertical-align: top;\n",
              "    }\n",
              "\n",
              "    .dataframe thead th {\n",
              "        text-align: right;\n",
              "    }\n",
              "</style>\n",
              "<table border=\"1\" class=\"dataframe\">\n",
              "  <thead>\n",
              "    <tr style=\"text-align: right;\">\n",
              "      <th></th>\n",
              "      <th>s1</th>\n",
              "      <th>s2</th>\n",
              "      <th>s3</th>\n",
              "    </tr>\n",
              "  </thead>\n",
              "  <tbody>\n",
              "    <tr>\n",
              "      <th>a</th>\n",
              "      <td>0.0</td>\n",
              "      <td>NaN</td>\n",
              "      <td>NaN</td>\n",
              "    </tr>\n",
              "    <tr>\n",
              "      <th>b</th>\n",
              "      <td>1.0</td>\n",
              "      <td>NaN</td>\n",
              "      <td>NaN</td>\n",
              "    </tr>\n",
              "    <tr>\n",
              "      <th>c</th>\n",
              "      <td>NaN</td>\n",
              "      <td>2.0</td>\n",
              "      <td>NaN</td>\n",
              "    </tr>\n",
              "    <tr>\n",
              "      <th>d</th>\n",
              "      <td>NaN</td>\n",
              "      <td>3.0</td>\n",
              "      <td>NaN</td>\n",
              "    </tr>\n",
              "    <tr>\n",
              "      <th>e</th>\n",
              "      <td>NaN</td>\n",
              "      <td>4.0</td>\n",
              "      <td>NaN</td>\n",
              "    </tr>\n",
              "    <tr>\n",
              "      <th>f</th>\n",
              "      <td>NaN</td>\n",
              "      <td>NaN</td>\n",
              "      <td>5.0</td>\n",
              "    </tr>\n",
              "    <tr>\n",
              "      <th>g</th>\n",
              "      <td>NaN</td>\n",
              "      <td>NaN</td>\n",
              "      <td>6.0</td>\n",
              "    </tr>\n",
              "  </tbody>\n",
              "</table>\n",
              "</div>"
            ],
            "text/plain": [
              "    s1   s2   s3\n",
              "a  0.0  NaN  NaN\n",
              "b  1.0  NaN  NaN\n",
              "c  NaN  2.0  NaN\n",
              "d  NaN  3.0  NaN\n",
              "e  NaN  4.0  NaN\n",
              "f  NaN  NaN  5.0\n",
              "g  NaN  NaN  6.0"
            ]
          },
          "metadata": {},
          "execution_count": 104
        }
      ]
    },
    {
      "cell_type": "markdown",
      "metadata": {
        "id": "-hFVJiziglwG"
      },
      "source": [
        "- En este caso no hay superposición en ninguno de los ejes, podemos ver que la mezcla es por defecto un ***outer join***.\n",
        "- Si quisiéramos intersectar, podemos usar el parámetro de `pd.concat`; `join`."
      ]
    },
    {
      "cell_type": "code",
      "metadata": {
        "id": "lMBOBT_7gooE",
        "colab": {
          "base_uri": "https://localhost:8080/"
        },
        "outputId": "25084c88-2aca-4b19-bee1-a4f25c87e139"
      },
      "source": [
        "s4 = pd.concat([s1, s3])\n",
        "s4.name='s4'\n",
        "s4"
      ],
      "execution_count": null,
      "outputs": [
        {
          "output_type": "execute_result",
          "data": {
            "text/plain": [
              "a    0\n",
              "b    1\n",
              "f    5\n",
              "g    6\n",
              "Name: s4, dtype: int64"
            ]
          },
          "metadata": {},
          "execution_count": 105
        }
      ]
    },
    {
      "cell_type": "code",
      "metadata": {
        "id": "mlh5fIABgqiB",
        "colab": {
          "base_uri": "https://localhost:8080/",
          "height": 418
        },
        "outputId": "03cfe0ca-d734-4195-eae2-1f3e4c1fd10e"
      },
      "source": [
        "print(s1)\n",
        "print('\\n-----------------------------\\n')\n",
        "print(s4)\n",
        "print('\\n-----------------------------\\n')\n",
        "pd.concat([s1, s4], axis='columns')"
      ],
      "execution_count": null,
      "outputs": [
        {
          "output_type": "stream",
          "name": "stdout",
          "text": [
            "a    0\n",
            "b    1\n",
            "Name: s1, dtype: int64\n",
            "\n",
            "-----------------------------\n",
            "\n",
            "a    0\n",
            "b    1\n",
            "f    5\n",
            "g    6\n",
            "Name: s4, dtype: int64\n",
            "\n",
            "-----------------------------\n",
            "\n"
          ]
        },
        {
          "output_type": "execute_result",
          "data": {
            "text/html": [
              "<div>\n",
              "<style scoped>\n",
              "    .dataframe tbody tr th:only-of-type {\n",
              "        vertical-align: middle;\n",
              "    }\n",
              "\n",
              "    .dataframe tbody tr th {\n",
              "        vertical-align: top;\n",
              "    }\n",
              "\n",
              "    .dataframe thead th {\n",
              "        text-align: right;\n",
              "    }\n",
              "</style>\n",
              "<table border=\"1\" class=\"dataframe\">\n",
              "  <thead>\n",
              "    <tr style=\"text-align: right;\">\n",
              "      <th></th>\n",
              "      <th>s1</th>\n",
              "      <th>s4</th>\n",
              "    </tr>\n",
              "  </thead>\n",
              "  <tbody>\n",
              "    <tr>\n",
              "      <th>a</th>\n",
              "      <td>0.0</td>\n",
              "      <td>0</td>\n",
              "    </tr>\n",
              "    <tr>\n",
              "      <th>b</th>\n",
              "      <td>1.0</td>\n",
              "      <td>1</td>\n",
              "    </tr>\n",
              "    <tr>\n",
              "      <th>f</th>\n",
              "      <td>NaN</td>\n",
              "      <td>5</td>\n",
              "    </tr>\n",
              "    <tr>\n",
              "      <th>g</th>\n",
              "      <td>NaN</td>\n",
              "      <td>6</td>\n",
              "    </tr>\n",
              "  </tbody>\n",
              "</table>\n",
              "</div>"
            ],
            "text/plain": [
              "    s1  s4\n",
              "a  0.0   0\n",
              "b  1.0   1\n",
              "f  NaN   5\n",
              "g  NaN   6"
            ]
          },
          "metadata": {},
          "execution_count": 106
        }
      ]
    },
    {
      "cell_type": "code",
      "metadata": {
        "id": "YmYaBaaNgszD",
        "colab": {
          "base_uri": "https://localhost:8080/",
          "height": 112
        },
        "outputId": "5dccb04e-d9c7-458a-f281-062473936c73"
      },
      "source": [
        "pd.concat([s1, s4], axis='columns', join='inner') # la única intersección es índices a y b "
      ],
      "execution_count": null,
      "outputs": [
        {
          "output_type": "execute_result",
          "data": {
            "text/html": [
              "<div>\n",
              "<style scoped>\n",
              "    .dataframe tbody tr th:only-of-type {\n",
              "        vertical-align: middle;\n",
              "    }\n",
              "\n",
              "    .dataframe tbody tr th {\n",
              "        vertical-align: top;\n",
              "    }\n",
              "\n",
              "    .dataframe thead th {\n",
              "        text-align: right;\n",
              "    }\n",
              "</style>\n",
              "<table border=\"1\" class=\"dataframe\">\n",
              "  <thead>\n",
              "    <tr style=\"text-align: right;\">\n",
              "      <th></th>\n",
              "      <th>s1</th>\n",
              "      <th>s4</th>\n",
              "    </tr>\n",
              "  </thead>\n",
              "  <tbody>\n",
              "    <tr>\n",
              "      <th>a</th>\n",
              "      <td>0</td>\n",
              "      <td>0</td>\n",
              "    </tr>\n",
              "    <tr>\n",
              "      <th>b</th>\n",
              "      <td>1</td>\n",
              "      <td>1</td>\n",
              "    </tr>\n",
              "  </tbody>\n",
              "</table>\n",
              "</div>"
            ],
            "text/plain": [
              "   s1  s4\n",
              "a   0   0\n",
              "b   1   1"
            ]
          },
          "metadata": {},
          "execution_count": 107
        }
      ]
    },
    {
      "cell_type": "markdown",
      "metadata": {
        "id": "ZgOfH9mCgvNb"
      },
      "source": [
        "- Vemos que las filas `f`, y `g` desaparecen en la intersección.\n",
        "- Un potencial problema es que las partes concatenadas no serán identificables en el resultado.\n",
        "- Supongamos que entonces queremos crear un índice jerárquico en el eje concatenado.\n",
        "- Para esto, usamos el parámetro `keys`."
      ]
    },
    {
      "cell_type": "code",
      "metadata": {
        "id": "oQwKcBihgy3E",
        "colab": {
          "base_uri": "https://localhost:8080/"
        },
        "outputId": "3f62a69b-65b1-4f66-ff16-5951c2bebe05"
      },
      "source": [
        "print(s1)\n",
        "print('\\n-----------------------------\\n')\n",
        "print(s2)\n",
        "print('\\n-----------------------------\\n')\n",
        "print(s3)\n",
        "print('\\n-----------------------------\\n')\n",
        "resultado = pd.concat([s1, s2, s3], keys=['serie1', 'serie2', 'serie3'])\n",
        "resultado"
      ],
      "execution_count": null,
      "outputs": [
        {
          "output_type": "stream",
          "name": "stdout",
          "text": [
            "a    0\n",
            "b    1\n",
            "Name: s1, dtype: int64\n",
            "\n",
            "-----------------------------\n",
            "\n",
            "c    2\n",
            "d    3\n",
            "e    4\n",
            "Name: s2, dtype: int64\n",
            "\n",
            "-----------------------------\n",
            "\n",
            "f    5\n",
            "g    6\n",
            "Name: s3, dtype: int64\n",
            "\n",
            "-----------------------------\n",
            "\n"
          ]
        },
        {
          "output_type": "execute_result",
          "data": {
            "text/plain": [
              "serie1  a    0\n",
              "        b    1\n",
              "serie2  c    2\n",
              "        d    3\n",
              "        e    4\n",
              "serie3  f    5\n",
              "        g    6\n",
              "dtype: int64"
            ]
          },
          "metadata": {},
          "execution_count": 108
        }
      ]
    },
    {
      "cell_type": "code",
      "metadata": {
        "id": "q3JlLWIvg0us",
        "colab": {
          "base_uri": "https://localhost:8080/",
          "height": 143
        },
        "outputId": "59edb426-1698-4aca-b9ab-169018997026"
      },
      "source": [
        "resultado.unstack() # toma el índice jeráquico y construye un dataframe"
      ],
      "execution_count": null,
      "outputs": [
        {
          "output_type": "execute_result",
          "data": {
            "text/html": [
              "<div>\n",
              "<style scoped>\n",
              "    .dataframe tbody tr th:only-of-type {\n",
              "        vertical-align: middle;\n",
              "    }\n",
              "\n",
              "    .dataframe tbody tr th {\n",
              "        vertical-align: top;\n",
              "    }\n",
              "\n",
              "    .dataframe thead th {\n",
              "        text-align: right;\n",
              "    }\n",
              "</style>\n",
              "<table border=\"1\" class=\"dataframe\">\n",
              "  <thead>\n",
              "    <tr style=\"text-align: right;\">\n",
              "      <th></th>\n",
              "      <th>a</th>\n",
              "      <th>b</th>\n",
              "      <th>c</th>\n",
              "      <th>d</th>\n",
              "      <th>e</th>\n",
              "      <th>f</th>\n",
              "      <th>g</th>\n",
              "    </tr>\n",
              "  </thead>\n",
              "  <tbody>\n",
              "    <tr>\n",
              "      <th>serie1</th>\n",
              "      <td>0.0</td>\n",
              "      <td>1.0</td>\n",
              "      <td>NaN</td>\n",
              "      <td>NaN</td>\n",
              "      <td>NaN</td>\n",
              "      <td>NaN</td>\n",
              "      <td>NaN</td>\n",
              "    </tr>\n",
              "    <tr>\n",
              "      <th>serie2</th>\n",
              "      <td>NaN</td>\n",
              "      <td>NaN</td>\n",
              "      <td>2.0</td>\n",
              "      <td>3.0</td>\n",
              "      <td>4.0</td>\n",
              "      <td>NaN</td>\n",
              "      <td>NaN</td>\n",
              "    </tr>\n",
              "    <tr>\n",
              "      <th>serie3</th>\n",
              "      <td>NaN</td>\n",
              "      <td>NaN</td>\n",
              "      <td>NaN</td>\n",
              "      <td>NaN</td>\n",
              "      <td>NaN</td>\n",
              "      <td>5.0</td>\n",
              "      <td>6.0</td>\n",
              "    </tr>\n",
              "  </tbody>\n",
              "</table>\n",
              "</div>"
            ],
            "text/plain": [
              "          a    b    c    d    e    f    g\n",
              "serie1  0.0  1.0  NaN  NaN  NaN  NaN  NaN\n",
              "serie2  NaN  NaN  2.0  3.0  4.0  NaN  NaN\n",
              "serie3  NaN  NaN  NaN  NaN  NaN  5.0  6.0"
            ]
          },
          "metadata": {},
          "execution_count": 109
        }
      ]
    },
    {
      "cell_type": "markdown",
      "metadata": {
        "id": "Xv5UslTNg27w"
      },
      "source": [
        "- En el caso de concatenar en el eje de las columnas, las `keys` se transforman en el nombre de las columnas."
      ]
    },
    {
      "cell_type": "code",
      "metadata": {
        "id": "gD43Kuy7g4-x",
        "colab": {
          "base_uri": "https://localhost:8080/",
          "height": 599
        },
        "outputId": "ba6c6816-0b89-49fd-980b-77c8c64756a2"
      },
      "source": [
        "# concatenamos 3 series como columnas para formar un dataframe\n",
        "print(s1)\n",
        "print('\\n-----------------------------\\n')\n",
        "print(s2)\n",
        "print('\\n-----------------------------\\n')\n",
        "print(s3)\n",
        "print('\\n-----------------------------\\n')\n",
        "\n",
        "pd.concat([s1, s2, s3], axis='columns', keys=['col_1', 'col_2', 'col_3'])"
      ],
      "execution_count": null,
      "outputs": [
        {
          "output_type": "stream",
          "name": "stdout",
          "text": [
            "a    0\n",
            "b    1\n",
            "Name: s1, dtype: int64\n",
            "\n",
            "-----------------------------\n",
            "\n",
            "c    2\n",
            "d    3\n",
            "e    4\n",
            "Name: s2, dtype: int64\n",
            "\n",
            "-----------------------------\n",
            "\n",
            "f    5\n",
            "g    6\n",
            "Name: s3, dtype: int64\n",
            "\n",
            "-----------------------------\n",
            "\n"
          ]
        },
        {
          "output_type": "execute_result",
          "data": {
            "text/html": [
              "<div>\n",
              "<style scoped>\n",
              "    .dataframe tbody tr th:only-of-type {\n",
              "        vertical-align: middle;\n",
              "    }\n",
              "\n",
              "    .dataframe tbody tr th {\n",
              "        vertical-align: top;\n",
              "    }\n",
              "\n",
              "    .dataframe thead th {\n",
              "        text-align: right;\n",
              "    }\n",
              "</style>\n",
              "<table border=\"1\" class=\"dataframe\">\n",
              "  <thead>\n",
              "    <tr style=\"text-align: right;\">\n",
              "      <th></th>\n",
              "      <th>col_1</th>\n",
              "      <th>col_2</th>\n",
              "      <th>col_3</th>\n",
              "    </tr>\n",
              "  </thead>\n",
              "  <tbody>\n",
              "    <tr>\n",
              "      <th>a</th>\n",
              "      <td>0.0</td>\n",
              "      <td>NaN</td>\n",
              "      <td>NaN</td>\n",
              "    </tr>\n",
              "    <tr>\n",
              "      <th>b</th>\n",
              "      <td>1.0</td>\n",
              "      <td>NaN</td>\n",
              "      <td>NaN</td>\n",
              "    </tr>\n",
              "    <tr>\n",
              "      <th>c</th>\n",
              "      <td>NaN</td>\n",
              "      <td>2.0</td>\n",
              "      <td>NaN</td>\n",
              "    </tr>\n",
              "    <tr>\n",
              "      <th>d</th>\n",
              "      <td>NaN</td>\n",
              "      <td>3.0</td>\n",
              "      <td>NaN</td>\n",
              "    </tr>\n",
              "    <tr>\n",
              "      <th>e</th>\n",
              "      <td>NaN</td>\n",
              "      <td>4.0</td>\n",
              "      <td>NaN</td>\n",
              "    </tr>\n",
              "    <tr>\n",
              "      <th>f</th>\n",
              "      <td>NaN</td>\n",
              "      <td>NaN</td>\n",
              "      <td>5.0</td>\n",
              "    </tr>\n",
              "    <tr>\n",
              "      <th>g</th>\n",
              "      <td>NaN</td>\n",
              "      <td>NaN</td>\n",
              "      <td>6.0</td>\n",
              "    </tr>\n",
              "  </tbody>\n",
              "</table>\n",
              "</div>"
            ],
            "text/plain": [
              "   col_1  col_2  col_3\n",
              "a    0.0    NaN    NaN\n",
              "b    1.0    NaN    NaN\n",
              "c    NaN    2.0    NaN\n",
              "d    NaN    3.0    NaN\n",
              "e    NaN    4.0    NaN\n",
              "f    NaN    NaN    5.0\n",
              "g    NaN    NaN    6.0"
            ]
          },
          "metadata": {},
          "execution_count": 110
        }
      ]
    },
    {
      "cell_type": "markdown",
      "metadata": {
        "id": "F-lr6XMtg7W5"
      },
      "source": [
        "- La misma lógica es extensible a `DataFrames`.\n",
        "\n"
      ]
    },
    {
      "cell_type": "code",
      "metadata": {
        "id": "y1iR7pl0g-Fv",
        "colab": {
          "base_uri": "https://localhost:8080/",
          "height": 175
        },
        "outputId": "605f45d6-a30d-4ef4-d039-e0d96f3f90ab"
      },
      "source": [
        "df1 = pd.DataFrame({\n",
        "    'indice': ['a', 'b', 'c'],\n",
        "    'uno': [0,2,4],\n",
        "    'dos':[1,3,5]\n",
        "}).set_index('indice')\n",
        "\n",
        "df1"
      ],
      "execution_count": null,
      "outputs": [
        {
          "output_type": "execute_result",
          "data": {
            "text/html": [
              "<div>\n",
              "<style scoped>\n",
              "    .dataframe tbody tr th:only-of-type {\n",
              "        vertical-align: middle;\n",
              "    }\n",
              "\n",
              "    .dataframe tbody tr th {\n",
              "        vertical-align: top;\n",
              "    }\n",
              "\n",
              "    .dataframe thead th {\n",
              "        text-align: right;\n",
              "    }\n",
              "</style>\n",
              "<table border=\"1\" class=\"dataframe\">\n",
              "  <thead>\n",
              "    <tr style=\"text-align: right;\">\n",
              "      <th></th>\n",
              "      <th>uno</th>\n",
              "      <th>dos</th>\n",
              "    </tr>\n",
              "    <tr>\n",
              "      <th>indice</th>\n",
              "      <th></th>\n",
              "      <th></th>\n",
              "    </tr>\n",
              "  </thead>\n",
              "  <tbody>\n",
              "    <tr>\n",
              "      <th>a</th>\n",
              "      <td>0</td>\n",
              "      <td>1</td>\n",
              "    </tr>\n",
              "    <tr>\n",
              "      <th>b</th>\n",
              "      <td>2</td>\n",
              "      <td>3</td>\n",
              "    </tr>\n",
              "    <tr>\n",
              "      <th>c</th>\n",
              "      <td>4</td>\n",
              "      <td>5</td>\n",
              "    </tr>\n",
              "  </tbody>\n",
              "</table>\n",
              "</div>"
            ],
            "text/plain": [
              "        uno  dos\n",
              "indice          \n",
              "a         0    1\n",
              "b         2    3\n",
              "c         4    5"
            ]
          },
          "metadata": {},
          "execution_count": 111
        }
      ]
    },
    {
      "cell_type": "code",
      "metadata": {
        "id": "FWZwEDAyhTXY",
        "colab": {
          "base_uri": "https://localhost:8080/",
          "height": 143
        },
        "outputId": "a4f1245a-bdf4-45bd-eb9b-8b6ff6ab1159"
      },
      "source": [
        "df2 = pd.DataFrame({\n",
        "    'indice': ['a', 'c'],\n",
        "    'tres': [5,7],\n",
        "    'cuatro': [6,8]\n",
        "}).set_index('indice')\n",
        "\n",
        "df2"
      ],
      "execution_count": null,
      "outputs": [
        {
          "output_type": "execute_result",
          "data": {
            "text/html": [
              "<div>\n",
              "<style scoped>\n",
              "    .dataframe tbody tr th:only-of-type {\n",
              "        vertical-align: middle;\n",
              "    }\n",
              "\n",
              "    .dataframe tbody tr th {\n",
              "        vertical-align: top;\n",
              "    }\n",
              "\n",
              "    .dataframe thead th {\n",
              "        text-align: right;\n",
              "    }\n",
              "</style>\n",
              "<table border=\"1\" class=\"dataframe\">\n",
              "  <thead>\n",
              "    <tr style=\"text-align: right;\">\n",
              "      <th></th>\n",
              "      <th>tres</th>\n",
              "      <th>cuatro</th>\n",
              "    </tr>\n",
              "    <tr>\n",
              "      <th>indice</th>\n",
              "      <th></th>\n",
              "      <th></th>\n",
              "    </tr>\n",
              "  </thead>\n",
              "  <tbody>\n",
              "    <tr>\n",
              "      <th>a</th>\n",
              "      <td>5</td>\n",
              "      <td>6</td>\n",
              "    </tr>\n",
              "    <tr>\n",
              "      <th>c</th>\n",
              "      <td>7</td>\n",
              "      <td>8</td>\n",
              "    </tr>\n",
              "  </tbody>\n",
              "</table>\n",
              "</div>"
            ],
            "text/plain": [
              "        tres  cuatro\n",
              "indice              \n",
              "a          5       6\n",
              "c          7       8"
            ]
          },
          "metadata": {},
          "execution_count": 112
        }
      ]
    },
    {
      "cell_type": "code",
      "metadata": {
        "id": "End4FxQthnAA",
        "colab": {
          "base_uri": "https://localhost:8080/",
          "height": 435
        },
        "outputId": "9e6e8c4b-7584-4164-e859-95c7232a5b38"
      },
      "source": [
        "print(df1)\n",
        "print('\\n---------------------------\\n')\n",
        "print(df2)\n",
        "print('\\n---------------------------\\n')\n",
        "pd.concat([df1, df2], axis='columns', keys=['df1', 'df2'])"
      ],
      "execution_count": null,
      "outputs": [
        {
          "output_type": "stream",
          "name": "stdout",
          "text": [
            "        uno  dos\n",
            "indice          \n",
            "a         0    1\n",
            "b         2    3\n",
            "c         4    5\n",
            "\n",
            "---------------------------\n",
            "\n",
            "        tres  cuatro\n",
            "indice              \n",
            "a          5       6\n",
            "c          7       8\n",
            "\n",
            "---------------------------\n",
            "\n"
          ]
        },
        {
          "output_type": "execute_result",
          "data": {
            "text/html": [
              "<div>\n",
              "<style scoped>\n",
              "    .dataframe tbody tr th:only-of-type {\n",
              "        vertical-align: middle;\n",
              "    }\n",
              "\n",
              "    .dataframe tbody tr th {\n",
              "        vertical-align: top;\n",
              "    }\n",
              "\n",
              "    .dataframe thead tr th {\n",
              "        text-align: left;\n",
              "    }\n",
              "</style>\n",
              "<table border=\"1\" class=\"dataframe\">\n",
              "  <thead>\n",
              "    <tr>\n",
              "      <th></th>\n",
              "      <th colspan=\"2\" halign=\"left\">df1</th>\n",
              "      <th colspan=\"2\" halign=\"left\">df2</th>\n",
              "    </tr>\n",
              "    <tr>\n",
              "      <th></th>\n",
              "      <th>uno</th>\n",
              "      <th>dos</th>\n",
              "      <th>tres</th>\n",
              "      <th>cuatro</th>\n",
              "    </tr>\n",
              "  </thead>\n",
              "  <tbody>\n",
              "    <tr>\n",
              "      <th>a</th>\n",
              "      <td>0</td>\n",
              "      <td>1</td>\n",
              "      <td>5.0</td>\n",
              "      <td>6.0</td>\n",
              "    </tr>\n",
              "    <tr>\n",
              "      <th>b</th>\n",
              "      <td>2</td>\n",
              "      <td>3</td>\n",
              "      <td>NaN</td>\n",
              "      <td>NaN</td>\n",
              "    </tr>\n",
              "    <tr>\n",
              "      <th>c</th>\n",
              "      <td>4</td>\n",
              "      <td>5</td>\n",
              "      <td>7.0</td>\n",
              "      <td>8.0</td>\n",
              "    </tr>\n",
              "  </tbody>\n",
              "</table>\n",
              "</div>"
            ],
            "text/plain": [
              "  df1      df2       \n",
              "  uno dos tres cuatro\n",
              "a   0   1  5.0    6.0\n",
              "b   2   3  NaN    NaN\n",
              "c   4   5  7.0    8.0"
            ]
          },
          "metadata": {},
          "execution_count": 113
        }
      ]
    },
    {
      "cell_type": "markdown",
      "metadata": {
        "id": "Wc4vBe8Khp2V"
      },
      "source": [
        "- Si en vez de pasar una lista de objetos, pasamos un diccionario, las claves del diccionario serán utilizadas como el parámetro `keys`"
      ]
    },
    {
      "cell_type": "code",
      "metadata": {
        "id": "pB2QQnVVhsla",
        "colab": {
          "base_uri": "https://localhost:8080/",
          "height": 175
        },
        "outputId": "396f19e8-39cc-4d60-c611-1d4974dea896"
      },
      "source": [
        "pd.concat({'df1': df1, 'df2': df2}, axis=1)"
      ],
      "execution_count": null,
      "outputs": [
        {
          "output_type": "execute_result",
          "data": {
            "text/html": [
              "<div>\n",
              "<style scoped>\n",
              "    .dataframe tbody tr th:only-of-type {\n",
              "        vertical-align: middle;\n",
              "    }\n",
              "\n",
              "    .dataframe tbody tr th {\n",
              "        vertical-align: top;\n",
              "    }\n",
              "\n",
              "    .dataframe thead tr th {\n",
              "        text-align: left;\n",
              "    }\n",
              "</style>\n",
              "<table border=\"1\" class=\"dataframe\">\n",
              "  <thead>\n",
              "    <tr>\n",
              "      <th></th>\n",
              "      <th colspan=\"2\" halign=\"left\">df1</th>\n",
              "      <th colspan=\"2\" halign=\"left\">df2</th>\n",
              "    </tr>\n",
              "    <tr>\n",
              "      <th></th>\n",
              "      <th>uno</th>\n",
              "      <th>dos</th>\n",
              "      <th>tres</th>\n",
              "      <th>cuatro</th>\n",
              "    </tr>\n",
              "  </thead>\n",
              "  <tbody>\n",
              "    <tr>\n",
              "      <th>a</th>\n",
              "      <td>0</td>\n",
              "      <td>1</td>\n",
              "      <td>5.0</td>\n",
              "      <td>6.0</td>\n",
              "    </tr>\n",
              "    <tr>\n",
              "      <th>b</th>\n",
              "      <td>2</td>\n",
              "      <td>3</td>\n",
              "      <td>NaN</td>\n",
              "      <td>NaN</td>\n",
              "    </tr>\n",
              "    <tr>\n",
              "      <th>c</th>\n",
              "      <td>4</td>\n",
              "      <td>5</td>\n",
              "      <td>7.0</td>\n",
              "      <td>8.0</td>\n",
              "    </tr>\n",
              "  </tbody>\n",
              "</table>\n",
              "</div>"
            ],
            "text/plain": [
              "  df1      df2       \n",
              "  uno dos tres cuatro\n",
              "a   0   1  5.0    6.0\n",
              "b   2   3  NaN    NaN\n",
              "c   4   5  7.0    8.0"
            ]
          },
          "metadata": {},
          "execution_count": 114
        }
      ]
    },
    {
      "cell_type": "markdown",
      "metadata": {
        "id": "otJwnt2-hudD"
      },
      "source": [
        "- Finalmente, una última consideración es en el caso de que los índices concatenados no aporten información útil, se pueden descartar.\n",
        "- Para descartar las etiquetas del índice, usamos el parámetro `ignore_index`."
      ]
    },
    {
      "cell_type": "code",
      "metadata": {
        "id": "bloxE477hw58",
        "colab": {
          "base_uri": "https://localhost:8080/",
          "height": 143
        },
        "outputId": "495c4922-ed27-41b1-8ab5-31b592ddf804"
      },
      "source": [
        "pd.concat([df1, df2], axis='columns')"
      ],
      "execution_count": null,
      "outputs": [
        {
          "output_type": "execute_result",
          "data": {
            "text/html": [
              "<div>\n",
              "<style scoped>\n",
              "    .dataframe tbody tr th:only-of-type {\n",
              "        vertical-align: middle;\n",
              "    }\n",
              "\n",
              "    .dataframe tbody tr th {\n",
              "        vertical-align: top;\n",
              "    }\n",
              "\n",
              "    .dataframe thead th {\n",
              "        text-align: right;\n",
              "    }\n",
              "</style>\n",
              "<table border=\"1\" class=\"dataframe\">\n",
              "  <thead>\n",
              "    <tr style=\"text-align: right;\">\n",
              "      <th></th>\n",
              "      <th>uno</th>\n",
              "      <th>dos</th>\n",
              "      <th>tres</th>\n",
              "      <th>cuatro</th>\n",
              "    </tr>\n",
              "  </thead>\n",
              "  <tbody>\n",
              "    <tr>\n",
              "      <th>a</th>\n",
              "      <td>0</td>\n",
              "      <td>1</td>\n",
              "      <td>5.0</td>\n",
              "      <td>6.0</td>\n",
              "    </tr>\n",
              "    <tr>\n",
              "      <th>b</th>\n",
              "      <td>2</td>\n",
              "      <td>3</td>\n",
              "      <td>NaN</td>\n",
              "      <td>NaN</td>\n",
              "    </tr>\n",
              "    <tr>\n",
              "      <th>c</th>\n",
              "      <td>4</td>\n",
              "      <td>5</td>\n",
              "      <td>7.0</td>\n",
              "      <td>8.0</td>\n",
              "    </tr>\n",
              "  </tbody>\n",
              "</table>\n",
              "</div>"
            ],
            "text/plain": [
              "   uno  dos  tres  cuatro\n",
              "a    0    1   5.0     6.0\n",
              "b    2    3   NaN     NaN\n",
              "c    4    5   7.0     8.0"
            ]
          },
          "metadata": {},
          "execution_count": 115
        }
      ]
    },
    {
      "cell_type": "code",
      "metadata": {
        "id": "1zwKURlChzVu",
        "colab": {
          "base_uri": "https://localhost:8080/",
          "height": 143
        },
        "outputId": "ea0e2a76-4769-4e55-d644-54f1ce1ce0d0"
      },
      "source": [
        "pd.concat([df1, df2], axis='columns', ignore_index=True)"
      ],
      "execution_count": null,
      "outputs": [
        {
          "output_type": "execute_result",
          "data": {
            "text/html": [
              "<div>\n",
              "<style scoped>\n",
              "    .dataframe tbody tr th:only-of-type {\n",
              "        vertical-align: middle;\n",
              "    }\n",
              "\n",
              "    .dataframe tbody tr th {\n",
              "        vertical-align: top;\n",
              "    }\n",
              "\n",
              "    .dataframe thead th {\n",
              "        text-align: right;\n",
              "    }\n",
              "</style>\n",
              "<table border=\"1\" class=\"dataframe\">\n",
              "  <thead>\n",
              "    <tr style=\"text-align: right;\">\n",
              "      <th></th>\n",
              "      <th>0</th>\n",
              "      <th>1</th>\n",
              "      <th>2</th>\n",
              "      <th>3</th>\n",
              "    </tr>\n",
              "  </thead>\n",
              "  <tbody>\n",
              "    <tr>\n",
              "      <th>a</th>\n",
              "      <td>0</td>\n",
              "      <td>1</td>\n",
              "      <td>5.0</td>\n",
              "      <td>6.0</td>\n",
              "    </tr>\n",
              "    <tr>\n",
              "      <th>b</th>\n",
              "      <td>2</td>\n",
              "      <td>3</td>\n",
              "      <td>NaN</td>\n",
              "      <td>NaN</td>\n",
              "    </tr>\n",
              "    <tr>\n",
              "      <th>c</th>\n",
              "      <td>4</td>\n",
              "      <td>5</td>\n",
              "      <td>7.0</td>\n",
              "      <td>8.0</td>\n",
              "    </tr>\n",
              "  </tbody>\n",
              "</table>\n",
              "</div>"
            ],
            "text/plain": [
              "   0  1    2    3\n",
              "a  0  1  5.0  6.0\n",
              "b  2  3  NaN  NaN\n",
              "c  4  5  7.0  8.0"
            ]
          },
          "metadata": {},
          "execution_count": 116
        }
      ]
    },
    {
      "cell_type": "markdown",
      "metadata": {
        "id": "9jiGCNzRh2eQ"
      },
      "source": [
        "### Combinando datos con superposiciones"
      ]
    },
    {
      "cell_type": "markdown",
      "metadata": {
        "id": "PZ1eDtkRh4WA"
      },
      "source": [
        "- Hay otro caso de combinación de datos que no puede considerarse ni mezcla ni concatenación.\n",
        "- Podríamos contar con dos datasets cuyos índices estén superpuestos total o parcialmente."
      ]
    },
    {
      "cell_type": "code",
      "metadata": {
        "id": "MtYRR9j_h6u3",
        "colab": {
          "base_uri": "https://localhost:8080/"
        },
        "outputId": "fc8acb05-69d3-4ae1-ec81-d3176ddbb7b5"
      },
      "source": [
        "a = pd.Series(\n",
        "    [np.nan, 2.5, 0, 3.5, 4.5, np.nan],\n",
        "    index=['a', 'b', 'c', 'd', 'e', 'f'],\n",
        "    name='a'\n",
        ")\n",
        "\n",
        "a"
      ],
      "execution_count": null,
      "outputs": [
        {
          "output_type": "execute_result",
          "data": {
            "text/plain": [
              "a    NaN\n",
              "b    2.5\n",
              "c    0.0\n",
              "d    3.5\n",
              "e    4.5\n",
              "f    NaN\n",
              "Name: a, dtype: float64"
            ]
          },
          "metadata": {},
          "execution_count": 117
        }
      ]
    },
    {
      "cell_type": "code",
      "metadata": {
        "id": "_lN4iF-7h9NQ",
        "colab": {
          "base_uri": "https://localhost:8080/"
        },
        "outputId": "fe939592-0d39-4666-f4e5-909a01c7a4fb"
      },
      "source": [
        "b = pd.Series(\n",
        "    [0., np.nan, 2., np.nan, np.nan, 5.],\n",
        "    index=a.index,\n",
        "    name='b'\n",
        ")\n",
        "\n",
        "b"
      ],
      "execution_count": null,
      "outputs": [
        {
          "output_type": "execute_result",
          "data": {
            "text/plain": [
              "a    0.0\n",
              "b    NaN\n",
              "c    2.0\n",
              "d    NaN\n",
              "e    NaN\n",
              "f    5.0\n",
              "Name: b, dtype: float64"
            ]
          },
          "metadata": {},
          "execution_count": 118
        }
      ]
    },
    {
      "cell_type": "code",
      "metadata": {
        "id": "wR2BZoZ3iCl4",
        "colab": {
          "base_uri": "https://localhost:8080/",
          "height": 238
        },
        "outputId": "a6652e33-3ebd-4dc9-e7d7-0b8ed7265686"
      },
      "source": [
        "pd.concat([a, b], axis='columns')"
      ],
      "execution_count": null,
      "outputs": [
        {
          "output_type": "execute_result",
          "data": {
            "text/html": [
              "<div>\n",
              "<style scoped>\n",
              "    .dataframe tbody tr th:only-of-type {\n",
              "        vertical-align: middle;\n",
              "    }\n",
              "\n",
              "    .dataframe tbody tr th {\n",
              "        vertical-align: top;\n",
              "    }\n",
              "\n",
              "    .dataframe thead th {\n",
              "        text-align: right;\n",
              "    }\n",
              "</style>\n",
              "<table border=\"1\" class=\"dataframe\">\n",
              "  <thead>\n",
              "    <tr style=\"text-align: right;\">\n",
              "      <th></th>\n",
              "      <th>a</th>\n",
              "      <th>b</th>\n",
              "    </tr>\n",
              "  </thead>\n",
              "  <tbody>\n",
              "    <tr>\n",
              "      <th>a</th>\n",
              "      <td>NaN</td>\n",
              "      <td>0.0</td>\n",
              "    </tr>\n",
              "    <tr>\n",
              "      <th>b</th>\n",
              "      <td>2.5</td>\n",
              "      <td>NaN</td>\n",
              "    </tr>\n",
              "    <tr>\n",
              "      <th>c</th>\n",
              "      <td>0.0</td>\n",
              "      <td>2.0</td>\n",
              "    </tr>\n",
              "    <tr>\n",
              "      <th>d</th>\n",
              "      <td>3.5</td>\n",
              "      <td>NaN</td>\n",
              "    </tr>\n",
              "    <tr>\n",
              "      <th>e</th>\n",
              "      <td>4.5</td>\n",
              "      <td>NaN</td>\n",
              "    </tr>\n",
              "    <tr>\n",
              "      <th>f</th>\n",
              "      <td>NaN</td>\n",
              "      <td>5.0</td>\n",
              "    </tr>\n",
              "  </tbody>\n",
              "</table>\n",
              "</div>"
            ],
            "text/plain": [
              "     a    b\n",
              "a  NaN  0.0\n",
              "b  2.5  NaN\n",
              "c  0.0  2.0\n",
              "d  3.5  NaN\n",
              "e  4.5  NaN\n",
              "f  NaN  5.0"
            ]
          },
          "metadata": {},
          "execution_count": 119
        }
      ]
    },
    {
      "cell_type": "markdown",
      "metadata": {
        "id": "JDYCJvgqiFxY"
      },
      "source": [
        "- Podemos ver que la serie `a` tiene los valores que para `b` están marcados como perdidos\n",
        "- Para completar los datos perdidos de `b` con los que tiene `a`, usamos el método `combine_first`"
      ]
    },
    {
      "cell_type": "code",
      "metadata": {
        "id": "136diIiQiH9C",
        "colab": {
          "base_uri": "https://localhost:8080/"
        },
        "outputId": "f9d42789-691e-402a-8979-63cd292a9492"
      },
      "source": [
        "print(a)\n",
        "print('\\n---------------------------\\n')\n",
        "print(b)\n",
        "print('\\n---------------------------\\n')\n",
        "\n",
        "b.combine_first(a) # rellena los valores nulos de b, con los valores de a"
      ],
      "execution_count": null,
      "outputs": [
        {
          "output_type": "stream",
          "name": "stdout",
          "text": [
            "a    NaN\n",
            "b    2.5\n",
            "c    0.0\n",
            "d    3.5\n",
            "e    4.5\n",
            "f    NaN\n",
            "Name: a, dtype: float64\n",
            "\n",
            "---------------------------\n",
            "\n",
            "a    0.0\n",
            "b    NaN\n",
            "c    2.0\n",
            "d    NaN\n",
            "e    NaN\n",
            "f    5.0\n",
            "Name: b, dtype: float64\n",
            "\n",
            "---------------------------\n",
            "\n"
          ]
        },
        {
          "output_type": "execute_result",
          "data": {
            "text/plain": [
              "a    0.0\n",
              "b    2.5\n",
              "c    2.0\n",
              "d    3.5\n",
              "e    4.5\n",
              "f    5.0\n",
              "Name: b, dtype: float64"
            ]
          },
          "metadata": {},
          "execution_count": 120
        }
      ]
    },
    {
      "cell_type": "markdown",
      "metadata": {
        "id": "SXS_V2YxiJvK"
      },
      "source": [
        "- Con `DataFrames`, el método `combine_first` hace exactamente lo mismo, pero columna por columna\n",
        "- Así podemos *parchar* datos perdidos del objeto que invoca el método con datos del objeto pasado como argumento."
      ]
    },
    {
      "cell_type": "code",
      "metadata": {
        "id": "DKt3eetHiMiI",
        "colab": {
          "base_uri": "https://localhost:8080/",
          "height": 175
        },
        "outputId": "21bc0eb0-9189-4a73-b9c3-c402fa978b5b"
      },
      "source": [
        "df1 = pd.DataFrame({\n",
        "    'a': [1,np.nan, 5.,np.nan],\n",
        "    'b': [np.nan, 2.,np.nan, 6],\n",
        "    'c': [2,6,10,14]\n",
        "})\n",
        "\n",
        "df1"
      ],
      "execution_count": null,
      "outputs": [
        {
          "output_type": "execute_result",
          "data": {
            "text/html": [
              "<div>\n",
              "<style scoped>\n",
              "    .dataframe tbody tr th:only-of-type {\n",
              "        vertical-align: middle;\n",
              "    }\n",
              "\n",
              "    .dataframe tbody tr th {\n",
              "        vertical-align: top;\n",
              "    }\n",
              "\n",
              "    .dataframe thead th {\n",
              "        text-align: right;\n",
              "    }\n",
              "</style>\n",
              "<table border=\"1\" class=\"dataframe\">\n",
              "  <thead>\n",
              "    <tr style=\"text-align: right;\">\n",
              "      <th></th>\n",
              "      <th>a</th>\n",
              "      <th>b</th>\n",
              "      <th>c</th>\n",
              "    </tr>\n",
              "  </thead>\n",
              "  <tbody>\n",
              "    <tr>\n",
              "      <th>0</th>\n",
              "      <td>1.0</td>\n",
              "      <td>NaN</td>\n",
              "      <td>2</td>\n",
              "    </tr>\n",
              "    <tr>\n",
              "      <th>1</th>\n",
              "      <td>NaN</td>\n",
              "      <td>2.0</td>\n",
              "      <td>6</td>\n",
              "    </tr>\n",
              "    <tr>\n",
              "      <th>2</th>\n",
              "      <td>5.0</td>\n",
              "      <td>NaN</td>\n",
              "      <td>10</td>\n",
              "    </tr>\n",
              "    <tr>\n",
              "      <th>3</th>\n",
              "      <td>NaN</td>\n",
              "      <td>6.0</td>\n",
              "      <td>14</td>\n",
              "    </tr>\n",
              "  </tbody>\n",
              "</table>\n",
              "</div>"
            ],
            "text/plain": [
              "     a    b   c\n",
              "0  1.0  NaN   2\n",
              "1  NaN  2.0   6\n",
              "2  5.0  NaN  10\n",
              "3  NaN  6.0  14"
            ]
          },
          "metadata": {},
          "execution_count": 121
        }
      ]
    },
    {
      "cell_type": "code",
      "metadata": {
        "id": "hoFYN0gdikSu",
        "colab": {
          "base_uri": "https://localhost:8080/",
          "height": 206
        },
        "outputId": "ad87aea2-c9a0-4a54-c328-dd922de02b00"
      },
      "source": [
        "df2 = pd.DataFrame({\n",
        "    'a': [5, 4., np.nan, 3, 7],\n",
        "    'b': [np.nan, 3., 4.,6, 8]\n",
        "})\n",
        "\n",
        "df2"
      ],
      "execution_count": null,
      "outputs": [
        {
          "output_type": "execute_result",
          "data": {
            "text/html": [
              "<div>\n",
              "<style scoped>\n",
              "    .dataframe tbody tr th:only-of-type {\n",
              "        vertical-align: middle;\n",
              "    }\n",
              "\n",
              "    .dataframe tbody tr th {\n",
              "        vertical-align: top;\n",
              "    }\n",
              "\n",
              "    .dataframe thead th {\n",
              "        text-align: right;\n",
              "    }\n",
              "</style>\n",
              "<table border=\"1\" class=\"dataframe\">\n",
              "  <thead>\n",
              "    <tr style=\"text-align: right;\">\n",
              "      <th></th>\n",
              "      <th>a</th>\n",
              "      <th>b</th>\n",
              "    </tr>\n",
              "  </thead>\n",
              "  <tbody>\n",
              "    <tr>\n",
              "      <th>0</th>\n",
              "      <td>5.0</td>\n",
              "      <td>NaN</td>\n",
              "    </tr>\n",
              "    <tr>\n",
              "      <th>1</th>\n",
              "      <td>4.0</td>\n",
              "      <td>3.0</td>\n",
              "    </tr>\n",
              "    <tr>\n",
              "      <th>2</th>\n",
              "      <td>NaN</td>\n",
              "      <td>4.0</td>\n",
              "    </tr>\n",
              "    <tr>\n",
              "      <th>3</th>\n",
              "      <td>3.0</td>\n",
              "      <td>6.0</td>\n",
              "    </tr>\n",
              "    <tr>\n",
              "      <th>4</th>\n",
              "      <td>7.0</td>\n",
              "      <td>8.0</td>\n",
              "    </tr>\n",
              "  </tbody>\n",
              "</table>\n",
              "</div>"
            ],
            "text/plain": [
              "     a    b\n",
              "0  5.0  NaN\n",
              "1  4.0  3.0\n",
              "2  NaN  4.0\n",
              "3  3.0  6.0\n",
              "4  7.0  8.0"
            ]
          },
          "metadata": {},
          "execution_count": 122
        }
      ]
    },
    {
      "cell_type": "code",
      "metadata": {
        "id": "NBEgoyaDi1wU",
        "colab": {
          "base_uri": "https://localhost:8080/",
          "height": 501
        },
        "outputId": "cd956009-a416-4470-a073-c3ea18fcaeab"
      },
      "source": [
        "print(df1)\n",
        "print('\\n------------------------\\n')\n",
        "print(df2)\n",
        "print('\\n------------------------\\n')\n",
        "\n",
        "df1.combine_first(df2) # notar que agrega la columna 4 del df2"
      ],
      "execution_count": null,
      "outputs": [
        {
          "output_type": "stream",
          "name": "stdout",
          "text": [
            "     a    b   c\n",
            "0  1.0  NaN   2\n",
            "1  NaN  2.0   6\n",
            "2  5.0  NaN  10\n",
            "3  NaN  6.0  14\n",
            "\n",
            "------------------------\n",
            "\n",
            "     a    b\n",
            "0  5.0  NaN\n",
            "1  4.0  3.0\n",
            "2  NaN  4.0\n",
            "3  3.0  6.0\n",
            "4  7.0  8.0\n",
            "\n",
            "------------------------\n",
            "\n"
          ]
        },
        {
          "output_type": "execute_result",
          "data": {
            "text/html": [
              "<div>\n",
              "<style scoped>\n",
              "    .dataframe tbody tr th:only-of-type {\n",
              "        vertical-align: middle;\n",
              "    }\n",
              "\n",
              "    .dataframe tbody tr th {\n",
              "        vertical-align: top;\n",
              "    }\n",
              "\n",
              "    .dataframe thead th {\n",
              "        text-align: right;\n",
              "    }\n",
              "</style>\n",
              "<table border=\"1\" class=\"dataframe\">\n",
              "  <thead>\n",
              "    <tr style=\"text-align: right;\">\n",
              "      <th></th>\n",
              "      <th>a</th>\n",
              "      <th>b</th>\n",
              "      <th>c</th>\n",
              "    </tr>\n",
              "  </thead>\n",
              "  <tbody>\n",
              "    <tr>\n",
              "      <th>0</th>\n",
              "      <td>1.0</td>\n",
              "      <td>NaN</td>\n",
              "      <td>2.0</td>\n",
              "    </tr>\n",
              "    <tr>\n",
              "      <th>1</th>\n",
              "      <td>4.0</td>\n",
              "      <td>2.0</td>\n",
              "      <td>6.0</td>\n",
              "    </tr>\n",
              "    <tr>\n",
              "      <th>2</th>\n",
              "      <td>5.0</td>\n",
              "      <td>4.0</td>\n",
              "      <td>10.0</td>\n",
              "    </tr>\n",
              "    <tr>\n",
              "      <th>3</th>\n",
              "      <td>3.0</td>\n",
              "      <td>6.0</td>\n",
              "      <td>14.0</td>\n",
              "    </tr>\n",
              "    <tr>\n",
              "      <th>4</th>\n",
              "      <td>7.0</td>\n",
              "      <td>8.0</td>\n",
              "      <td>NaN</td>\n",
              "    </tr>\n",
              "  </tbody>\n",
              "</table>\n",
              "</div>"
            ],
            "text/plain": [
              "     a    b     c\n",
              "0  1.0  NaN   2.0\n",
              "1  4.0  2.0   6.0\n",
              "2  5.0  4.0  10.0\n",
              "3  3.0  6.0  14.0\n",
              "4  7.0  8.0   NaN"
            ]
          },
          "metadata": {},
          "execution_count": 123
        }
      ]
    },
    {
      "cell_type": "markdown",
      "metadata": {
        "id": "jIE6A89Gi5C-"
      },
      "source": [
        "## Reorganizando y pivotando"
      ]
    },
    {
      "cell_type": "markdown",
      "metadata": {
        "id": "-NKEgCodi8ET"
      },
      "source": [
        "- Existen dos operaciones de reordenación de datos tabulares\n",
        "  - Reorganizar\n",
        "  - Pivotar"
      ]
    },
    {
      "cell_type": "markdown",
      "metadata": {
        "id": "jzA6xiyVi-SU"
      },
      "source": [
        "### Reorganizando con indexación jerárquica"
      ]
    },
    {
      "cell_type": "markdown",
      "metadata": {
        "id": "7mVQN4oDjAVF"
      },
      "source": [
        "- La indexación jerárquica provee una forma consistente de reordenar datos en un `DataFrame` incorporando varias *dimensiones*.\n",
        "- Los métodos principales son `stack` y `unstack`, que vimos en la primera parte de la clase."
      ]
    },
    {
      "cell_type": "code",
      "metadata": {
        "id": "3tQvykvNzsh0",
        "colab": {
          "base_uri": "https://localhost:8080/",
          "height": 206
        },
        "outputId": "6755b546-143d-4c45-d354-4049ee76fb8d"
      },
      "source": [
        "df1 = pd.DataFrame({\n",
        "    'a': [1,np.nan, 5.,np.nan],\n",
        "    'b': [np.nan, 2.,np.nan, 6],\n",
        "    'c': [2,6,10,14]\n",
        "})\n",
        "\n",
        "df1.columns.name='letra'\n",
        "df1.index.name='numero'\n",
        "\n",
        "df1"
      ],
      "execution_count": null,
      "outputs": [
        {
          "output_type": "execute_result",
          "data": {
            "text/html": [
              "<div>\n",
              "<style scoped>\n",
              "    .dataframe tbody tr th:only-of-type {\n",
              "        vertical-align: middle;\n",
              "    }\n",
              "\n",
              "    .dataframe tbody tr th {\n",
              "        vertical-align: top;\n",
              "    }\n",
              "\n",
              "    .dataframe thead th {\n",
              "        text-align: right;\n",
              "    }\n",
              "</style>\n",
              "<table border=\"1\" class=\"dataframe\">\n",
              "  <thead>\n",
              "    <tr style=\"text-align: right;\">\n",
              "      <th>letra</th>\n",
              "      <th>a</th>\n",
              "      <th>b</th>\n",
              "      <th>c</th>\n",
              "    </tr>\n",
              "    <tr>\n",
              "      <th>numero</th>\n",
              "      <th></th>\n",
              "      <th></th>\n",
              "      <th></th>\n",
              "    </tr>\n",
              "  </thead>\n",
              "  <tbody>\n",
              "    <tr>\n",
              "      <th>0</th>\n",
              "      <td>1.0</td>\n",
              "      <td>NaN</td>\n",
              "      <td>2</td>\n",
              "    </tr>\n",
              "    <tr>\n",
              "      <th>1</th>\n",
              "      <td>NaN</td>\n",
              "      <td>2.0</td>\n",
              "      <td>6</td>\n",
              "    </tr>\n",
              "    <tr>\n",
              "      <th>2</th>\n",
              "      <td>5.0</td>\n",
              "      <td>NaN</td>\n",
              "      <td>10</td>\n",
              "    </tr>\n",
              "    <tr>\n",
              "      <th>3</th>\n",
              "      <td>NaN</td>\n",
              "      <td>6.0</td>\n",
              "      <td>14</td>\n",
              "    </tr>\n",
              "  </tbody>\n",
              "</table>\n",
              "</div>"
            ],
            "text/plain": [
              "letra     a    b   c\n",
              "numero              \n",
              "0       1.0  NaN   2\n",
              "1       NaN  2.0   6\n",
              "2       5.0  NaN  10\n",
              "3       NaN  6.0  14"
            ]
          },
          "metadata": {},
          "execution_count": 124
        }
      ]
    },
    {
      "cell_type": "code",
      "metadata": {
        "id": "7hmH3EFljEtv",
        "colab": {
          "base_uri": "https://localhost:8080/"
        },
        "outputId": "f607e3f9-447e-493f-81c1-fa869635a59a"
      },
      "source": [
        "apilado = df1.stack() # transformar el dataframe a una series con índice jerárquico\n",
        "print(type(apilado))\n",
        "apilado"
      ],
      "execution_count": null,
      "outputs": [
        {
          "output_type": "stream",
          "name": "stdout",
          "text": [
            "<class 'pandas.core.series.Series'>\n"
          ]
        },
        {
          "output_type": "execute_result",
          "data": {
            "text/plain": [
              "numero  letra\n",
              "0       a         1.0\n",
              "        c         2.0\n",
              "1       b         2.0\n",
              "        c         6.0\n",
              "2       a         5.0\n",
              "        c        10.0\n",
              "3       b         6.0\n",
              "        c        14.0\n",
              "dtype: float64"
            ]
          },
          "metadata": {},
          "execution_count": 125
        }
      ]
    },
    {
      "cell_type": "markdown",
      "metadata": {
        "id": "EYbUSWT2jJ_b"
      },
      "source": [
        "- Notar que los datos perdidos no se mantienen al apilar (`stack`) un `DataFrame` en la forma de `Series` con indexado jerárquico.\n",
        "- Si queremos mantener los datos perdidos, usamos el parámetro `dropna=False`."
      ]
    },
    {
      "cell_type": "code",
      "metadata": {
        "id": "ckw85-1gjMRd",
        "colab": {
          "base_uri": "https://localhost:8080/"
        },
        "outputId": "0088bffb-580a-469d-ea63-ef1c4326bfc7"
      },
      "source": [
        "df1.stack(dropna=False)"
      ],
      "execution_count": null,
      "outputs": [
        {
          "output_type": "execute_result",
          "data": {
            "text/plain": [
              "numero  letra\n",
              "0       a         1.0\n",
              "        b         NaN\n",
              "        c         2.0\n",
              "1       a         NaN\n",
              "        b         2.0\n",
              "        c         6.0\n",
              "2       a         5.0\n",
              "        b         NaN\n",
              "        c        10.0\n",
              "3       a         NaN\n",
              "        b         6.0\n",
              "        c        14.0\n",
              "dtype: float64"
            ]
          },
          "metadata": {},
          "execution_count": 126
        }
      ]
    },
    {
      "cell_type": "markdown",
      "metadata": {
        "id": "GangTzLHjO8a"
      },
      "source": [
        "- Si tenemos un indexado múltiple en las filas de un `DataFrame`, podemos indicar el nombre del nivel del índice que queremos apilar o desapilar."
      ]
    },
    {
      "cell_type": "code",
      "metadata": {
        "id": "_qipY7KYuW3Q",
        "colab": {
          "base_uri": "https://localhost:8080/",
          "height": 206
        },
        "outputId": "1ad6a318-cc08-4349-c37b-33311f68c6f3"
      },
      "source": [
        "df1['ciudad'] = ['Santiago', 'Santiago', 'Concepción', 'Concepción']\n",
        "df1"
      ],
      "execution_count": null,
      "outputs": [
        {
          "output_type": "execute_result",
          "data": {
            "text/html": [
              "<div>\n",
              "<style scoped>\n",
              "    .dataframe tbody tr th:only-of-type {\n",
              "        vertical-align: middle;\n",
              "    }\n",
              "\n",
              "    .dataframe tbody tr th {\n",
              "        vertical-align: top;\n",
              "    }\n",
              "\n",
              "    .dataframe thead th {\n",
              "        text-align: right;\n",
              "    }\n",
              "</style>\n",
              "<table border=\"1\" class=\"dataframe\">\n",
              "  <thead>\n",
              "    <tr style=\"text-align: right;\">\n",
              "      <th>letra</th>\n",
              "      <th>a</th>\n",
              "      <th>b</th>\n",
              "      <th>c</th>\n",
              "      <th>ciudad</th>\n",
              "    </tr>\n",
              "    <tr>\n",
              "      <th>numero</th>\n",
              "      <th></th>\n",
              "      <th></th>\n",
              "      <th></th>\n",
              "      <th></th>\n",
              "    </tr>\n",
              "  </thead>\n",
              "  <tbody>\n",
              "    <tr>\n",
              "      <th>0</th>\n",
              "      <td>1.0</td>\n",
              "      <td>NaN</td>\n",
              "      <td>2</td>\n",
              "      <td>Santiago</td>\n",
              "    </tr>\n",
              "    <tr>\n",
              "      <th>1</th>\n",
              "      <td>NaN</td>\n",
              "      <td>2.0</td>\n",
              "      <td>6</td>\n",
              "      <td>Santiago</td>\n",
              "    </tr>\n",
              "    <tr>\n",
              "      <th>2</th>\n",
              "      <td>5.0</td>\n",
              "      <td>NaN</td>\n",
              "      <td>10</td>\n",
              "      <td>Concepción</td>\n",
              "    </tr>\n",
              "    <tr>\n",
              "      <th>3</th>\n",
              "      <td>NaN</td>\n",
              "      <td>6.0</td>\n",
              "      <td>14</td>\n",
              "      <td>Concepción</td>\n",
              "    </tr>\n",
              "  </tbody>\n",
              "</table>\n",
              "</div>"
            ],
            "text/plain": [
              "letra     a    b   c      ciudad\n",
              "numero                          \n",
              "0       1.0  NaN   2    Santiago\n",
              "1       NaN  2.0   6    Santiago\n",
              "2       5.0  NaN  10  Concepción\n",
              "3       NaN  6.0  14  Concepción"
            ]
          },
          "metadata": {},
          "execution_count": 127
        }
      ]
    },
    {
      "cell_type": "code",
      "metadata": {
        "id": "VX2Ska5zjRTb",
        "colab": {
          "base_uri": "https://localhost:8080/",
          "height": 206
        },
        "outputId": "88def310-155c-46cf-a080-b884236421ed"
      },
      "source": [
        "df1 = df1.set_index('ciudad', append=True).swaplevel('ciudad', 'numero') # append columns to existing index.\n",
        "df1"
      ],
      "execution_count": null,
      "outputs": [
        {
          "output_type": "execute_result",
          "data": {
            "text/html": [
              "<div>\n",
              "<style scoped>\n",
              "    .dataframe tbody tr th:only-of-type {\n",
              "        vertical-align: middle;\n",
              "    }\n",
              "\n",
              "    .dataframe tbody tr th {\n",
              "        vertical-align: top;\n",
              "    }\n",
              "\n",
              "    .dataframe thead th {\n",
              "        text-align: right;\n",
              "    }\n",
              "</style>\n",
              "<table border=\"1\" class=\"dataframe\">\n",
              "  <thead>\n",
              "    <tr style=\"text-align: right;\">\n",
              "      <th></th>\n",
              "      <th>letra</th>\n",
              "      <th>a</th>\n",
              "      <th>b</th>\n",
              "      <th>c</th>\n",
              "    </tr>\n",
              "    <tr>\n",
              "      <th>ciudad</th>\n",
              "      <th>numero</th>\n",
              "      <th></th>\n",
              "      <th></th>\n",
              "      <th></th>\n",
              "    </tr>\n",
              "  </thead>\n",
              "  <tbody>\n",
              "    <tr>\n",
              "      <th rowspan=\"2\" valign=\"top\">Santiago</th>\n",
              "      <th>0</th>\n",
              "      <td>1.0</td>\n",
              "      <td>NaN</td>\n",
              "      <td>2</td>\n",
              "    </tr>\n",
              "    <tr>\n",
              "      <th>1</th>\n",
              "      <td>NaN</td>\n",
              "      <td>2.0</td>\n",
              "      <td>6</td>\n",
              "    </tr>\n",
              "    <tr>\n",
              "      <th rowspan=\"2\" valign=\"top\">Concepción</th>\n",
              "      <th>2</th>\n",
              "      <td>5.0</td>\n",
              "      <td>NaN</td>\n",
              "      <td>10</td>\n",
              "    </tr>\n",
              "    <tr>\n",
              "      <th>3</th>\n",
              "      <td>NaN</td>\n",
              "      <td>6.0</td>\n",
              "      <td>14</td>\n",
              "    </tr>\n",
              "  </tbody>\n",
              "</table>\n",
              "</div>"
            ],
            "text/plain": [
              "letra                a    b   c\n",
              "ciudad     numero              \n",
              "Santiago   0       1.0  NaN   2\n",
              "           1       NaN  2.0   6\n",
              "Concepción 2       5.0  NaN  10\n",
              "           3       NaN  6.0  14"
            ]
          },
          "metadata": {},
          "execution_count": 128
        }
      ]
    },
    {
      "cell_type": "code",
      "metadata": {
        "id": "y32vD1QnjTMC",
        "colab": {
          "base_uri": "https://localhost:8080/",
          "height": 238
        },
        "outputId": "8b37b31e-1f3b-4b3a-af70-f3190b85e43d"
      },
      "source": [
        "df1.unstack('ciudad')"
      ],
      "execution_count": null,
      "outputs": [
        {
          "output_type": "execute_result",
          "data": {
            "text/html": [
              "<div>\n",
              "<style scoped>\n",
              "    .dataframe tbody tr th:only-of-type {\n",
              "        vertical-align: middle;\n",
              "    }\n",
              "\n",
              "    .dataframe tbody tr th {\n",
              "        vertical-align: top;\n",
              "    }\n",
              "\n",
              "    .dataframe thead tr th {\n",
              "        text-align: left;\n",
              "    }\n",
              "\n",
              "    .dataframe thead tr:last-of-type th {\n",
              "        text-align: right;\n",
              "    }\n",
              "</style>\n",
              "<table border=\"1\" class=\"dataframe\">\n",
              "  <thead>\n",
              "    <tr>\n",
              "      <th>letra</th>\n",
              "      <th colspan=\"2\" halign=\"left\">a</th>\n",
              "      <th colspan=\"2\" halign=\"left\">b</th>\n",
              "      <th colspan=\"2\" halign=\"left\">c</th>\n",
              "    </tr>\n",
              "    <tr>\n",
              "      <th>ciudad</th>\n",
              "      <th>Concepción</th>\n",
              "      <th>Santiago</th>\n",
              "      <th>Concepción</th>\n",
              "      <th>Santiago</th>\n",
              "      <th>Concepción</th>\n",
              "      <th>Santiago</th>\n",
              "    </tr>\n",
              "    <tr>\n",
              "      <th>numero</th>\n",
              "      <th></th>\n",
              "      <th></th>\n",
              "      <th></th>\n",
              "      <th></th>\n",
              "      <th></th>\n",
              "      <th></th>\n",
              "    </tr>\n",
              "  </thead>\n",
              "  <tbody>\n",
              "    <tr>\n",
              "      <th>0</th>\n",
              "      <td>NaN</td>\n",
              "      <td>1.0</td>\n",
              "      <td>NaN</td>\n",
              "      <td>NaN</td>\n",
              "      <td>NaN</td>\n",
              "      <td>2.0</td>\n",
              "    </tr>\n",
              "    <tr>\n",
              "      <th>1</th>\n",
              "      <td>NaN</td>\n",
              "      <td>NaN</td>\n",
              "      <td>NaN</td>\n",
              "      <td>2.0</td>\n",
              "      <td>NaN</td>\n",
              "      <td>6.0</td>\n",
              "    </tr>\n",
              "    <tr>\n",
              "      <th>2</th>\n",
              "      <td>5.0</td>\n",
              "      <td>NaN</td>\n",
              "      <td>NaN</td>\n",
              "      <td>NaN</td>\n",
              "      <td>10.0</td>\n",
              "      <td>NaN</td>\n",
              "    </tr>\n",
              "    <tr>\n",
              "      <th>3</th>\n",
              "      <td>NaN</td>\n",
              "      <td>NaN</td>\n",
              "      <td>6.0</td>\n",
              "      <td>NaN</td>\n",
              "      <td>14.0</td>\n",
              "      <td>NaN</td>\n",
              "    </tr>\n",
              "  </tbody>\n",
              "</table>\n",
              "</div>"
            ],
            "text/plain": [
              "letra           a                   b                   c         \n",
              "ciudad Concepción Santiago Concepción Santiago Concepción Santiago\n",
              "numero                                                            \n",
              "0             NaN      1.0        NaN      NaN        NaN      2.0\n",
              "1             NaN      NaN        NaN      2.0        NaN      6.0\n",
              "2             5.0      NaN        NaN      NaN       10.0      NaN\n",
              "3             NaN      NaN        6.0      NaN       14.0      NaN"
            ]
          },
          "metadata": {},
          "execution_count": 129
        }
      ]
    },
    {
      "cell_type": "markdown",
      "metadata": {
        "id": "3okjXBepjfcz"
      },
      "source": [
        "### Pivotando de formato largo a ancho"
      ]
    },
    {
      "cell_type": "markdown",
      "metadata": {
        "id": "PuZwtlZvjh12"
      },
      "source": [
        "- Una forma común de almacenar múltiples series de tiempo en bases de datos o CSV, es en el *formato largo* o *apilado*.\n",
        "- Veamos un ejemplo de este tipo de guardado, y veamos como podemos consolidar y limpiar estos datos."
      ]
    },
    {
      "cell_type": "code",
      "metadata": {
        "id": "8vK577Z6jclU",
        "colab": {
          "base_uri": "https://localhost:8080/",
          "height": 441
        },
        "outputId": "c02b0833-1d64-4b90-dcbc-9f26f1fd61c7"
      },
      "source": [
        "data = pd.read_csv('https://raw.githubusercontent.com/pgalilea/datasets/main/csv/macrodata.csv')\n",
        "print(data.shape)\n",
        "data"
      ],
      "execution_count": null,
      "outputs": [
        {
          "output_type": "stream",
          "name": "stdout",
          "text": [
            "(203, 14)\n"
          ]
        },
        {
          "output_type": "execute_result",
          "data": {
            "text/html": [
              "<div>\n",
              "<style scoped>\n",
              "    .dataframe tbody tr th:only-of-type {\n",
              "        vertical-align: middle;\n",
              "    }\n",
              "\n",
              "    .dataframe tbody tr th {\n",
              "        vertical-align: top;\n",
              "    }\n",
              "\n",
              "    .dataframe thead th {\n",
              "        text-align: right;\n",
              "    }\n",
              "</style>\n",
              "<table border=\"1\" class=\"dataframe\">\n",
              "  <thead>\n",
              "    <tr style=\"text-align: right;\">\n",
              "      <th></th>\n",
              "      <th>year</th>\n",
              "      <th>quarter</th>\n",
              "      <th>realgdp</th>\n",
              "      <th>realcons</th>\n",
              "      <th>realinv</th>\n",
              "      <th>realgovt</th>\n",
              "      <th>realdpi</th>\n",
              "      <th>cpi</th>\n",
              "      <th>m1</th>\n",
              "      <th>tbilrate</th>\n",
              "      <th>unemp</th>\n",
              "      <th>pop</th>\n",
              "      <th>infl</th>\n",
              "      <th>realint</th>\n",
              "    </tr>\n",
              "  </thead>\n",
              "  <tbody>\n",
              "    <tr>\n",
              "      <th>0</th>\n",
              "      <td>1959</td>\n",
              "      <td>1</td>\n",
              "      <td>2710.349</td>\n",
              "      <td>1707.4</td>\n",
              "      <td>286.898</td>\n",
              "      <td>470.045</td>\n",
              "      <td>1886.9</td>\n",
              "      <td>28.980</td>\n",
              "      <td>139.7</td>\n",
              "      <td>2.82</td>\n",
              "      <td>5.8</td>\n",
              "      <td>177.146</td>\n",
              "      <td>0.00</td>\n",
              "      <td>0.00</td>\n",
              "    </tr>\n",
              "    <tr>\n",
              "      <th>1</th>\n",
              "      <td>1959</td>\n",
              "      <td>2</td>\n",
              "      <td>2778.801</td>\n",
              "      <td>1733.7</td>\n",
              "      <td>310.859</td>\n",
              "      <td>481.301</td>\n",
              "      <td>1919.7</td>\n",
              "      <td>29.150</td>\n",
              "      <td>141.7</td>\n",
              "      <td>3.08</td>\n",
              "      <td>5.1</td>\n",
              "      <td>177.830</td>\n",
              "      <td>2.34</td>\n",
              "      <td>0.74</td>\n",
              "    </tr>\n",
              "    <tr>\n",
              "      <th>2</th>\n",
              "      <td>1959</td>\n",
              "      <td>3</td>\n",
              "      <td>2775.488</td>\n",
              "      <td>1751.8</td>\n",
              "      <td>289.226</td>\n",
              "      <td>491.260</td>\n",
              "      <td>1916.4</td>\n",
              "      <td>29.350</td>\n",
              "      <td>140.5</td>\n",
              "      <td>3.82</td>\n",
              "      <td>5.3</td>\n",
              "      <td>178.657</td>\n",
              "      <td>2.74</td>\n",
              "      <td>1.09</td>\n",
              "    </tr>\n",
              "    <tr>\n",
              "      <th>3</th>\n",
              "      <td>1959</td>\n",
              "      <td>4</td>\n",
              "      <td>2785.204</td>\n",
              "      <td>1753.7</td>\n",
              "      <td>299.356</td>\n",
              "      <td>484.052</td>\n",
              "      <td>1931.3</td>\n",
              "      <td>29.370</td>\n",
              "      <td>140.0</td>\n",
              "      <td>4.33</td>\n",
              "      <td>5.6</td>\n",
              "      <td>179.386</td>\n",
              "      <td>0.27</td>\n",
              "      <td>4.06</td>\n",
              "    </tr>\n",
              "    <tr>\n",
              "      <th>4</th>\n",
              "      <td>1960</td>\n",
              "      <td>1</td>\n",
              "      <td>2847.699</td>\n",
              "      <td>1770.5</td>\n",
              "      <td>331.722</td>\n",
              "      <td>462.199</td>\n",
              "      <td>1955.5</td>\n",
              "      <td>29.540</td>\n",
              "      <td>139.6</td>\n",
              "      <td>3.50</td>\n",
              "      <td>5.2</td>\n",
              "      <td>180.007</td>\n",
              "      <td>2.31</td>\n",
              "      <td>1.19</td>\n",
              "    </tr>\n",
              "    <tr>\n",
              "      <th>...</th>\n",
              "      <td>...</td>\n",
              "      <td>...</td>\n",
              "      <td>...</td>\n",
              "      <td>...</td>\n",
              "      <td>...</td>\n",
              "      <td>...</td>\n",
              "      <td>...</td>\n",
              "      <td>...</td>\n",
              "      <td>...</td>\n",
              "      <td>...</td>\n",
              "      <td>...</td>\n",
              "      <td>...</td>\n",
              "      <td>...</td>\n",
              "      <td>...</td>\n",
              "    </tr>\n",
              "    <tr>\n",
              "      <th>198</th>\n",
              "      <td>2008</td>\n",
              "      <td>3</td>\n",
              "      <td>13324.600</td>\n",
              "      <td>9267.7</td>\n",
              "      <td>1990.693</td>\n",
              "      <td>991.551</td>\n",
              "      <td>9838.3</td>\n",
              "      <td>216.889</td>\n",
              "      <td>1474.7</td>\n",
              "      <td>1.17</td>\n",
              "      <td>6.0</td>\n",
              "      <td>305.270</td>\n",
              "      <td>-3.16</td>\n",
              "      <td>4.33</td>\n",
              "    </tr>\n",
              "    <tr>\n",
              "      <th>199</th>\n",
              "      <td>2008</td>\n",
              "      <td>4</td>\n",
              "      <td>13141.920</td>\n",
              "      <td>9195.3</td>\n",
              "      <td>1857.661</td>\n",
              "      <td>1007.273</td>\n",
              "      <td>9920.4</td>\n",
              "      <td>212.174</td>\n",
              "      <td>1576.5</td>\n",
              "      <td>0.12</td>\n",
              "      <td>6.9</td>\n",
              "      <td>305.952</td>\n",
              "      <td>-8.79</td>\n",
              "      <td>8.91</td>\n",
              "    </tr>\n",
              "    <tr>\n",
              "      <th>200</th>\n",
              "      <td>2009</td>\n",
              "      <td>1</td>\n",
              "      <td>12925.410</td>\n",
              "      <td>9209.2</td>\n",
              "      <td>1558.494</td>\n",
              "      <td>996.287</td>\n",
              "      <td>9926.4</td>\n",
              "      <td>212.671</td>\n",
              "      <td>1592.8</td>\n",
              "      <td>0.22</td>\n",
              "      <td>8.1</td>\n",
              "      <td>306.547</td>\n",
              "      <td>0.94</td>\n",
              "      <td>-0.71</td>\n",
              "    </tr>\n",
              "    <tr>\n",
              "      <th>201</th>\n",
              "      <td>2009</td>\n",
              "      <td>2</td>\n",
              "      <td>12901.504</td>\n",
              "      <td>9189.0</td>\n",
              "      <td>1456.678</td>\n",
              "      <td>1023.528</td>\n",
              "      <td>10077.5</td>\n",
              "      <td>214.469</td>\n",
              "      <td>1653.6</td>\n",
              "      <td>0.18</td>\n",
              "      <td>9.2</td>\n",
              "      <td>307.226</td>\n",
              "      <td>3.37</td>\n",
              "      <td>-3.19</td>\n",
              "    </tr>\n",
              "    <tr>\n",
              "      <th>202</th>\n",
              "      <td>2009</td>\n",
              "      <td>3</td>\n",
              "      <td>12990.341</td>\n",
              "      <td>9256.0</td>\n",
              "      <td>1486.398</td>\n",
              "      <td>1044.088</td>\n",
              "      <td>10040.6</td>\n",
              "      <td>216.385</td>\n",
              "      <td>1673.9</td>\n",
              "      <td>0.12</td>\n",
              "      <td>9.6</td>\n",
              "      <td>308.013</td>\n",
              "      <td>3.56</td>\n",
              "      <td>-3.44</td>\n",
              "    </tr>\n",
              "  </tbody>\n",
              "</table>\n",
              "<p>203 rows × 14 columns</p>\n",
              "</div>"
            ],
            "text/plain": [
              "     year  quarter    realgdp  realcons  ...  unemp      pop  infl  realint\n",
              "0    1959        1   2710.349    1707.4  ...    5.8  177.146  0.00     0.00\n",
              "1    1959        2   2778.801    1733.7  ...    5.1  177.830  2.34     0.74\n",
              "2    1959        3   2775.488    1751.8  ...    5.3  178.657  2.74     1.09\n",
              "3    1959        4   2785.204    1753.7  ...    5.6  179.386  0.27     4.06\n",
              "4    1960        1   2847.699    1770.5  ...    5.2  180.007  2.31     1.19\n",
              "..    ...      ...        ...       ...  ...    ...      ...   ...      ...\n",
              "198  2008        3  13324.600    9267.7  ...    6.0  305.270 -3.16     4.33\n",
              "199  2008        4  13141.920    9195.3  ...    6.9  305.952 -8.79     8.91\n",
              "200  2009        1  12925.410    9209.2  ...    8.1  306.547  0.94    -0.71\n",
              "201  2009        2  12901.504    9189.0  ...    9.2  307.226  3.37    -3.19\n",
              "202  2009        3  12990.341    9256.0  ...    9.6  308.013  3.56    -3.44\n",
              "\n",
              "[203 rows x 14 columns]"
            ]
          },
          "metadata": {},
          "execution_count": 130
        }
      ]
    },
    {
      "cell_type": "markdown",
      "metadata": {
        "id": "ixoMDd3zjxNm"
      },
      "source": [
        "- Vamos a crear un nuevo tipo de índice, de tipo `PeriodIndex`."
      ]
    },
    {
      "cell_type": "code",
      "metadata": {
        "id": "QnfQhqWV0jA4",
        "colab": {
          "base_uri": "https://localhost:8080/"
        },
        "outputId": "e014bcbe-9165-4ba4-8f74-49de45676c38"
      },
      "source": [
        "print(data.year)\n",
        "print('\\n---------------------------------------\\n')\n",
        "print(data.quarter)"
      ],
      "execution_count": null,
      "outputs": [
        {
          "output_type": "stream",
          "name": "stdout",
          "text": [
            "0      1959\n",
            "1      1959\n",
            "2      1959\n",
            "3      1959\n",
            "4      1960\n",
            "       ... \n",
            "198    2008\n",
            "199    2008\n",
            "200    2009\n",
            "201    2009\n",
            "202    2009\n",
            "Name: year, Length: 203, dtype: int64\n",
            "\n",
            "---------------------------------------\n",
            "\n",
            "0      1\n",
            "1      2\n",
            "2      3\n",
            "3      4\n",
            "4      1\n",
            "      ..\n",
            "198    3\n",
            "199    4\n",
            "200    1\n",
            "201    2\n",
            "202    3\n",
            "Name: quarter, Length: 203, dtype: int64\n"
          ]
        }
      ]
    },
    {
      "cell_type": "code",
      "metadata": {
        "id": "F-hvJSfKj2C6",
        "colab": {
          "base_uri": "https://localhost:8080/"
        },
        "outputId": "ac603bcd-9279-47bb-9119-7f3e43fbdd98"
      },
      "source": [
        "periodos = pd.PeriodIndex(year=data.year, quarter=data.quarter, name='fecha')\n",
        "periodos"
      ],
      "execution_count": null,
      "outputs": [
        {
          "output_type": "execute_result",
          "data": {
            "text/plain": [
              "PeriodIndex(['1959Q1', '1959Q2', '1959Q3', '1959Q4', '1960Q1', '1960Q2',\n",
              "             '1960Q3', '1960Q4', '1961Q1', '1961Q2',\n",
              "             ...\n",
              "             '2007Q2', '2007Q3', '2007Q4', '2008Q1', '2008Q2', '2008Q3',\n",
              "             '2008Q4', '2009Q1', '2009Q2', '2009Q3'],\n",
              "            dtype='period[Q-DEC]', name='fecha', length=203, freq='Q-DEC')"
            ]
          },
          "metadata": {},
          "execution_count": 132
        }
      ]
    },
    {
      "cell_type": "markdown",
      "metadata": {
        "id": "jp3LZDmMj42x"
      },
      "source": [
        "- En resumen, combinamos años y trimestres para crear un tipo de intervalo de tiempo."
      ]
    },
    {
      "cell_type": "code",
      "metadata": {
        "id": "iRAzZcEwj8RI",
        "colab": {
          "base_uri": "https://localhost:8080/"
        },
        "outputId": "492e52fd-7b4f-4305-a944-a07d4d73c1f6"
      },
      "source": [
        "columnas = pd.Index(['realgdp', 'infl', 'unemp'], name='item')\n",
        "columnas"
      ],
      "execution_count": null,
      "outputs": [
        {
          "output_type": "execute_result",
          "data": {
            "text/plain": [
              "Index(['realgdp', 'infl', 'unemp'], dtype='object', name='item')"
            ]
          },
          "metadata": {},
          "execution_count": 133
        }
      ]
    },
    {
      "cell_type": "code",
      "metadata": {
        "id": "jvpL9bb1j-FU",
        "colab": {
          "base_uri": "https://localhost:8080/",
          "height": 455
        },
        "outputId": "f968208a-d1f6-4455-ec1d-2c94d0e168a1"
      },
      "source": [
        "data = data.reindex(columns=columnas) # dejamos solo algunas columnas\n",
        "data.index = periodos.strftime('%Y-%m-%d') # de PeriodIndex a str\n",
        "data"
      ],
      "execution_count": null,
      "outputs": [
        {
          "output_type": "execute_result",
          "data": {
            "text/html": [
              "<div>\n",
              "<style scoped>\n",
              "    .dataframe tbody tr th:only-of-type {\n",
              "        vertical-align: middle;\n",
              "    }\n",
              "\n",
              "    .dataframe tbody tr th {\n",
              "        vertical-align: top;\n",
              "    }\n",
              "\n",
              "    .dataframe thead th {\n",
              "        text-align: right;\n",
              "    }\n",
              "</style>\n",
              "<table border=\"1\" class=\"dataframe\">\n",
              "  <thead>\n",
              "    <tr style=\"text-align: right;\">\n",
              "      <th>item</th>\n",
              "      <th>realgdp</th>\n",
              "      <th>infl</th>\n",
              "      <th>unemp</th>\n",
              "    </tr>\n",
              "    <tr>\n",
              "      <th>fecha</th>\n",
              "      <th></th>\n",
              "      <th></th>\n",
              "      <th></th>\n",
              "    </tr>\n",
              "  </thead>\n",
              "  <tbody>\n",
              "    <tr>\n",
              "      <th>1959-03-31</th>\n",
              "      <td>2710.349</td>\n",
              "      <td>0.00</td>\n",
              "      <td>5.8</td>\n",
              "    </tr>\n",
              "    <tr>\n",
              "      <th>1959-06-30</th>\n",
              "      <td>2778.801</td>\n",
              "      <td>2.34</td>\n",
              "      <td>5.1</td>\n",
              "    </tr>\n",
              "    <tr>\n",
              "      <th>1959-09-30</th>\n",
              "      <td>2775.488</td>\n",
              "      <td>2.74</td>\n",
              "      <td>5.3</td>\n",
              "    </tr>\n",
              "    <tr>\n",
              "      <th>1959-12-31</th>\n",
              "      <td>2785.204</td>\n",
              "      <td>0.27</td>\n",
              "      <td>5.6</td>\n",
              "    </tr>\n",
              "    <tr>\n",
              "      <th>1960-03-31</th>\n",
              "      <td>2847.699</td>\n",
              "      <td>2.31</td>\n",
              "      <td>5.2</td>\n",
              "    </tr>\n",
              "    <tr>\n",
              "      <th>...</th>\n",
              "      <td>...</td>\n",
              "      <td>...</td>\n",
              "      <td>...</td>\n",
              "    </tr>\n",
              "    <tr>\n",
              "      <th>2008-09-30</th>\n",
              "      <td>13324.600</td>\n",
              "      <td>-3.16</td>\n",
              "      <td>6.0</td>\n",
              "    </tr>\n",
              "    <tr>\n",
              "      <th>2008-12-31</th>\n",
              "      <td>13141.920</td>\n",
              "      <td>-8.79</td>\n",
              "      <td>6.9</td>\n",
              "    </tr>\n",
              "    <tr>\n",
              "      <th>2009-03-31</th>\n",
              "      <td>12925.410</td>\n",
              "      <td>0.94</td>\n",
              "      <td>8.1</td>\n",
              "    </tr>\n",
              "    <tr>\n",
              "      <th>2009-06-30</th>\n",
              "      <td>12901.504</td>\n",
              "      <td>3.37</td>\n",
              "      <td>9.2</td>\n",
              "    </tr>\n",
              "    <tr>\n",
              "      <th>2009-09-30</th>\n",
              "      <td>12990.341</td>\n",
              "      <td>3.56</td>\n",
              "      <td>9.6</td>\n",
              "    </tr>\n",
              "  </tbody>\n",
              "</table>\n",
              "<p>203 rows × 3 columns</p>\n",
              "</div>"
            ],
            "text/plain": [
              "item          realgdp  infl  unemp\n",
              "fecha                             \n",
              "1959-03-31   2710.349  0.00    5.8\n",
              "1959-06-30   2778.801  2.34    5.1\n",
              "1959-09-30   2775.488  2.74    5.3\n",
              "1959-12-31   2785.204  0.27    5.6\n",
              "1960-03-31   2847.699  2.31    5.2\n",
              "...               ...   ...    ...\n",
              "2008-09-30  13324.600 -3.16    6.0\n",
              "2008-12-31  13141.920 -8.79    6.9\n",
              "2009-03-31  12925.410  0.94    8.1\n",
              "2009-06-30  12901.504  3.37    9.2\n",
              "2009-09-30  12990.341  3.56    9.6\n",
              "\n",
              "[203 rows x 3 columns]"
            ]
          },
          "metadata": {},
          "execution_count": 134
        }
      ]
    },
    {
      "cell_type": "code",
      "metadata": {
        "id": "GL4a7VjKkFV7",
        "colab": {
          "base_uri": "https://localhost:8080/",
          "height": 424
        },
        "outputId": "1ef78f3e-0734-41d3-ec22-5d4bf87b39bc"
      },
      "source": [
        "# 1.- Con .stack() creamos una series con índices (fecha, item)\n",
        "# 2.- Con reset_index se pasan los índices a columnas\n",
        "\n",
        "flargo = data.stack().reset_index().rename(columns={0: 'valor'})\n",
        "flargo"
      ],
      "execution_count": null,
      "outputs": [
        {
          "output_type": "execute_result",
          "data": {
            "text/html": [
              "<div>\n",
              "<style scoped>\n",
              "    .dataframe tbody tr th:only-of-type {\n",
              "        vertical-align: middle;\n",
              "    }\n",
              "\n",
              "    .dataframe tbody tr th {\n",
              "        vertical-align: top;\n",
              "    }\n",
              "\n",
              "    .dataframe thead th {\n",
              "        text-align: right;\n",
              "    }\n",
              "</style>\n",
              "<table border=\"1\" class=\"dataframe\">\n",
              "  <thead>\n",
              "    <tr style=\"text-align: right;\">\n",
              "      <th></th>\n",
              "      <th>fecha</th>\n",
              "      <th>item</th>\n",
              "      <th>valor</th>\n",
              "    </tr>\n",
              "  </thead>\n",
              "  <tbody>\n",
              "    <tr>\n",
              "      <th>0</th>\n",
              "      <td>1959-03-31</td>\n",
              "      <td>realgdp</td>\n",
              "      <td>2710.349</td>\n",
              "    </tr>\n",
              "    <tr>\n",
              "      <th>1</th>\n",
              "      <td>1959-03-31</td>\n",
              "      <td>infl</td>\n",
              "      <td>0.000</td>\n",
              "    </tr>\n",
              "    <tr>\n",
              "      <th>2</th>\n",
              "      <td>1959-03-31</td>\n",
              "      <td>unemp</td>\n",
              "      <td>5.800</td>\n",
              "    </tr>\n",
              "    <tr>\n",
              "      <th>3</th>\n",
              "      <td>1959-06-30</td>\n",
              "      <td>realgdp</td>\n",
              "      <td>2778.801</td>\n",
              "    </tr>\n",
              "    <tr>\n",
              "      <th>4</th>\n",
              "      <td>1959-06-30</td>\n",
              "      <td>infl</td>\n",
              "      <td>2.340</td>\n",
              "    </tr>\n",
              "    <tr>\n",
              "      <th>...</th>\n",
              "      <td>...</td>\n",
              "      <td>...</td>\n",
              "      <td>...</td>\n",
              "    </tr>\n",
              "    <tr>\n",
              "      <th>604</th>\n",
              "      <td>2009-06-30</td>\n",
              "      <td>infl</td>\n",
              "      <td>3.370</td>\n",
              "    </tr>\n",
              "    <tr>\n",
              "      <th>605</th>\n",
              "      <td>2009-06-30</td>\n",
              "      <td>unemp</td>\n",
              "      <td>9.200</td>\n",
              "    </tr>\n",
              "    <tr>\n",
              "      <th>606</th>\n",
              "      <td>2009-09-30</td>\n",
              "      <td>realgdp</td>\n",
              "      <td>12990.341</td>\n",
              "    </tr>\n",
              "    <tr>\n",
              "      <th>607</th>\n",
              "      <td>2009-09-30</td>\n",
              "      <td>infl</td>\n",
              "      <td>3.560</td>\n",
              "    </tr>\n",
              "    <tr>\n",
              "      <th>608</th>\n",
              "      <td>2009-09-30</td>\n",
              "      <td>unemp</td>\n",
              "      <td>9.600</td>\n",
              "    </tr>\n",
              "  </tbody>\n",
              "</table>\n",
              "<p>609 rows × 3 columns</p>\n",
              "</div>"
            ],
            "text/plain": [
              "          fecha     item      valor\n",
              "0    1959-03-31  realgdp   2710.349\n",
              "1    1959-03-31     infl      0.000\n",
              "2    1959-03-31    unemp      5.800\n",
              "3    1959-06-30  realgdp   2778.801\n",
              "4    1959-06-30     infl      2.340\n",
              "..          ...      ...        ...\n",
              "604  2009-06-30     infl      3.370\n",
              "605  2009-06-30    unemp      9.200\n",
              "606  2009-09-30  realgdp  12990.341\n",
              "607  2009-09-30     infl      3.560\n",
              "608  2009-09-30    unemp      9.600\n",
              "\n",
              "[609 rows x 3 columns]"
            ]
          },
          "metadata": {},
          "execution_count": 135
        }
      ]
    },
    {
      "cell_type": "markdown",
      "metadata": {
        "id": "SmHSa2UjkHj0"
      },
      "source": [
        "- Este formato es llamado *formato largo* (o *long format*).\n",
        "- Se utiliza con múltiples series de tiempo, u otros datos de observación con dos o más claves.\n",
        "- En este caso, las claves son *fecha* e *item*\n",
        "- Cada fila en esta tabla representa una observación particular.\n",
        "\n",
        "- Los datos son frecuentemente almacenados de esta forma en bases de datos relacionales (*SQL*).\n",
        "- En el ejemplo, las columnas *fecha* e *item* serían en conjunto la *llave primaria*.\n",
        "- En algunos casos, puede ser más difícil manejar los datos en este formato.\n",
        "- En esos casos, puede ser preferible tener un `DataFrame` con una columna distinta por cada valor en la columna `item`, indexado por la columna `fecha` (como estaba al inicio).\n",
        "- Para lograr esto, el método `pivot` nos permite hacer esta transformación."
      ]
    },
    {
      "cell_type": "code",
      "metadata": {
        "id": "u6OTEux5kNZD",
        "colab": {
          "base_uri": "https://localhost:8080/",
          "height": 455
        },
        "outputId": "1d77cef0-5355-484b-fa36-94a8f02d6baa"
      },
      "source": [
        "# https://pandas.pydata.org/docs/reference/api/pandas.DataFrame.pivot.html\n",
        "\n",
        "pivote = flargo.pivot('fecha', 'item', 'valor') #  (index=None, columns=None, values=None)\n",
        "pivote # formato ancho"
      ],
      "execution_count": null,
      "outputs": [
        {
          "output_type": "execute_result",
          "data": {
            "text/html": [
              "<div>\n",
              "<style scoped>\n",
              "    .dataframe tbody tr th:only-of-type {\n",
              "        vertical-align: middle;\n",
              "    }\n",
              "\n",
              "    .dataframe tbody tr th {\n",
              "        vertical-align: top;\n",
              "    }\n",
              "\n",
              "    .dataframe thead th {\n",
              "        text-align: right;\n",
              "    }\n",
              "</style>\n",
              "<table border=\"1\" class=\"dataframe\">\n",
              "  <thead>\n",
              "    <tr style=\"text-align: right;\">\n",
              "      <th>item</th>\n",
              "      <th>infl</th>\n",
              "      <th>realgdp</th>\n",
              "      <th>unemp</th>\n",
              "    </tr>\n",
              "    <tr>\n",
              "      <th>fecha</th>\n",
              "      <th></th>\n",
              "      <th></th>\n",
              "      <th></th>\n",
              "    </tr>\n",
              "  </thead>\n",
              "  <tbody>\n",
              "    <tr>\n",
              "      <th>1959-03-31</th>\n",
              "      <td>0.00</td>\n",
              "      <td>2710.349</td>\n",
              "      <td>5.8</td>\n",
              "    </tr>\n",
              "    <tr>\n",
              "      <th>1959-06-30</th>\n",
              "      <td>2.34</td>\n",
              "      <td>2778.801</td>\n",
              "      <td>5.1</td>\n",
              "    </tr>\n",
              "    <tr>\n",
              "      <th>1959-09-30</th>\n",
              "      <td>2.74</td>\n",
              "      <td>2775.488</td>\n",
              "      <td>5.3</td>\n",
              "    </tr>\n",
              "    <tr>\n",
              "      <th>1959-12-31</th>\n",
              "      <td>0.27</td>\n",
              "      <td>2785.204</td>\n",
              "      <td>5.6</td>\n",
              "    </tr>\n",
              "    <tr>\n",
              "      <th>1960-03-31</th>\n",
              "      <td>2.31</td>\n",
              "      <td>2847.699</td>\n",
              "      <td>5.2</td>\n",
              "    </tr>\n",
              "    <tr>\n",
              "      <th>...</th>\n",
              "      <td>...</td>\n",
              "      <td>...</td>\n",
              "      <td>...</td>\n",
              "    </tr>\n",
              "    <tr>\n",
              "      <th>2008-09-30</th>\n",
              "      <td>-3.16</td>\n",
              "      <td>13324.600</td>\n",
              "      <td>6.0</td>\n",
              "    </tr>\n",
              "    <tr>\n",
              "      <th>2008-12-31</th>\n",
              "      <td>-8.79</td>\n",
              "      <td>13141.920</td>\n",
              "      <td>6.9</td>\n",
              "    </tr>\n",
              "    <tr>\n",
              "      <th>2009-03-31</th>\n",
              "      <td>0.94</td>\n",
              "      <td>12925.410</td>\n",
              "      <td>8.1</td>\n",
              "    </tr>\n",
              "    <tr>\n",
              "      <th>2009-06-30</th>\n",
              "      <td>3.37</td>\n",
              "      <td>12901.504</td>\n",
              "      <td>9.2</td>\n",
              "    </tr>\n",
              "    <tr>\n",
              "      <th>2009-09-30</th>\n",
              "      <td>3.56</td>\n",
              "      <td>12990.341</td>\n",
              "      <td>9.6</td>\n",
              "    </tr>\n",
              "  </tbody>\n",
              "</table>\n",
              "<p>203 rows × 3 columns</p>\n",
              "</div>"
            ],
            "text/plain": [
              "item        infl    realgdp  unemp\n",
              "fecha                             \n",
              "1959-03-31  0.00   2710.349    5.8\n",
              "1959-06-30  2.34   2778.801    5.1\n",
              "1959-09-30  2.74   2775.488    5.3\n",
              "1959-12-31  0.27   2785.204    5.6\n",
              "1960-03-31  2.31   2847.699    5.2\n",
              "...          ...        ...    ...\n",
              "2008-09-30 -3.16  13324.600    6.0\n",
              "2008-12-31 -8.79  13141.920    6.9\n",
              "2009-03-31  0.94  12925.410    8.1\n",
              "2009-06-30  3.37  12901.504    9.2\n",
              "2009-09-30  3.56  12990.341    9.6\n",
              "\n",
              "[203 rows x 3 columns]"
            ]
          },
          "metadata": {},
          "execution_count": 136
        }
      ]
    },
    {
      "cell_type": "markdown",
      "metadata": {
        "id": "gfQsFIugkPfQ"
      },
      "source": [
        "- El primer parámetro es la columna que será utilizada como el índice de las filas.\n",
        "- El segundo parámetro es la columna que será utilizada como el índice (o nombre) de columnas.\n",
        "- El tercer parámetro, que es opcional, indica la columna que dará los valores del `DataFrame`."
      ]
    },
    {
      "cell_type": "markdown",
      "metadata": {
        "id": "E4e1yTWxke_b"
      },
      "source": [
        "### Pivotando de formato ancho a largo"
      ]
    },
    {
      "cell_type": "markdown",
      "metadata": {
        "id": "R386TpkSkhTX"
      },
      "source": [
        "- La operación inversa de `pivot` (largo a ancho) para `DataFrames` es `pandas.melt` (ancho a largo).\n",
        "- En lugar de transformar una columna en muchas columnas, mezcla múltiples columnas en una sola."
      ]
    },
    {
      "cell_type": "code",
      "metadata": {
        "id": "3u4OVqMektf6",
        "colab": {
          "base_uri": "https://localhost:8080/",
          "height": 143
        },
        "outputId": "fb3dfc9b-2562-4355-dd85-6f7d9401e0d2"
      },
      "source": [
        "df = pd.DataFrame({\n",
        "    'clave': ['foo', 'bar', 'caz'],\n",
        "    'A': [1,2,3],\n",
        "    'B': [4,5,6],\n",
        "    'C': [7,8,9]\n",
        "})\n",
        "\n",
        "df"
      ],
      "execution_count": null,
      "outputs": [
        {
          "output_type": "execute_result",
          "data": {
            "text/html": [
              "<div>\n",
              "<style scoped>\n",
              "    .dataframe tbody tr th:only-of-type {\n",
              "        vertical-align: middle;\n",
              "    }\n",
              "\n",
              "    .dataframe tbody tr th {\n",
              "        vertical-align: top;\n",
              "    }\n",
              "\n",
              "    .dataframe thead th {\n",
              "        text-align: right;\n",
              "    }\n",
              "</style>\n",
              "<table border=\"1\" class=\"dataframe\">\n",
              "  <thead>\n",
              "    <tr style=\"text-align: right;\">\n",
              "      <th></th>\n",
              "      <th>clave</th>\n",
              "      <th>A</th>\n",
              "      <th>B</th>\n",
              "      <th>C</th>\n",
              "    </tr>\n",
              "  </thead>\n",
              "  <tbody>\n",
              "    <tr>\n",
              "      <th>0</th>\n",
              "      <td>foo</td>\n",
              "      <td>1</td>\n",
              "      <td>4</td>\n",
              "      <td>7</td>\n",
              "    </tr>\n",
              "    <tr>\n",
              "      <th>1</th>\n",
              "      <td>bar</td>\n",
              "      <td>2</td>\n",
              "      <td>5</td>\n",
              "      <td>8</td>\n",
              "    </tr>\n",
              "    <tr>\n",
              "      <th>2</th>\n",
              "      <td>caz</td>\n",
              "      <td>3</td>\n",
              "      <td>6</td>\n",
              "      <td>9</td>\n",
              "    </tr>\n",
              "  </tbody>\n",
              "</table>\n",
              "</div>"
            ],
            "text/plain": [
              "  clave  A  B  C\n",
              "0   foo  1  4  7\n",
              "1   bar  2  5  8\n",
              "2   caz  3  6  9"
            ]
          },
          "metadata": {},
          "execution_count": 137
        }
      ]
    },
    {
      "cell_type": "markdown",
      "metadata": {
        "id": "cxeEMYchk-_t"
      },
      "source": [
        "- En este ejemplo, la columna `clave` es un buen identificador de cada grupo, y las otras columnas son columnas con valores\n",
        "- Al usar `pandas.melt`, debemos indicar qué columnas son indicadores grupales (si es que hay)"
      ]
    },
    {
      "cell_type": "code",
      "metadata": {
        "id": "b3KCPkablCBQ",
        "colab": {
          "base_uri": "https://localhost:8080/",
          "height": 453
        },
        "outputId": "550c5bd1-ffd2-41d7-ec6e-379a58877b59"
      },
      "source": [
        "# https://pandas.pydata.org/docs/reference/api/pandas.melt.html\n",
        "\n",
        "print(df)\n",
        "print('\\n------------------------------\\n')\n",
        "\n",
        "fundido = pd.melt(df, ['clave']) # A=>1,2,3 y B=>4,5,6 y C=>7,8,9\n",
        "fundido"
      ],
      "execution_count": null,
      "outputs": [
        {
          "output_type": "stream",
          "name": "stdout",
          "text": [
            "  clave  A  B  C\n",
            "0   foo  1  4  7\n",
            "1   bar  2  5  8\n",
            "2   caz  3  6  9\n",
            "\n",
            "------------------------------\n",
            "\n"
          ]
        },
        {
          "output_type": "execute_result",
          "data": {
            "text/html": [
              "<div>\n",
              "<style scoped>\n",
              "    .dataframe tbody tr th:only-of-type {\n",
              "        vertical-align: middle;\n",
              "    }\n",
              "\n",
              "    .dataframe tbody tr th {\n",
              "        vertical-align: top;\n",
              "    }\n",
              "\n",
              "    .dataframe thead th {\n",
              "        text-align: right;\n",
              "    }\n",
              "</style>\n",
              "<table border=\"1\" class=\"dataframe\">\n",
              "  <thead>\n",
              "    <tr style=\"text-align: right;\">\n",
              "      <th></th>\n",
              "      <th>clave</th>\n",
              "      <th>variable</th>\n",
              "      <th>value</th>\n",
              "    </tr>\n",
              "  </thead>\n",
              "  <tbody>\n",
              "    <tr>\n",
              "      <th>0</th>\n",
              "      <td>foo</td>\n",
              "      <td>A</td>\n",
              "      <td>1</td>\n",
              "    </tr>\n",
              "    <tr>\n",
              "      <th>1</th>\n",
              "      <td>bar</td>\n",
              "      <td>A</td>\n",
              "      <td>2</td>\n",
              "    </tr>\n",
              "    <tr>\n",
              "      <th>2</th>\n",
              "      <td>caz</td>\n",
              "      <td>A</td>\n",
              "      <td>3</td>\n",
              "    </tr>\n",
              "    <tr>\n",
              "      <th>3</th>\n",
              "      <td>foo</td>\n",
              "      <td>B</td>\n",
              "      <td>4</td>\n",
              "    </tr>\n",
              "    <tr>\n",
              "      <th>4</th>\n",
              "      <td>bar</td>\n",
              "      <td>B</td>\n",
              "      <td>5</td>\n",
              "    </tr>\n",
              "    <tr>\n",
              "      <th>5</th>\n",
              "      <td>caz</td>\n",
              "      <td>B</td>\n",
              "      <td>6</td>\n",
              "    </tr>\n",
              "    <tr>\n",
              "      <th>6</th>\n",
              "      <td>foo</td>\n",
              "      <td>C</td>\n",
              "      <td>7</td>\n",
              "    </tr>\n",
              "    <tr>\n",
              "      <th>7</th>\n",
              "      <td>bar</td>\n",
              "      <td>C</td>\n",
              "      <td>8</td>\n",
              "    </tr>\n",
              "    <tr>\n",
              "      <th>8</th>\n",
              "      <td>caz</td>\n",
              "      <td>C</td>\n",
              "      <td>9</td>\n",
              "    </tr>\n",
              "  </tbody>\n",
              "</table>\n",
              "</div>"
            ],
            "text/plain": [
              "  clave variable  value\n",
              "0   foo        A      1\n",
              "1   bar        A      2\n",
              "2   caz        A      3\n",
              "3   foo        B      4\n",
              "4   bar        B      5\n",
              "5   caz        B      6\n",
              "6   foo        C      7\n",
              "7   bar        C      8\n",
              "8   caz        C      9"
            ]
          },
          "metadata": {},
          "execution_count": 138
        }
      ]
    },
    {
      "cell_type": "markdown",
      "metadata": {
        "id": "6YoS401klEhi"
      },
      "source": [
        "- Usando el método `pivot`, podemos reorganizar al formato original"
      ]
    },
    {
      "cell_type": "code",
      "metadata": {
        "id": "Gu_gnlbflGiB",
        "colab": {
          "base_uri": "https://localhost:8080/",
          "height": 175
        },
        "outputId": "19e390ef-c391-4d0b-adf7-44b276e739a5"
      },
      "source": [
        "reorganizado = fundido.pivot('clave', 'variable', 'value')\n",
        "reorganizado"
      ],
      "execution_count": null,
      "outputs": [
        {
          "output_type": "execute_result",
          "data": {
            "text/html": [
              "<div>\n",
              "<style scoped>\n",
              "    .dataframe tbody tr th:only-of-type {\n",
              "        vertical-align: middle;\n",
              "    }\n",
              "\n",
              "    .dataframe tbody tr th {\n",
              "        vertical-align: top;\n",
              "    }\n",
              "\n",
              "    .dataframe thead th {\n",
              "        text-align: right;\n",
              "    }\n",
              "</style>\n",
              "<table border=\"1\" class=\"dataframe\">\n",
              "  <thead>\n",
              "    <tr style=\"text-align: right;\">\n",
              "      <th>variable</th>\n",
              "      <th>A</th>\n",
              "      <th>B</th>\n",
              "      <th>C</th>\n",
              "    </tr>\n",
              "    <tr>\n",
              "      <th>clave</th>\n",
              "      <th></th>\n",
              "      <th></th>\n",
              "      <th></th>\n",
              "    </tr>\n",
              "  </thead>\n",
              "  <tbody>\n",
              "    <tr>\n",
              "      <th>bar</th>\n",
              "      <td>2</td>\n",
              "      <td>5</td>\n",
              "      <td>8</td>\n",
              "    </tr>\n",
              "    <tr>\n",
              "      <th>caz</th>\n",
              "      <td>3</td>\n",
              "      <td>6</td>\n",
              "      <td>9</td>\n",
              "    </tr>\n",
              "    <tr>\n",
              "      <th>foo</th>\n",
              "      <td>1</td>\n",
              "      <td>4</td>\n",
              "      <td>7</td>\n",
              "    </tr>\n",
              "  </tbody>\n",
              "</table>\n",
              "</div>"
            ],
            "text/plain": [
              "variable  A  B  C\n",
              "clave            \n",
              "bar       2  5  8\n",
              "caz       3  6  9\n",
              "foo       1  4  7"
            ]
          },
          "metadata": {},
          "execution_count": 140
        }
      ]
    },
    {
      "cell_type": "markdown",
      "metadata": {
        "id": "IZnclr0_lIjd"
      },
      "source": [
        "- Como el método `pivot` crea un índice con la columna utilizada como etiqueta de las filas, podemos utilizar `reset_index` para que el índice vuelva a ser una columna."
      ]
    },
    {
      "cell_type": "code",
      "metadata": {
        "id": "IZlDXTejlKZc",
        "colab": {
          "base_uri": "https://localhost:8080/",
          "height": 143
        },
        "outputId": "091b874b-d867-495b-9afd-6844d1ea139b"
      },
      "source": [
        "reorganizado.reset_index()"
      ],
      "execution_count": null,
      "outputs": [
        {
          "output_type": "execute_result",
          "data": {
            "text/html": [
              "<div>\n",
              "<style scoped>\n",
              "    .dataframe tbody tr th:only-of-type {\n",
              "        vertical-align: middle;\n",
              "    }\n",
              "\n",
              "    .dataframe tbody tr th {\n",
              "        vertical-align: top;\n",
              "    }\n",
              "\n",
              "    .dataframe thead th {\n",
              "        text-align: right;\n",
              "    }\n",
              "</style>\n",
              "<table border=\"1\" class=\"dataframe\">\n",
              "  <thead>\n",
              "    <tr style=\"text-align: right;\">\n",
              "      <th>variable</th>\n",
              "      <th>clave</th>\n",
              "      <th>A</th>\n",
              "      <th>B</th>\n",
              "      <th>C</th>\n",
              "    </tr>\n",
              "  </thead>\n",
              "  <tbody>\n",
              "    <tr>\n",
              "      <th>0</th>\n",
              "      <td>bar</td>\n",
              "      <td>2</td>\n",
              "      <td>5</td>\n",
              "      <td>8</td>\n",
              "    </tr>\n",
              "    <tr>\n",
              "      <th>1</th>\n",
              "      <td>caz</td>\n",
              "      <td>3</td>\n",
              "      <td>6</td>\n",
              "      <td>9</td>\n",
              "    </tr>\n",
              "    <tr>\n",
              "      <th>2</th>\n",
              "      <td>foo</td>\n",
              "      <td>1</td>\n",
              "      <td>4</td>\n",
              "      <td>7</td>\n",
              "    </tr>\n",
              "  </tbody>\n",
              "</table>\n",
              "</div>"
            ],
            "text/plain": [
              "variable clave  A  B  C\n",
              "0          bar  2  5  8\n",
              "1          caz  3  6  9\n",
              "2          foo  1  4  7"
            ]
          },
          "metadata": {},
          "execution_count": 141
        }
      ]
    },
    {
      "cell_type": "markdown",
      "metadata": {
        "id": "QdH1Jo1AlMTH"
      },
      "source": [
        "- También podemos especificar un subgrupo de columnas a utilizar como columnas con valores"
      ]
    },
    {
      "cell_type": "code",
      "metadata": {
        "id": "eWfCo4DglPdD",
        "colab": {
          "base_uri": "https://localhost:8080/",
          "height": 359
        },
        "outputId": "e53e3009-d24f-4124-bdc9-b255da16eb96"
      },
      "source": [
        "print(df)\n",
        "print('\\n------------------------------\\n')\n",
        "pd.melt(df, id_vars=['clave'], value_vars=['A', 'B']) # no consideramos C"
      ],
      "execution_count": null,
      "outputs": [
        {
          "output_type": "stream",
          "name": "stdout",
          "text": [
            "  clave  A  B  C\n",
            "0   foo  1  4  7\n",
            "1   bar  2  5  8\n",
            "2   caz  3  6  9\n",
            "\n",
            "------------------------------\n",
            "\n"
          ]
        },
        {
          "output_type": "execute_result",
          "data": {
            "text/html": [
              "<div>\n",
              "<style scoped>\n",
              "    .dataframe tbody tr th:only-of-type {\n",
              "        vertical-align: middle;\n",
              "    }\n",
              "\n",
              "    .dataframe tbody tr th {\n",
              "        vertical-align: top;\n",
              "    }\n",
              "\n",
              "    .dataframe thead th {\n",
              "        text-align: right;\n",
              "    }\n",
              "</style>\n",
              "<table border=\"1\" class=\"dataframe\">\n",
              "  <thead>\n",
              "    <tr style=\"text-align: right;\">\n",
              "      <th></th>\n",
              "      <th>clave</th>\n",
              "      <th>variable</th>\n",
              "      <th>value</th>\n",
              "    </tr>\n",
              "  </thead>\n",
              "  <tbody>\n",
              "    <tr>\n",
              "      <th>0</th>\n",
              "      <td>foo</td>\n",
              "      <td>A</td>\n",
              "      <td>1</td>\n",
              "    </tr>\n",
              "    <tr>\n",
              "      <th>1</th>\n",
              "      <td>bar</td>\n",
              "      <td>A</td>\n",
              "      <td>2</td>\n",
              "    </tr>\n",
              "    <tr>\n",
              "      <th>2</th>\n",
              "      <td>caz</td>\n",
              "      <td>A</td>\n",
              "      <td>3</td>\n",
              "    </tr>\n",
              "    <tr>\n",
              "      <th>3</th>\n",
              "      <td>foo</td>\n",
              "      <td>B</td>\n",
              "      <td>4</td>\n",
              "    </tr>\n",
              "    <tr>\n",
              "      <th>4</th>\n",
              "      <td>bar</td>\n",
              "      <td>B</td>\n",
              "      <td>5</td>\n",
              "    </tr>\n",
              "    <tr>\n",
              "      <th>5</th>\n",
              "      <td>caz</td>\n",
              "      <td>B</td>\n",
              "      <td>6</td>\n",
              "    </tr>\n",
              "  </tbody>\n",
              "</table>\n",
              "</div>"
            ],
            "text/plain": [
              "  clave variable  value\n",
              "0   foo        A      1\n",
              "1   bar        A      2\n",
              "2   caz        A      3\n",
              "3   foo        B      4\n",
              "4   bar        B      5\n",
              "5   caz        B      6"
            ]
          },
          "metadata": {},
          "execution_count": 142
        }
      ]
    },
    {
      "cell_type": "markdown",
      "metadata": {
        "id": "pc2j3Zx-lRnf"
      },
      "source": [
        "- O podemos no utilizar un descriptor de filas"
      ]
    },
    {
      "cell_type": "code",
      "metadata": {
        "id": "UP62ECA2lTwF",
        "colab": {
          "base_uri": "https://localhost:8080/",
          "height": 332
        },
        "outputId": "0f6871e4-2229-4e16-816a-bb616b0b34d5"
      },
      "source": [
        "pd.melt(df, value_vars=['A', 'B', 'C']) # no hay columna con id"
      ],
      "execution_count": null,
      "outputs": [
        {
          "output_type": "execute_result",
          "data": {
            "text/html": [
              "<div>\n",
              "<style scoped>\n",
              "    .dataframe tbody tr th:only-of-type {\n",
              "        vertical-align: middle;\n",
              "    }\n",
              "\n",
              "    .dataframe tbody tr th {\n",
              "        vertical-align: top;\n",
              "    }\n",
              "\n",
              "    .dataframe thead th {\n",
              "        text-align: right;\n",
              "    }\n",
              "</style>\n",
              "<table border=\"1\" class=\"dataframe\">\n",
              "  <thead>\n",
              "    <tr style=\"text-align: right;\">\n",
              "      <th></th>\n",
              "      <th>variable</th>\n",
              "      <th>value</th>\n",
              "    </tr>\n",
              "  </thead>\n",
              "  <tbody>\n",
              "    <tr>\n",
              "      <th>0</th>\n",
              "      <td>A</td>\n",
              "      <td>1</td>\n",
              "    </tr>\n",
              "    <tr>\n",
              "      <th>1</th>\n",
              "      <td>A</td>\n",
              "      <td>2</td>\n",
              "    </tr>\n",
              "    <tr>\n",
              "      <th>2</th>\n",
              "      <td>A</td>\n",
              "      <td>3</td>\n",
              "    </tr>\n",
              "    <tr>\n",
              "      <th>3</th>\n",
              "      <td>B</td>\n",
              "      <td>4</td>\n",
              "    </tr>\n",
              "    <tr>\n",
              "      <th>4</th>\n",
              "      <td>B</td>\n",
              "      <td>5</td>\n",
              "    </tr>\n",
              "    <tr>\n",
              "      <th>5</th>\n",
              "      <td>B</td>\n",
              "      <td>6</td>\n",
              "    </tr>\n",
              "    <tr>\n",
              "      <th>6</th>\n",
              "      <td>C</td>\n",
              "      <td>7</td>\n",
              "    </tr>\n",
              "    <tr>\n",
              "      <th>7</th>\n",
              "      <td>C</td>\n",
              "      <td>8</td>\n",
              "    </tr>\n",
              "    <tr>\n",
              "      <th>8</th>\n",
              "      <td>C</td>\n",
              "      <td>9</td>\n",
              "    </tr>\n",
              "  </tbody>\n",
              "</table>\n",
              "</div>"
            ],
            "text/plain": [
              "  variable  value\n",
              "0        A      1\n",
              "1        A      2\n",
              "2        A      3\n",
              "3        B      4\n",
              "4        B      5\n",
              "5        B      6\n",
              "6        C      7\n",
              "7        C      8\n",
              "8        C      9"
            ]
          },
          "metadata": {},
          "execution_count": 143
        }
      ]
    },
    {
      "cell_type": "code",
      "metadata": {
        "id": "70R3VgdclWLQ",
        "colab": {
          "base_uri": "https://localhost:8080/",
          "height": 332
        },
        "outputId": "b99c51f3-05bf-4ac8-cd60-91d1c87c81bc"
      },
      "source": [
        "pd.melt(df, value_vars=['clave', 'B', 'C']) # no consideramos A"
      ],
      "execution_count": null,
      "outputs": [
        {
          "output_type": "execute_result",
          "data": {
            "text/html": [
              "<div>\n",
              "<style scoped>\n",
              "    .dataframe tbody tr th:only-of-type {\n",
              "        vertical-align: middle;\n",
              "    }\n",
              "\n",
              "    .dataframe tbody tr th {\n",
              "        vertical-align: top;\n",
              "    }\n",
              "\n",
              "    .dataframe thead th {\n",
              "        text-align: right;\n",
              "    }\n",
              "</style>\n",
              "<table border=\"1\" class=\"dataframe\">\n",
              "  <thead>\n",
              "    <tr style=\"text-align: right;\">\n",
              "      <th></th>\n",
              "      <th>variable</th>\n",
              "      <th>value</th>\n",
              "    </tr>\n",
              "  </thead>\n",
              "  <tbody>\n",
              "    <tr>\n",
              "      <th>0</th>\n",
              "      <td>clave</td>\n",
              "      <td>foo</td>\n",
              "    </tr>\n",
              "    <tr>\n",
              "      <th>1</th>\n",
              "      <td>clave</td>\n",
              "      <td>bar</td>\n",
              "    </tr>\n",
              "    <tr>\n",
              "      <th>2</th>\n",
              "      <td>clave</td>\n",
              "      <td>caz</td>\n",
              "    </tr>\n",
              "    <tr>\n",
              "      <th>3</th>\n",
              "      <td>B</td>\n",
              "      <td>4</td>\n",
              "    </tr>\n",
              "    <tr>\n",
              "      <th>4</th>\n",
              "      <td>B</td>\n",
              "      <td>5</td>\n",
              "    </tr>\n",
              "    <tr>\n",
              "      <th>5</th>\n",
              "      <td>B</td>\n",
              "      <td>6</td>\n",
              "    </tr>\n",
              "    <tr>\n",
              "      <th>6</th>\n",
              "      <td>C</td>\n",
              "      <td>7</td>\n",
              "    </tr>\n",
              "    <tr>\n",
              "      <th>7</th>\n",
              "      <td>C</td>\n",
              "      <td>8</td>\n",
              "    </tr>\n",
              "    <tr>\n",
              "      <th>8</th>\n",
              "      <td>C</td>\n",
              "      <td>9</td>\n",
              "    </tr>\n",
              "  </tbody>\n",
              "</table>\n",
              "</div>"
            ],
            "text/plain": [
              "  variable value\n",
              "0    clave   foo\n",
              "1    clave   bar\n",
              "2    clave   caz\n",
              "3        B     4\n",
              "4        B     5\n",
              "5        B     6\n",
              "6        C     7\n",
              "7        C     8\n",
              "8        C     9"
            ]
          },
          "metadata": {},
          "execution_count": 144
        }
      ]
    },
    {
      "cell_type": "markdown",
      "metadata": {
        "id": "i8ImI41zOGdq"
      },
      "source": [
        "## Referencias\n",
        "- https://stackoverflow.com/q/50413993/1510734\n",
        "- https://pandas.pydata.org/docs/user_guide/merging.html\n",
        "- https://www.kite.com/blog/python/pandas-merge-join-concat/\n",
        "- https://pandas.pydata.org/docs/reference/api/pandas.merge.html (pd.merge)\n",
        "- https://pandas.pydata.org/docs/reference/api/pandas.DataFrame.merge.html (DataFrame.merge)\n",
        "- https://pandas.pydata.org/docs/reference/api/pandas.DataFrame.join.html (DataFrame.join)\n",
        "- https://pandas.pydata.org/docs/reference/api/pandas.concat.html (pd.concat)\n",
        "- https://pandas.pydata.org/docs/reference/api/pandas.DataFrame.combine_first.html\n",
        "- https://realpython.com/pandas-merge-join-and-concat/"
      ]
    },
    {
      "cell_type": "markdown",
      "metadata": {
        "id": "gI2OjywBOIld"
      },
      "source": [
        "## Lectura complementaria\n",
        "- https://jakevdp.github.io/PythonDataScienceHandbook/03.05-hierarchical-indexing.html\n",
        "- https://stackoverflow.com/q/26486501/1510734\n",
        "- https://towardsdatascience.com/how-to-use-multiindex-in-pandas-to-level-up-your-analysis-aeac7f451fce\n",
        "- https://stackoverflow.com/a/37891437/1510734"
      ]
    }
  ]
}