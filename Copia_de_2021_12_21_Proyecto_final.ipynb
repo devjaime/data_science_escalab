{
  "nbformat": 4,
  "nbformat_minor": 0,
  "metadata": {
    "colab": {
      "name": "Copia de 2021 12 21 - Proyecto final.ipynb",
      "provenance": [],
      "collapsed_sections": [],
      "include_colab_link": true
    },
    "kernelspec": {
      "name": "python3",
      "display_name": "Python 3"
    },
    "language_info": {
      "name": "python"
    }
  },
  "cells": [
    {
      "cell_type": "markdown",
      "metadata": {
        "id": "view-in-github",
        "colab_type": "text"
      },
      "source": [
        "<a href=\"https://colab.research.google.com/github/devjaime/data_science_escalab/blob/main/Copia_de_2021_12_21_Proyecto_final.ipynb\" target=\"_parent\"><img src=\"https://colab.research.google.com/assets/colab-badge.svg\" alt=\"Open In Colab\"/></a>"
      ]
    },
    {
      "cell_type": "markdown",
      "source": [
        "## Requisitos del dataset\n",
        "\n",
        "- Debe venir desde una fuente independiente; planilla de cálculo (xlsx), archivo csv, json, etc, o un API pública\n",
        "- Debe considerar al menos 1000 \"filas\"\n",
        "- Debe considerar al menos una columna que represente fecha, fecha y hora, o variaciones de\n",
        "tiempo.\n",
        "- Debe considerar al menos una columna con datos categóricos (no ordenables)\n",
        "- Idealmente debe contener datos perdidos\n",
        "\n",
        "## Enfoque deseado\n",
        "\n",
        "1. Plantear preguntas que se desean responder utilizando el dataset\n",
        "2. Explorar el dataset\n",
        "3. Comunicar hallazgos y conclusiones\n",
        "\n",
        "## Acciones requeridas\n",
        "\n",
        "1. Recuperar datos desde una fuente externa.\n",
        "2. Crear DataFrame con datos recuperados.\n",
        "3. Estandarización y limpieza de datos.\n",
        "4. Completar los datos faltantes o eliminar filas. Cualquiera sea el caso, justificar técnicas utilizada.\n",
        "5. Análisis exploratorio de datos (tablas, métricas, gráficos, etc).\n",
        "6. Exportar el dataframe modificado en un formato que pueda ser recuperado posteriormente\n",
        "7. Comprobar correctitud del dataframe cargado\n",
        "8. Conclusiones"
      ],
      "metadata": {
        "id": "kB2oNrwmQj2u"
      }
    },
    {
      "cell_type": "markdown",
      "source": [
        "# Introducción\n",
        "\n",
        "Describir el problema...\n",
        "\n",
        "Qué pretende entender o qué preguntas pretende responder con el análisis del dataset?"
      ],
      "metadata": {
        "id": "rsQ5eeYHRfL7"
      }
    },
    {
      "cell_type": "markdown",
      "source": [
        "# Desarrollo"
      ],
      "metadata": {
        "id": "KXOGMhB1Rmki"
      }
    },
    {
      "cell_type": "markdown",
      "source": [
        "### Preparar el ambiente"
      ],
      "metadata": {
        "id": "vWnux44gRpr5"
      }
    },
    {
      "cell_type": "code",
      "source": [
        "#############################################################\n",
        "# 0. Preparar el ambiente, importar todo lo que se necesite.\n",
        "#\n",
        "# crear funciones (si es el caso)\n",
        "#############################################################\n",
        "\n",
        "\n",
        "\n"
      ],
      "metadata": {
        "id": "YXQ8HQ-yReSP"
      },
      "execution_count": null,
      "outputs": []
    },
    {
      "cell_type": "markdown",
      "source": [
        "### Ejecución del proyecto"
      ],
      "metadata": {
        "id": "Lv18Bqv7ssM_"
      }
    },
    {
      "cell_type": "code",
      "source": [
        "#############################################################\n",
        "# 1. Recuperar datos desde una fuente externa.\n",
        "#\n",
        "#\n",
        "#############################################################\n",
        "\n",
        "\n"
      ],
      "metadata": {
        "id": "38oHWPHjRE5g"
      },
      "execution_count": null,
      "outputs": []
    },
    {
      "cell_type": "code",
      "source": [
        "#############################################################\n",
        "# 2. Crear DataFrame con datos recuperados.\n",
        "#\n",
        "# seleccionar los datos (columnas) que serán utilizados\n",
        "#############################################################\n",
        "\n"
      ],
      "metadata": {
        "id": "vvfx3s07q4NI"
      },
      "execution_count": null,
      "outputs": []
    },
    {
      "cell_type": "code",
      "source": [
        "#############################################################\n",
        "# 3. Estandarización y limpieza de datos.\n",
        "#\n",
        "# cambiar nombres de variables (columnas)\n",
        "# seleccionar índices (de ser necesario)\n",
        "#############################################################\n",
        "\n"
      ],
      "metadata": {
        "id": "-X4L5PaBq4Kq"
      },
      "execution_count": null,
      "outputs": []
    },
    {
      "cell_type": "code",
      "source": [
        "#############################################################\n",
        "# 4. Completar los datos faltantes o eliminar filas. Cualquiera sea el caso, justificar técnicas utilizada.\n",
        "#\n",
        "# elimina o reemplaza datos faltantes\n",
        "# transformación de datos\n",
        "# se recupera formato de fecha en columna o se hace el tratamiento de las fechas\n",
        "#############################################################\n",
        "\n"
      ],
      "metadata": {
        "id": "jS9uXV_1q4II"
      },
      "execution_count": null,
      "outputs": []
    },
    {
      "cell_type": "code",
      "source": [
        "#############################################################\n",
        "# 5. Análisis exploratorio de datos (tablas, métricas, gráficos, etc).\n",
        "# Aquí se explica lo que se observa en los gráficos, métricas, tablas, etc\n",
        "# se hace el análisis de los datos detallando lo que se observa y conlusiones que se pueden obtener\n",
        "# \n",
        "# tratamiento de datos atípicos \"outlier\"\n",
        "# normalización\n",
        "# balancear dataset\n",
        "# unión o separación de datos\n",
        "#############################################################\n",
        "\n"
      ],
      "metadata": {
        "id": "cuNQlA6-q4Fh"
      },
      "execution_count": null,
      "outputs": []
    },
    {
      "cell_type": "code",
      "source": [
        "#############################################################\n",
        "# 6. Exportar el dataframe modificado en un formato que pueda ser recuperado posteriormente\n",
        "#\n",
        "# salvar el dataframe en un archivo puede ser serializado, json, csv o cualquier otro\n",
        "#############################################################\n",
        "\n"
      ],
      "metadata": {
        "id": "iLGROy0Dq4Cw"
      },
      "execution_count": null,
      "outputs": []
    },
    {
      "cell_type": "code",
      "source": [
        "#############################################################\n",
        "# 7. Comprobar correctitud del dataframe cargado\n",
        "#\n",
        "# Lectura y uso del archivo generado, verificar que se pueden leer los valores, graficar algunos\n",
        "#############################################################\n"
      ],
      "metadata": {
        "id": "tFx5sD6gq4AD"
      },
      "execution_count": null,
      "outputs": []
    },
    {
      "cell_type": "markdown",
      "source": [
        "# Conlusiones\n",
        "..."
      ],
      "metadata": {
        "id": "OEAQhl1heXoM"
      }
    }
  ]
}