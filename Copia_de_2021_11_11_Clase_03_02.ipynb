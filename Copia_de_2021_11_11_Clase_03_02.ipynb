{
  "nbformat": 4,
  "nbformat_minor": 0,
  "metadata": {
    "colab": {
      "name": "Copia de 2021 11 11 - Clase 03_02.ipynb",
      "provenance": [],
      "collapsed_sections": [],
      "include_colab_link": true
    },
    "kernelspec": {
      "name": "python3",
      "display_name": "Python 3"
    },
    "language_info": {
      "name": "python"
    }
  },
  "cells": [
    {
      "cell_type": "markdown",
      "metadata": {
        "id": "view-in-github",
        "colab_type": "text"
      },
      "source": [
        "<a href=\"https://colab.research.google.com/github/devjaime/data_science_escalab/blob/main/Copia_de_2021_11_11_Clase_03_02.ipynb\" target=\"_parent\"><img src=\"https://colab.research.google.com/assets/colab-badge.svg\" alt=\"Open In Colab\"/></a>"
      ]
    },
    {
      "cell_type": "markdown",
      "metadata": {
        "id": "iUi_A6mnh0qJ"
      },
      "source": [
        "# NumPy\n",
        "\n",
        "NUMerical PYthon\n",
        "*   Potente estructura de datos\n",
        "*   Implementa matrices y matrices multidimensionales\n",
        "*   Estas estructuras garantizan cálculos eficientes con matrices\n",
        "\n",
        "Sintaxis de Numpy\n",
        "\n",
        "import numpy as np\n",
        "*   matriz_1 = np.array([1,2,3])\n",
        "*   matriz_2 = np.array([1,2,3], [4,5,6])\n",
        "\n"
      ]
    },
    {
      "cell_type": "code",
      "metadata": {
        "id": "aZyq8VpZofhO"
      },
      "source": [
        "import numpy as np"
      ],
      "execution_count": null,
      "outputs": []
    },
    {
      "cell_type": "code",
      "metadata": {
        "colab": {
          "base_uri": "https://localhost:8080/"
        },
        "id": "Z4XOrmM2REFE",
        "outputId": "6c5a917f-523d-421f-c8fa-68ed1f9b2f51"
      },
      "source": [
        "matriz = np.array([1,2,3])\n",
        "print(matriz)"
      ],
      "execution_count": null,
      "outputs": [
        {
          "output_type": "stream",
          "name": "stdout",
          "text": [
            "[1 2 3]\n"
          ]
        }
      ]
    },
    {
      "cell_type": "markdown",
      "metadata": {
        "id": "bAJM4zGDB6oz"
      },
      "source": [
        "## Creación de arreglos"
      ]
    },
    {
      "cell_type": "code",
      "metadata": {
        "id": "KaDJzBbiAmRL",
        "colab": {
          "base_uri": "https://localhost:8080/"
        },
        "outputId": "aa6a11ee-bdd8-4a15-9cf9-e07cbc50a5c6"
      },
      "source": [
        "matriz_1d = np.array([1,2,3])\n",
        "print(matriz_1d)"
      ],
      "execution_count": null,
      "outputs": [
        {
          "output_type": "stream",
          "name": "stdout",
          "text": [
            "[1 2 3]\n"
          ]
        }
      ]
    },
    {
      "cell_type": "code",
      "metadata": {
        "id": "UDaIxSTD_6Mj",
        "colab": {
          "base_uri": "https://localhost:8080/"
        },
        "outputId": "4bf09e97-3c2a-41d8-eb63-17e249033285"
      },
      "source": [
        "mi_lista = [1, 2, 3, 4, 5]\n",
        "mi_arreglo = np.array([1, 2, 3, 4, 5])\n",
        "\n",
        "print(mi_lista, type(mi_lista))\n",
        "print(mi_arreglo, type(mi_arreglo))"
      ],
      "execution_count": null,
      "outputs": [
        {
          "output_type": "stream",
          "name": "stdout",
          "text": [
            "[1, 2, 3, 4, 5] <class 'list'>\n",
            "[1 2 3 4 5] <class 'numpy.ndarray'>\n"
          ]
        }
      ]
    },
    {
      "cell_type": "code",
      "metadata": {
        "id": "ktp6Q_ibAEHd",
        "colab": {
          "base_uri": "https://localhost:8080/"
        },
        "outputId": "4cf274fe-4826-40c3-d80b-820f313faabf"
      },
      "source": [
        "# multiplicación o división por escalar\n",
        "print(mi_lista * 2)\n",
        "print(mi_arreglo * 2)"
      ],
      "execution_count": null,
      "outputs": [
        {
          "output_type": "stream",
          "name": "stdout",
          "text": [
            "[1, 2, 3, 4, 5, 1, 2, 3, 4, 5]\n",
            "[ 2  4  6  8 10]\n"
          ]
        }
      ]
    },
    {
      "cell_type": "code",
      "metadata": {
        "colab": {
          "base_uri": "https://localhost:8080/"
        },
        "id": "LhC-OQTHSSJQ",
        "outputId": "35c3f232-043a-44b2-bb2e-971ae2f54e88"
      },
      "source": [
        "for i in mi_lista:\n",
        "  print(i*2, end=\" \")"
      ],
      "execution_count": null,
      "outputs": [
        {
          "output_type": "stream",
          "name": "stdout",
          "text": [
            "2 4 6 8 10 "
          ]
        }
      ]
    },
    {
      "cell_type": "code",
      "metadata": {
        "id": "-uMtIDXLAOzK",
        "colab": {
          "base_uri": "https://localhost:8080/"
        },
        "outputId": "4413ae43-a984-427a-b950-2c292235ef88"
      },
      "source": [
        "# suma o resta con escalar\n",
        "# print(mi_lista + 10) # ups!\n",
        "print(mi_arreglo + 10)"
      ],
      "execution_count": null,
      "outputs": [
        {
          "output_type": "stream",
          "name": "stdout",
          "text": [
            "[11 12 13 14 15]\n"
          ]
        }
      ]
    },
    {
      "cell_type": "code",
      "metadata": {
        "id": "thQFDR3rAOwV",
        "colab": {
          "base_uri": "https://localhost:8080/"
        },
        "outputId": "7ce3b6eb-6472-4cdf-cf69-3b12e3105860"
      },
      "source": [
        "# suma o resta entre \"vectores\" \n",
        "print(mi_lista + mi_lista)\n",
        "print(mi_arreglo + mi_arreglo)"
      ],
      "execution_count": null,
      "outputs": [
        {
          "output_type": "stream",
          "name": "stdout",
          "text": [
            "[1, 2, 3, 4, 5, 1, 2, 3, 4, 5]\n",
            "[ 2  4  6  8 10]\n"
          ]
        }
      ]
    },
    {
      "cell_type": "code",
      "metadata": {
        "id": "W2xJosveAOtH",
        "colab": {
          "base_uri": "https://localhost:8080/"
        },
        "outputId": "33c01d6f-c5dc-4ae2-d20e-3e9e933b7165"
      },
      "source": [
        "# comparación\n",
        "# print(mi_lista < 4) # ups!\n",
        "print(mi_arreglo < 4)"
      ],
      "execution_count": null,
      "outputs": [
        {
          "output_type": "stream",
          "name": "stdout",
          "text": [
            "[ True  True  True False False]\n"
          ]
        }
      ]
    },
    {
      "cell_type": "code",
      "metadata": {
        "id": "XQd6Z1HMAOoi"
      },
      "source": [
        ""
      ],
      "execution_count": null,
      "outputs": []
    },
    {
      "cell_type": "code",
      "metadata": {
        "id": "vPm1-_Btofex",
        "colab": {
          "base_uri": "https://localhost:8080/"
        },
        "outputId": "92f036b5-23c4-47ba-a1ed-1367cbbb9346"
      },
      "source": [
        "matriz_1d = np.array([1,2,3])\n",
        "print(matriz_1d)"
      ],
      "execution_count": null,
      "outputs": [
        {
          "output_type": "stream",
          "name": "stdout",
          "text": [
            "[1 2 3]\n"
          ]
        }
      ]
    },
    {
      "cell_type": "code",
      "metadata": {
        "id": "8WS-6HMES_sQ"
      },
      "source": [
        ""
      ],
      "execution_count": null,
      "outputs": []
    },
    {
      "cell_type": "code",
      "metadata": {
        "id": "fU2b8Pp2ofcD",
        "colab": {
          "base_uri": "https://localhost:8080/"
        },
        "outputId": "4e905e7b-d904-4b45-89eb-66714146c36f"
      },
      "source": [
        "matriz_2d = np.array([[1,2,3],[4,5,6]])\n",
        "print(matriz_2d)"
      ],
      "execution_count": null,
      "outputs": [
        {
          "output_type": "stream",
          "name": "stdout",
          "text": [
            "[[1 2 3]\n",
            " [4 5 6]]\n"
          ]
        }
      ]
    },
    {
      "cell_type": "code",
      "metadata": {
        "id": "-L9oXj4jofZQ",
        "colab": {
          "base_uri": "https://localhost:8080/"
        },
        "outputId": "d6b30f8e-8c09-4178-e4ce-879102f240db"
      },
      "source": [
        "matriz_3d = np.array([      [  [1, 2], [3, 4]  ], [  [5, 6], [7, 8]   ]      ])\n",
        "print(matriz_3d)"
      ],
      "execution_count": null,
      "outputs": [
        {
          "output_type": "stream",
          "name": "stdout",
          "text": [
            "[[[1 2]\n",
            "  [3 4]]\n",
            "\n",
            " [[5 6]\n",
            "  [7 8]]]\n"
          ]
        }
      ]
    },
    {
      "cell_type": "markdown",
      "metadata": {
        "id": "FhAV5tUlqZxt"
      },
      "source": [
        "NumPy ocupa menos espacio en memoria y es más rápido"
      ]
    },
    {
      "cell_type": "code",
      "metadata": {
        "id": "cxJokyPpqZUy",
        "colab": {
          "base_uri": "https://localhost:8080/"
        },
        "outputId": "264d01cb-5602-4cfe-be41-12c6f62dabf2"
      },
      "source": [
        "import sys\n",
        "lista_python = l = [i for i in range(1000)]\n",
        "print(sys.getsizeof(lista_python))\n",
        "print(sys.getsizeof(0)*len(lista_python))"
      ],
      "execution_count": null,
      "outputs": [
        {
          "output_type": "stream",
          "name": "stdout",
          "text": [
            "9032\n",
            "24000\n"
          ]
        }
      ]
    },
    {
      "cell_type": "code",
      "metadata": {
        "colab": {
          "base_uri": "https://localhost:8080/"
        },
        "id": "1Yem0GCXTwyq",
        "outputId": "97b6d8b6-b44e-4eb5-f292-ff2b245cb48b"
      },
      "source": [
        "print(lista_python)"
      ],
      "execution_count": null,
      "outputs": [
        {
          "output_type": "stream",
          "name": "stdout",
          "text": [
            "[0, 1, 2, 3, 4, 5, 6, 7, 8, 9, 10, 11, 12, 13, 14, 15, 16, 17, 18, 19, 20, 21, 22, 23, 24, 25, 26, 27, 28, 29, 30, 31, 32, 33, 34, 35, 36, 37, 38, 39, 40, 41, 42, 43, 44, 45, 46, 47, 48, 49, 50, 51, 52, 53, 54, 55, 56, 57, 58, 59, 60, 61, 62, 63, 64, 65, 66, 67, 68, 69, 70, 71, 72, 73, 74, 75, 76, 77, 78, 79, 80, 81, 82, 83, 84, 85, 86, 87, 88, 89, 90, 91, 92, 93, 94, 95, 96, 97, 98, 99, 100, 101, 102, 103, 104, 105, 106, 107, 108, 109, 110, 111, 112, 113, 114, 115, 116, 117, 118, 119, 120, 121, 122, 123, 124, 125, 126, 127, 128, 129, 130, 131, 132, 133, 134, 135, 136, 137, 138, 139, 140, 141, 142, 143, 144, 145, 146, 147, 148, 149, 150, 151, 152, 153, 154, 155, 156, 157, 158, 159, 160, 161, 162, 163, 164, 165, 166, 167, 168, 169, 170, 171, 172, 173, 174, 175, 176, 177, 178, 179, 180, 181, 182, 183, 184, 185, 186, 187, 188, 189, 190, 191, 192, 193, 194, 195, 196, 197, 198, 199, 200, 201, 202, 203, 204, 205, 206, 207, 208, 209, 210, 211, 212, 213, 214, 215, 216, 217, 218, 219, 220, 221, 222, 223, 224, 225, 226, 227, 228, 229, 230, 231, 232, 233, 234, 235, 236, 237, 238, 239, 240, 241, 242, 243, 244, 245, 246, 247, 248, 249, 250, 251, 252, 253, 254, 255, 256, 257, 258, 259, 260, 261, 262, 263, 264, 265, 266, 267, 268, 269, 270, 271, 272, 273, 274, 275, 276, 277, 278, 279, 280, 281, 282, 283, 284, 285, 286, 287, 288, 289, 290, 291, 292, 293, 294, 295, 296, 297, 298, 299, 300, 301, 302, 303, 304, 305, 306, 307, 308, 309, 310, 311, 312, 313, 314, 315, 316, 317, 318, 319, 320, 321, 322, 323, 324, 325, 326, 327, 328, 329, 330, 331, 332, 333, 334, 335, 336, 337, 338, 339, 340, 341, 342, 343, 344, 345, 346, 347, 348, 349, 350, 351, 352, 353, 354, 355, 356, 357, 358, 359, 360, 361, 362, 363, 364, 365, 366, 367, 368, 369, 370, 371, 372, 373, 374, 375, 376, 377, 378, 379, 380, 381, 382, 383, 384, 385, 386, 387, 388, 389, 390, 391, 392, 393, 394, 395, 396, 397, 398, 399, 400, 401, 402, 403, 404, 405, 406, 407, 408, 409, 410, 411, 412, 413, 414, 415, 416, 417, 418, 419, 420, 421, 422, 423, 424, 425, 426, 427, 428, 429, 430, 431, 432, 433, 434, 435, 436, 437, 438, 439, 440, 441, 442, 443, 444, 445, 446, 447, 448, 449, 450, 451, 452, 453, 454, 455, 456, 457, 458, 459, 460, 461, 462, 463, 464, 465, 466, 467, 468, 469, 470, 471, 472, 473, 474, 475, 476, 477, 478, 479, 480, 481, 482, 483, 484, 485, 486, 487, 488, 489, 490, 491, 492, 493, 494, 495, 496, 497, 498, 499, 500, 501, 502, 503, 504, 505, 506, 507, 508, 509, 510, 511, 512, 513, 514, 515, 516, 517, 518, 519, 520, 521, 522, 523, 524, 525, 526, 527, 528, 529, 530, 531, 532, 533, 534, 535, 536, 537, 538, 539, 540, 541, 542, 543, 544, 545, 546, 547, 548, 549, 550, 551, 552, 553, 554, 555, 556, 557, 558, 559, 560, 561, 562, 563, 564, 565, 566, 567, 568, 569, 570, 571, 572, 573, 574, 575, 576, 577, 578, 579, 580, 581, 582, 583, 584, 585, 586, 587, 588, 589, 590, 591, 592, 593, 594, 595, 596, 597, 598, 599, 600, 601, 602, 603, 604, 605, 606, 607, 608, 609, 610, 611, 612, 613, 614, 615, 616, 617, 618, 619, 620, 621, 622, 623, 624, 625, 626, 627, 628, 629, 630, 631, 632, 633, 634, 635, 636, 637, 638, 639, 640, 641, 642, 643, 644, 645, 646, 647, 648, 649, 650, 651, 652, 653, 654, 655, 656, 657, 658, 659, 660, 661, 662, 663, 664, 665, 666, 667, 668, 669, 670, 671, 672, 673, 674, 675, 676, 677, 678, 679, 680, 681, 682, 683, 684, 685, 686, 687, 688, 689, 690, 691, 692, 693, 694, 695, 696, 697, 698, 699, 700, 701, 702, 703, 704, 705, 706, 707, 708, 709, 710, 711, 712, 713, 714, 715, 716, 717, 718, 719, 720, 721, 722, 723, 724, 725, 726, 727, 728, 729, 730, 731, 732, 733, 734, 735, 736, 737, 738, 739, 740, 741, 742, 743, 744, 745, 746, 747, 748, 749, 750, 751, 752, 753, 754, 755, 756, 757, 758, 759, 760, 761, 762, 763, 764, 765, 766, 767, 768, 769, 770, 771, 772, 773, 774, 775, 776, 777, 778, 779, 780, 781, 782, 783, 784, 785, 786, 787, 788, 789, 790, 791, 792, 793, 794, 795, 796, 797, 798, 799, 800, 801, 802, 803, 804, 805, 806, 807, 808, 809, 810, 811, 812, 813, 814, 815, 816, 817, 818, 819, 820, 821, 822, 823, 824, 825, 826, 827, 828, 829, 830, 831, 832, 833, 834, 835, 836, 837, 838, 839, 840, 841, 842, 843, 844, 845, 846, 847, 848, 849, 850, 851, 852, 853, 854, 855, 856, 857, 858, 859, 860, 861, 862, 863, 864, 865, 866, 867, 868, 869, 870, 871, 872, 873, 874, 875, 876, 877, 878, 879, 880, 881, 882, 883, 884, 885, 886, 887, 888, 889, 890, 891, 892, 893, 894, 895, 896, 897, 898, 899, 900, 901, 902, 903, 904, 905, 906, 907, 908, 909, 910, 911, 912, 913, 914, 915, 916, 917, 918, 919, 920, 921, 922, 923, 924, 925, 926, 927, 928, 929, 930, 931, 932, 933, 934, 935, 936, 937, 938, 939, 940, 941, 942, 943, 944, 945, 946, 947, 948, 949, 950, 951, 952, 953, 954, 955, 956, 957, 958, 959, 960, 961, 962, 963, 964, 965, 966, 967, 968, 969, 970, 971, 972, 973, 974, 975, 976, 977, 978, 979, 980, 981, 982, 983, 984, 985, 986, 987, 988, 989, 990, 991, 992, 993, 994, 995, 996, 997, 998, 999]\n"
          ]
        }
      ]
    },
    {
      "cell_type": "code",
      "metadata": {
        "id": "F5HAU9EBqSNl",
        "colab": {
          "base_uri": "https://localhost:8080/"
        },
        "outputId": "64c45356-eef8-43e4-9d97-b657323286bd"
      },
      "source": [
        "lista_np = np.arange(1000)\n",
        "print(sys.getsizeof(lista_np))\n",
        "print(lista_np.size*lista_np.itemsize)"
      ],
      "execution_count": null,
      "outputs": [
        {
          "output_type": "stream",
          "name": "stdout",
          "text": [
            "8096\n",
            "8000\n"
          ]
        }
      ]
    },
    {
      "cell_type": "code",
      "metadata": {
        "colab": {
          "base_uri": "https://localhost:8080/"
        },
        "id": "rKO1w3-IUM2I",
        "outputId": "447c39ab-ccd1-4439-f285-83294188c10a"
      },
      "source": [
        "print(lista_np)"
      ],
      "execution_count": null,
      "outputs": [
        {
          "output_type": "stream",
          "name": "stdout",
          "text": [
            "[  0   1   2   3   4   5   6   7   8   9  10  11  12  13  14  15  16  17\n",
            "  18  19  20  21  22  23  24  25  26  27  28  29  30  31  32  33  34  35\n",
            "  36  37  38  39  40  41  42  43  44  45  46  47  48  49  50  51  52  53\n",
            "  54  55  56  57  58  59  60  61  62  63  64  65  66  67  68  69  70  71\n",
            "  72  73  74  75  76  77  78  79  80  81  82  83  84  85  86  87  88  89\n",
            "  90  91  92  93  94  95  96  97  98  99 100 101 102 103 104 105 106 107\n",
            " 108 109 110 111 112 113 114 115 116 117 118 119 120 121 122 123 124 125\n",
            " 126 127 128 129 130 131 132 133 134 135 136 137 138 139 140 141 142 143\n",
            " 144 145 146 147 148 149 150 151 152 153 154 155 156 157 158 159 160 161\n",
            " 162 163 164 165 166 167 168 169 170 171 172 173 174 175 176 177 178 179\n",
            " 180 181 182 183 184 185 186 187 188 189 190 191 192 193 194 195 196 197\n",
            " 198 199 200 201 202 203 204 205 206 207 208 209 210 211 212 213 214 215\n",
            " 216 217 218 219 220 221 222 223 224 225 226 227 228 229 230 231 232 233\n",
            " 234 235 236 237 238 239 240 241 242 243 244 245 246 247 248 249 250 251\n",
            " 252 253 254 255 256 257 258 259 260 261 262 263 264 265 266 267 268 269\n",
            " 270 271 272 273 274 275 276 277 278 279 280 281 282 283 284 285 286 287\n",
            " 288 289 290 291 292 293 294 295 296 297 298 299 300 301 302 303 304 305\n",
            " 306 307 308 309 310 311 312 313 314 315 316 317 318 319 320 321 322 323\n",
            " 324 325 326 327 328 329 330 331 332 333 334 335 336 337 338 339 340 341\n",
            " 342 343 344 345 346 347 348 349 350 351 352 353 354 355 356 357 358 359\n",
            " 360 361 362 363 364 365 366 367 368 369 370 371 372 373 374 375 376 377\n",
            " 378 379 380 381 382 383 384 385 386 387 388 389 390 391 392 393 394 395\n",
            " 396 397 398 399 400 401 402 403 404 405 406 407 408 409 410 411 412 413\n",
            " 414 415 416 417 418 419 420 421 422 423 424 425 426 427 428 429 430 431\n",
            " 432 433 434 435 436 437 438 439 440 441 442 443 444 445 446 447 448 449\n",
            " 450 451 452 453 454 455 456 457 458 459 460 461 462 463 464 465 466 467\n",
            " 468 469 470 471 472 473 474 475 476 477 478 479 480 481 482 483 484 485\n",
            " 486 487 488 489 490 491 492 493 494 495 496 497 498 499 500 501 502 503\n",
            " 504 505 506 507 508 509 510 511 512 513 514 515 516 517 518 519 520 521\n",
            " 522 523 524 525 526 527 528 529 530 531 532 533 534 535 536 537 538 539\n",
            " 540 541 542 543 544 545 546 547 548 549 550 551 552 553 554 555 556 557\n",
            " 558 559 560 561 562 563 564 565 566 567 568 569 570 571 572 573 574 575\n",
            " 576 577 578 579 580 581 582 583 584 585 586 587 588 589 590 591 592 593\n",
            " 594 595 596 597 598 599 600 601 602 603 604 605 606 607 608 609 610 611\n",
            " 612 613 614 615 616 617 618 619 620 621 622 623 624 625 626 627 628 629\n",
            " 630 631 632 633 634 635 636 637 638 639 640 641 642 643 644 645 646 647\n",
            " 648 649 650 651 652 653 654 655 656 657 658 659 660 661 662 663 664 665\n",
            " 666 667 668 669 670 671 672 673 674 675 676 677 678 679 680 681 682 683\n",
            " 684 685 686 687 688 689 690 691 692 693 694 695 696 697 698 699 700 701\n",
            " 702 703 704 705 706 707 708 709 710 711 712 713 714 715 716 717 718 719\n",
            " 720 721 722 723 724 725 726 727 728 729 730 731 732 733 734 735 736 737\n",
            " 738 739 740 741 742 743 744 745 746 747 748 749 750 751 752 753 754 755\n",
            " 756 757 758 759 760 761 762 763 764 765 766 767 768 769 770 771 772 773\n",
            " 774 775 776 777 778 779 780 781 782 783 784 785 786 787 788 789 790 791\n",
            " 792 793 794 795 796 797 798 799 800 801 802 803 804 805 806 807 808 809\n",
            " 810 811 812 813 814 815 816 817 818 819 820 821 822 823 824 825 826 827\n",
            " 828 829 830 831 832 833 834 835 836 837 838 839 840 841 842 843 844 845\n",
            " 846 847 848 849 850 851 852 853 854 855 856 857 858 859 860 861 862 863\n",
            " 864 865 866 867 868 869 870 871 872 873 874 875 876 877 878 879 880 881\n",
            " 882 883 884 885 886 887 888 889 890 891 892 893 894 895 896 897 898 899\n",
            " 900 901 902 903 904 905 906 907 908 909 910 911 912 913 914 915 916 917\n",
            " 918 919 920 921 922 923 924 925 926 927 928 929 930 931 932 933 934 935\n",
            " 936 937 938 939 940 941 942 943 944 945 946 947 948 949 950 951 952 953\n",
            " 954 955 956 957 958 959 960 961 962 963 964 965 966 967 968 969 970 971\n",
            " 972 973 974 975 976 977 978 979 980 981 982 983 984 985 986 987 988 989\n",
            " 990 991 992 993 994 995 996 997 998 999]\n"
          ]
        }
      ]
    },
    {
      "cell_type": "code",
      "metadata": {
        "id": "zsqZWuIlqSKo",
        "colab": {
          "base_uri": "https://localhost:8080/"
        },
        "outputId": "8456027e-7c63-448c-87c3-4c07583d09bd"
      },
      "source": [
        "# tiempo\n",
        "import time\n",
        "tamano = 1000000\n",
        "lp_1 = range(tamano)\n",
        "lp_2 = range(tamano)\n",
        "ln_1 = np.arange(tamano)\n",
        "ln_2 = np.arange(tamano)\n",
        "\n",
        "inicio = time.time()\n",
        "resultado = [x+y for  x,y in zip(lp_1,lp_2)]\n",
        "print(\"resultado en python\")\n",
        "print(time.time()-inicio)\n",
        "\n",
        "print()\n",
        "\n",
        "inicio = time.time()\n",
        "resultado = ln_1+ln_2\n",
        "print(\"resultado en numpy\")\n",
        "print(time.time()-inicio)"
      ],
      "execution_count": null,
      "outputs": [
        {
          "output_type": "stream",
          "name": "stdout",
          "text": [
            "resultado en python\n",
            "0.1281278133392334\n",
            "\n",
            "resultado en numpy\n",
            "0.016499042510986328\n"
          ]
        }
      ]
    },
    {
      "cell_type": "code",
      "metadata": {
        "id": "KOaXN5ZKz12M"
      },
      "source": [
        ""
      ],
      "execution_count": null,
      "outputs": []
    },
    {
      "cell_type": "code",
      "metadata": {
        "id": "tmdEtjC5z1zc",
        "colab": {
          "base_uri": "https://localhost:8080/"
        },
        "outputId": "e1310360-7131-4412-9b79-d959c1e25bcf"
      },
      "source": [
        "# especificar el tipo de dato\n",
        "array_01 = np.array([[1,2,3,4],[5,6,7,8]], dtype=np.int64)\n",
        "print(array_01)"
      ],
      "execution_count": null,
      "outputs": [
        {
          "output_type": "stream",
          "name": "stdout",
          "text": [
            "[[1 2 3 4]\n",
            " [5 6 7 8]]\n"
          ]
        }
      ]
    },
    {
      "cell_type": "code",
      "metadata": {
        "id": "Np9jwcRsz1wy",
        "colab": {
          "base_uri": "https://localhost:8080/"
        },
        "outputId": "1f2b62c8-7502-47de-de33-0a1c98569b96"
      },
      "source": [
        "# especificar matrices vacías o con datos específicos (filas, columnas)\n",
        "unos = np.ones([3,4])\n",
        "print(unos)"
      ],
      "execution_count": null,
      "outputs": [
        {
          "output_type": "stream",
          "name": "stdout",
          "text": [
            "[[1. 1. 1. 1.]\n",
            " [1. 1. 1. 1.]\n",
            " [1. 1. 1. 1.]]\n"
          ]
        }
      ]
    },
    {
      "cell_type": "code",
      "metadata": {
        "id": "4lqADSKLz1uE",
        "colab": {
          "base_uri": "https://localhost:8080/"
        },
        "outputId": "34c6be65-2554-4601-b3c6-6dd82d71b42c"
      },
      "source": [
        "ceros = np.zeros([3,4])\n",
        "print(ceros)"
      ],
      "execution_count": null,
      "outputs": [
        {
          "output_type": "stream",
          "name": "stdout",
          "text": [
            "[[0. 0. 0. 0.]\n",
            " [0. 0. 0. 0.]\n",
            " [0. 0. 0. 0.]]\n"
          ]
        }
      ]
    },
    {
      "cell_type": "code",
      "metadata": {
        "id": "UcBJDxFGz1rB",
        "colab": {
          "base_uri": "https://localhost:8080/"
        },
        "outputId": "e6c440dd-10cd-4734-a3fb-9aa56d5fe6cd"
      },
      "source": [
        "aleatorios = np.random.random([3,4])\n",
        "print(aleatorios)"
      ],
      "execution_count": null,
      "outputs": [
        {
          "output_type": "stream",
          "name": "stdout",
          "text": [
            "[[0.13577459 0.17823088 0.97100375 0.45423678]\n",
            " [0.22272216 0.99345636 0.69581039 0.91074193]\n",
            " [0.70592263 0.29420447 0.40062676 0.41127963]]\n"
          ]
        }
      ]
    },
    {
      "cell_type": "code",
      "metadata": {
        "id": "s3QUmwBCqR_V",
        "colab": {
          "base_uri": "https://localhost:8080/"
        },
        "outputId": "50e8d696-52d2-4ee5-c01f-710d4581d94d"
      },
      "source": [
        "vacia = np.empty((3,4))\n",
        "print(vacia)"
      ],
      "execution_count": null,
      "outputs": [
        {
          "output_type": "stream",
          "name": "stdout",
          "text": [
            "[[0.00000000e+000 4.65636175e-310 3.95252517e-323 4.65636175e-310]\n",
            " [3.95252517e-323 4.65636175e-310 4.44659081e-323 0.00000000e+000]\n",
            " [4.65636175e-310 4.65636175e-310 4.65636175e-310 0.00000000e+000]]\n"
          ]
        }
      ]
    },
    {
      "cell_type": "code",
      "metadata": {
        "id": "8Q8-zKNy3MkU",
        "colab": {
          "base_uri": "https://localhost:8080/"
        },
        "outputId": "d275900c-6d97-41a8-ebee-6b1f9d71793e"
      },
      "source": [
        "full = np.full((3,4), 8)\n",
        "print(full)"
      ],
      "execution_count": null,
      "outputs": [
        {
          "output_type": "stream",
          "name": "stdout",
          "text": [
            "[[8 8 8 8]\n",
            " [8 8 8 8]\n",
            " [8 8 8 8]]\n"
          ]
        }
      ]
    },
    {
      "cell_type": "code",
      "metadata": {
        "id": "k9-evsKh3Mh1",
        "colab": {
          "base_uri": "https://localhost:8080/"
        },
        "outputId": "4f802ce9-2aa6-4228-e168-ff24e11990a4"
      },
      "source": [
        "# matriz con valores espaciados uniformemente\n",
        "espacio1 = np.arange(0,30,5)\n",
        "print(espacio1)\n",
        "\n",
        "espacio2 = np.linspace(0,2,5)\n",
        "print(espacio2)"
      ],
      "execution_count": null,
      "outputs": [
        {
          "output_type": "stream",
          "name": "stdout",
          "text": [
            "[ 0  5 10 15 20 25]\n",
            "[0.  0.5 1.  1.5 2. ]\n"
          ]
        }
      ]
    },
    {
      "cell_type": "code",
      "metadata": {
        "id": "4nXjjGRO3MfN",
        "colab": {
          "base_uri": "https://localhost:8080/"
        },
        "outputId": "b456af3d-e340-4dc3-84b3-b311defd1b7e"
      },
      "source": [
        "# matriz identidad\n",
        "identidad1 = np.eye(5,4)\n",
        "print(identidad1)\n",
        "\n",
        "print()\n",
        "\n",
        "identidad2 = np.identity(4)\n",
        "print(identidad2)"
      ],
      "execution_count": null,
      "outputs": [
        {
          "output_type": "stream",
          "name": "stdout",
          "text": [
            "[[1. 0. 0. 0.]\n",
            " [0. 1. 0. 0.]\n",
            " [0. 0. 1. 0.]\n",
            " [0. 0. 0. 1.]\n",
            " [0. 0. 0. 0.]]\n",
            "\n",
            "[[1. 0. 0. 0.]\n",
            " [0. 1. 0. 0.]\n",
            " [0. 0. 1. 0.]\n",
            " [0. 0. 0. 1.]]\n"
          ]
        }
      ]
    },
    {
      "cell_type": "code",
      "metadata": {
        "id": "CzPj-jkBCJSM",
        "colab": {
          "base_uri": "https://localhost:8080/"
        },
        "outputId": "a44f5fc3-ceb4-4032-a3e1-b40dc68dbd1b"
      },
      "source": [
        "# desde un iterable\n",
        "arreglo = np.array(range(4))\n",
        "print(arreglo)"
      ],
      "execution_count": null,
      "outputs": [
        {
          "output_type": "stream",
          "name": "stdout",
          "text": [
            "[0 1 2 3]\n"
          ]
        }
      ]
    },
    {
      "cell_type": "code",
      "metadata": {
        "id": "cOpC_JWcDcVm"
      },
      "source": [
        ""
      ],
      "execution_count": null,
      "outputs": []
    },
    {
      "cell_type": "code",
      "metadata": {
        "id": "PlUVJAT3CJPR",
        "colab": {
          "base_uri": "https://localhost:8080/"
        },
        "outputId": "15ea6bac-5a56-4de1-9d43-9134a51eb155"
      },
      "source": [
        "# desde una lista de listas con dtype?\n",
        "\n",
        "arreglo = np.array([[1,2,3], [4,5,6]], dtype=float)\n",
        "print(arreglo)\n",
        "print(arreglo.shape)\n",
        "print(arreglo.dtype)\n",
        "\n"
      ],
      "execution_count": null,
      "outputs": [
        {
          "output_type": "stream",
          "name": "stdout",
          "text": [
            "[[1. 2. 3.]\n",
            " [4. 5. 6.]]\n",
            "(2, 3)\n",
            "float64\n"
          ]
        }
      ]
    },
    {
      "cell_type": "code",
      "metadata": {
        "colab": {
          "base_uri": "https://localhost:8080/"
        },
        "id": "x7YMp9CxbcLB",
        "outputId": "f3ff1c9e-609b-4819-a157-80cc7bf244f0"
      },
      "source": [
        "# ejemplo\n",
        "lista = [1,2,9]\n",
        "print(lista)\n",
        "lista[2] = lista[2]/2\n",
        "print(lista)"
      ],
      "execution_count": null,
      "outputs": [
        {
          "output_type": "stream",
          "name": "stdout",
          "text": [
            "[1, 2, 9]\n",
            "[1, 2, 4.5]\n"
          ]
        }
      ]
    },
    {
      "cell_type": "code",
      "metadata": {
        "colab": {
          "base_uri": "https://localhost:8080/"
        },
        "id": "h0Cl0_8KcDQL",
        "outputId": "9a03762c-9695-461f-ee5b-7e95e2bbb4c1"
      },
      "source": [
        ""
      ],
      "execution_count": null,
      "outputs": [
        {
          "output_type": "execute_result",
          "data": {
            "text/plain": [
              "9"
            ]
          },
          "metadata": {},
          "execution_count": 56
        }
      ]
    },
    {
      "cell_type": "code",
      "metadata": {
        "id": "INpYUO-eCJMi",
        "colab": {
          "base_uri": "https://localhost:8080/"
        },
        "outputId": "c9885b6e-d081-41dc-8178-aac51531dffa"
      },
      "source": [
        "# y si una operación \"cambia\" el tipo de mi arreglo?\n",
        "arreglo = np.array([1,2,9])\n",
        "arreglo[2] = arreglo[2]/2\n",
        "print(arreglo)"
      ],
      "execution_count": null,
      "outputs": [
        {
          "output_type": "stream",
          "name": "stdout",
          "text": [
            "[1 2 4]\n"
          ]
        }
      ]
    },
    {
      "cell_type": "code",
      "metadata": {
        "id": "CSQbqsjkCJJj",
        "colab": {
          "base_uri": "https://localhost:8080/"
        },
        "outputId": "5355ab09-e9d2-47bb-9a52-a4ebd0919442"
      },
      "source": [
        "# y si una operación \"cambia\" el tipo de mi arreglo?\n",
        "arreglo = np.array([1,2,9])\n",
        "print(arreglo)\n",
        "arreglo = arreglo.astype('float64')\n",
        "print(arreglo)\n",
        "arreglo[2] = arreglo[2]/2\n",
        "print(arreglo)\n"
      ],
      "execution_count": null,
      "outputs": [
        {
          "output_type": "stream",
          "name": "stdout",
          "text": [
            "[1 2 9]\n",
            "[1. 2. 9.]\n",
            "[1.  2.  4.5]\n"
          ]
        }
      ]
    },
    {
      "cell_type": "code",
      "metadata": {
        "id": "aUN2YhMiCJBw"
      },
      "source": [
        ""
      ],
      "execution_count": null,
      "outputs": []
    },
    {
      "cell_type": "markdown",
      "metadata": {
        "id": "R2-Ywo2EBiKR"
      },
      "source": [
        "## Constantes"
      ]
    },
    {
      "cell_type": "code",
      "metadata": {
        "id": "rPjcXPPzBBTA"
      },
      "source": [
        "\n",
        "# https://numpy.org/doc/stable/reference/constants.html\n",
        "print(np.inf)\n",
        "print()\n",
        "print(np.NINF)\n",
        "print()\n",
        "print(np.PINF)\n",
        "print()\n",
        "print(np.nan)\n",
        "print()"
      ],
      "execution_count": null,
      "outputs": []
    },
    {
      "cell_type": "code",
      "metadata": {
        "id": "Vd6YqCY3Bmwc",
        "colab": {
          "base_uri": "https://localhost:8080/"
        },
        "outputId": "7dae5ec0-4892-42b0-a773-c82c47647485"
      },
      "source": [
        "valor = np.nan\n",
        "numero = 10\n",
        "print(numero < valor)\n",
        "print(numero > valor)\n",
        "print(numero == valor)"
      ],
      "execution_count": null,
      "outputs": [
        {
          "output_type": "stream",
          "name": "stdout",
          "text": [
            "False\n",
            "False\n",
            "False\n"
          ]
        }
      ]
    },
    {
      "cell_type": "code",
      "metadata": {
        "id": "WErM39YQBmtm",
        "colab": {
          "base_uri": "https://localhost:8080/"
        },
        "outputId": "63c8d0a4-6a18-4e7c-f5b9-8be9a3cd2605"
      },
      "source": [
        "valor = np.inf\n",
        "numero = 67888888888888888\n",
        "print(numero < valor)\n",
        "print(numero > valor)\n",
        "print(numero == valor)"
      ],
      "execution_count": null,
      "outputs": [
        {
          "output_type": "stream",
          "name": "stdout",
          "text": [
            "True\n",
            "False\n",
            "False\n"
          ]
        }
      ]
    },
    {
      "cell_type": "code",
      "metadata": {
        "id": "IzCKAKTLBmqx"
      },
      "source": [
        ""
      ],
      "execution_count": null,
      "outputs": []
    },
    {
      "cell_type": "code",
      "metadata": {
        "id": "9Srl2pfiBmoJ"
      },
      "source": [
        ""
      ],
      "execution_count": null,
      "outputs": []
    },
    {
      "cell_type": "code",
      "metadata": {
        "id": "KGxnpMiFBmlQ"
      },
      "source": [
        ""
      ],
      "execution_count": null,
      "outputs": []
    },
    {
      "cell_type": "code",
      "metadata": {
        "id": "jXRFbqdxBmiO"
      },
      "source": [
        ""
      ],
      "execution_count": null,
      "outputs": []
    },
    {
      "cell_type": "markdown",
      "metadata": {
        "id": "OxYD5CUK4uqK"
      },
      "source": [
        "# Utilidades en Numpy"
      ]
    },
    {
      "cell_type": "code",
      "metadata": {
        "id": "oKMm_9Bg4uYD",
        "colab": {
          "base_uri": "https://localhost:8080/"
        },
        "outputId": "0f5bd439-d13e-4176-e836-129060868392"
      },
      "source": [
        "# conocer las dimensiones de una matriz\n",
        "a = np.array([[1,2,3],[4,5,6]])\n",
        "print(a.ndim)\n"
      ],
      "execution_count": null,
      "outputs": [
        {
          "output_type": "stream",
          "name": "stdout",
          "text": [
            "2\n"
          ]
        }
      ]
    },
    {
      "cell_type": "code",
      "metadata": {
        "id": "SvMuvz1F3Mca",
        "colab": {
          "base_uri": "https://localhost:8080/"
        },
        "outputId": "22ba0aa3-dcbd-4ad6-f149-6fb6f8cd7a95"
      },
      "source": [
        "# conocer el tipo de datos\n",
        "print(a.dtype)"
      ],
      "execution_count": null,
      "outputs": [
        {
          "output_type": "stream",
          "name": "stdout",
          "text": [
            "int64\n"
          ]
        }
      ]
    },
    {
      "cell_type": "code",
      "metadata": {
        "id": "sv-I9O2h3MZ2",
        "colab": {
          "base_uri": "https://localhost:8080/"
        },
        "outputId": "ad513709-9878-4a24-c58d-4a6a4798be42"
      },
      "source": [
        "# tamaño y forma de la matriz\n",
        "print(a.size)\n",
        "print(a.shape)\n",
        "print()\n",
        "print(len(a))"
      ],
      "execution_count": null,
      "outputs": [
        {
          "output_type": "stream",
          "name": "stdout",
          "text": [
            "6\n",
            "(2, 3)\n",
            "\n",
            "2\n"
          ]
        }
      ]
    },
    {
      "cell_type": "code",
      "metadata": {
        "colab": {
          "base_uri": "https://localhost:8080/"
        },
        "id": "G-Ea14YQeyfr",
        "outputId": "05cdacf3-670e-4327-f1f8-7e3f9f89e7ba"
      },
      "source": [
        "print(a)"
      ],
      "execution_count": null,
      "outputs": [
        {
          "output_type": "stream",
          "name": "stdout",
          "text": [
            "[[1 2 3]\n",
            " [4 5 6]]\n"
          ]
        }
      ]
    },
    {
      "cell_type": "code",
      "metadata": {
        "id": "ycGmEtgI3MXE",
        "colab": {
          "base_uri": "https://localhost:8080/"
        },
        "outputId": "d1419936-d9f1-4b8e-cf4f-4b733c70fa04"
      },
      "source": [
        "# cambio de forma de una matriz\n",
        "b = a.reshape(1,6)\n",
        "print(b)\n",
        "print(b.shape)\n",
        "b = b.reshape(6)\n",
        "print(b.shape)"
      ],
      "execution_count": null,
      "outputs": [
        {
          "output_type": "stream",
          "name": "stdout",
          "text": [
            "[[1 2 3 4 5 6]]\n",
            "(1, 6)\n",
            "(6,)\n"
          ]
        }
      ]
    },
    {
      "cell_type": "code",
      "metadata": {
        "colab": {
          "base_uri": "https://localhost:8080/"
        },
        "id": "fRl1ai3Qf3AY",
        "outputId": "1e43ee60-da74-4ec8-ee17-c73d70607edf"
      },
      "source": [
        "# crear y modificar\n",
        "arreglo = np.arange(27)\n",
        "print(arreglo)"
      ],
      "execution_count": null,
      "outputs": [
        {
          "output_type": "stream",
          "name": "stdout",
          "text": [
            "[ 0  1  2  3  4  5  6  7  8  9 10 11 12 13 14 15 16 17 18 19 20 21 22 23\n",
            " 24 25 26]\n"
          ]
        }
      ]
    },
    {
      "cell_type": "code",
      "metadata": {
        "id": "t43JBROoDio-",
        "colab": {
          "base_uri": "https://localhost:8080/"
        },
        "outputId": "f549198b-4823-478e-9c9b-46a535842374"
      },
      "source": [
        "# crear y modificar\n",
        "arreglo = np.arange(27).reshape((3,3,3))\n",
        "print(arreglo)"
      ],
      "execution_count": null,
      "outputs": [
        {
          "output_type": "stream",
          "name": "stdout",
          "text": [
            "[[[ 0  1  2]\n",
            "  [ 3  4  5]\n",
            "  [ 6  7  8]]\n",
            "\n",
            " [[ 9 10 11]\n",
            "  [12 13 14]\n",
            "  [15 16 17]]\n",
            "\n",
            " [[18 19 20]\n",
            "  [21 22 23]\n",
            "  [24 25 26]]]\n"
          ]
        }
      ]
    },
    {
      "cell_type": "code",
      "metadata": {
        "colab": {
          "base_uri": "https://localhost:8080/"
        },
        "id": "AF1VKBGUgVDk",
        "outputId": "61fe4cb7-1ddb-4736-c47a-605dc3889c08"
      },
      "source": [
        "a"
      ],
      "execution_count": null,
      "outputs": [
        {
          "output_type": "execute_result",
          "data": {
            "text/plain": [
              "array([[1, 2, 3],\n",
              "       [4, 5, 6]])"
            ]
          },
          "metadata": {},
          "execution_count": 99
        }
      ]
    },
    {
      "cell_type": "code",
      "metadata": {
        "id": "Dm100J785VO7",
        "colab": {
          "base_uri": "https://localhost:8080/"
        },
        "outputId": "12af7d95-c1fb-4893-afac-16cd3d99dee4"
      },
      "source": [
        "# extraer un número de la matriz [fila, columna]\n",
        "print(a[0,2])"
      ],
      "execution_count": null,
      "outputs": [
        {
          "output_type": "stream",
          "name": "stdout",
          "text": [
            "3\n"
          ]
        }
      ]
    },
    {
      "cell_type": "code",
      "metadata": {
        "id": "i_--fMMW5VMV",
        "colab": {
          "base_uri": "https://localhost:8080/"
        },
        "outputId": "15147465-9d76-4ae6-839b-345866e54e4e"
      },
      "source": [
        "# extraer varios números de la matriz [fila, columna]\n",
        "print(a)\n",
        "print()\n",
        "print(a[:,2])\n",
        "print()\n",
        "print(a[0,:])"
      ],
      "execution_count": null,
      "outputs": [
        {
          "output_type": "stream",
          "name": "stdout",
          "text": [
            "[[1 2 3]\n",
            " [4 5 6]]\n",
            "\n",
            "[3 6]\n",
            "\n",
            "[1 2 3]\n"
          ]
        }
      ]
    },
    {
      "cell_type": "code",
      "metadata": {
        "id": "WYBhBTkV5VJo",
        "colab": {
          "base_uri": "https://localhost:8080/"
        },
        "outputId": "d2d5b61a-69e0-43d5-b22b-a7238b8ab374"
      },
      "source": [
        "# operaciones matemáticas\n",
        "c = np.array([2,8,4,3,4,5,6,1,2,3,5])\n",
        "print(c.min())\n",
        "print(c.max())\n",
        "print(c.sum())\n",
        "print(c.cumsum())"
      ],
      "execution_count": null,
      "outputs": [
        {
          "output_type": "stream",
          "name": "stdout",
          "text": [
            "1\n",
            "8\n",
            "43\n",
            "[ 2 10 14 17 21 26 32 33 35 38 43]\n"
          ]
        }
      ]
    },
    {
      "cell_type": "code",
      "metadata": {
        "id": "caGOrHfp5VHT",
        "colab": {
          "base_uri": "https://localhost:8080/"
        },
        "outputId": "722c8cfe-3773-42dd-ef50-870d005b247a"
      },
      "source": [
        "print(a)\n",
        "print()\n",
        "print(a.min())\n",
        "print(a.max())\n",
        "print(a.sum())"
      ],
      "execution_count": null,
      "outputs": [
        {
          "output_type": "stream",
          "name": "stdout",
          "text": [
            "[[1 2 3]\n",
            " [4 5 6]]\n",
            "\n",
            "1\n",
            "6\n",
            "21\n"
          ]
        }
      ]
    },
    {
      "cell_type": "code",
      "metadata": {
        "id": "02KSQsqjhS2O"
      },
      "source": [
        ""
      ],
      "execution_count": null,
      "outputs": []
    },
    {
      "cell_type": "code",
      "metadata": {
        "id": "1kCiGTM35VE9",
        "colab": {
          "base_uri": "https://localhost:8080/"
        },
        "outputId": "9f26e442-a6c8-4b4b-f671-bb94c1b5c441"
      },
      "source": [
        "# raíz cuadrada, media, mediana y desviación estandar\n",
        "print(np.sqrt(a))\n",
        "print()\n",
        "print(np.mean(a))\n",
        "print()\n",
        "print(np.median(a))\n",
        "print()\n",
        "print(np.std(a))"
      ],
      "execution_count": null,
      "outputs": [
        {
          "output_type": "stream",
          "name": "stdout",
          "text": [
            "[[1.         1.41421356 1.73205081]\n",
            " [2.         2.23606798 2.44948974]]\n",
            "\n",
            "3.5\n",
            "\n",
            "3.5\n",
            "\n",
            "1.707825127659933\n"
          ]
        }
      ]
    },
    {
      "cell_type": "code",
      "metadata": {
        "colab": {
          "base_uri": "https://localhost:8080/"
        },
        "id": "btO53jAahTt3",
        "outputId": "21e1a683-4826-4e53-bcab-f131e8f6a250"
      },
      "source": [
        "# en python no!\n",
        "lista_a = [[1,2,3],[4,5,6]]\n",
        "lista_b = [[4,5,6],[7,8,9]]\n",
        "print(lista_a+lista_b)"
      ],
      "execution_count": null,
      "outputs": [
        {
          "output_type": "stream",
          "name": "stdout",
          "text": [
            "[[1, 2, 3], [4, 5, 6], [4, 5, 6], [7, 8, 9]]\n"
          ]
        }
      ]
    },
    {
      "cell_type": "code",
      "metadata": {
        "id": "KjV3Py515VCF",
        "colab": {
          "base_uri": "https://localhost:8080/"
        },
        "outputId": "de1a21b0-22bf-458d-97fb-45692e69b875"
      },
      "source": [
        "x = np.array([[1,2,3],[4,5,6]])\n",
        "y = np.array([[1,2,3],[4,5,6]])\n",
        "print(x+y)\n",
        "print(x-y)\n",
        "print(x*y)\n",
        "print(x/y)"
      ],
      "execution_count": null,
      "outputs": [
        {
          "output_type": "stream",
          "name": "stdout",
          "text": [
            "[[ 2  4  6]\n",
            " [ 8 10 12]]\n",
            "[[0 0 0]\n",
            " [0 0 0]]\n",
            "[[ 1  4  9]\n",
            " [16 25 36]]\n",
            "[[1. 1. 1.]\n",
            " [1. 1. 1.]]\n"
          ]
        }
      ]
    },
    {
      "cell_type": "code",
      "metadata": {
        "id": "Bx0irDs_5U_d",
        "colab": {
          "base_uri": "https://localhost:8080/"
        },
        "outputId": "3027bfbe-a8cf-4695-8652-6b26aafa564f"
      },
      "source": [
        "# añadir y eliminar elementos\n",
        "a = np.array([1,2,3])\n",
        "a = np.append(a,(4,5))\n",
        "\n",
        "print(a)\n",
        "\n"
      ],
      "execution_count": null,
      "outputs": [
        {
          "output_type": "stream",
          "name": "stdout",
          "text": [
            "[1 2 3 4 5]\n"
          ]
        }
      ]
    },
    {
      "cell_type": "code",
      "metadata": {
        "id": "uNXmcJia8RzL",
        "colab": {
          "base_uri": "https://localhost:8080/"
        },
        "outputId": "9b8a4c4e-1b99-4e4d-bedd-697c80bec4b5"
      },
      "source": [
        "# añadir y eliminar elementos\n",
        "a = np.array([81,28,37])\n",
        "print(a)\n",
        "a = np.delete(a,1)\n",
        "print(a)"
      ],
      "execution_count": null,
      "outputs": [
        {
          "output_type": "stream",
          "name": "stdout",
          "text": [
            "[81 28 37]\n",
            "[81 37]\n"
          ]
        }
      ]
    },
    {
      "cell_type": "code",
      "metadata": {
        "id": "hlJ2N0fEFmxL",
        "colab": {
          "base_uri": "https://localhost:8080/"
        },
        "outputId": "e73d89c9-41f8-4ed0-c8d4-464eab276a04"
      },
      "source": [
        "# buscar en arreglo 1d\n",
        "a = np.array([1,2,3,4,5,6])\n",
        "print(a)\n",
        "x = np.where(a == 4)\n",
        "print(x)"
      ],
      "execution_count": null,
      "outputs": [
        {
          "output_type": "stream",
          "name": "stdout",
          "text": [
            "[1 2 3 4 5 6]\n",
            "(array([3]),)\n"
          ]
        }
      ]
    },
    {
      "cell_type": "code",
      "metadata": {
        "colab": {
          "base_uri": "https://localhost:8080/"
        },
        "id": "wlBB8Ba0jVGp",
        "outputId": "c218eb57-3eca-4c25-9f72-7b10dea85b32"
      },
      "source": [
        "lista = [1,2,3,4,5,7,4,9]\n",
        "x = 0\n",
        "contador=0\n",
        "for x in range(len(lista)):\n",
        "  x = lista[contador]\n",
        "  if x == 4:\n",
        "    print(contador)\n",
        "  contador += 1\n",
        "\n",
        "print()\n",
        "print()\n",
        "print(4 in lista)\n",
        "index = lista.index(4)\n",
        "print(index)\n"
      ],
      "execution_count": null,
      "outputs": [
        {
          "output_type": "stream",
          "name": "stdout",
          "text": [
            "3\n",
            "6\n",
            "\n",
            "\n",
            "True\n",
            "3\n"
          ]
        }
      ]
    },
    {
      "cell_type": "code",
      "metadata": {
        "id": "Wygoecl2jU8C"
      },
      "source": [
        ""
      ],
      "execution_count": null,
      "outputs": []
    },
    {
      "cell_type": "code",
      "metadata": {
        "id": "Nj80mgpW8Rvx",
        "colab": {
          "base_uri": "https://localhost:8080/"
        },
        "outputId": "392f8197-5a70-4e57-80a8-d0026364a00a"
      },
      "source": [
        "# buscar en arreglo 2d\n",
        "a = np.array([[1,2,3],[4,5,6]])\n",
        "print(a)\n",
        "x = np.where(a == 4)\n",
        "print(x)"
      ],
      "execution_count": null,
      "outputs": [
        {
          "output_type": "stream",
          "name": "stdout",
          "text": [
            "[[1 2 3]\n",
            " [4 5 6]]\n",
            "(array([1]), array([0]))\n"
          ]
        }
      ]
    },
    {
      "cell_type": "code",
      "metadata": {
        "id": "W6wQ6k_VF20S",
        "colab": {
          "base_uri": "https://localhost:8080/"
        },
        "outputId": "7422dc49-0f06-4d33-8bec-ee15656126ca"
      },
      "source": [
        "# ordenar\n",
        "a = np.array([4,5,7,1,3,2])\n",
        "print(a)\n",
        "a = np.sort(a)\n",
        "print(a)"
      ],
      "execution_count": null,
      "outputs": [
        {
          "output_type": "stream",
          "name": "stdout",
          "text": [
            "[4 5 7 1 3 2]\n",
            "[1 2 3 4 5 7]\n"
          ]
        }
      ]
    },
    {
      "cell_type": "code",
      "metadata": {
        "colab": {
          "base_uri": "https://localhost:8080/"
        },
        "id": "1FTB3YqilD4p",
        "outputId": "40b4ba44-6086-44ae-f781-172d8772bc4e"
      },
      "source": [
        "lista_ = [1,2,3]\n",
        "lista__ = [4,5,6]\n",
        "lista___ = [4,5,8]\n",
        "print(lista_)\n",
        "print(lista__)\n",
        "print(lista___)"
      ],
      "execution_count": null,
      "outputs": [
        {
          "output_type": "stream",
          "name": "stdout",
          "text": [
            "[1, 2, 3]\n",
            "[4, 5, 6]\n",
            "[4, 5, 8]\n"
          ]
        }
      ]
    },
    {
      "cell_type": "code",
      "metadata": {
        "id": "ex3wYFVTGNLR",
        "colab": {
          "base_uri": "https://localhost:8080/"
        },
        "outputId": "2ef8bb6b-4469-4a7a-bdc9-d815dab8c542"
      },
      "source": [
        "# ordenar\n",
        "a = np.array([[4,7,5],[1,3,2],[8,1,3],[7,4,9]])\n",
        "print(a)\n",
        "print()\n",
        "x = np.msort(a)\n",
        "print(x)"
      ],
      "execution_count": null,
      "outputs": [
        {
          "output_type": "stream",
          "name": "stdout",
          "text": [
            "[[4 7 5]\n",
            " [1 3 2]\n",
            " [8 1 3]\n",
            " [7 4 9]]\n",
            "\n",
            "[[1 1 2]\n",
            " [4 3 3]\n",
            " [7 4 5]\n",
            " [8 7 9]]\n"
          ]
        }
      ]
    },
    {
      "cell_type": "markdown",
      "metadata": {
        "id": "7iqj_5jZHi72"
      },
      "source": [
        "# Iteraciones"
      ]
    },
    {
      "cell_type": "code",
      "metadata": {
        "colab": {
          "base_uri": "https://localhost:8080/"
        },
        "id": "VMrdr3AXnY5b",
        "outputId": "2a82443b-0b01-461e-f940-69658a795f24"
      },
      "source": [
        "a"
      ],
      "execution_count": null,
      "outputs": [
        {
          "output_type": "execute_result",
          "data": {
            "text/plain": [
              "array([[4, 7, 5],\n",
              "       [1, 3, 2],\n",
              "       [8, 1, 3],\n",
              "       [7, 4, 9]])"
            ]
          },
          "metadata": {},
          "execution_count": 19
        }
      ]
    },
    {
      "cell_type": "code",
      "metadata": {
        "colab": {
          "base_uri": "https://localhost:8080/"
        },
        "id": "Mzk3wOZHnan4",
        "outputId": "fb1a5195-3479-4d6d-d22c-09c180588091"
      },
      "source": [
        "for elemento in a:\n",
        "  for sub_elemento in elemento:\n",
        "    print(sub_elemento, end=\" \")"
      ],
      "execution_count": null,
      "outputs": [
        {
          "output_type": "stream",
          "name": "stdout",
          "text": [
            "4 7 5 1 3 2 8 1 3 7 4 9 "
          ]
        }
      ]
    },
    {
      "cell_type": "code",
      "metadata": {
        "id": "CZowJgRs8RtR",
        "colab": {
          "base_uri": "https://localhost:8080/"
        },
        "outputId": "903dcb2f-186a-4969-fab5-0aad674ff1cd"
      },
      "source": [
        "# a = np.arange(6).reshape(2,3)\n",
        "print(a)\n",
        "for x in np.nditer(a):\n",
        "    print(x, end=' ')"
      ],
      "execution_count": null,
      "outputs": [
        {
          "output_type": "stream",
          "name": "stdout",
          "text": [
            "[[4 7 5]\n",
            " [1 3 2]\n",
            " [8 1 3]\n",
            " [7 4 9]]\n",
            "4 7 5 1 3 2 8 1 3 7 4 9 "
          ]
        }
      ]
    },
    {
      "cell_type": "code",
      "metadata": {
        "id": "r4lZzCPt8Rqj",
        "colab": {
          "base_uri": "https://localhost:8080/"
        },
        "outputId": "40ea0163-1900-491d-b466-0f1fc2ab46b6"
      },
      "source": [
        "# a = np.arange(6).reshape(2,3)\n",
        "print(a)\n",
        "for x in np.nditer(a, order='C'):\n",
        "    print(x, end=' ')"
      ],
      "execution_count": null,
      "outputs": [
        {
          "output_type": "stream",
          "name": "stdout",
          "text": [
            "[[4 7 5]\n",
            " [1 3 2]\n",
            " [8 1 3]\n",
            " [7 4 9]]\n",
            "4 7 5 1 3 2 8 1 3 7 4 9 "
          ]
        }
      ]
    },
    {
      "cell_type": "code",
      "metadata": {
        "id": "F03lTOUwFEs_",
        "colab": {
          "base_uri": "https://localhost:8080/"
        },
        "outputId": "72074bbe-fcce-4c95-dbdf-328032d82ad7"
      },
      "source": [
        "# a = np.arange(6).reshape(2,3)\n",
        "print(a)\n",
        "for x in np.nditer(a, order='F'):\n",
        "    print(x, end=' ')"
      ],
      "execution_count": null,
      "outputs": [
        {
          "output_type": "stream",
          "name": "stdout",
          "text": [
            "[[4 7 5]\n",
            " [1 3 2]\n",
            " [8 1 3]\n",
            " [7 4 9]]\n",
            "4 1 8 7 7 3 1 4 5 2 3 9 "
          ]
        }
      ]
    },
    {
      "cell_type": "code",
      "metadata": {
        "id": "9UpZu4_v8Rk-"
      },
      "source": [
        ""
      ],
      "execution_count": null,
      "outputs": []
    },
    {
      "cell_type": "code",
      "metadata": {
        "id": "5ZYGhxrf8Ria"
      },
      "source": [
        ""
      ],
      "execution_count": null,
      "outputs": []
    },
    {
      "cell_type": "code",
      "metadata": {
        "id": "sm9jy8Vh8Rfr"
      },
      "source": [
        ""
      ],
      "execution_count": null,
      "outputs": []
    },
    {
      "cell_type": "code",
      "metadata": {
        "id": "QrLRRsL68RdB"
      },
      "source": [
        ""
      ],
      "execution_count": null,
      "outputs": []
    },
    {
      "cell_type": "code",
      "metadata": {
        "id": "MqpkEnzB8RaP"
      },
      "source": [
        ""
      ],
      "execution_count": null,
      "outputs": []
    },
    {
      "cell_type": "code",
      "metadata": {
        "id": "92lu47Gc8RXi"
      },
      "source": [
        ""
      ],
      "execution_count": null,
      "outputs": []
    }
  ]
}