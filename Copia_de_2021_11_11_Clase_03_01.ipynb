{
  "nbformat": 4,
  "nbformat_minor": 0,
  "metadata": {
    "colab": {
      "name": "Copia de 2021 11 11 - Clase 03_01.ipynb",
      "provenance": [],
      "collapsed_sections": [],
      "include_colab_link": true
    },
    "kernelspec": {
      "name": "python3",
      "display_name": "Python 3"
    },
    "language_info": {
      "name": "python"
    }
  },
  "cells": [
    {
      "cell_type": "markdown",
      "metadata": {
        "id": "view-in-github",
        "colab_type": "text"
      },
      "source": [
        "<a href=\"https://colab.research.google.com/github/devjaime/data_science_escalab/blob/main/Copia_de_2021_11_11_Clase_03_01.ipynb\" target=\"_parent\"><img src=\"https://colab.research.google.com/assets/colab-badge.svg\" alt=\"Open In Colab\"/></a>"
      ]
    },
    {
      "cell_type": "markdown",
      "metadata": {
        "id": "gq4eGeX_3ONN"
      },
      "source": [
        "# Estrucutras de datos - Diccionarios\n",
        "Estrucutras de datos que nos permite almacenar valores de diferente tipo (enteros, cadenas de texto, decimales) e incluso listas y otros diccionarios\n",
        "\n",
        "La principal característica de los diccionarios es que los datos se almacenan asociados a una clave de tal forma que se crea una asociación de tipo clave:valor para cada elemento almacenado\n",
        "\n",
        "Los elementos almacenados no están ordenados, el orden es indiferente a la hora de almacenar la información en un diccionario\n",
        "\n",
        "Sintaxis de los diccionarios\n",
        "*   nombre_diccionario = {} ← llaves\n",
        "*   nombre_diccionario = {\"clave\":\"valor\", \"clave\":\"valor\"...}\n",
        "\n",
        "Utilidades\n",
        "*   print(nombre_diccionario[\"clave\"])\n",
        "*   adicionar elemento → nombre_diccionario[\"clave\"] = \"valor\"\n",
        "*   modificar elemento → nombre_diccionario[\"clave\"] = \"valor\"\n",
        "*   eliminar elemento → del nombre_diccionario[\"clave\"]\n",
        "*   nombre_diccionario.keys()\n",
        "*   nombre_diccionario.values()\n",
        "*   len(nombre_diccionario)\n",
        "*   clave in nombre_diccionario\n",
        "\n",
        "Diccionarios, listas → dentro de diccionarios"
      ]
    },
    {
      "cell_type": "code",
      "metadata": {
        "id": "e91F7k7R7GPr",
        "colab": {
          "base_uri": "https://localhost:8080/"
        },
        "outputId": "5474cadc-bb5a-4e1a-b93a-e7f81077405a"
      },
      "source": [
        "capitales = {\"Alemania\":\"Berlín\", \"Francia\":\"Paris\", \"Brasil\":\"Brasilia\"}\n",
        "print(capitales)\n",
        "print(capitales[\"Alemania\"])\n",
        "print(capitales[\"Brasil\"])"
      ],
      "execution_count": null,
      "outputs": [
        {
          "output_type": "stream",
          "name": "stdout",
          "text": [
            "{'Alemania': 'Berlín', 'Francia': 'Paris', 'Brasil': 'Brasilia'}\n",
            "Berlín\n",
            "Brasilia\n"
          ]
        }
      ]
    },
    {
      "cell_type": "code",
      "metadata": {
        "id": "foKwKKR8fhig"
      },
      "source": [
        "capitales[\"Italia\"] = \"Valencia\""
      ],
      "execution_count": null,
      "outputs": []
    },
    {
      "cell_type": "code",
      "metadata": {
        "id": "MkJtt7elfhf3",
        "colab": {
          "base_uri": "https://localhost:8080/"
        },
        "outputId": "1ee2c227-26ec-4d6b-ab43-dd96968386da"
      },
      "source": [
        "print(capitales)"
      ],
      "execution_count": null,
      "outputs": [
        {
          "output_type": "stream",
          "name": "stdout",
          "text": [
            "{'Alemania': 'Berlín', 'Francia': 'Paris', 'Brasil': 'Brasilia', 'Italia': 'Valencia'}\n"
          ]
        }
      ]
    },
    {
      "cell_type": "code",
      "metadata": {
        "id": "AC9cnsZRfhdP"
      },
      "source": [
        "capitales[\"Italia\"] = \"Roma\""
      ],
      "execution_count": null,
      "outputs": []
    },
    {
      "cell_type": "code",
      "metadata": {
        "id": "4TEcoW3hfhaV",
        "colab": {
          "base_uri": "https://localhost:8080/"
        },
        "outputId": "3cc227e6-2cc1-4ae2-a3fa-3aec90517402"
      },
      "source": [
        "print(capitales)"
      ],
      "execution_count": null,
      "outputs": [
        {
          "output_type": "stream",
          "name": "stdout",
          "text": [
            "{'Alemania': 'Berlín', 'Francia': 'Paris', 'Brasil': 'Brasilia', 'Italia': 'Roma'}\n"
          ]
        }
      ]
    },
    {
      "cell_type": "code",
      "metadata": {
        "id": "nt3Q5vJYfhXj",
        "colab": {
          "base_uri": "https://localhost:8080/"
        },
        "outputId": "8528fada-9a5b-4042-d569-bb5c1a4e685a"
      },
      "source": [
        "del capitales[\"Alemania\"]\n",
        "print(capitales)"
      ],
      "execution_count": null,
      "outputs": [
        {
          "output_type": "stream",
          "name": "stdout",
          "text": [
            "{'Francia': 'Paris', 'Brasil': 'Brasilia', 'Italia': 'Roma'}\n"
          ]
        }
      ]
    },
    {
      "cell_type": "code",
      "metadata": {
        "id": "mYJE5PzwfhUo",
        "colab": {
          "base_uri": "https://localhost:8080/"
        },
        "outputId": "1fea2998-bb10-4a4e-814e-f3a628dec4a5"
      },
      "source": [
        "capitales.keys()"
      ],
      "execution_count": null,
      "outputs": [
        {
          "output_type": "execute_result",
          "data": {
            "text/plain": [
              "dict_keys(['Francia', 'Brasil', 'Italia'])"
            ]
          },
          "metadata": {},
          "execution_count": 10
        }
      ]
    },
    {
      "cell_type": "code",
      "metadata": {
        "id": "8VFwlNc8fhR3",
        "colab": {
          "base_uri": "https://localhost:8080/"
        },
        "outputId": "1f151904-d200-4d19-dbf5-b434565a1baa"
      },
      "source": [
        "capitales.values()"
      ],
      "execution_count": null,
      "outputs": [
        {
          "output_type": "execute_result",
          "data": {
            "text/plain": [
              "dict_values(['Paris', 'Brasilia', 'Roma'])"
            ]
          },
          "metadata": {},
          "execution_count": 11
        }
      ]
    },
    {
      "cell_type": "code",
      "metadata": {
        "colab": {
          "base_uri": "https://localhost:8080/"
        },
        "id": "o4fjloaCL8Pu",
        "outputId": "6318c54a-1478-4a92-b259-27de54e390e7"
      },
      "source": [
        "len(capitales)"
      ],
      "execution_count": null,
      "outputs": [
        {
          "output_type": "execute_result",
          "data": {
            "text/plain": [
              "3"
            ]
          },
          "metadata": {},
          "execution_count": 12
        }
      ]
    },
    {
      "cell_type": "code",
      "metadata": {
        "colab": {
          "base_uri": "https://localhost:8080/"
        },
        "id": "9W0gP9ShL8M1",
        "outputId": "0dcc936f-589f-415b-ff0a-966f11bcba74"
      },
      "source": [
        "print(\"Italia\" in capitales)\n",
        "print(\"Italia\" in capitales.keys())\n",
        "\n",
        "print(\"Roma\" in capitales.values())"
      ],
      "execution_count": null,
      "outputs": [
        {
          "output_type": "stream",
          "name": "stdout",
          "text": [
            "True\n",
            "True\n",
            "True\n"
          ]
        }
      ]
    },
    {
      "cell_type": "code",
      "metadata": {
        "id": "GKNlCXPpL8KI"
      },
      "source": [
        "mi_diccionario = {\"nombre\": \"Juan\", \"Edad\": 34, \"Materias\":[\"Matemáticas\", \"Física\", \"Química\"], \"sub_diccionario\": {\"Alemania\":\"Berlín\", \"Francia\":\"Paris\", \"Brasil\":\"Brasilia\"}}"
      ],
      "execution_count": null,
      "outputs": []
    },
    {
      "cell_type": "code",
      "metadata": {
        "colab": {
          "base_uri": "https://localhost:8080/",
          "height": 35
        },
        "id": "GDij4jUlL8Hi",
        "outputId": "4a75a9a7-26eb-4257-fa12-3060a4a2c05c"
      },
      "source": [
        "mi_diccionario[\"sub_diccionario\"][\"Francia\"]"
      ],
      "execution_count": null,
      "outputs": [
        {
          "output_type": "execute_result",
          "data": {
            "application/vnd.google.colaboratory.intrinsic+json": {
              "type": "string"
            },
            "text/plain": [
              "'Paris'"
            ]
          },
          "metadata": {},
          "execution_count": 29
        }
      ]
    },
    {
      "cell_type": "code",
      "metadata": {
        "id": "IdCXamhhL8CF"
      },
      "source": [
        ""
      ],
      "execution_count": null,
      "outputs": []
    },
    {
      "cell_type": "code",
      "metadata": {
        "id": "PSNcCKXQL7_m"
      },
      "source": [
        ""
      ],
      "execution_count": null,
      "outputs": []
    },
    {
      "cell_type": "code",
      "metadata": {
        "id": "HIPB9EqL8Nog",
        "colab": {
          "base_uri": "https://localhost:8080/"
        },
        "outputId": "186a094e-06ee-4b03-feec-d094f7d06150"
      },
      "source": [
        "mi_diccionario = {'Jorge': 16, 'Diana': 19}\n",
        "edad_buscar = 16\n",
        "for nombre, edad in mi_diccionario.items():\n",
        "    if edad == edad_buscar:\n",
        "        print(nombre)\n"
      ],
      "execution_count": null,
      "outputs": [
        {
          "output_type": "stream",
          "name": "stdout",
          "text": [
            "Jorge\n"
          ]
        }
      ]
    },
    {
      "cell_type": "code",
      "metadata": {
        "id": "avoew-cb8O-0",
        "colab": {
          "base_uri": "https://localhost:8080/"
        },
        "outputId": "12edae7a-26d7-4b2a-b96b-180fde085023"
      },
      "source": [
        "# Diccionario de texto y entero\n",
        "frecuencia_palabras = {\n",
        "    \"Hola\": 56,\n",
        "    \"a\": 23,\n",
        "    \"todos\": 43,\n",
        "    \"aquí\": 78\n",
        "}\n",
        "\n",
        "valor = 43\n",
        "\n",
        "# python verifica si el valor existe en el diccionario usando \"in\" y values()\n",
        "if valor in frecuencia_palabras.values():\n",
        "    print(f\"Sí, Valor: '{valor}' existe en el diccionario\")\n",
        "else:\n",
        "    print(f\"No, Valor: '{valor}' no existe en el diccionario\")"
      ],
      "execution_count": null,
      "outputs": [
        {
          "output_type": "stream",
          "name": "stdout",
          "text": [
            "Sí, Valor: '43' existe en el diccionario\n"
          ]
        }
      ]
    },
    {
      "cell_type": "code",
      "metadata": {
        "id": "YxRJ6_Ki88hs"
      },
      "source": [
        ""
      ],
      "execution_count": null,
      "outputs": []
    },
    {
      "cell_type": "code",
      "metadata": {
        "id": "vr1cntbk9JN0",
        "colab": {
          "base_uri": "https://localhost:8080/"
        },
        "outputId": "8a80c6b9-56ef-417b-ba23-14e7845562b3"
      },
      "source": [
        "a = [1,2,3,4,5,6,7,8]\n",
        "for numero in a:\n",
        "  print(numero)"
      ],
      "execution_count": null,
      "outputs": [
        {
          "output_type": "stream",
          "name": "stdout",
          "text": [
            "1\n",
            "2\n",
            "3\n",
            "4\n",
            "5\n",
            "6\n",
            "7\n",
            "8\n"
          ]
        }
      ]
    },
    {
      "cell_type": "code",
      "metadata": {
        "colab": {
          "base_uri": "https://localhost:8080/"
        },
        "id": "qEzhv0DOPt5l",
        "outputId": "312e9804-a55d-4a20-9a49-b72b0eb12ec4"
      },
      "source": [
        "x = 0\n",
        "while x < 20:\n",
        "  print(x)\n",
        "  x += 3"
      ],
      "execution_count": null,
      "outputs": [
        {
          "output_type": "stream",
          "name": "stdout",
          "text": [
            "0\n",
            "3\n",
            "6\n",
            "9\n",
            "12\n",
            "15\n",
            "18\n"
          ]
        }
      ]
    },
    {
      "cell_type": "code",
      "metadata": {
        "id": "rDnrEDaAQFVt"
      },
      "source": [
        ""
      ],
      "execution_count": null,
      "outputs": []
    }
  ]
}