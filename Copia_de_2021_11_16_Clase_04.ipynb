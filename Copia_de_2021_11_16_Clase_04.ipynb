{
  "nbformat": 4,
  "nbformat_minor": 0,
  "metadata": {
    "colab": {
      "name": "Copia de 2021 11 16 - Clase 04.ipynb",
      "provenance": [],
      "collapsed_sections": [],
      "include_colab_link": true
    },
    "kernelspec": {
      "name": "python3",
      "display_name": "Python 3"
    },
    "language_info": {
      "name": "python"
    }
  },
  "cells": [
    {
      "cell_type": "markdown",
      "metadata": {
        "id": "view-in-github",
        "colab_type": "text"
      },
      "source": [
        "<a href=\"https://colab.research.google.com/github/devjaime/data_science_escalab/blob/main/Copia_de_2021_11_16_Clase_04.ipynb\" target=\"_parent\"><img src=\"https://colab.research.google.com/assets/colab-badge.svg\" alt=\"Open In Colab\"/></a>"
      ]
    },
    {
      "cell_type": "markdown",
      "metadata": {
        "id": "iUi_A6mnh0qJ"
      },
      "source": [
        "# Pandas\n",
        "\n",
        "PANel DAta\n",
        "*   Libreria de código abierto\n",
        "*   Proporciona herramientas de análisis y manipulación de datos de alto rendimiento\n",
        "\n",
        "Pasos para procesamiento y análisis de datos\n",
        "*   Cargar\n",
        "*   Modelar\n",
        "*   Analizar\n",
        "*   Manipular\n",
        "*   Preparar\n",
        "\n",
        "DataFrame (df): estructura fundamental de Pandas\n",
        "Estructura de datos etiquetados bidemensionales con columnas de tipos potencialmente diferentes, consta de 3 componenetes principales\n",
        "*   Datos\n",
        "*   Índice\n",
        "*   Columnas\n",
        "\n",
        "Especificar nombres de índices (filas) y columnas\n",
        "\n",
        "NumPy alamcena como matrices\n",
        "\n",
        "Pandas almacena como:\n",
        "\n",
        "*   Series → 1D\n",
        "*   DataFrame → 2D\n",
        "\n",
        "Pandas cuenta con índices tanto en las filas como en las columnas. El dataframe puede mutar el tamaño y sus datos\n",
        "\n",
        "Ventajas DataFrame\n",
        "\n",
        "*   Rápido y eficiente, con indexación predeterminada y personalizada \n",
        "*   Herramientas para cargar datos desde diferentes formatos de archivos\n",
        "*   Alineación de datos y manejo de datos faltantes\n",
        "*   Remodelación y giro de conjunto de fechas\n",
        "*   Etiquetado, corte, indexación de grandes conjuntos de datos\n",
        "*   Las columnas se pueden eliminar o insertar\n",
        "*   Agrupar por datos para agregación y transformaciones\n",
        "*   Alto rendimiento de fusión y unión de datos\n",
        "*   Funcionalidad de la serie de tiempo \n",
        "\n",
        "\n",
        "\n",
        "```\n",
        "pip install pandas\n",
        "import pandas as pd\n",
        "```\n",
        "\n",
        "\n",
        "\n",
        "\n",
        "\n",
        "\n",
        "\n",
        "\n",
        "\n",
        "\n"
      ]
    },
    {
      "cell_type": "code",
      "metadata": {
        "id": "aZyq8VpZofhO"
      },
      "source": [
        "import pandas as pd\n",
        "import numpy as np"
      ],
      "execution_count": null,
      "outputs": []
    },
    {
      "cell_type": "code",
      "metadata": {
        "id": "nHo4y9xJ7CUA"
      },
      "source": [
        ""
      ],
      "execution_count": null,
      "outputs": []
    },
    {
      "cell_type": "code",
      "metadata": {
        "colab": {
          "base_uri": "https://localhost:8080/"
        },
        "id": "4QDMDMrHWDhx",
        "outputId": "2827cd95-ab6e-457b-cb4d-ebf29ec7d3dc"
      },
      "source": [
        "# df = pd.DataFrame(data=None, index: Optional[Axes]=None, columns: Optional[Axes]=None, dtype: Optional[Dtype]=None)\n",
        "df = pd.DataFrame()\n",
        "print(df)\n",
        "print()\n",
        "print(type(df))"
      ],
      "execution_count": null,
      "outputs": [
        {
          "output_type": "stream",
          "name": "stdout",
          "text": [
            "Empty DataFrame\n",
            "Columns: []\n",
            "Index: []\n",
            "\n",
            "<class 'pandas.core.frame.DataFrame'>\n"
          ]
        }
      ]
    },
    {
      "cell_type": "code",
      "metadata": {
        "colab": {
          "base_uri": "https://localhost:8080/"
        },
        "id": "l_DYUE8gWuEH",
        "outputId": "630aaa36-2af6-412f-ab86-4a23a2b64449"
      },
      "source": [
        "df = pd.DataFrame(data=[[1,2,3,4],[5,6,7,8],[9,10,11,12]])\n",
        "print(df)"
      ],
      "execution_count": null,
      "outputs": [
        {
          "output_type": "stream",
          "name": "stdout",
          "text": [
            "   0   1   2   3\n",
            "0  1   2   3   4\n",
            "1  5   6   7   8\n",
            "2  9  10  11  12\n"
          ]
        }
      ]
    },
    {
      "cell_type": "code",
      "metadata": {
        "colab": {
          "base_uri": "https://localhost:8080/"
        },
        "id": "cTtkOkAq9YNg",
        "outputId": "0b5a0ff9-efea-40c7-e472-3baafc822924"
      },
      "source": [
        "df = pd.DataFrame([ [1,2,3],   [4,5,6],    [7,8,9]         ])\n",
        "print(df)"
      ],
      "execution_count": null,
      "outputs": [
        {
          "output_type": "stream",
          "name": "stdout",
          "text": [
            "   0  1  2\n",
            "0  1  2  3\n",
            "1  4  5  6\n",
            "2  7  8  9\n"
          ]
        }
      ]
    },
    {
      "cell_type": "code",
      "metadata": {
        "colab": {
          "base_uri": "https://localhost:8080/"
        },
        "id": "jIlpNhydW6QW",
        "outputId": "2a6fa6f4-193d-4171-b88f-b38ff373c384"
      },
      "source": [
        "df = pd.DataFrame(data=[[1,2,3,4],[5,6,7,8],[9,10,11,12]],\\\n",
        "                  index=[\"fila 1\", \"fila 2\", \"fila 3\"])\n",
        "print(df)"
      ],
      "execution_count": null,
      "outputs": [
        {
          "output_type": "stream",
          "name": "stdout",
          "text": [
            "        0   1   2   3\n",
            "fila 1  1   2   3   4\n",
            "fila 2  5   6   7   8\n",
            "fila 3  9  10  11  12\n"
          ]
        }
      ]
    },
    {
      "cell_type": "code",
      "metadata": {
        "colab": {
          "base_uri": "https://localhost:8080/"
        },
        "id": "i-DWJmtxY7fJ",
        "outputId": "0c5ff801-663f-445a-a739-aaf1678d20bb"
      },
      "source": [
        "df = pd.DataFrame(data=[[1,2,3,4],[5,6,7,8],[9,10,11,12]],\\\n",
        "                  index=[\"fila 1\", \"fila 2\", \"fila 3\"],\\\n",
        "                  columns = [\"a\", \"b\", \"c\", \"d\"])\n",
        "print(df)"
      ],
      "execution_count": null,
      "outputs": [
        {
          "output_type": "stream",
          "name": "stdout",
          "text": [
            "        a   b   c   d\n",
            "fila 1  1   2   3   4\n",
            "fila 2  5   6   7   8\n",
            "fila 3  9  10  11  12\n"
          ]
        }
      ]
    },
    {
      "cell_type": "code",
      "metadata": {
        "colab": {
          "base_uri": "https://localhost:8080/"
        },
        "id": "E0Py2nZRZXCM",
        "outputId": "05b39746-fdc3-44b1-b31e-7863812d20a8"
      },
      "source": [
        "data = np.array([['','Col1','Col2'], ['Fila1',11,22], ['Fila2',33,44]])\n",
        "print(data)"
      ],
      "execution_count": null,
      "outputs": [
        {
          "output_type": "stream",
          "name": "stdout",
          "text": [
            "[['' 'Col1' 'Col2']\n",
            " ['Fila1' '11' '22']\n",
            " ['Fila2' '33' '44']]\n"
          ]
        }
      ]
    },
    {
      "cell_type": "code",
      "metadata": {
        "colab": {
          "base_uri": "https://localhost:8080/"
        },
        "id": "XeiZ_66XZaGH",
        "outputId": "3d4b1c33-d134-4069-bf31-21a0993fb49c"
      },
      "source": [
        "dataframe = pd.DataFrame(data = data[1:,1:], index = data[1:,0], columns = data[0,1:])\n",
        "print(data[1:,1:])\n",
        "print()\n",
        "print(data[1:,0])\n",
        "print()\n",
        "print(data[0,1:])\n",
        "print()\n",
        "print(dataframe)"
      ],
      "execution_count": null,
      "outputs": [
        {
          "output_type": "stream",
          "name": "stdout",
          "text": [
            "[['11' '22']\n",
            " ['33' '44']]\n",
            "\n",
            "['Fila1' 'Fila2']\n",
            "\n",
            "['Col1' 'Col2']\n",
            "\n",
            "      Col1 Col2\n",
            "Fila1   11   22\n",
            "Fila2   33   44\n"
          ]
        }
      ]
    },
    {
      "cell_type": "code",
      "metadata": {
        "colab": {
          "base_uri": "https://localhost:8080/"
        },
        "id": "2Hw0c49BLKrK",
        "outputId": "d14dc203-ec9b-4287-a549-eaa0d7ef2510"
      },
      "source": [
        "df_01 = pd.DataFrame([[1,2,3,4,5]])\n",
        "print(df_01)"
      ],
      "execution_count": null,
      "outputs": [
        {
          "output_type": "stream",
          "name": "stdout",
          "text": [
            "   0  1  2  3  4\n",
            "0  1  2  3  4  5\n"
          ]
        }
      ]
    },
    {
      "cell_type": "code",
      "metadata": {
        "colab": {
          "base_uri": "https://localhost:8080/"
        },
        "id": "79KAy4-lLKoQ",
        "outputId": "2e016e54-0819-4151-e436-fd1de94527df"
      },
      "source": [
        "df_01 = pd.DataFrame([[1,2,3,4,5],[6,7,8,9,10],[11,12,13,14,15]])\n",
        "print(df_01)"
      ],
      "execution_count": null,
      "outputs": [
        {
          "output_type": "stream",
          "name": "stdout",
          "text": [
            "    0   1   2   3   4\n",
            "0   1   2   3   4   5\n",
            "1   6   7   8   9  10\n",
            "2  11  12  13  14  15\n"
          ]
        }
      ]
    },
    {
      "cell_type": "code",
      "metadata": {
        "id": "2GtcT63GV-b3",
        "colab": {
          "base_uri": "https://localhost:8080/"
        },
        "outputId": "10744479-1a7d-4a0c-d767-dd67f477a919"
      },
      "source": [
        "df_01 = pd.DataFrame([1,2,3,4,5])\n",
        "print(df_01)"
      ],
      "execution_count": null,
      "outputs": [
        {
          "output_type": "stream",
          "name": "stdout",
          "text": [
            "   0\n",
            "0  1\n",
            "1  2\n",
            "2  3\n",
            "3  4\n",
            "4  5\n"
          ]
        }
      ]
    },
    {
      "cell_type": "code",
      "metadata": {
        "colab": {
          "base_uri": "https://localhost:8080/"
        },
        "id": "wY3rFoqEUeJg",
        "outputId": "6a0ebb6e-3e0c-485a-849d-9ea36453aa3e"
      },
      "source": [
        "serie = pd.Series({\"Argentina\":\"Buenos Aires\", \"Chile\":\"Santiago de Chile\", \"Colombia\":\"Bogotá\", \"Perú\":\"Lima\"})\n",
        "print(serie)"
      ],
      "execution_count": null,
      "outputs": [
        {
          "output_type": "stream",
          "name": "stdout",
          "text": [
            "Argentina         Buenos Aires\n",
            "Chile        Santiago de Chile\n",
            "Colombia                Bogotá\n",
            "Perú                      Lima\n",
            "dtype: object\n"
          ]
        }
      ]
    },
    {
      "cell_type": "code",
      "metadata": {
        "colab": {
          "base_uri": "https://localhost:8080/"
        },
        "id": "zft6xcUpUl5T",
        "outputId": "7ed618db-1765-43bb-861e-cc212e897a65"
      },
      "source": [
        "serie = pd.Series([\"Argentina\", \"Chile\", \"Colombia\", \"Perú\"])\n",
        "print(serie)\n",
        "print()\n",
        "serie = pd.Series([\"Buenos Aires\", \"Santiago de Chile\", \"Bogotá\", \"Lima\"], [\"Argentina\", \"Chile\", \"Colombia\", \"Perú\"])\n",
        "print(serie)"
      ],
      "execution_count": null,
      "outputs": [
        {
          "output_type": "stream",
          "name": "stdout",
          "text": [
            "0    Argentina\n",
            "1        Chile\n",
            "2     Colombia\n",
            "3         Perú\n",
            "dtype: object\n",
            "\n",
            "Argentina         Buenos Aires\n",
            "Chile        Santiago de Chile\n",
            "Colombia                Bogotá\n",
            "Perú                      Lima\n",
            "dtype: object\n"
          ]
        }
      ]
    },
    {
      "cell_type": "code",
      "metadata": {
        "id": "VjeRkqlMV3qj"
      },
      "source": [
        ""
      ],
      "execution_count": null,
      "outputs": []
    },
    {
      "cell_type": "code",
      "metadata": {
        "colab": {
          "base_uri": "https://localhost:8080/"
        },
        "id": "QQltXdqcRcox",
        "outputId": "4341ed3c-5def-4304-fc18-a807f28cccf7"
      },
      "source": [
        "# con datos faltantes\n",
        "# NaN → np.nan\n",
        "df_02 = pd.DataFrame([[1,2,3,4,5],[6,7,8,9],[11,12]])\n",
        "print(df_02)"
      ],
      "execution_count": null,
      "outputs": [
        {
          "output_type": "stream",
          "name": "stdout",
          "text": [
            "    0   1    2    3    4\n",
            "0   1   2  3.0  4.0  5.0\n",
            "1   6   7  8.0  9.0  NaN\n",
            "2  11  12  NaN  NaN  NaN\n"
          ]
        }
      ]
    },
    {
      "cell_type": "code",
      "metadata": {
        "colab": {
          "base_uri": "https://localhost:8080/"
        },
        "id": "VBFjCzPoLKlm",
        "outputId": "e9c42dde-4720-4b95-cf99-8703e064e7c0"
      },
      "source": [
        "# con datos faltantes\n",
        "df_02 = pd.DataFrame([[1,2,3,pd.NA,5],[6,7,8,9],[11,12]])\n",
        "print(df_02)\n",
        "\n",
        "# evitar el pd.NA pues no sirve después para algunas opercaciones matemáticas y funciones de pandas"
      ],
      "execution_count": null,
      "outputs": [
        {
          "output_type": "stream",
          "name": "stdout",
          "text": [
            "    0   1    2     3    4\n",
            "0   1   2  3.0  <NA>  5.0\n",
            "1   6   7  8.0     9  NaN\n",
            "2  11  12  NaN  None  NaN\n"
          ]
        }
      ]
    },
    {
      "cell_type": "markdown",
      "metadata": {
        "id": "v_gaCEzUM5YS"
      },
      "source": [
        "Algunas veces cargando datos pueden aparecer NaN o None donde faltan datos\n",
        "\n",
        "NaN es un valor númerico (float 64) y puede usarse para operaciones matemáticas\n",
        "\n",
        "None es un tipo de dato de Python → indica que no existe o que es vacío, pero al usarlo como valor numerico sería un valor inválido "
      ]
    },
    {
      "cell_type": "code",
      "metadata": {
        "colab": {
          "base_uri": "https://localhost:8080/"
        },
        "id": "9mzo4UT0B1jT",
        "outputId": "5409e733-aedf-486b-9936-81a211b06634"
      },
      "source": [
        "lista = [1, 2, 3, 4, None]\n",
        "print(type(lista))"
      ],
      "execution_count": null,
      "outputs": [
        {
          "output_type": "stream",
          "name": "stdout",
          "text": [
            "<class 'list'>\n"
          ]
        }
      ]
    },
    {
      "cell_type": "code",
      "metadata": {
        "colab": {
          "base_uri": "https://localhost:8080/"
        },
        "id": "9_A-31xzO1oL",
        "outputId": "e7ab44ac-ec22-4867-8b96-4a7fca69529e"
      },
      "source": [
        "serie_mala = pd.Series([1, 2, 3, 4, None])\n",
        "print(serie_mala)\n",
        "print(serie_mala.dtype)\n",
        "\n",
        "print(\"\\n\\n*************\\n\")\n",
        "\n",
        "serie_mala = pd.Series([1, 2, 3, 4, None], dtype=object)\n",
        "print(serie_mala)\n",
        "print(serie_mala.dtype)"
      ],
      "execution_count": null,
      "outputs": [
        {
          "output_type": "stream",
          "name": "stdout",
          "text": [
            "0    1.0\n",
            "1    2.0\n",
            "2    3.0\n",
            "3    4.0\n",
            "4    NaN\n",
            "dtype: float64\n",
            "float64\n",
            "\n",
            "\n",
            "*************\n",
            "\n",
            "0       1\n",
            "1       2\n",
            "2       3\n",
            "3       4\n",
            "4    None\n",
            "dtype: object\n",
            "object\n"
          ]
        }
      ]
    },
    {
      "cell_type": "code",
      "metadata": {
        "colab": {
          "base_uri": "https://localhost:8080/"
        },
        "id": "vA3qWOK6PPKr",
        "outputId": "48ceff15-df6f-491e-8d46-f1ebd68e2be9"
      },
      "source": [
        "serie_buena = pd.Series([1, 2, 3, 4, np.nan])\n",
        "print(serie_buena)\n",
        "\n",
        "print(serie_buena.dtype)"
      ],
      "execution_count": null,
      "outputs": [
        {
          "output_type": "stream",
          "name": "stdout",
          "text": [
            "0    1.0\n",
            "1    2.0\n",
            "2    3.0\n",
            "3    4.0\n",
            "4    NaN\n",
            "dtype: float64\n",
            "float64\n"
          ]
        }
      ]
    },
    {
      "cell_type": "code",
      "metadata": {
        "colab": {
          "base_uri": "https://localhost:8080/"
        },
        "id": "KXy6Wq_8M46l",
        "outputId": "0e795cc8-2490-4c6f-bb13-79b4828ad1f0"
      },
      "source": [
        "v1 = np.nan\n",
        "print(v1)\n",
        "v2 = None\n",
        "print(v2)"
      ],
      "execution_count": null,
      "outputs": [
        {
          "output_type": "stream",
          "name": "stdout",
          "text": [
            "nan\n",
            "None\n"
          ]
        }
      ]
    },
    {
      "cell_type": "code",
      "metadata": {
        "colab": {
          "base_uri": "https://localhost:8080/"
        },
        "id": "HfE2TtmCLKis",
        "outputId": "fb66a643-d21b-42ce-e519-24e6742d74b8"
      },
      "source": [
        "print(v1 + 2)"
      ],
      "execution_count": null,
      "outputs": [
        {
          "output_type": "stream",
          "name": "stdout",
          "text": [
            "nan\n"
          ]
        }
      ]
    },
    {
      "cell_type": "code",
      "metadata": {
        "colab": {
          "base_uri": "https://localhost:8080/",
          "height": 163
        },
        "id": "IMJIqCzRQ8_J",
        "outputId": "80c1a5bf-f536-42b3-d63b-edaace782995"
      },
      "source": [
        "print(v2 + 2)"
      ],
      "execution_count": null,
      "outputs": [
        {
          "output_type": "error",
          "ename": "TypeError",
          "evalue": "ignored",
          "traceback": [
            "\u001b[0;31m---------------------------------------------------------------------------\u001b[0m",
            "\u001b[0;31mTypeError\u001b[0m                                 Traceback (most recent call last)",
            "\u001b[0;32m<ipython-input-33-409eca7eca38>\u001b[0m in \u001b[0;36m<module>\u001b[0;34m()\u001b[0m\n\u001b[0;32m----> 1\u001b[0;31m \u001b[0mprint\u001b[0m\u001b[0;34m(\u001b[0m\u001b[0mv2\u001b[0m \u001b[0;34m+\u001b[0m \u001b[0;36m2\u001b[0m\u001b[0;34m)\u001b[0m\u001b[0;34m\u001b[0m\u001b[0;34m\u001b[0m\u001b[0m\n\u001b[0m",
            "\u001b[0;31mTypeError\u001b[0m: unsupported operand type(s) for +: 'NoneType' and 'int'"
          ]
        }
      ]
    },
    {
      "cell_type": "code",
      "metadata": {
        "colab": {
          "base_uri": "https://localhost:8080/"
        },
        "id": "WZugtiBPs_TS",
        "outputId": "11c547e7-4c53-4c0a-b65d-82088e9e8db5"
      },
      "source": [
        "df = pd.DataFrame([[1,2,3],[4,5,6],[7,8,9],[10,11],[13,14,15]])\n",
        "print(df)"
      ],
      "execution_count": null,
      "outputs": [
        {
          "output_type": "stream",
          "name": "stdout",
          "text": [
            "    0   1     2\n",
            "0   1   2   3.0\n",
            "1   4   5   6.0\n",
            "2   7   8   9.0\n",
            "3  10  11   NaN\n",
            "4  13  14  15.0\n"
          ]
        }
      ]
    },
    {
      "cell_type": "code",
      "metadata": {
        "colab": {
          "base_uri": "https://localhost:8080/"
        },
        "id": "dmQfl9iktJVn",
        "outputId": "345fce4f-d5d0-4d5b-d1b2-864f1dbafd61"
      },
      "source": [
        "print(df.interpolate())"
      ],
      "execution_count": null,
      "outputs": [
        {
          "output_type": "stream",
          "name": "stdout",
          "text": [
            "    0   1     2\n",
            "0   1   2   3.0\n",
            "1   4   5   6.0\n",
            "2   7   8   9.0\n",
            "3  10  11  12.0\n",
            "4  13  14  15.0\n"
          ]
        }
      ]
    },
    {
      "cell_type": "markdown",
      "metadata": {
        "id": "EaNNszqISnsc"
      },
      "source": [
        "Como crear un DataFrame\n",
        "\n",
        "df = pd.DataFrame([datos])"
      ]
    },
    {
      "cell_type": "code",
      "metadata": {
        "colab": {
          "base_uri": "https://localhost:8080/"
        },
        "id": "ZIJSIVQLQ88g",
        "outputId": "d8b4a49c-2630-4a73-b536-fee55b43c40b"
      },
      "source": [
        "df_01 = pd.DataFrame([1,2,3,4])\n",
        "df_02 = pd.DataFrame([[1,2,3,4]])\n",
        "\n",
        "df_03 = pd.DataFrame([[1,2,3,4],[5,6,7,8]])\n",
        "\n",
        "print(df_01)\n",
        "print()\n",
        "print(df_02)\n",
        "print()\n",
        "print(df_03)"
      ],
      "execution_count": null,
      "outputs": [
        {
          "output_type": "stream",
          "name": "stdout",
          "text": [
            "   0\n",
            "0  1\n",
            "1  2\n",
            "2  3\n",
            "3  4\n",
            "\n",
            "   0  1  2  3\n",
            "0  1  2  3  4\n",
            "\n",
            "   0  1  2  3\n",
            "0  1  2  3  4\n",
            "1  5  6  7  8\n"
          ]
        }
      ]
    },
    {
      "cell_type": "code",
      "metadata": {
        "colab": {
          "base_uri": "https://localhost:8080/"
        },
        "id": "nurSnlZUQ850",
        "outputId": "c28c3bfa-ce2d-4abe-f9e6-d52e78307a9c"
      },
      "source": [
        "df_01 = pd.DataFrame((1,2,3,4))\n",
        "df_02 = pd.DataFrame(((1,2,3,4)))\n",
        "\n",
        "df_03 = pd.DataFrame(((1,2,3,4),(5,6,7,8)))\n",
        "df_04 = pd.DataFrame([(1,2,3,4),(5,6,7,8)])\n",
        "df_05 = pd.DataFrame(([1,2,3,4],(5,6,7,8)))\n",
        "\n",
        "print(df_01)\n",
        "print()\n",
        "print(df_02)\n",
        "print()\n",
        "print(df_03)\n",
        "print()\n",
        "print(df_04)\n",
        "print()\n",
        "print(df_05)"
      ],
      "execution_count": null,
      "outputs": [
        {
          "output_type": "stream",
          "name": "stdout",
          "text": [
            "   0\n",
            "0  1\n",
            "1  2\n",
            "2  3\n",
            "3  4\n",
            "\n",
            "   0\n",
            "0  1\n",
            "1  2\n",
            "2  3\n",
            "3  4\n",
            "\n",
            "   0  1  2  3\n",
            "0  1  2  3  4\n",
            "1  5  6  7  8\n",
            "\n",
            "   0  1  2  3\n",
            "0  1  2  3  4\n",
            "1  5  6  7  8\n",
            "\n",
            "   0  1  2  3\n",
            "0  1  2  3  4\n",
            "1  5  6  7  8\n"
          ]
        }
      ]
    },
    {
      "cell_type": "markdown",
      "metadata": {
        "id": "gTbGmUh9Z5BM"
      },
      "source": [
        "## Estadísticas del DataFrame"
      ]
    },
    {
      "cell_type": "code",
      "metadata": {
        "colab": {
          "base_uri": "https://localhost:8080/"
        },
        "id": "fzbxLs3rQ83I",
        "outputId": "c4e66f19-9f0e-477b-828a-221f92c77055"
      },
      "source": [
        "df = pd.DataFrame([[1,2,3],[4,5,6],[7,8,9]])\n",
        "print(df)"
      ],
      "execution_count": null,
      "outputs": [
        {
          "output_type": "stream",
          "name": "stdout",
          "text": [
            "   0  1  2\n",
            "0  1  2  3\n",
            "1  4  5  6\n",
            "2  7  8  9\n"
          ]
        }
      ]
    },
    {
      "cell_type": "code",
      "metadata": {
        "colab": {
          "base_uri": "https://localhost:8080/"
        },
        "id": "mDIUoaJGQ8x2",
        "outputId": "f735a10a-6445-4984-a7e5-2b4a080afb5f"
      },
      "source": [
        "# Media de las columnas del DataFrame\n",
        "print(df.mean())"
      ],
      "execution_count": null,
      "outputs": [
        {
          "output_type": "stream",
          "name": "stdout",
          "text": [
            "0    4.0\n",
            "1    5.0\n",
            "2    6.0\n",
            "dtype: float64\n"
          ]
        }
      ]
    },
    {
      "cell_type": "code",
      "metadata": {
        "colab": {
          "base_uri": "https://localhost:8080/"
        },
        "id": "botMlm8mbRLt",
        "outputId": "d451bd12-1dce-4add-9742-b820e3f50580"
      },
      "source": [
        "# Correlación entre las columnas del DataFrame\n",
        "# https://www.it-swarm-es.com/es/python/usa-.corr-para-obtener-la-correlacion-entre-dos-columnas/829778664/\n",
        "print(df.corr())"
      ],
      "execution_count": null,
      "outputs": [
        {
          "output_type": "stream",
          "name": "stdout",
          "text": [
            "     0    1    2\n",
            "0  1.0  1.0  1.0\n",
            "1  1.0  1.0  1.0\n",
            "2  1.0  1.0  1.0\n"
          ]
        }
      ]
    },
    {
      "cell_type": "code",
      "metadata": {
        "colab": {
          "base_uri": "https://localhost:8080/"
        },
        "id": "4IjVjkV7bgPX",
        "outputId": "b627e45f-d135-42f3-d5d4-df827e1aecb1"
      },
      "source": [
        "# Conteo de datos (no nulos) de las columnas del DataFrame\n",
        "print(df.count())"
      ],
      "execution_count": null,
      "outputs": [
        {
          "output_type": "stream",
          "name": "stdout",
          "text": [
            "0    3\n",
            "1    3\n",
            "2    3\n",
            "dtype: int64\n"
          ]
        }
      ]
    },
    {
      "cell_type": "code",
      "metadata": {
        "colab": {
          "base_uri": "https://localhost:8080/"
        },
        "id": "H0V_mgKZnS8J",
        "outputId": "26a20bc5-58fb-4530-ccb4-f4068503dad8"
      },
      "source": [
        "df_nulo = pd.DataFrame([[1,2],[4,5,6],[7,8,9]])\n",
        "print(df_nulo)\n",
        "print()\n",
        "print(df_nulo.count())"
      ],
      "execution_count": null,
      "outputs": [
        {
          "output_type": "stream",
          "name": "stdout",
          "text": [
            "   0  1    2\n",
            "0  1  2  NaN\n",
            "1  4  5  6.0\n",
            "2  7  8  9.0\n",
            "\n",
            "0    3\n",
            "1    3\n",
            "2    2\n",
            "dtype: int64\n"
          ]
        }
      ]
    },
    {
      "cell_type": "code",
      "metadata": {
        "colab": {
          "base_uri": "https://localhost:8080/"
        },
        "id": "anjO-NtHbgMk",
        "outputId": "02150407-eb5a-4c3c-8a61-53905e188bdf"
      },
      "source": [
        "# Máximo y mínimo de cada columna del DataFrame\n",
        "print(df.max())\n",
        "print()\n",
        "print(df.min())"
      ],
      "execution_count": null,
      "outputs": [
        {
          "output_type": "stream",
          "name": "stdout",
          "text": [
            "0    7\n",
            "1    8\n",
            "2    9\n",
            "dtype: int64\n",
            "\n",
            "0    1\n",
            "1    2\n",
            "2    3\n",
            "dtype: int64\n"
          ]
        }
      ]
    },
    {
      "cell_type": "code",
      "metadata": {
        "colab": {
          "base_uri": "https://localhost:8080/"
        },
        "id": "Xb76zjy6bgJk",
        "outputId": "1022a4fa-ad0f-4966-efe9-c8e36b31f110"
      },
      "source": [
        "# Mediana de cada columna del DataFrame\n",
        "print(df.median())"
      ],
      "execution_count": null,
      "outputs": [
        {
          "output_type": "stream",
          "name": "stdout",
          "text": [
            "0    4.0\n",
            "1    5.0\n",
            "2    6.0\n",
            "dtype: float64\n"
          ]
        }
      ]
    },
    {
      "cell_type": "code",
      "metadata": {
        "colab": {
          "base_uri": "https://localhost:8080/"
        },
        "id": "F496gWIubgHF",
        "outputId": "e7875d97-ebe3-4327-962f-3762bf16842f"
      },
      "source": [
        "# Desviación estándar de cada columna del DataFrame\n",
        "print(df.std())"
      ],
      "execution_count": null,
      "outputs": [
        {
          "output_type": "stream",
          "name": "stdout",
          "text": [
            "0    3.0\n",
            "1    3.0\n",
            "2    3.0\n",
            "dtype: float64\n"
          ]
        }
      ]
    },
    {
      "cell_type": "code",
      "metadata": {
        "colab": {
          "base_uri": "https://localhost:8080/"
        },
        "id": "9Dvgd1-EbgEa",
        "outputId": "c82818c8-b2bc-4fad-9f52-769d4f764a52"
      },
      "source": [
        "# Estadísticas del DataFrame\n",
        "print(df.describe())"
      ],
      "execution_count": null,
      "outputs": [
        {
          "output_type": "stream",
          "name": "stdout",
          "text": [
            "         0    1    2\n",
            "count  3.0  3.0  3.0\n",
            "mean   4.0  5.0  6.0\n",
            "std    3.0  3.0  3.0\n",
            "min    1.0  2.0  3.0\n",
            "25%    2.5  3.5  4.5\n",
            "50%    4.0  5.0  6.0\n",
            "75%    5.5  6.5  7.5\n",
            "max    7.0  8.0  9.0\n"
          ]
        }
      ]
    },
    {
      "cell_type": "markdown",
      "metadata": {
        "id": "95RwGqG1ocib"
      },
      "source": [
        "## Cómo seleccionar un índice o una columna del DataFrame"
      ]
    },
    {
      "cell_type": "code",
      "metadata": {
        "colab": {
          "base_uri": "https://localhost:8080/"
        },
        "id": "zlAiKKNsbgBx",
        "outputId": "1d1251c8-5deb-4551-d8ce-947731fcb226"
      },
      "source": [
        "arreglo = np.arange(25).reshape([5,5])+1\n",
        "print(arreglo)"
      ],
      "execution_count": null,
      "outputs": [
        {
          "output_type": "stream",
          "name": "stdout",
          "text": [
            "[[ 1  2  3  4  5]\n",
            " [ 6  7  8  9 10]\n",
            " [11 12 13 14 15]\n",
            " [16 17 18 19 20]\n",
            " [21 22 23 24 25]]\n"
          ]
        }
      ]
    },
    {
      "cell_type": "code",
      "metadata": {
        "colab": {
          "base_uri": "https://localhost:8080/"
        },
        "id": "VZUrmvR2pLV6",
        "outputId": "edf41864-b8e3-4988-b5c1-2603d2719011"
      },
      "source": [
        "df = pd.DataFrame(arreglo)\n",
        "print(df)"
      ],
      "execution_count": null,
      "outputs": [
        {
          "output_type": "stream",
          "name": "stdout",
          "text": [
            "    0   1   2   3   4\n",
            "0   1   2   3   4   5\n",
            "1   6   7   8   9  10\n",
            "2  11  12  13  14  15\n",
            "3  16  17  18  19  20\n",
            "4  21  22  23  24  25\n"
          ]
        }
      ]
    },
    {
      "cell_type": "code",
      "metadata": {
        "colab": {
          "base_uri": "https://localhost:8080/"
        },
        "id": "1ja4TbMNoxtP",
        "outputId": "a42980d8-cab0-4982-dba0-b62389305730"
      },
      "source": [
        "# Primera columna del DataFrame\n",
        "print(df[0])"
      ],
      "execution_count": null,
      "outputs": [
        {
          "output_type": "stream",
          "name": "stdout",
          "text": [
            "0     1\n",
            "1     6\n",
            "2    11\n",
            "3    16\n",
            "4    21\n",
            "Name: 0, dtype: int64\n"
          ]
        }
      ]
    },
    {
      "cell_type": "code",
      "metadata": {
        "colab": {
          "base_uri": "https://localhost:8080/"
        },
        "id": "cPNLpx7SqPZ4",
        "outputId": "91a86824-da50-4af9-c715-cc0cffcb71ce"
      },
      "source": [
        "# Más de una columna y generar un nuevo DataFrame\n",
        "df_nuevo = df[[0,2]]\n",
        "print(df_nuevo)"
      ],
      "execution_count": null,
      "outputs": [
        {
          "output_type": "stream",
          "name": "stdout",
          "text": [
            "    0   2\n",
            "0   1   3\n",
            "1   6   8\n",
            "2  11  13\n",
            "3  16  18\n",
            "4  21  23\n"
          ]
        }
      ]
    },
    {
      "cell_type": "code",
      "metadata": {
        "colab": {
          "base_uri": "https://localhost:8080/"
        },
        "id": "fTzuPNVzqgHH",
        "outputId": "9373c54d-0c19-479a-e3d8-10a74cac0cf2"
      },
      "source": [
        "# Seleccionar el valor de la primera fila y cuarta columna del DataFrame\n",
        "print(df.iloc[0][3])"
      ],
      "execution_count": null,
      "outputs": [
        {
          "output_type": "stream",
          "name": "stdout",
          "text": [
            "4\n"
          ]
        }
      ]
    },
    {
      "cell_type": "code",
      "metadata": {
        "colab": {
          "base_uri": "https://localhost:8080/"
        },
        "id": "cpZlgKXOrctv",
        "outputId": "dc339b8d-9be6-4278-fe74-8f9af0368457"
      },
      "source": [
        "# Seleccionar los valores de la primera fila del DataFrame\n",
        "print(df.loc[0])"
      ],
      "execution_count": null,
      "outputs": [
        {
          "output_type": "stream",
          "name": "stdout",
          "text": [
            "0    1\n",
            "1    2\n",
            "2    3\n",
            "3    4\n",
            "4    5\n",
            "Name: 0, dtype: int64\n"
          ]
        }
      ]
    },
    {
      "cell_type": "code",
      "metadata": {
        "colab": {
          "base_uri": "https://localhost:8080/"
        },
        "id": "IKHJGZXTrl6f",
        "outputId": "d17f17ab-4eda-4d86-cb01-0312ad4a028a"
      },
      "source": [
        "# Seleccionar los valores de la tercer fila del DataFrame\n",
        "print(df.iloc[2,:])"
      ],
      "execution_count": null,
      "outputs": [
        {
          "output_type": "stream",
          "name": "stdout",
          "text": [
            "0    11\n",
            "1    12\n",
            "2    13\n",
            "3    14\n",
            "4    15\n",
            "Name: 2, dtype: int64\n"
          ]
        }
      ]
    },
    {
      "cell_type": "code",
      "metadata": {
        "colab": {
          "base_uri": "https://localhost:8080/"
        },
        "id": "EZ1Rr4xsrrwS",
        "outputId": "de50b15e-04fd-4766-86f5-fcfe7d4290f1"
      },
      "source": [
        "# Seleccionar los valores de la primera columna del DataFrame\n",
        "print(df.iloc[:,0])"
      ],
      "execution_count": null,
      "outputs": [
        {
          "output_type": "stream",
          "name": "stdout",
          "text": [
            "0     1\n",
            "1     6\n",
            "2    11\n",
            "3    16\n",
            "4    21\n",
            "Name: 0, dtype: int64\n"
          ]
        }
      ]
    },
    {
      "cell_type": "markdown",
      "metadata": {
        "id": "HopDaf49vpvA"
      },
      "source": [
        "## Importar y exportar datos\n",
        "\n",
        "*   Abrir un archivo local (csv, xml)\n",
        "*   Abrir un archivo de manera remota desde un sitio web a través de una URL\n",
        "\n",
        "pd.read_tipoarchivo()\n",
        "\n",
        "→ *tipo de archivo, verificar en la documentación*\n",
        "\n",
        "https://pandas.pydata.org/docs/reference/io.html\n",
        "\n",
        "\n",
        "```\n",
        "df = pd.read_csv('datos.csv')\n",
        "```\n",
        "\n",
        "\n",
        "pd.to_tipoarchivo()\n",
        "\n",
        "→ *tipo de archivo, verificar en la documentación*\n",
        "\n",
        "```\n",
        "df = pd.to_csv('datos_modificados.csv')\n",
        "```\n",
        "\n"
      ]
    },
    {
      "cell_type": "code",
      "metadata": {
        "id": "GIKA2qPzr-R4"
      },
      "source": [
        "url=\"https://raw.githubusercontent.com/cs109/2014_data/master/countries.csv\"\n",
        "df_urlc=pd.read_csv(url)"
      ],
      "execution_count": null,
      "outputs": []
    },
    {
      "cell_type": "code",
      "metadata": {
        "colab": {
          "base_uri": "https://localhost:8080/"
        },
        "id": "1YWc20XNw_OA",
        "outputId": "e29fe6d3-581e-49ac-d8f6-830a26129541"
      },
      "source": [
        "print(df_urlc)"
      ],
      "execution_count": null,
      "outputs": [
        {
          "output_type": "stream",
          "name": "stdout",
          "text": [
            "       Country         Region\n",
            "0      Algeria         AFRICA\n",
            "1       Angola         AFRICA\n",
            "2        Benin         AFRICA\n",
            "3     Botswana         AFRICA\n",
            "4      Burkina         AFRICA\n",
            "..         ...            ...\n",
            "189   Paraguay  SOUTH AMERICA\n",
            "190       Peru  SOUTH AMERICA\n",
            "191   Suriname  SOUTH AMERICA\n",
            "192    Uruguay  SOUTH AMERICA\n",
            "193  Venezuela  SOUTH AMERICA\n",
            "\n",
            "[194 rows x 2 columns]\n"
          ]
        }
      ]
    },
    {
      "cell_type": "code",
      "metadata": {
        "colab": {
          "base_uri": "https://localhost:8080/"
        },
        "id": "ALXE6tSyxAWA",
        "outputId": "7506964d-d332-43d0-d56d-ec51dd08d520"
      },
      "source": [
        "arreglo = np.arange(100).reshape([20,5])+1\n",
        "print(arreglo)"
      ],
      "execution_count": null,
      "outputs": [
        {
          "output_type": "stream",
          "name": "stdout",
          "text": [
            "[[  1   2   3   4   5]\n",
            " [  6   7   8   9  10]\n",
            " [ 11  12  13  14  15]\n",
            " [ 16  17  18  19  20]\n",
            " [ 21  22  23  24  25]\n",
            " [ 26  27  28  29  30]\n",
            " [ 31  32  33  34  35]\n",
            " [ 36  37  38  39  40]\n",
            " [ 41  42  43  44  45]\n",
            " [ 46  47  48  49  50]\n",
            " [ 51  52  53  54  55]\n",
            " [ 56  57  58  59  60]\n",
            " [ 61  62  63  64  65]\n",
            " [ 66  67  68  69  70]\n",
            " [ 71  72  73  74  75]\n",
            " [ 76  77  78  79  80]\n",
            " [ 81  82  83  84  85]\n",
            " [ 86  87  88  89  90]\n",
            " [ 91  92  93  94  95]\n",
            " [ 96  97  98  99 100]]\n"
          ]
        }
      ]
    },
    {
      "cell_type": "code",
      "metadata": {
        "colab": {
          "base_uri": "https://localhost:8080/",
          "height": 180
        },
        "id": "8j2_E2ZUzu3t",
        "outputId": "86fabe77-de3e-4fe7-ba8a-ad5d07ac60e1"
      },
      "source": [
        "arreglo[3,2] = np.nan\n",
        "print(arreglo)"
      ],
      "execution_count": null,
      "outputs": [
        {
          "output_type": "error",
          "ename": "ValueError",
          "evalue": "ignored",
          "traceback": [
            "\u001b[0;31m---------------------------------------------------------------------------\u001b[0m",
            "\u001b[0;31mValueError\u001b[0m                                Traceback (most recent call last)",
            "\u001b[0;32m<ipython-input-35-f020ae3b8abe>\u001b[0m in \u001b[0;36m<module>\u001b[0;34m()\u001b[0m\n\u001b[0;32m----> 1\u001b[0;31m \u001b[0marreglo\u001b[0m\u001b[0;34m[\u001b[0m\u001b[0;36m3\u001b[0m\u001b[0;34m,\u001b[0m\u001b[0;36m2\u001b[0m\u001b[0;34m]\u001b[0m \u001b[0;34m=\u001b[0m \u001b[0mnp\u001b[0m\u001b[0;34m.\u001b[0m\u001b[0mnan\u001b[0m\u001b[0;34m\u001b[0m\u001b[0;34m\u001b[0m\u001b[0m\n\u001b[0m\u001b[1;32m      2\u001b[0m \u001b[0mprint\u001b[0m\u001b[0;34m(\u001b[0m\u001b[0marreglo\u001b[0m\u001b[0;34m)\u001b[0m\u001b[0;34m\u001b[0m\u001b[0;34m\u001b[0m\u001b[0m\n",
            "\u001b[0;31mValueError\u001b[0m: cannot convert float NaN to integer"
          ]
        }
      ]
    },
    {
      "cell_type": "code",
      "metadata": {
        "colab": {
          "base_uri": "https://localhost:8080/"
        },
        "id": "-BKaqts00TCP",
        "outputId": "5785bdb6-68f3-4bd4-d88d-920426dfa76c"
      },
      "source": [
        "arreglo = np.arange(100, dtype=float).reshape([20,5])+1\n",
        "print(arreglo)"
      ],
      "execution_count": null,
      "outputs": [
        {
          "output_type": "stream",
          "name": "stdout",
          "text": [
            "[[  1.   2.   3.   4.   5.]\n",
            " [  6.   7.   8.   9.  10.]\n",
            " [ 11.  12.  13.  14.  15.]\n",
            " [ 16.  17.  18.  19.  20.]\n",
            " [ 21.  22.  23.  24.  25.]\n",
            " [ 26.  27.  28.  29.  30.]\n",
            " [ 31.  32.  33.  34.  35.]\n",
            " [ 36.  37.  38.  39.  40.]\n",
            " [ 41.  42.  43.  44.  45.]\n",
            " [ 46.  47.  48.  49.  50.]\n",
            " [ 51.  52.  53.  54.  55.]\n",
            " [ 56.  57.  58.  59.  60.]\n",
            " [ 61.  62.  63.  64.  65.]\n",
            " [ 66.  67.  68.  69.  70.]\n",
            " [ 71.  72.  73.  74.  75.]\n",
            " [ 76.  77.  78.  79.  80.]\n",
            " [ 81.  82.  83.  84.  85.]\n",
            " [ 86.  87.  88.  89.  90.]\n",
            " [ 91.  92.  93.  94.  95.]\n",
            " [ 96.  97.  98.  99. 100.]]\n"
          ]
        }
      ]
    },
    {
      "cell_type": "code",
      "metadata": {
        "colab": {
          "base_uri": "https://localhost:8080/"
        },
        "id": "bJJrMeA60TAA",
        "outputId": "b54ff768-0af9-42dd-e4dc-a533cf94e1ac"
      },
      "source": [
        "arreglo[2,2] = np.nan\n",
        "arreglo[6,2] = np.nan\n",
        "arreglo[10,2] = np.nan\n",
        "arreglo[16,2] = np.nan\n",
        "\n",
        "arreglo[5,3] = np.nan\n",
        "arreglo[8,3] = np.nan\n",
        "print(arreglo)"
      ],
      "execution_count": null,
      "outputs": [
        {
          "output_type": "stream",
          "name": "stdout",
          "text": [
            "[[  1.   2.   3.   4.   5.]\n",
            " [  6.   7.   8.   9.  10.]\n",
            " [ 11.  12.  nan  14.  15.]\n",
            " [ 16.  17.  18.  19.  20.]\n",
            " [ 21.  22.  23.  24.  25.]\n",
            " [ 26.  27.  28.  nan  30.]\n",
            " [ 31.  32.  nan  34.  35.]\n",
            " [ 36.  37.  38.  39.  40.]\n",
            " [ 41.  42.  43.  nan  45.]\n",
            " [ 46.  47.  48.  49.  50.]\n",
            " [ 51.  52.  nan  54.  55.]\n",
            " [ 56.  57.  58.  59.  60.]\n",
            " [ 61.  62.  63.  64.  65.]\n",
            " [ 66.  67.  68.  69.  70.]\n",
            " [ 71.  72.  73.  74.  75.]\n",
            " [ 76.  77.  78.  79.  80.]\n",
            " [ 81.  82.  nan  84.  85.]\n",
            " [ 86.  87.  88.  89.  90.]\n",
            " [ 91.  92.  93.  94.  95.]\n",
            " [ 96.  97.  98.  99. 100.]]\n"
          ]
        }
      ]
    },
    {
      "cell_type": "code",
      "metadata": {
        "colab": {
          "base_uri": "https://localhost:8080/"
        },
        "id": "3MhVFCtG0S9O",
        "outputId": "2ef6cacf-57f8-4516-bc7a-9efa91188d97"
      },
      "source": [
        "df = pd.DataFrame(arreglo)\n",
        "print(df)"
      ],
      "execution_count": null,
      "outputs": [
        {
          "output_type": "stream",
          "name": "stdout",
          "text": [
            "       0     1     2     3      4\n",
            "0    1.0   2.0   3.0   4.0    5.0\n",
            "1    6.0   7.0   8.0   9.0   10.0\n",
            "2   11.0  12.0   NaN  14.0   15.0\n",
            "3   16.0  17.0  18.0  19.0   20.0\n",
            "4   21.0  22.0  23.0  24.0   25.0\n",
            "5   26.0  27.0  28.0   NaN   30.0\n",
            "6   31.0  32.0   NaN  34.0   35.0\n",
            "7   36.0  37.0  38.0  39.0   40.0\n",
            "8   41.0  42.0  43.0   NaN   45.0\n",
            "9   46.0  47.0  48.0  49.0   50.0\n",
            "10  51.0  52.0   NaN  54.0   55.0\n",
            "11  56.0  57.0  58.0  59.0   60.0\n",
            "12  61.0  62.0  63.0  64.0   65.0\n",
            "13  66.0  67.0  68.0  69.0   70.0\n",
            "14  71.0  72.0  73.0  74.0   75.0\n",
            "15  76.0  77.0  78.0  79.0   80.0\n",
            "16  81.0  82.0   NaN  84.0   85.0\n",
            "17  86.0  87.0  88.0  89.0   90.0\n",
            "18  91.0  92.0  93.0  94.0   95.0\n",
            "19  96.0  97.0  98.0  99.0  100.0\n"
          ]
        }
      ]
    },
    {
      "cell_type": "code",
      "metadata": {
        "id": "GwHKe-iFLu-h"
      },
      "source": [
        ""
      ],
      "execution_count": null,
      "outputs": []
    },
    {
      "cell_type": "code",
      "metadata": {
        "colab": {
          "base_uri": "https://localhost:8080/"
        },
        "id": "9vy9fc6Z0S6y",
        "outputId": "c882f228-d9a7-4415-b5cd-d4eefcfbd2db"
      },
      "source": [
        "# Datos nulos en el DataFrame\n",
        "print(df.isnull())"
      ],
      "execution_count": null,
      "outputs": [
        {
          "output_type": "stream",
          "name": "stdout",
          "text": [
            "        0      1      2      3      4\n",
            "0   False  False  False  False  False\n",
            "1   False  False  False  False  False\n",
            "2   False  False   True  False  False\n",
            "3   False  False  False  False  False\n",
            "4   False  False  False  False  False\n",
            "5   False  False  False   True  False\n",
            "6   False  False   True  False  False\n",
            "7   False  False  False  False  False\n",
            "8   False  False  False   True  False\n",
            "9   False  False  False  False  False\n",
            "10  False  False   True  False  False\n",
            "11  False  False  False  False  False\n",
            "12  False  False  False  False  False\n",
            "13  False  False  False  False  False\n",
            "14  False  False  False  False  False\n",
            "15  False  False  False  False  False\n",
            "16  False  False   True  False  False\n",
            "17  False  False  False  False  False\n",
            "18  False  False  False  False  False\n",
            "19  False  False  False  False  False\n"
          ]
        }
      ]
    },
    {
      "cell_type": "code",
      "metadata": {
        "colab": {
          "base_uri": "https://localhost:8080/"
        },
        "id": "tsP-lCCX0S38",
        "outputId": "5445d6ab-9f58-4c66-807b-543ec1509680"
      },
      "source": [
        "# Suma datos nulos en el DataFrame\n",
        "print(df.isnull().sum())"
      ],
      "execution_count": null,
      "outputs": [
        {
          "output_type": "stream",
          "name": "stdout",
          "text": [
            "0    0\n",
            "1    0\n",
            "2    4\n",
            "3    2\n",
            "4    0\n",
            "dtype: int64\n"
          ]
        }
      ]
    },
    {
      "cell_type": "markdown",
      "metadata": {
        "id": "UwlyEk4L1MW7"
      },
      "source": [
        "Podemos eliminar las filas o las columnas de los datos faltantes\n",
        "\n",
        "filas → pd.dropna()\n",
        "\n",
        "columnas → pd.dropna(axis = 1)"
      ]
    },
    {
      "cell_type": "code",
      "metadata": {
        "colab": {
          "base_uri": "https://localhost:8080/"
        },
        "id": "UAMym9sbyDEw",
        "outputId": "e3911544-cc23-470b-b9c1-483f132587a0"
      },
      "source": [
        "# Eliminar las filas\n",
        "print(df.dropna())"
      ],
      "execution_count": null,
      "outputs": [
        {
          "output_type": "stream",
          "name": "stdout",
          "text": [
            "       0     1     2     3      4\n",
            "0    1.0   2.0   3.0   4.0    5.0\n",
            "1    6.0   7.0   8.0   9.0   10.0\n",
            "3   16.0  17.0  18.0  19.0   20.0\n",
            "4   21.0  22.0  23.0  24.0   25.0\n",
            "7   36.0  37.0  38.0  39.0   40.0\n",
            "9   46.0  47.0  48.0  49.0   50.0\n",
            "11  56.0  57.0  58.0  59.0   60.0\n",
            "12  61.0  62.0  63.0  64.0   65.0\n",
            "13  66.0  67.0  68.0  69.0   70.0\n",
            "14  71.0  72.0  73.0  74.0   75.0\n",
            "15  76.0  77.0  78.0  79.0   80.0\n",
            "17  86.0  87.0  88.0  89.0   90.0\n",
            "18  91.0  92.0  93.0  94.0   95.0\n",
            "19  96.0  97.0  98.0  99.0  100.0\n"
          ]
        }
      ]
    },
    {
      "cell_type": "code",
      "metadata": {
        "colab": {
          "base_uri": "https://localhost:8080/"
        },
        "id": "kGdeaozeyUaQ",
        "outputId": "d6750536-7f45-4a23-cf2d-7e8c2b54473f"
      },
      "source": [
        "# Eliminar las columnas\n",
        "print(df.dropna(axis = 1))"
      ],
      "execution_count": null,
      "outputs": [
        {
          "output_type": "stream",
          "name": "stdout",
          "text": [
            "       0     1      4\n",
            "0    1.0   2.0    5.0\n",
            "1    6.0   7.0   10.0\n",
            "2   11.0  12.0   15.0\n",
            "3   16.0  17.0   20.0\n",
            "4   21.0  22.0   25.0\n",
            "5   26.0  27.0   30.0\n",
            "6   31.0  32.0   35.0\n",
            "7   36.0  37.0   40.0\n",
            "8   41.0  42.0   45.0\n",
            "9   46.0  47.0   50.0\n",
            "10  51.0  52.0   55.0\n",
            "11  56.0  57.0   60.0\n",
            "12  61.0  62.0   65.0\n",
            "13  66.0  67.0   70.0\n",
            "14  71.0  72.0   75.0\n",
            "15  76.0  77.0   80.0\n",
            "16  81.0  82.0   85.0\n",
            "17  86.0  87.0   90.0\n",
            "18  91.0  92.0   95.0\n",
            "19  96.0  97.0  100.0\n"
          ]
        }
      ]
    },
    {
      "cell_type": "code",
      "metadata": {
        "colab": {
          "base_uri": "https://localhost:8080/"
        },
        "id": "zhNVjgJ41liZ",
        "outputId": "c2d67dbc-6705-45c0-a328-40bb51b05bf7"
      },
      "source": [
        "# si no se salva se mantiene como el original o el último cambio que fue salvado\n",
        "print(df)"
      ],
      "execution_count": null,
      "outputs": [
        {
          "output_type": "stream",
          "name": "stdout",
          "text": [
            "       0     1     2     3      4\n",
            "0    1.0   2.0   3.0   4.0    5.0\n",
            "1    6.0   7.0   8.0   9.0   10.0\n",
            "2   11.0  12.0   NaN  14.0   15.0\n",
            "3   16.0  17.0  18.0  19.0   20.0\n",
            "4   21.0  22.0  23.0  24.0   25.0\n",
            "5   26.0  27.0  28.0   NaN   30.0\n",
            "6   31.0  32.0   NaN  34.0   35.0\n",
            "7   36.0  37.0  38.0  39.0   40.0\n",
            "8   41.0  42.0  43.0   NaN   45.0\n",
            "9   46.0  47.0  48.0  49.0   50.0\n",
            "10  51.0  52.0   NaN  54.0   55.0\n",
            "11  56.0  57.0  58.0  59.0   60.0\n",
            "12  61.0  62.0  63.0  64.0   65.0\n",
            "13  66.0  67.0  68.0  69.0   70.0\n",
            "14  71.0  72.0  73.0  74.0   75.0\n",
            "15  76.0  77.0  78.0  79.0   80.0\n",
            "16  81.0  82.0   NaN  84.0   85.0\n",
            "17  86.0  87.0  88.0  89.0   90.0\n",
            "18  91.0  92.0  93.0  94.0   95.0\n",
            "19  96.0  97.0  98.0  99.0  100.0\n"
          ]
        }
      ]
    },
    {
      "cell_type": "code",
      "metadata": {
        "colab": {
          "base_uri": "https://localhost:8080/"
        },
        "id": "dPExAUxs1wKA",
        "outputId": "773da07e-72a5-4564-aba6-5fb5ad6556e7"
      },
      "source": [
        "# se puede rellenar los datos faltantes\n",
        "print(df.fillna(99))"
      ],
      "execution_count": null,
      "outputs": [
        {
          "output_type": "stream",
          "name": "stdout",
          "text": [
            "       0     1     2     3      4\n",
            "0    1.0   2.0   3.0   4.0    5.0\n",
            "1    6.0   7.0   8.0   9.0   10.0\n",
            "2   11.0  12.0  99.0  14.0   15.0\n",
            "3   16.0  17.0  18.0  19.0   20.0\n",
            "4   21.0  22.0  23.0  24.0   25.0\n",
            "5   26.0  27.0  28.0  99.0   30.0\n",
            "6   31.0  32.0  99.0  34.0   35.0\n",
            "7   36.0  37.0  38.0  39.0   40.0\n",
            "8   41.0  42.0  43.0  99.0   45.0\n",
            "9   46.0  47.0  48.0  49.0   50.0\n",
            "10  51.0  52.0  99.0  54.0   55.0\n",
            "11  56.0  57.0  58.0  59.0   60.0\n",
            "12  61.0  62.0  63.0  64.0   65.0\n",
            "13  66.0  67.0  68.0  69.0   70.0\n",
            "14  71.0  72.0  73.0  74.0   75.0\n",
            "15  76.0  77.0  78.0  79.0   80.0\n",
            "16  81.0  82.0  99.0  84.0   85.0\n",
            "17  86.0  87.0  88.0  89.0   90.0\n",
            "18  91.0  92.0  93.0  94.0   95.0\n",
            "19  96.0  97.0  98.0  99.0  100.0\n"
          ]
        }
      ]
    },
    {
      "cell_type": "code",
      "metadata": {
        "colab": {
          "base_uri": "https://localhost:8080/"
        },
        "id": "kEsPrMsf12nJ",
        "outputId": "200694fd-d852-4a7c-9a8a-615a44c275a2"
      },
      "source": [
        "# se puede rellenar los datos faltantes\n",
        "print(df.fillna(df.mean()))"
      ],
      "execution_count": null,
      "outputs": [
        {
          "output_type": "stream",
          "name": "stdout",
          "text": [
            "       0     1      2          3      4\n",
            "0    1.0   2.0   3.00   4.000000    5.0\n",
            "1    6.0   7.0   8.00   9.000000   10.0\n",
            "2   11.0  12.0  51.75  14.000000   15.0\n",
            "3   16.0  17.0  18.00  19.000000   20.0\n",
            "4   21.0  22.0  23.00  24.000000   25.0\n",
            "5   26.0  27.0  28.00  53.166667   30.0\n",
            "6   31.0  32.0  51.75  34.000000   35.0\n",
            "7   36.0  37.0  38.00  39.000000   40.0\n",
            "8   41.0  42.0  43.00  53.166667   45.0\n",
            "9   46.0  47.0  48.00  49.000000   50.0\n",
            "10  51.0  52.0  51.75  54.000000   55.0\n",
            "11  56.0  57.0  58.00  59.000000   60.0\n",
            "12  61.0  62.0  63.00  64.000000   65.0\n",
            "13  66.0  67.0  68.00  69.000000   70.0\n",
            "14  71.0  72.0  73.00  74.000000   75.0\n",
            "15  76.0  77.0  78.00  79.000000   80.0\n",
            "16  81.0  82.0  51.75  84.000000   85.0\n",
            "17  86.0  87.0  88.00  89.000000   90.0\n",
            "18  91.0  92.0  93.00  94.000000   95.0\n",
            "19  96.0  97.0  98.00  99.000000  100.0\n"
          ]
        }
      ]
    },
    {
      "cell_type": "code",
      "metadata": {
        "colab": {
          "base_uri": "https://localhost:8080/"
        },
        "id": "Ha0D3DuW2AhQ",
        "outputId": "b1befd56-374a-460f-ceb1-bc94ee0d6a14"
      },
      "source": [
        "# se puede rellenar los datos faltantes\n",
        "print(df.interpolate())"
      ],
      "execution_count": null,
      "outputs": [
        {
          "output_type": "stream",
          "name": "stdout",
          "text": [
            "       0     1     2     3      4\n",
            "0    1.0   2.0   3.0   4.0    5.0\n",
            "1    6.0   7.0   8.0   9.0   10.0\n",
            "2   11.0  12.0  13.0  14.0   15.0\n",
            "3   16.0  17.0  18.0  19.0   20.0\n",
            "4   21.0  22.0  23.0  24.0   25.0\n",
            "5   26.0  27.0  28.0  29.0   30.0\n",
            "6   31.0  32.0  33.0  34.0   35.0\n",
            "7   36.0  37.0  38.0  39.0   40.0\n",
            "8   41.0  42.0  43.0  44.0   45.0\n",
            "9   46.0  47.0  48.0  49.0   50.0\n",
            "10  51.0  52.0  53.0  54.0   55.0\n",
            "11  56.0  57.0  58.0  59.0   60.0\n",
            "12  61.0  62.0  63.0  64.0   65.0\n",
            "13  66.0  67.0  68.0  69.0   70.0\n",
            "14  71.0  72.0  73.0  74.0   75.0\n",
            "15  76.0  77.0  78.0  79.0   80.0\n",
            "16  81.0  82.0  83.0  84.0   85.0\n",
            "17  86.0  87.0  88.0  89.0   90.0\n",
            "18  91.0  92.0  93.0  94.0   95.0\n",
            "19  96.0  97.0  98.0  99.0  100.0\n"
          ]
        }
      ]
    },
    {
      "cell_type": "code",
      "metadata": {
        "id": "WtkfxVba3uOk"
      },
      "source": [
        ""
      ],
      "execution_count": null,
      "outputs": []
    },
    {
      "cell_type": "markdown",
      "metadata": {
        "id": "WOJTvgsW6O02"
      },
      "source": [
        "# Generación de datos aleatórios"
      ]
    },
    {
      "cell_type": "markdown",
      "metadata": {
        "id": "DkjnCBO16UrW"
      },
      "source": [
        "## Nombres"
      ]
    },
    {
      "cell_type": "code",
      "metadata": {
        "colab": {
          "base_uri": "https://localhost:8080/"
        },
        "id": "pP1L4qlS3uLf",
        "outputId": "5f3ad614-2db0-4d4c-cd0e-0d2fa8b63307"
      },
      "source": [
        "!pip install names"
      ],
      "execution_count": null,
      "outputs": [
        {
          "output_type": "stream",
          "name": "stdout",
          "text": [
            "Requirement already satisfied: names in /usr/local/lib/python3.7/dist-packages (0.3.0)\n"
          ]
        }
      ]
    },
    {
      "cell_type": "code",
      "metadata": {
        "id": "r5jzZs_r3uI_"
      },
      "source": [
        "import names"
      ],
      "execution_count": null,
      "outputs": []
    },
    {
      "cell_type": "code",
      "metadata": {
        "colab": {
          "base_uri": "https://localhost:8080/"
        },
        "id": "6iLobFuC3uFp",
        "outputId": "6128b56a-2946-477e-c96a-7b62cb4267a1"
      },
      "source": [
        "print(names.get_full_name())\n",
        "print(names.get_full_name(gender='male'))\n",
        "print(names.get_first_name())\n",
        "print(names.get_first_name(gender='female'))\n",
        "print(names.get_last_name())"
      ],
      "execution_count": null,
      "outputs": [
        {
          "output_type": "stream",
          "name": "stdout",
          "text": [
            "Ron Holland\n",
            "Jonas Wiley\n",
            "Carmen\n",
            "Ashley\n",
            "Gutierrez\n"
          ]
        }
      ]
    },
    {
      "cell_type": "code",
      "metadata": {
        "colab": {
          "base_uri": "https://localhost:8080/"
        },
        "id": "ZlFNMgfk3uDE",
        "outputId": "06114629-367a-4a39-a73c-4708ea831a3a"
      },
      "source": [
        "for i in range(5):\n",
        "  print(names.get_full_name())"
      ],
      "execution_count": null,
      "outputs": [
        {
          "output_type": "stream",
          "name": "stdout",
          "text": [
            "Brett Owens\n",
            "Rosa Donahue\n",
            "Leona Bell\n",
            "Joseph Rogers\n",
            "Chad Roddy\n"
          ]
        }
      ]
    },
    {
      "cell_type": "markdown",
      "metadata": {
        "id": "GvCMfLSl6ZDP"
      },
      "source": [
        "## Fechas\n",
        "\n",
        "https://stackoverflow.com/questions/553303/generate-a-random-date-between-two-other-dates"
      ]
    },
    {
      "cell_type": "code",
      "metadata": {
        "colab": {
          "base_uri": "https://localhost:8080/"
        },
        "id": "5QtEyJMO5din",
        "outputId": "dc24879c-4891-4fdb-d5bf-9a7f6b0c69cb"
      },
      "source": [
        "!pip install faker"
      ],
      "execution_count": null,
      "outputs": [
        {
          "output_type": "stream",
          "name": "stdout",
          "text": [
            "Requirement already satisfied: faker in /usr/local/lib/python3.7/dist-packages (9.8.2)\n",
            "Requirement already satisfied: text-unidecode==1.3 in /usr/local/lib/python3.7/dist-packages (from faker) (1.3)\n",
            "Requirement already satisfied: python-dateutil>=2.4 in /usr/local/lib/python3.7/dist-packages (from faker) (2.8.2)\n",
            "Requirement already satisfied: typing-extensions>=3.10.0.2 in /usr/local/lib/python3.7/dist-packages (from faker) (3.10.0.2)\n",
            "Requirement already satisfied: six>=1.5 in /usr/local/lib/python3.7/dist-packages (from python-dateutil>=2.4->faker) (1.15.0)\n"
          ]
        }
      ]
    },
    {
      "cell_type": "code",
      "metadata": {
        "id": "xtgUeeLG3t_7"
      },
      "source": [
        "from faker import Faker"
      ],
      "execution_count": null,
      "outputs": []
    },
    {
      "cell_type": "code",
      "metadata": {
        "colab": {
          "base_uri": "https://localhost:8080/"
        },
        "id": "Fjc90c5h3t9F",
        "outputId": "57cf7f75-5e3f-41cc-c0ca-423bcca62b94"
      },
      "source": [
        "fake = Faker()\n",
        "\n",
        "print(fake.date_between(start_date='today', end_date='+30y'))\n",
        "print(fake.date_time_between(start_date='-30y', end_date='now'))\n",
        "\n",
        "import datetime\n",
        "start_date = datetime.date(year=2015, month=1, day=1)\n",
        "print(fake.date_between(start_date=start_date, end_date='+30y'))"
      ],
      "execution_count": null,
      "outputs": [
        {
          "output_type": "stream",
          "name": "stdout",
          "text": [
            "2030-02-17\n",
            "1996-04-25 15:06:01\n",
            "2031-03-31\n"
          ]
        }
      ]
    },
    {
      "cell_type": "code",
      "metadata": {
        "colab": {
          "base_uri": "https://localhost:8080/"
        },
        "id": "xEFfkn9V52Y9",
        "outputId": "80eab3b4-573e-4138-dcbd-63e41dd8b33d"
      },
      "source": [
        "for i in range(5):\n",
        "  print(fake.date_between(start_date='-50y', end_date='-30y'))"
      ],
      "execution_count": null,
      "outputs": [
        {
          "output_type": "stream",
          "name": "stdout",
          "text": [
            "1971-11-28\n",
            "1983-11-07\n",
            "1974-01-26\n",
            "1982-02-18\n",
            "1980-09-06\n"
          ]
        }
      ]
    },
    {
      "cell_type": "markdown",
      "metadata": {
        "id": "Tcopgn4M6eAN"
      },
      "source": [
        "## Números"
      ]
    },
    {
      "cell_type": "code",
      "metadata": {
        "id": "H21m8sGB6Nbc"
      },
      "source": [
        "import random"
      ],
      "execution_count": null,
      "outputs": []
    },
    {
      "cell_type": "code",
      "metadata": {
        "colab": {
          "base_uri": "https://localhost:8080/"
        },
        "id": "mhgErqdo6NX7",
        "outputId": "c57a8259-0b1a-4568-f5a6-41383e063224"
      },
      "source": [
        "print(random.random())\n",
        "print(random.randint(20,90))\n",
        "print(random.randrange(10,20,2))\n",
        "print(random.uniform(10,20))\n",
        "print(random.choice([5,8,9]))\n",
        "print(random.choice([True, False]))"
      ],
      "execution_count": null,
      "outputs": [
        {
          "output_type": "stream",
          "name": "stdout",
          "text": [
            "0.5201139172715541\n",
            "33\n",
            "12\n",
            "19.69296041626155\n",
            "9\n",
            "True\n"
          ]
        }
      ]
    },
    {
      "cell_type": "code",
      "metadata": {
        "colab": {
          "base_uri": "https://localhost:8080/"
        },
        "id": "22T8jKqz6NUj",
        "outputId": "86e2612e-32a1-4eb3-9a16-dc5c97fb991a"
      },
      "source": [
        "for i in range(5):\n",
        "  print(random.randint(20,90))"
      ],
      "execution_count": null,
      "outputs": [
        {
          "output_type": "stream",
          "name": "stdout",
          "text": [
            "60\n",
            "79\n",
            "72\n",
            "34\n",
            "40\n"
          ]
        }
      ]
    },
    {
      "cell_type": "markdown",
      "metadata": {
        "id": "G_m8utJb-UcI"
      },
      "source": [
        "## Otros"
      ]
    },
    {
      "cell_type": "code",
      "metadata": {
        "colab": {
          "base_uri": "https://localhost:8080/"
        },
        "id": "YLn7a-Hz-ZwJ",
        "outputId": "9d4f7254-389a-4afc-b8cb-05de9bcb311d"
      },
      "source": [
        "!pip install pycountry"
      ],
      "execution_count": null,
      "outputs": [
        {
          "output_type": "stream",
          "name": "stdout",
          "text": [
            "Requirement already satisfied: pycountry in /usr/local/lib/python3.7/dist-packages (20.7.3)\n"
          ]
        }
      ]
    },
    {
      "cell_type": "code",
      "metadata": {
        "id": "HDjeVHQp-YSL"
      },
      "source": [
        "import pycountry"
      ],
      "execution_count": null,
      "outputs": []
    },
    {
      "cell_type": "code",
      "metadata": {
        "colab": {
          "base_uri": "https://localhost:8080/"
        },
        "id": "0B8EL5OD-4Jb",
        "outputId": "f2b59504-afd2-471a-dc69-69f420774240"
      },
      "source": [
        "print(len(pycountry.countries))"
      ],
      "execution_count": null,
      "outputs": [
        {
          "output_type": "stream",
          "name": "stdout",
          "text": [
            "249\n"
          ]
        }
      ]
    },
    {
      "cell_type": "code",
      "metadata": {
        "colab": {
          "base_uri": "https://localhost:8080/"
        },
        "id": "461GgwLz-i87",
        "outputId": "ca61b7be-c22e-489f-8ef6-b5a48d18acb6"
      },
      "source": [
        "print(list(pycountry.countries)[50])"
      ],
      "execution_count": null,
      "outputs": [
        {
          "output_type": "stream",
          "name": "stdout",
          "text": [
            "Country(alpha_2='KM', alpha_3='COM', name='Comoros', numeric='174', official_name='Union of the Comoros')\n"
          ]
        }
      ]
    },
    {
      "cell_type": "code",
      "metadata": {
        "colab": {
          "base_uri": "https://localhost:8080/"
        },
        "id": "g-6PDOqB-7fj",
        "outputId": "a5aee7f9-3607-4d3b-91f1-31ceccd6ba66"
      },
      "source": [
        "print(list(pycountry.countries)[random.randint(0,len(pycountry.countries))])"
      ],
      "execution_count": null,
      "outputs": [
        {
          "output_type": "stream",
          "name": "stdout",
          "text": [
            "Country(alpha_2='TR', alpha_3='TUR', name='Turkey', numeric='792', official_name='Republic of Turkey')\n"
          ]
        }
      ]
    },
    {
      "cell_type": "code",
      "metadata": {
        "colab": {
          "base_uri": "https://localhost:8080/"
        },
        "id": "rmY5242R_Fvs",
        "outputId": "a7fdfea7-77a7-4f54-9cdd-6ca3c8f49907"
      },
      "source": [
        "pais = list(pycountry.countries)[random.randint(0,len(pycountry.countries))]\n",
        "print(pais)\n",
        "print(pais.name)"
      ],
      "execution_count": null,
      "outputs": [
        {
          "output_type": "stream",
          "name": "stdout",
          "text": [
            "Country(alpha_2='PT', alpha_3='PRT', name='Portugal', numeric='620', official_name='Portuguese Republic')\n",
            "Portugal\n"
          ]
        }
      ]
    },
    {
      "cell_type": "code",
      "metadata": {
        "colab": {
          "base_uri": "https://localhost:8080/"
        },
        "id": "rlRuLfdo_IGc",
        "outputId": "2cb9252e-164e-4f66-f782-b06cfd7d2306"
      },
      "source": [
        "for i in range(5):\n",
        "  print(list(pycountry.countries)[random.randint(0,len(pycountry.countries))].name)"
      ],
      "execution_count": null,
      "outputs": [
        {
          "output_type": "stream",
          "name": "stdout",
          "text": [
            "Mauritius\n",
            "Ethiopia\n",
            "Brazil\n",
            "Samoa\n",
            "Greece\n"
          ]
        }
      ]
    },
    {
      "cell_type": "markdown",
      "metadata": {
        "id": "CJt-ucrb7YnP"
      },
      "source": [
        "## Función para crear un dato aleatoriamente"
      ]
    },
    {
      "cell_type": "code",
      "metadata": {
        "id": "ShjLX2OI7YLi"
      },
      "source": [
        "def generar_registro():\n",
        "  if random.choice([True,False]):\n",
        "    nombre = names.get_first_name(gender='male')\n",
        "    sexo = \"masculino\"\n",
        "  else:\n",
        "    nombre = names.get_first_name(gender='female')\n",
        "    sexo = \"femenino\"\n",
        "  \n",
        "  apellido = names.get_last_name()\n",
        "\n",
        "  fecha_nacimiento = fake.date_between(start_date='-50y', end_date='-30y')\n",
        "\n",
        "  id = random.randint(1000000,9999999)\n",
        "\n",
        "  dato_01 = random.randint(0,1000)\n",
        "  dato_02 = random.randint(0,1000)\n",
        "  dato_03 = random.uniform(0,1000)\n",
        "  dato_04 = random.uniform(0,1000)\n",
        "\n",
        "  probabilidad_error = 0.1\n",
        "\n",
        "  # if random.random() < probabilidad_error: id = np.nan\n",
        "  if random.random() < probabilidad_error: nombre = \"???\"\n",
        "  if random.random() < probabilidad_error: apellido = np.nan\n",
        "  if random.random() < probabilidad_error: sexo = np.nan\n",
        "  if random.random() < probabilidad_error: fecha_nacimiento = np.nan\n",
        "  if random.random() < probabilidad_error: dato_01 = np.nan\n",
        "  if random.random() < probabilidad_error: dato_02 = np.nan\n",
        "  if random.random() < probabilidad_error: dato_03 = np.nan\n",
        "  if random.random() < probabilidad_error: dato_04 = np.nan\n",
        " \n",
        "  \n",
        "\n",
        "\n",
        "  return id, nombre, apellido, sexo, fecha_nacimiento, dato_01, dato_02, dato_03, dato_04\n",
        "\n",
        "\n"
      ],
      "execution_count": null,
      "outputs": []
    },
    {
      "cell_type": "code",
      "metadata": {
        "colab": {
          "base_uri": "https://localhost:8080/"
        },
        "id": "PcEReCWGQwJa",
        "outputId": "266af984-9b13-4495-ad54-fbdc98ecab53"
      },
      "source": [
        "generar_registro()"
      ],
      "execution_count": null,
      "outputs": [
        {
          "output_type": "execute_result",
          "data": {
            "text/plain": [
              "(3805775,\n",
              " 'Ben',\n",
              " 'Davis',\n",
              " nan,\n",
              " datetime.date(1987, 5, 20),\n",
              " 61,\n",
              " 650,\n",
              " nan,\n",
              " 622.3581138828695)"
            ]
          },
          "metadata": {},
          "execution_count": 102
        }
      ]
    },
    {
      "cell_type": "code",
      "metadata": {
        "colab": {
          "base_uri": "https://localhost:8080/"
        },
        "id": "zcyRm0QY88tQ",
        "outputId": "725e1fc6-fddc-4914-9a86-0b6c6fbd3b30"
      },
      "source": [
        "for i in range(20):\n",
        "  lista = generar_registro()\n",
        "  print(lista)"
      ],
      "execution_count": null,
      "outputs": [
        {
          "output_type": "stream",
          "name": "stdout",
          "text": [
            "(8073002, '???', 'Hanes', nan, datetime.date(1981, 1, 21), 132, 800, 378.81141514906346, 871.5183593186641)\n",
            "(9256349, 'Mary', 'Morris', 'femenino', datetime.date(1981, 2, 7), 429, 120, 180.11884442345294, 644.4468958681618)\n",
            "(3038091, 'Charles', 'Transue', 'masculino', nan, 690, 90, 820.5383832738718, 581.7280787747644)\n",
            "(8581504, 'Frederick', 'Lorenzen', 'masculino', datetime.date(1979, 4, 18), 37, 322, 432.96629191052574, 658.87667658735)\n",
            "(1597244, 'Beverly', 'Curry', nan, datetime.date(1982, 4, 22), 570, 387, 728.7259649388234, 155.0240369425766)\n",
            "(6717094, 'Pamela', 'Vaughn', 'femenino', datetime.date(1990, 6, 13), 153, 363, 74.78181126877936, 974.5940326853649)\n",
            "(1483162, 'Elnora', 'Peel', 'femenino', datetime.date(1985, 8, 14), 587, 781, 29.188518789252882, 369.9493739364117)\n",
            "(4015940, 'Marcella', 'Drew', 'femenino', nan, nan, 254, 710.6000692819418, 645.7568386245124)\n",
            "(5412609, 'Shannon', 'Wilbanks', 'femenino', datetime.date(1972, 6, 8), 833, nan, 261.5007767961346, 707.9952680575594)\n",
            "(6604027, 'Linda', nan, 'femenino', datetime.date(1986, 10, 28), nan, 115, 330.24518590979477, nan)\n",
            "(8217670, 'Frederick', 'Harper', 'masculino', datetime.date(1977, 3, 7), 596, 393, 539.1930044110711, 840.4865985964323)\n",
            "(1856977, 'Mary', 'Hernandez', 'femenino', datetime.date(1986, 7, 4), 56, 629, 992.9650592306139, 778.2106256409817)\n",
            "(1841780, 'Jessica', 'Perry', 'femenino', datetime.date(1978, 8, 14), 671, nan, 667.236905401362, nan)\n",
            "(1165483, 'John', 'Sandlin', 'masculino', datetime.date(1984, 3, 12), 342, nan, 89.59283480661418, nan)\n",
            "(5228105, 'Mickey', 'Harmon', 'masculino', datetime.date(1990, 10, 14), 107, nan, 261.72586665993214, 731.4957779012226)\n",
            "(7205951, 'Jana', 'Batton', 'femenino', datetime.date(1976, 5, 16), 262, 740, 474.06519045584685, 36.46798532782925)\n",
            "(3128319, '???', 'Fields', nan, datetime.date(1985, 6, 17), nan, 134, 962.179098984325, 578.0588841032242)\n",
            "(3285306, 'Shirley', 'Wood', 'femenino', datetime.date(1983, 10, 29), 150, 318, 308.74700469117033, 883.1525243264197)\n",
            "(2124264, 'Gerardo', 'Mahler', 'masculino', datetime.date(1990, 12, 3), nan, 356, 429.1463055233673, 572.8009743827586)\n",
            "(4993006, 'Pearlie', 'Arya', nan, datetime.date(1983, 11, 20), 118, 170, 113.12015210195425, 339.29389755785246)\n"
          ]
        }
      ]
    },
    {
      "cell_type": "code",
      "metadata": {
        "colab": {
          "base_uri": "https://localhost:8080/"
        },
        "id": "4ZRgQlgERX_P",
        "outputId": "334d4cc6-da65-4734-bf68-7cbca4d36460"
      },
      "source": [
        "dataframe_nombres = pd.DataFrame(columns=[\"id\", \"nombre\", \"apellido\", \"sexo\", \"fecha de nacimiento\", \"dato 01\", \"dato 02\", \"dato 03\", \"dato 04\"])\n",
        "\n",
        "print(dataframe_nombres)\n"
      ],
      "execution_count": null,
      "outputs": [
        {
          "output_type": "stream",
          "name": "stdout",
          "text": [
            "Empty DataFrame\n",
            "Columns: [id, nombre, apellido, sexo, fecha de nacimiento, dato 01, dato 02, dato 03, dato 04]\n",
            "Index: []\n"
          ]
        }
      ]
    },
    {
      "cell_type": "code",
      "metadata": {
        "id": "n9ffu0ThqUem"
      },
      "source": [
        "dataframe_nombres = pd.DataFrame(columns=[\"id\", \"nombre\", \"apellido\", \"sexo\", \"fecha de nacimiento\", \"dato 01\", \"dato 02\", \"dato 03\", \"dato 04\"])\n",
        "\n",
        "for i in range(50):\n",
        "  id, nombre, apellido, sexo, fecha_nacimiento, dato_01, dato_02, dato_03, dato_04 = generar_registro()\n",
        "  dato_nuevo = {\"id\": id,\n",
        "        \"nombre\": nombre,\n",
        "        \"apellido\": apellido,\n",
        "        \"sexo\": sexo,\n",
        "        \"fecha de nacimiento\": fecha_nacimiento,\n",
        "        \"dato 01\": dato_01,\n",
        "        \"dato 02\": dato_02,\n",
        "        \"dato 03\": dato_03,\n",
        "        \"dato 04\": dato_04\n",
        "  }\n",
        "\n",
        "  dataframe_nombres = dataframe_nombres.append(dato_nuevo, ignore_index=True)\n",
        "\n",
        "\n",
        "# guardar el DataFrame como csv\n",
        "dataframe_nombres.to_csv('mi_archivo_csv.csv', index=False)"
      ],
      "execution_count": null,
      "outputs": []
    },
    {
      "cell_type": "code",
      "metadata": {
        "id": "1ebt7ACQS8vO"
      },
      "source": [
        "dataframe_nombres.to_csv('mi_archivo_csv_1.csv', index=True)"
      ],
      "execution_count": null,
      "outputs": []
    },
    {
      "cell_type": "code",
      "metadata": {
        "colab": {
          "base_uri": "https://localhost:8080/"
        },
        "id": "XIuV9n6SqUbb",
        "outputId": "c2c1f92f-746d-4536-80db-71c4c86a51c5"
      },
      "source": [
        "print(dataframe_nombres)"
      ],
      "execution_count": null,
      "outputs": [
        {
          "output_type": "stream",
          "name": "stdout",
          "text": [
            "         id     nombre   apellido  ... dato 02     dato 03     dato 04\n",
            "0   4292166      Glenn   Hubertus  ...     666         NaN    8.348096\n",
            "1   4660687      Jesse    Andrews  ...     678  531.908726         NaN\n",
            "2   2083836     Harold    Maulden  ...     940  634.372023  774.595716\n",
            "3   8070304    Darrick     Graham  ...     176  181.339371  419.969781\n",
            "4   2664601   Madeline      Corns  ...     NaN  405.608945         NaN\n",
            "5   2312309      James  Mcfarland  ...     795  275.142805  873.447967\n",
            "6   5090841        ???        NaN  ...     139  791.892719  475.066515\n",
            "7   5055108       Jeff      Piper  ...     392  327.593104  976.313296\n",
            "8   4222113        Max    Allegra  ...     385  268.400996  265.210264\n",
            "9   5428583       Mimi    Maxwell  ...     243  157.481774  426.939683\n",
            "10  1007469      Wanda       Burt  ...     504  709.203480  578.718582\n",
            "11  6497735    Crystal    Lavelle  ...     813  444.283423  866.470594\n",
            "12  2479885     Judith        NaN  ...     176  146.491995  548.467254\n",
            "13  2786655       Mary        NaN  ...     317  679.721783  894.378825\n",
            "14  9348656        ???     Fricke  ...     369  171.569390  120.983420\n",
            "15  1945735    Stanley   Roderick  ...     202   95.919213         NaN\n",
            "16  6910445     Robert     Parker  ...     425  684.884157  781.899476\n",
            "17  7267886     Dwight     Albino  ...     641  192.767701  402.148325\n",
            "18  9010043     Eugene     Orozco  ...      83  102.453252  120.386433\n",
            "19  6120269      Casey     Watson  ...     607   34.027543  114.493141\n",
            "20  9541242      Diane    Grenier  ...     542  446.349352  414.963482\n",
            "21  5880168       Alex      Hicks  ...     951  177.843045  921.834868\n",
            "22  5217160     Harold   Metivier  ...      29  938.937514  779.415939\n",
            "23  6094234      Alice       Kane  ...     812  336.236790  480.610693\n",
            "24  9695376   Danielle    Simpson  ...     137  918.232060  371.214999\n",
            "25  4849092  Catherine      Green  ...     NaN  993.932350  471.824089\n",
            "26  6484634      Brian        NaN  ...     203  349.211183         NaN\n",
            "27  1272526    Harriet     Reilly  ...     745  926.932778  521.791550\n",
            "28  1183343      Keith      Andes  ...     386  228.738205   18.387064\n",
            "29  1384708    Frances        NaN  ...     980  147.102588  259.565053\n",
            "30  7312826     Robert   Lapierre  ...     125  315.197015  676.431428\n",
            "31  6321489        ???      Omara  ...      77  220.913964  250.256204\n",
            "32  6667157       Rosa      Grant  ...     663  692.048386  686.330655\n",
            "33  2299917        ???   Phillips  ...     802  113.107506  222.662909\n",
            "34  1789947        ???   Anderson  ...     554  941.033761    7.133942\n",
            "35  7033621    Annette       Simm  ...     856   14.003894  741.738159\n",
            "36  3841383     Luther   Robinson  ...     488   19.060838  345.545005\n",
            "37  9607843    Suzanne     Rincon  ...     661  551.448196  824.835620\n",
            "38  9328845     Trisha      Hague  ...     802  837.335328  752.771586\n",
            "39  5295642  Katherine  Gutierrez  ...     444  135.127939  404.796242\n",
            "40  2821714    Richard     Howard  ...     815  969.838392  297.443130\n",
            "41  4857361      Debra    Monarez  ...     281  774.698606         NaN\n",
            "42  3819168       Kris  Armstrong  ...     105  664.534002  143.061001\n",
            "43  5018014     Thomas     Tongue  ...     145  976.394745  809.289486\n",
            "44  2076649       Lara      Soucy  ...     NaN  455.914487  701.041567\n",
            "45  4297762     Harold     Howard  ...     173  965.993949  751.407470\n",
            "46  6667462      Mario       Tate  ...     381  186.256052  169.403874\n",
            "47  9112214      Leila    Fuentes  ...     394  786.760581  571.549874\n",
            "48  9035777      Katie     Hardin  ...     179         NaN  404.242245\n",
            "49  9479397     Brenda     Arnold  ...     447         NaN  934.527206\n",
            "\n",
            "[50 rows x 9 columns]\n"
          ]
        }
      ]
    },
    {
      "cell_type": "code",
      "metadata": {
        "colab": {
          "base_uri": "https://localhost:8080/"
        },
        "id": "bXlHA675qUYk",
        "outputId": "0db0a2b9-b63c-44c6-88b2-2b6893e30509"
      },
      "source": [
        "data = pd.read_csv('mi_archivo_csv.csv')\n",
        "print(data)"
      ],
      "execution_count": null,
      "outputs": [
        {
          "output_type": "stream",
          "name": "stdout",
          "text": [
            "         id     nombre   apellido  ... dato 02     dato 03     dato 04\n",
            "0   4292166      Glenn   Hubertus  ...   666.0         NaN    8.348096\n",
            "1   4660687      Jesse    Andrews  ...   678.0  531.908726         NaN\n",
            "2   2083836     Harold    Maulden  ...   940.0  634.372023  774.595716\n",
            "3   8070304    Darrick     Graham  ...   176.0  181.339371  419.969781\n",
            "4   2664601   Madeline      Corns  ...     NaN  405.608945         NaN\n",
            "5   2312309      James  Mcfarland  ...   795.0  275.142805  873.447967\n",
            "6   5090841        ???        NaN  ...   139.0  791.892719  475.066515\n",
            "7   5055108       Jeff      Piper  ...   392.0  327.593104  976.313296\n",
            "8   4222113        Max    Allegra  ...   385.0  268.400996  265.210264\n",
            "9   5428583       Mimi    Maxwell  ...   243.0  157.481774  426.939683\n",
            "10  1007469      Wanda       Burt  ...   504.0  709.203480  578.718582\n",
            "11  6497735    Crystal    Lavelle  ...   813.0  444.283423  866.470594\n",
            "12  2479885     Judith        NaN  ...   176.0  146.491995  548.467254\n",
            "13  2786655       Mary        NaN  ...   317.0  679.721783  894.378825\n",
            "14  9348656        ???     Fricke  ...   369.0  171.569390  120.983420\n",
            "15  1945735    Stanley   Roderick  ...   202.0   95.919213         NaN\n",
            "16  6910445     Robert     Parker  ...   425.0  684.884157  781.899476\n",
            "17  7267886     Dwight     Albino  ...   641.0  192.767701  402.148325\n",
            "18  9010043     Eugene     Orozco  ...    83.0  102.453252  120.386433\n",
            "19  6120269      Casey     Watson  ...   607.0   34.027543  114.493141\n",
            "20  9541242      Diane    Grenier  ...   542.0  446.349352  414.963482\n",
            "21  5880168       Alex      Hicks  ...   951.0  177.843045  921.834868\n",
            "22  5217160     Harold   Metivier  ...    29.0  938.937514  779.415939\n",
            "23  6094234      Alice       Kane  ...   812.0  336.236790  480.610693\n",
            "24  9695376   Danielle    Simpson  ...   137.0  918.232060  371.214999\n",
            "25  4849092  Catherine      Green  ...     NaN  993.932350  471.824089\n",
            "26  6484634      Brian        NaN  ...   203.0  349.211183         NaN\n",
            "27  1272526    Harriet     Reilly  ...   745.0  926.932778  521.791550\n",
            "28  1183343      Keith      Andes  ...   386.0  228.738205   18.387064\n",
            "29  1384708    Frances        NaN  ...   980.0  147.102588  259.565053\n",
            "30  7312826     Robert   Lapierre  ...   125.0  315.197015  676.431428\n",
            "31  6321489        ???      Omara  ...    77.0  220.913964  250.256204\n",
            "32  6667157       Rosa      Grant  ...   663.0  692.048386  686.330655\n",
            "33  2299917        ???   Phillips  ...   802.0  113.107506  222.662909\n",
            "34  1789947        ???   Anderson  ...   554.0  941.033761    7.133942\n",
            "35  7033621    Annette       Simm  ...   856.0   14.003894  741.738159\n",
            "36  3841383     Luther   Robinson  ...   488.0   19.060838  345.545005\n",
            "37  9607843    Suzanne     Rincon  ...   661.0  551.448196  824.835620\n",
            "38  9328845     Trisha      Hague  ...   802.0  837.335328  752.771586\n",
            "39  5295642  Katherine  Gutierrez  ...   444.0  135.127939  404.796242\n",
            "40  2821714    Richard     Howard  ...   815.0  969.838392  297.443130\n",
            "41  4857361      Debra    Monarez  ...   281.0  774.698606         NaN\n",
            "42  3819168       Kris  Armstrong  ...   105.0  664.534002  143.061001\n",
            "43  5018014     Thomas     Tongue  ...   145.0  976.394745  809.289486\n",
            "44  2076649       Lara      Soucy  ...     NaN  455.914487  701.041567\n",
            "45  4297762     Harold     Howard  ...   173.0  965.993949  751.407470\n",
            "46  6667462      Mario       Tate  ...   381.0  186.256052  169.403874\n",
            "47  9112214      Leila    Fuentes  ...   394.0  786.760581  571.549874\n",
            "48  9035777      Katie     Hardin  ...   179.0         NaN  404.242245\n",
            "49  9479397     Brenda     Arnold  ...   447.0         NaN  934.527206\n",
            "\n",
            "[50 rows x 9 columns]\n"
          ]
        }
      ]
    },
    {
      "cell_type": "code",
      "metadata": {
        "colab": {
          "base_uri": "https://localhost:8080/"
        },
        "id": "nnJ_V5HvqUV3",
        "outputId": "86e0afcb-dfaa-4f71-cb88-9aa4c464ba9d"
      },
      "source": [
        "data = pd.read_csv('mi_archivo_csv.csv', index_col=\"id\")\n",
        "print(data)"
      ],
      "execution_count": null,
      "outputs": [
        {
          "output_type": "stream",
          "name": "stdout",
          "text": [
            "            nombre   apellido       sexo  ... dato 02     dato 03     dato 04\n",
            "id                                        ...                                \n",
            "4292166      Glenn   Hubertus  masculino  ...   666.0         NaN    8.348096\n",
            "4660687      Jesse    Andrews  masculino  ...   678.0  531.908726         NaN\n",
            "2083836     Harold    Maulden  masculino  ...   940.0  634.372023  774.595716\n",
            "8070304    Darrick     Graham  masculino  ...   176.0  181.339371  419.969781\n",
            "2664601   Madeline      Corns   femenino  ...     NaN  405.608945         NaN\n",
            "2312309      James  Mcfarland  masculino  ...   795.0  275.142805  873.447967\n",
            "5090841        ???        NaN  masculino  ...   139.0  791.892719  475.066515\n",
            "5055108       Jeff      Piper  masculino  ...   392.0  327.593104  976.313296\n",
            "4222113        Max    Allegra  masculino  ...   385.0  268.400996  265.210264\n",
            "5428583       Mimi    Maxwell   femenino  ...   243.0  157.481774  426.939683\n",
            "1007469      Wanda       Burt   femenino  ...   504.0  709.203480  578.718582\n",
            "6497735    Crystal    Lavelle   femenino  ...   813.0  444.283423  866.470594\n",
            "2479885     Judith        NaN   femenino  ...   176.0  146.491995  548.467254\n",
            "2786655       Mary        NaN   femenino  ...   317.0  679.721783  894.378825\n",
            "9348656        ???     Fricke  masculino  ...   369.0  171.569390  120.983420\n",
            "1945735    Stanley   Roderick        NaN  ...   202.0   95.919213         NaN\n",
            "6910445     Robert     Parker  masculino  ...   425.0  684.884157  781.899476\n",
            "7267886     Dwight     Albino  masculino  ...   641.0  192.767701  402.148325\n",
            "9010043     Eugene     Orozco  masculino  ...    83.0  102.453252  120.386433\n",
            "6120269      Casey     Watson   femenino  ...   607.0   34.027543  114.493141\n",
            "9541242      Diane    Grenier   femenino  ...   542.0  446.349352  414.963482\n",
            "5880168       Alex      Hicks  masculino  ...   951.0  177.843045  921.834868\n",
            "5217160     Harold   Metivier  masculino  ...    29.0  938.937514  779.415939\n",
            "6094234      Alice       Kane   femenino  ...   812.0  336.236790  480.610693\n",
            "9695376   Danielle    Simpson   femenino  ...   137.0  918.232060  371.214999\n",
            "4849092  Catherine      Green   femenino  ...     NaN  993.932350  471.824089\n",
            "6484634      Brian        NaN  masculino  ...   203.0  349.211183         NaN\n",
            "1272526    Harriet     Reilly   femenino  ...   745.0  926.932778  521.791550\n",
            "1183343      Keith      Andes  masculino  ...   386.0  228.738205   18.387064\n",
            "1384708    Frances        NaN   femenino  ...   980.0  147.102588  259.565053\n",
            "7312826     Robert   Lapierre  masculino  ...   125.0  315.197015  676.431428\n",
            "6321489        ???      Omara   femenino  ...    77.0  220.913964  250.256204\n",
            "6667157       Rosa      Grant   femenino  ...   663.0  692.048386  686.330655\n",
            "2299917        ???   Phillips        NaN  ...   802.0  113.107506  222.662909\n",
            "1789947        ???   Anderson   femenino  ...   554.0  941.033761    7.133942\n",
            "7033621    Annette       Simm   femenino  ...   856.0   14.003894  741.738159\n",
            "3841383     Luther   Robinson  masculino  ...   488.0   19.060838  345.545005\n",
            "9607843    Suzanne     Rincon        NaN  ...   661.0  551.448196  824.835620\n",
            "9328845     Trisha      Hague   femenino  ...   802.0  837.335328  752.771586\n",
            "5295642  Katherine  Gutierrez   femenino  ...   444.0  135.127939  404.796242\n",
            "2821714    Richard     Howard  masculino  ...   815.0  969.838392  297.443130\n",
            "4857361      Debra    Monarez        NaN  ...   281.0  774.698606         NaN\n",
            "3819168       Kris  Armstrong   femenino  ...   105.0  664.534002  143.061001\n",
            "5018014     Thomas     Tongue  masculino  ...   145.0  976.394745  809.289486\n",
            "2076649       Lara      Soucy   femenino  ...     NaN  455.914487  701.041567\n",
            "4297762     Harold     Howard  masculino  ...   173.0  965.993949  751.407470\n",
            "6667462      Mario       Tate  masculino  ...   381.0  186.256052  169.403874\n",
            "9112214      Leila    Fuentes   femenino  ...   394.0  786.760581  571.549874\n",
            "9035777      Katie     Hardin   femenino  ...   179.0         NaN  404.242245\n",
            "9479397     Brenda     Arnold   femenino  ...   447.0         NaN  934.527206\n",
            "\n",
            "[50 rows x 8 columns]\n"
          ]
        }
      ]
    },
    {
      "cell_type": "code",
      "metadata": {
        "colab": {
          "base_uri": "https://localhost:8080/"
        },
        "id": "V-LJVgPYqUTC",
        "outputId": "b6734fd7-8228-4e88-eabc-d3e4cafddd5d"
      },
      "source": [
        "data = pd.read_csv(\n",
        "    'mi_archivo_csv.csv',      # camino del archivo csv\n",
        "    dtype={\"id\": str},             # pasar los datos de la columna id como float\n",
        "    na_values=['.', '???']       # tomar cualquier '.' o '???' como valores NA\n",
        ")\n",
        "print(data)"
      ],
      "execution_count": null,
      "outputs": [
        {
          "output_type": "stream",
          "name": "stdout",
          "text": [
            "         id     nombre   apellido  ... dato 02     dato 03     dato 04\n",
            "0   4292166      Glenn   Hubertus  ...   666.0         NaN    8.348096\n",
            "1   4660687      Jesse    Andrews  ...   678.0  531.908726         NaN\n",
            "2   2083836     Harold    Maulden  ...   940.0  634.372023  774.595716\n",
            "3   8070304    Darrick     Graham  ...   176.0  181.339371  419.969781\n",
            "4   2664601   Madeline      Corns  ...     NaN  405.608945         NaN\n",
            "5   2312309      James  Mcfarland  ...   795.0  275.142805  873.447967\n",
            "6   5090841        NaN        NaN  ...   139.0  791.892719  475.066515\n",
            "7   5055108       Jeff      Piper  ...   392.0  327.593104  976.313296\n",
            "8   4222113        Max    Allegra  ...   385.0  268.400996  265.210264\n",
            "9   5428583       Mimi    Maxwell  ...   243.0  157.481774  426.939683\n",
            "10  1007469      Wanda       Burt  ...   504.0  709.203480  578.718582\n",
            "11  6497735    Crystal    Lavelle  ...   813.0  444.283423  866.470594\n",
            "12  2479885     Judith        NaN  ...   176.0  146.491995  548.467254\n",
            "13  2786655       Mary        NaN  ...   317.0  679.721783  894.378825\n",
            "14  9348656        NaN     Fricke  ...   369.0  171.569390  120.983420\n",
            "15  1945735    Stanley   Roderick  ...   202.0   95.919213         NaN\n",
            "16  6910445     Robert     Parker  ...   425.0  684.884157  781.899476\n",
            "17  7267886     Dwight     Albino  ...   641.0  192.767701  402.148325\n",
            "18  9010043     Eugene     Orozco  ...    83.0  102.453252  120.386433\n",
            "19  6120269      Casey     Watson  ...   607.0   34.027543  114.493141\n",
            "20  9541242      Diane    Grenier  ...   542.0  446.349352  414.963482\n",
            "21  5880168       Alex      Hicks  ...   951.0  177.843045  921.834868\n",
            "22  5217160     Harold   Metivier  ...    29.0  938.937514  779.415939\n",
            "23  6094234      Alice       Kane  ...   812.0  336.236790  480.610693\n",
            "24  9695376   Danielle    Simpson  ...   137.0  918.232060  371.214999\n",
            "25  4849092  Catherine      Green  ...     NaN  993.932350  471.824089\n",
            "26  6484634      Brian        NaN  ...   203.0  349.211183         NaN\n",
            "27  1272526    Harriet     Reilly  ...   745.0  926.932778  521.791550\n",
            "28  1183343      Keith      Andes  ...   386.0  228.738205   18.387064\n",
            "29  1384708    Frances        NaN  ...   980.0  147.102588  259.565053\n",
            "30  7312826     Robert   Lapierre  ...   125.0  315.197015  676.431428\n",
            "31  6321489        NaN      Omara  ...    77.0  220.913964  250.256204\n",
            "32  6667157       Rosa      Grant  ...   663.0  692.048386  686.330655\n",
            "33  2299917        NaN   Phillips  ...   802.0  113.107506  222.662909\n",
            "34  1789947        NaN   Anderson  ...   554.0  941.033761    7.133942\n",
            "35  7033621    Annette       Simm  ...   856.0   14.003894  741.738159\n",
            "36  3841383     Luther   Robinson  ...   488.0   19.060838  345.545005\n",
            "37  9607843    Suzanne     Rincon  ...   661.0  551.448196  824.835620\n",
            "38  9328845     Trisha      Hague  ...   802.0  837.335328  752.771586\n",
            "39  5295642  Katherine  Gutierrez  ...   444.0  135.127939  404.796242\n",
            "40  2821714    Richard     Howard  ...   815.0  969.838392  297.443130\n",
            "41  4857361      Debra    Monarez  ...   281.0  774.698606         NaN\n",
            "42  3819168       Kris  Armstrong  ...   105.0  664.534002  143.061001\n",
            "43  5018014     Thomas     Tongue  ...   145.0  976.394745  809.289486\n",
            "44  2076649       Lara      Soucy  ...     NaN  455.914487  701.041567\n",
            "45  4297762     Harold     Howard  ...   173.0  965.993949  751.407470\n",
            "46  6667462      Mario       Tate  ...   381.0  186.256052  169.403874\n",
            "47  9112214      Leila    Fuentes  ...   394.0  786.760581  571.549874\n",
            "48  9035777      Katie     Hardin  ...   179.0         NaN  404.242245\n",
            "49  9479397     Brenda     Arnold  ...   447.0         NaN  934.527206\n",
            "\n",
            "[50 rows x 9 columns]\n"
          ]
        }
      ]
    },
    {
      "cell_type": "code",
      "metadata": {
        "id": "ZSoRB9-BqUQN"
      },
      "source": [
        ""
      ],
      "execution_count": null,
      "outputs": []
    },
    {
      "cell_type": "code",
      "metadata": {
        "id": "yc6CFRUR2Iup"
      },
      "source": [
        "data = pd.read_csv(\n",
        "    'mi_archivo_csv.csv',      # camino del archivo csv\n",
        "    sep=',',                    # separación de columnas\n",
        "    quotechar=\"'\",        # comillas simples permitidas como carácter de comillas\n",
        "    dtype={\"id\": float},             # pasar los datos de la columna id como float\n",
        "    #usecols=['id', 'nombre', 'dato 04', \"fecha de nacimiento\"],   # cargar solamente las columnas indicadas\n",
        "    #parse_dates=['fecha de nacimiento'],     # Intepret the birth_date column as a date\n",
        "    skiprows=10,        # saltar las primeras 10 filas\n",
        "    na_values=['.', '???']       # tomar cualquier '.' o '???' como valores NA\n",
        ")\n"
      ],
      "execution_count": null,
      "outputs": []
    },
    {
      "cell_type": "code",
      "metadata": {
        "id": "JuFk_FuP0DXE"
      },
      "source": [
        ""
      ],
      "execution_count": null,
      "outputs": []
    },
    {
      "cell_type": "code",
      "metadata": {
        "id": "tWmNfrVw0DTQ"
      },
      "source": [
        ""
      ],
      "execution_count": null,
      "outputs": []
    },
    {
      "cell_type": "code",
      "metadata": {
        "colab": {
          "base_uri": "https://localhost:8080/"
        },
        "id": "Mf9jr5xz0DPs",
        "outputId": "46956cea-83e6-4516-b649-0b0db772b09f"
      },
      "source": [
        "# primeras filas\n",
        "data = pd.read_csv('mi_archivo_csv.csv')\n",
        "print(data.head(8))"
      ],
      "execution_count": null,
      "outputs": [
        {
          "output_type": "stream",
          "name": "stdout",
          "text": [
            "        id    nombre   apellido  ... dato 02     dato 03     dato 04\n",
            "0  4292166     Glenn   Hubertus  ...   666.0         NaN    8.348096\n",
            "1  4660687     Jesse    Andrews  ...   678.0  531.908726         NaN\n",
            "2  2083836    Harold    Maulden  ...   940.0  634.372023  774.595716\n",
            "3  8070304   Darrick     Graham  ...   176.0  181.339371  419.969781\n",
            "4  2664601  Madeline      Corns  ...     NaN  405.608945         NaN\n",
            "5  2312309     James  Mcfarland  ...   795.0  275.142805  873.447967\n",
            "6  5090841       ???        NaN  ...   139.0  791.892719  475.066515\n",
            "7  5055108      Jeff      Piper  ...   392.0  327.593104  976.313296\n",
            "\n",
            "[8 rows x 9 columns]\n"
          ]
        }
      ]
    },
    {
      "cell_type": "code",
      "metadata": {
        "colab": {
          "base_uri": "https://localhost:8080/"
        },
        "id": "NGNq4gVa0GbU",
        "outputId": "a0c0588b-1c45-433e-e346-6ef32df1a9bc"
      },
      "source": [
        "# últimas filas\n",
        "data = pd.read_csv('mi_archivo_csv.csv')\n",
        "print(data.tail(8))"
      ],
      "execution_count": null,
      "outputs": [
        {
          "output_type": "stream",
          "name": "stdout",
          "text": [
            "         id  nombre   apellido  ... dato 02     dato 03     dato 04\n",
            "42  3819168    Kris  Armstrong  ...   105.0  664.534002  143.061001\n",
            "43  5018014  Thomas     Tongue  ...   145.0  976.394745  809.289486\n",
            "44  2076649    Lara      Soucy  ...     NaN  455.914487  701.041567\n",
            "45  4297762  Harold     Howard  ...   173.0  965.993949  751.407470\n",
            "46  6667462   Mario       Tate  ...   381.0  186.256052  169.403874\n",
            "47  9112214   Leila    Fuentes  ...   394.0  786.760581  571.549874\n",
            "48  9035777   Katie     Hardin  ...   179.0         NaN  404.242245\n",
            "49  9479397  Brenda     Arnold  ...   447.0         NaN  934.527206\n",
            "\n",
            "[8 rows x 9 columns]\n"
          ]
        }
      ]
    },
    {
      "cell_type": "code",
      "metadata": {
        "colab": {
          "base_uri": "https://localhost:8080/"
        },
        "id": "a889FzTu0MCc",
        "outputId": "9113ad5c-5e87-4d31-e508-38f3deaa3fff"
      },
      "source": [
        "print(data.describe())"
      ],
      "execution_count": null,
      "outputs": [
        {
          "output_type": "stream",
          "name": "stdout",
          "text": [
            "          dato 01     dato 02     dato 03     dato 04\n",
            "count   42.000000   47.000000   47.000000   45.000000\n",
            "mean   544.261905  462.297872  466.345658  501.820282\n",
            "std    255.366123  278.001245  319.650496  283.435805\n",
            "min     11.000000   29.000000   14.003894    7.133942\n",
            "25%    399.250000  190.500000  179.591208  265.210264\n",
            "50%    561.000000  425.000000  405.608945  475.066515\n",
            "75%    712.750000  672.000000  741.951043  752.771586\n",
            "max    998.000000  980.000000  993.932350  976.313296\n"
          ]
        }
      ]
    },
    {
      "cell_type": "code",
      "metadata": {
        "colab": {
          "base_uri": "https://localhost:8080/"
        },
        "id": "cuV522uV0XmD",
        "outputId": "b1dc9ca9-631f-4fba-fc4d-d3166c8f520e"
      },
      "source": [
        "# filtrar\n",
        "data = pd.read_csv('mi_archivo_csv.csv')\n",
        "data_filtrado = data.dropna()\n",
        "print(data_filtrado)\n"
      ],
      "execution_count": null,
      "outputs": [
        {
          "output_type": "stream",
          "name": "stdout",
          "text": [
            "         id     nombre   apellido  ... dato 02     dato 03     dato 04\n",
            "2   2083836     Harold    Maulden  ...   940.0  634.372023  774.595716\n",
            "5   2312309      James  Mcfarland  ...   795.0  275.142805  873.447967\n",
            "7   5055108       Jeff      Piper  ...   392.0  327.593104  976.313296\n",
            "9   5428583       Mimi    Maxwell  ...   243.0  157.481774  426.939683\n",
            "11  6497735    Crystal    Lavelle  ...   813.0  444.283423  866.470594\n",
            "14  9348656        ???     Fricke  ...   369.0  171.569390  120.983420\n",
            "17  7267886     Dwight     Albino  ...   641.0  192.767701  402.148325\n",
            "18  9010043     Eugene     Orozco  ...    83.0  102.453252  120.386433\n",
            "19  6120269      Casey     Watson  ...   607.0   34.027543  114.493141\n",
            "20  9541242      Diane    Grenier  ...   542.0  446.349352  414.963482\n",
            "21  5880168       Alex      Hicks  ...   951.0  177.843045  921.834868\n",
            "23  6094234      Alice       Kane  ...   812.0  336.236790  480.610693\n",
            "27  1272526    Harriet     Reilly  ...   745.0  926.932778  521.791550\n",
            "30  7312826     Robert   Lapierre  ...   125.0  315.197015  676.431428\n",
            "32  6667157       Rosa      Grant  ...   663.0  692.048386  686.330655\n",
            "34  1789947        ???   Anderson  ...   554.0  941.033761    7.133942\n",
            "35  7033621    Annette       Simm  ...   856.0   14.003894  741.738159\n",
            "36  3841383     Luther   Robinson  ...   488.0   19.060838  345.545005\n",
            "39  5295642  Katherine  Gutierrez  ...   444.0  135.127939  404.796242\n",
            "40  2821714    Richard     Howard  ...   815.0  969.838392  297.443130\n",
            "42  3819168       Kris  Armstrong  ...   105.0  664.534002  143.061001\n",
            "43  5018014     Thomas     Tongue  ...   145.0  976.394745  809.289486\n",
            "45  4297762     Harold     Howard  ...   173.0  965.993949  751.407470\n",
            "47  9112214      Leila    Fuentes  ...   394.0  786.760581  571.549874\n",
            "\n",
            "[24 rows x 9 columns]\n"
          ]
        }
      ]
    },
    {
      "cell_type": "code",
      "metadata": {
        "colab": {
          "base_uri": "https://localhost:8080/"
        },
        "id": "gzcU4AXO0hws",
        "outputId": "ae6f0be3-c8b7-48f2-e1c0-8a7f3ffc7ecb"
      },
      "source": [
        "# rellenar\n",
        "data = pd.read_csv('mi_archivo_csv.csv')\n",
        "data_nuevo = data.fillna(0)\n",
        "print(data_nuevo)"
      ],
      "execution_count": null,
      "outputs": [
        {
          "output_type": "stream",
          "name": "stdout",
          "text": [
            "         id     nombre   apellido  ... dato 02     dato 03     dato 04\n",
            "0   4292166      Glenn   Hubertus  ...   666.0    0.000000    8.348096\n",
            "1   4660687      Jesse    Andrews  ...   678.0  531.908726    0.000000\n",
            "2   2083836     Harold    Maulden  ...   940.0  634.372023  774.595716\n",
            "3   8070304    Darrick     Graham  ...   176.0  181.339371  419.969781\n",
            "4   2664601   Madeline      Corns  ...     0.0  405.608945    0.000000\n",
            "5   2312309      James  Mcfarland  ...   795.0  275.142805  873.447967\n",
            "6   5090841        ???          0  ...   139.0  791.892719  475.066515\n",
            "7   5055108       Jeff      Piper  ...   392.0  327.593104  976.313296\n",
            "8   4222113        Max    Allegra  ...   385.0  268.400996  265.210264\n",
            "9   5428583       Mimi    Maxwell  ...   243.0  157.481774  426.939683\n",
            "10  1007469      Wanda       Burt  ...   504.0  709.203480  578.718582\n",
            "11  6497735    Crystal    Lavelle  ...   813.0  444.283423  866.470594\n",
            "12  2479885     Judith          0  ...   176.0  146.491995  548.467254\n",
            "13  2786655       Mary          0  ...   317.0  679.721783  894.378825\n",
            "14  9348656        ???     Fricke  ...   369.0  171.569390  120.983420\n",
            "15  1945735    Stanley   Roderick  ...   202.0   95.919213    0.000000\n",
            "16  6910445     Robert     Parker  ...   425.0  684.884157  781.899476\n",
            "17  7267886     Dwight     Albino  ...   641.0  192.767701  402.148325\n",
            "18  9010043     Eugene     Orozco  ...    83.0  102.453252  120.386433\n",
            "19  6120269      Casey     Watson  ...   607.0   34.027543  114.493141\n",
            "20  9541242      Diane    Grenier  ...   542.0  446.349352  414.963482\n",
            "21  5880168       Alex      Hicks  ...   951.0  177.843045  921.834868\n",
            "22  5217160     Harold   Metivier  ...    29.0  938.937514  779.415939\n",
            "23  6094234      Alice       Kane  ...   812.0  336.236790  480.610693\n",
            "24  9695376   Danielle    Simpson  ...   137.0  918.232060  371.214999\n",
            "25  4849092  Catherine      Green  ...     0.0  993.932350  471.824089\n",
            "26  6484634      Brian          0  ...   203.0  349.211183    0.000000\n",
            "27  1272526    Harriet     Reilly  ...   745.0  926.932778  521.791550\n",
            "28  1183343      Keith      Andes  ...   386.0  228.738205   18.387064\n",
            "29  1384708    Frances          0  ...   980.0  147.102588  259.565053\n",
            "30  7312826     Robert   Lapierre  ...   125.0  315.197015  676.431428\n",
            "31  6321489        ???      Omara  ...    77.0  220.913964  250.256204\n",
            "32  6667157       Rosa      Grant  ...   663.0  692.048386  686.330655\n",
            "33  2299917        ???   Phillips  ...   802.0  113.107506  222.662909\n",
            "34  1789947        ???   Anderson  ...   554.0  941.033761    7.133942\n",
            "35  7033621    Annette       Simm  ...   856.0   14.003894  741.738159\n",
            "36  3841383     Luther   Robinson  ...   488.0   19.060838  345.545005\n",
            "37  9607843    Suzanne     Rincon  ...   661.0  551.448196  824.835620\n",
            "38  9328845     Trisha      Hague  ...   802.0  837.335328  752.771586\n",
            "39  5295642  Katherine  Gutierrez  ...   444.0  135.127939  404.796242\n",
            "40  2821714    Richard     Howard  ...   815.0  969.838392  297.443130\n",
            "41  4857361      Debra    Monarez  ...   281.0  774.698606    0.000000\n",
            "42  3819168       Kris  Armstrong  ...   105.0  664.534002  143.061001\n",
            "43  5018014     Thomas     Tongue  ...   145.0  976.394745  809.289486\n",
            "44  2076649       Lara      Soucy  ...     0.0  455.914487  701.041567\n",
            "45  4297762     Harold     Howard  ...   173.0  965.993949  751.407470\n",
            "46  6667462      Mario       Tate  ...   381.0  186.256052  169.403874\n",
            "47  9112214      Leila    Fuentes  ...   394.0  786.760581  571.549874\n",
            "48  9035777      Katie     Hardin  ...   179.0    0.000000  404.242245\n",
            "49  9479397     Brenda     Arnold  ...   447.0    0.000000  934.527206\n",
            "\n",
            "[50 rows x 9 columns]\n"
          ]
        }
      ]
    },
    {
      "cell_type": "code",
      "metadata": {
        "colab": {
          "base_uri": "https://localhost:8080/"
        },
        "id": "X6lR9Cez1EX6",
        "outputId": "3a6c70ab-89b7-4144-ab35-1bc023a99eb1"
      },
      "source": [
        "# rellenar\n",
        "data = pd.read_csv('mi_archivo_csv.csv')\n",
        "data_nuevo = data.fillna({\"dato 01\": 1111, \"dato 02\": 2222, \"dato 03\": 3333, \"dato 04\": 4444, \"apellido\":\"apellido no registrado\"})\n",
        "print(data_nuevo)"
      ],
      "execution_count": null,
      "outputs": [
        {
          "output_type": "stream",
          "name": "stdout",
          "text": [
            "         id     nombre  ...      dato 03      dato 04\n",
            "0   4292166      Glenn  ...  3333.000000     8.348096\n",
            "1   4660687      Jesse  ...   531.908726  4444.000000\n",
            "2   2083836     Harold  ...   634.372023   774.595716\n",
            "3   8070304    Darrick  ...   181.339371   419.969781\n",
            "4   2664601   Madeline  ...   405.608945  4444.000000\n",
            "5   2312309      James  ...   275.142805   873.447967\n",
            "6   5090841        ???  ...   791.892719   475.066515\n",
            "7   5055108       Jeff  ...   327.593104   976.313296\n",
            "8   4222113        Max  ...   268.400996   265.210264\n",
            "9   5428583       Mimi  ...   157.481774   426.939683\n",
            "10  1007469      Wanda  ...   709.203480   578.718582\n",
            "11  6497735    Crystal  ...   444.283423   866.470594\n",
            "12  2479885     Judith  ...   146.491995   548.467254\n",
            "13  2786655       Mary  ...   679.721783   894.378825\n",
            "14  9348656        ???  ...   171.569390   120.983420\n",
            "15  1945735    Stanley  ...    95.919213  4444.000000\n",
            "16  6910445     Robert  ...   684.884157   781.899476\n",
            "17  7267886     Dwight  ...   192.767701   402.148325\n",
            "18  9010043     Eugene  ...   102.453252   120.386433\n",
            "19  6120269      Casey  ...    34.027543   114.493141\n",
            "20  9541242      Diane  ...   446.349352   414.963482\n",
            "21  5880168       Alex  ...   177.843045   921.834868\n",
            "22  5217160     Harold  ...   938.937514   779.415939\n",
            "23  6094234      Alice  ...   336.236790   480.610693\n",
            "24  9695376   Danielle  ...   918.232060   371.214999\n",
            "25  4849092  Catherine  ...   993.932350   471.824089\n",
            "26  6484634      Brian  ...   349.211183  4444.000000\n",
            "27  1272526    Harriet  ...   926.932778   521.791550\n",
            "28  1183343      Keith  ...   228.738205    18.387064\n",
            "29  1384708    Frances  ...   147.102588   259.565053\n",
            "30  7312826     Robert  ...   315.197015   676.431428\n",
            "31  6321489        ???  ...   220.913964   250.256204\n",
            "32  6667157       Rosa  ...   692.048386   686.330655\n",
            "33  2299917        ???  ...   113.107506   222.662909\n",
            "34  1789947        ???  ...   941.033761     7.133942\n",
            "35  7033621    Annette  ...    14.003894   741.738159\n",
            "36  3841383     Luther  ...    19.060838   345.545005\n",
            "37  9607843    Suzanne  ...   551.448196   824.835620\n",
            "38  9328845     Trisha  ...   837.335328   752.771586\n",
            "39  5295642  Katherine  ...   135.127939   404.796242\n",
            "40  2821714    Richard  ...   969.838392   297.443130\n",
            "41  4857361      Debra  ...   774.698606  4444.000000\n",
            "42  3819168       Kris  ...   664.534002   143.061001\n",
            "43  5018014     Thomas  ...   976.394745   809.289486\n",
            "44  2076649       Lara  ...   455.914487   701.041567\n",
            "45  4297762     Harold  ...   965.993949   751.407470\n",
            "46  6667462      Mario  ...   186.256052   169.403874\n",
            "47  9112214      Leila  ...   786.760581   571.549874\n",
            "48  9035777      Katie  ...  3333.000000   404.242245\n",
            "49  9479397     Brenda  ...  3333.000000   934.527206\n",
            "\n",
            "[50 rows x 9 columns]\n"
          ]
        }
      ]
    },
    {
      "cell_type": "code",
      "metadata": {
        "colab": {
          "base_uri": "https://localhost:8080/"
        },
        "id": "SZOTeTuj1YJE",
        "outputId": "f62b555f-4684-4c3b-af51-cee9bfdd1e03"
      },
      "source": [
        "data[\"dato 01\"]>800"
      ],
      "execution_count": null,
      "outputs": [
        {
          "output_type": "execute_result",
          "data": {
            "text/plain": [
              "0     False\n",
              "1     False\n",
              "2     False\n",
              "3     False\n",
              "4      True\n",
              "5      True\n",
              "6     False\n",
              "7      True\n",
              "8     False\n",
              "9     False\n",
              "10    False\n",
              "11    False\n",
              "12    False\n",
              "13    False\n",
              "14    False\n",
              "15    False\n",
              "16    False\n",
              "17    False\n",
              "18     True\n",
              "19    False\n",
              "20    False\n",
              "21    False\n",
              "22    False\n",
              "23    False\n",
              "24    False\n",
              "25    False\n",
              "26    False\n",
              "27    False\n",
              "28    False\n",
              "29     True\n",
              "30    False\n",
              "31    False\n",
              "32    False\n",
              "33    False\n",
              "34    False\n",
              "35    False\n",
              "36    False\n",
              "37     True\n",
              "38    False\n",
              "39    False\n",
              "40    False\n",
              "41    False\n",
              "42     True\n",
              "43    False\n",
              "44    False\n",
              "45    False\n",
              "46    False\n",
              "47    False\n",
              "48    False\n",
              "49     True\n",
              "Name: dato 01, dtype: bool"
            ]
          },
          "metadata": {},
          "execution_count": 153
        }
      ]
    },
    {
      "cell_type": "code",
      "metadata": {
        "colab": {
          "base_uri": "https://localhost:8080/"
        },
        "id": "DbntMYSe14PM",
        "outputId": "6966bf10-f446-41ce-8a8b-e4a4a10a9658"
      },
      "source": [
        "dato_02 = data[data[\"dato 03\"]>800]\n",
        "print(dato_02)"
      ],
      "execution_count": null,
      "outputs": [
        {
          "output_type": "stream",
          "name": "stdout",
          "text": [
            "         id     nombre  apellido  ... dato 02     dato 03     dato 04\n",
            "22  5217160     Harold  Metivier  ...    29.0  938.937514  779.415939\n",
            "24  9695376   Danielle   Simpson  ...   137.0  918.232060  371.214999\n",
            "25  4849092  Catherine     Green  ...     NaN  993.932350  471.824089\n",
            "27  1272526    Harriet    Reilly  ...   745.0  926.932778  521.791550\n",
            "34  1789947        ???  Anderson  ...   554.0  941.033761    7.133942\n",
            "38  9328845     Trisha     Hague  ...   802.0  837.335328  752.771586\n",
            "40  2821714    Richard    Howard  ...   815.0  969.838392  297.443130\n",
            "43  5018014     Thomas    Tongue  ...   145.0  976.394745  809.289486\n",
            "45  4297762     Harold    Howard  ...   173.0  965.993949  751.407470\n",
            "\n",
            "[9 rows x 9 columns]\n"
          ]
        }
      ]
    },
    {
      "cell_type": "code",
      "metadata": {
        "colab": {
          "base_uri": "https://localhost:8080/"
        },
        "id": "ArkjMT9S1-01",
        "outputId": "a06c7faf-4eae-4f70-c07f-b19e3cac85b4"
      },
      "source": [
        "# dato_02 = data[data[\"dato 01\"]>800 and data[\"dato 04\"]>700]\n",
        "# and → &\n",
        "# or → |\n",
        "dato_02 = data[(data[\"dato 03\"]>800) & (data[\"dato 04\"]>700)]\n",
        "print(dato_02)"
      ],
      "execution_count": null,
      "outputs": [
        {
          "output_type": "stream",
          "name": "stdout",
          "text": [
            "         id  nombre  apellido  ... dato 02     dato 03     dato 04\n",
            "22  5217160  Harold  Metivier  ...    29.0  938.937514  779.415939\n",
            "38  9328845  Trisha     Hague  ...   802.0  837.335328  752.771586\n",
            "43  5018014  Thomas    Tongue  ...   145.0  976.394745  809.289486\n",
            "45  4297762  Harold    Howard  ...   173.0  965.993949  751.407470\n",
            "\n",
            "[4 rows x 9 columns]\n"
          ]
        }
      ]
    },
    {
      "cell_type": "code",
      "metadata": {
        "colab": {
          "base_uri": "https://localhost:8080/"
        },
        "id": "tWh3xjDG2JyM",
        "outputId": "e13e4fc6-c6dc-41ad-9ddd-53576c26970c"
      },
      "source": [
        "dato_02 = data[data[\"nombre\"].str.contains(\"nn\")]\n",
        "print(dato_02)"
      ],
      "execution_count": null,
      "outputs": [
        {
          "output_type": "stream",
          "name": "stdout",
          "text": [
            "         id   nombre  apellido  ... dato 02     dato 03     dato 04\n",
            "0   4292166    Glenn  Hubertus  ...   666.0         NaN    8.348096\n",
            "35  7033621  Annette      Simm  ...   856.0   14.003894  741.738159\n",
            "37  9607843  Suzanne    Rincon  ...   661.0  551.448196  824.835620\n",
            "\n",
            "[3 rows x 9 columns]\n"
          ]
        }
      ]
    },
    {
      "cell_type": "code",
      "metadata": {
        "colab": {
          "base_uri": "https://localhost:8080/"
        },
        "id": "rhscp7772nDV",
        "outputId": "891b6da0-80d6-4483-c488-b6bb9954b475"
      },
      "source": [
        "data[\"dato 05\"] = data[\"dato 03\"]\n",
        "print(data)"
      ],
      "execution_count": null,
      "outputs": [
        {
          "output_type": "stream",
          "name": "stdout",
          "text": [
            "         id     nombre   apellido  ...     dato 03     dato 04     dato 05\n",
            "0   4292166      Glenn   Hubertus  ...         NaN    8.348096         NaN\n",
            "1   4660687      Jesse    Andrews  ...  531.908726         NaN  531.908726\n",
            "2   2083836     Harold    Maulden  ...  634.372023  774.595716  634.372023\n",
            "3   8070304    Darrick     Graham  ...  181.339371  419.969781  181.339371\n",
            "4   2664601   Madeline      Corns  ...  405.608945         NaN  405.608945\n",
            "5   2312309      James  Mcfarland  ...  275.142805  873.447967  275.142805\n",
            "6   5090841        ???        NaN  ...  791.892719  475.066515  791.892719\n",
            "7   5055108       Jeff      Piper  ...  327.593104  976.313296  327.593104\n",
            "8   4222113        Max    Allegra  ...  268.400996  265.210264  268.400996\n",
            "9   5428583       Mimi    Maxwell  ...  157.481774  426.939683  157.481774\n",
            "10  1007469      Wanda       Burt  ...  709.203480  578.718582  709.203480\n",
            "11  6497735    Crystal    Lavelle  ...  444.283423  866.470594  444.283423\n",
            "12  2479885     Judith        NaN  ...  146.491995  548.467254  146.491995\n",
            "13  2786655       Mary        NaN  ...  679.721783  894.378825  679.721783\n",
            "14  9348656        ???     Fricke  ...  171.569390  120.983420  171.569390\n",
            "15  1945735    Stanley   Roderick  ...   95.919213         NaN   95.919213\n",
            "16  6910445     Robert     Parker  ...  684.884157  781.899476  684.884157\n",
            "17  7267886     Dwight     Albino  ...  192.767701  402.148325  192.767701\n",
            "18  9010043     Eugene     Orozco  ...  102.453252  120.386433  102.453252\n",
            "19  6120269      Casey     Watson  ...   34.027543  114.493141   34.027543\n",
            "20  9541242      Diane    Grenier  ...  446.349352  414.963482  446.349352\n",
            "21  5880168       Alex      Hicks  ...  177.843045  921.834868  177.843045\n",
            "22  5217160     Harold   Metivier  ...  938.937514  779.415939  938.937514\n",
            "23  6094234      Alice       Kane  ...  336.236790  480.610693  336.236790\n",
            "24  9695376   Danielle    Simpson  ...  918.232060  371.214999  918.232060\n",
            "25  4849092  Catherine      Green  ...  993.932350  471.824089  993.932350\n",
            "26  6484634      Brian        NaN  ...  349.211183         NaN  349.211183\n",
            "27  1272526    Harriet     Reilly  ...  926.932778  521.791550  926.932778\n",
            "28  1183343      Keith      Andes  ...  228.738205   18.387064  228.738205\n",
            "29  1384708    Frances        NaN  ...  147.102588  259.565053  147.102588\n",
            "30  7312826     Robert   Lapierre  ...  315.197015  676.431428  315.197015\n",
            "31  6321489        ???      Omara  ...  220.913964  250.256204  220.913964\n",
            "32  6667157       Rosa      Grant  ...  692.048386  686.330655  692.048386\n",
            "33  2299917        ???   Phillips  ...  113.107506  222.662909  113.107506\n",
            "34  1789947        ???   Anderson  ...  941.033761    7.133942  941.033761\n",
            "35  7033621    Annette       Simm  ...   14.003894  741.738159   14.003894\n",
            "36  3841383     Luther   Robinson  ...   19.060838  345.545005   19.060838\n",
            "37  9607843    Suzanne     Rincon  ...  551.448196  824.835620  551.448196\n",
            "38  9328845     Trisha      Hague  ...  837.335328  752.771586  837.335328\n",
            "39  5295642  Katherine  Gutierrez  ...  135.127939  404.796242  135.127939\n",
            "40  2821714    Richard     Howard  ...  969.838392  297.443130  969.838392\n",
            "41  4857361      Debra    Monarez  ...  774.698606         NaN  774.698606\n",
            "42  3819168       Kris  Armstrong  ...  664.534002  143.061001  664.534002\n",
            "43  5018014     Thomas     Tongue  ...  976.394745  809.289486  976.394745\n",
            "44  2076649       Lara      Soucy  ...  455.914487  701.041567  455.914487\n",
            "45  4297762     Harold     Howard  ...  965.993949  751.407470  965.993949\n",
            "46  6667462      Mario       Tate  ...  186.256052  169.403874  186.256052\n",
            "47  9112214      Leila    Fuentes  ...  786.760581  571.549874  786.760581\n",
            "48  9035777      Katie     Hardin  ...         NaN  404.242245         NaN\n",
            "49  9479397     Brenda     Arnold  ...         NaN  934.527206         NaN\n",
            "\n",
            "[50 rows x 10 columns]\n"
          ]
        }
      ]
    },
    {
      "cell_type": "code",
      "metadata": {
        "colab": {
          "base_uri": "https://localhost:8080/"
        },
        "id": "O8R7X9iH20Cs",
        "outputId": "7dc1e319-bc7a-477c-c63b-f59ebb1deda2"
      },
      "source": [
        "data[\"dato 06\"] = data[\"dato 03\"] + data[\"dato 04\"]\n",
        "print(data)"
      ],
      "execution_count": null,
      "outputs": [
        {
          "output_type": "stream",
          "name": "stdout",
          "text": [
            "         id     nombre   apellido  ...     dato 04     dato 05      dato 06\n",
            "0   4292166      Glenn   Hubertus  ...    8.348096         NaN          NaN\n",
            "1   4660687      Jesse    Andrews  ...         NaN  531.908726          NaN\n",
            "2   2083836     Harold    Maulden  ...  774.595716  634.372023  1408.967738\n",
            "3   8070304    Darrick     Graham  ...  419.969781  181.339371   601.309152\n",
            "4   2664601   Madeline      Corns  ...         NaN  405.608945          NaN\n",
            "5   2312309      James  Mcfarland  ...  873.447967  275.142805  1148.590773\n",
            "6   5090841        ???        NaN  ...  475.066515  791.892719  1266.959234\n",
            "7   5055108       Jeff      Piper  ...  976.313296  327.593104  1303.906400\n",
            "8   4222113        Max    Allegra  ...  265.210264  268.400996   533.611260\n",
            "9   5428583       Mimi    Maxwell  ...  426.939683  157.481774   584.421458\n",
            "10  1007469      Wanda       Burt  ...  578.718582  709.203480  1287.922061\n",
            "11  6497735    Crystal    Lavelle  ...  866.470594  444.283423  1310.754017\n",
            "12  2479885     Judith        NaN  ...  548.467254  146.491995   694.959249\n",
            "13  2786655       Mary        NaN  ...  894.378825  679.721783  1574.100609\n",
            "14  9348656        ???     Fricke  ...  120.983420  171.569390   292.552810\n",
            "15  1945735    Stanley   Roderick  ...         NaN   95.919213          NaN\n",
            "16  6910445     Robert     Parker  ...  781.899476  684.884157  1466.783633\n",
            "17  7267886     Dwight     Albino  ...  402.148325  192.767701   594.916026\n",
            "18  9010043     Eugene     Orozco  ...  120.386433  102.453252   222.839685\n",
            "19  6120269      Casey     Watson  ...  114.493141   34.027543   148.520684\n",
            "20  9541242      Diane    Grenier  ...  414.963482  446.349352   861.312834\n",
            "21  5880168       Alex      Hicks  ...  921.834868  177.843045  1099.677913\n",
            "22  5217160     Harold   Metivier  ...  779.415939  938.937514  1718.353453\n",
            "23  6094234      Alice       Kane  ...  480.610693  336.236790   816.847482\n",
            "24  9695376   Danielle    Simpson  ...  371.214999  918.232060  1289.447059\n",
            "25  4849092  Catherine      Green  ...  471.824089  993.932350  1465.756439\n",
            "26  6484634      Brian        NaN  ...         NaN  349.211183          NaN\n",
            "27  1272526    Harriet     Reilly  ...  521.791550  926.932778  1448.724328\n",
            "28  1183343      Keith      Andes  ...   18.387064  228.738205   247.125268\n",
            "29  1384708    Frances        NaN  ...  259.565053  147.102588   406.667640\n",
            "30  7312826     Robert   Lapierre  ...  676.431428  315.197015   991.628442\n",
            "31  6321489        ???      Omara  ...  250.256204  220.913964   471.170168\n",
            "32  6667157       Rosa      Grant  ...  686.330655  692.048386  1378.379041\n",
            "33  2299917        ???   Phillips  ...  222.662909  113.107506   335.770415\n",
            "34  1789947        ???   Anderson  ...    7.133942  941.033761   948.167703\n",
            "35  7033621    Annette       Simm  ...  741.738159   14.003894   755.742053\n",
            "36  3841383     Luther   Robinson  ...  345.545005   19.060838   364.605843\n",
            "37  9607843    Suzanne     Rincon  ...  824.835620  551.448196  1376.283817\n",
            "38  9328845     Trisha      Hague  ...  752.771586  837.335328  1590.106913\n",
            "39  5295642  Katherine  Gutierrez  ...  404.796242  135.127939   539.924181\n",
            "40  2821714    Richard     Howard  ...  297.443130  969.838392  1267.281522\n",
            "41  4857361      Debra    Monarez  ...         NaN  774.698606          NaN\n",
            "42  3819168       Kris  Armstrong  ...  143.061001  664.534002   807.595003\n",
            "43  5018014     Thomas     Tongue  ...  809.289486  976.394745  1785.684231\n",
            "44  2076649       Lara      Soucy  ...  701.041567  455.914487  1156.956055\n",
            "45  4297762     Harold     Howard  ...  751.407470  965.993949  1717.401419\n",
            "46  6667462      Mario       Tate  ...  169.403874  186.256052   355.659926\n",
            "47  9112214      Leila    Fuentes  ...  571.549874  786.760581  1358.310454\n",
            "48  9035777      Katie     Hardin  ...  404.242245         NaN          NaN\n",
            "49  9479397     Brenda     Arnold  ...  934.527206         NaN          NaN\n",
            "\n",
            "[50 rows x 11 columns]\n"
          ]
        }
      ]
    },
    {
      "cell_type": "code",
      "metadata": {
        "colab": {
          "base_uri": "https://localhost:8080/"
        },
        "id": "hxLveZm6265c",
        "outputId": "d352ca4a-39d4-4ee1-9cdf-b9eb815c07ee"
      },
      "source": [
        "with pd.option_context('display.max_rows', None, 'display.max_columns', None):\n",
        "  print(data)"
      ],
      "execution_count": null,
      "outputs": [
        {
          "output_type": "stream",
          "name": "stdout",
          "text": [
            "         id     nombre   apellido       sexo fecha de nacimiento  dato 01  \\\n",
            "0   4292166      Glenn   Hubertus  masculino          1983-10-28    238.0   \n",
            "1   4660687      Jesse    Andrews  masculino          1981-07-21     11.0   \n",
            "2   2083836     Harold    Maulden  masculino          1981-07-24    585.0   \n",
            "3   8070304    Darrick     Graham  masculino          1980-11-14      NaN   \n",
            "4   2664601   Madeline      Corns   femenino                 NaN    835.0   \n",
            "5   2312309      James  Mcfarland  masculino          1977-03-19    922.0   \n",
            "6   5090841        ???        NaN  masculino          1978-05-11    633.0   \n",
            "7   5055108       Jeff      Piper  masculino          1978-02-17    985.0   \n",
            "8   4222113        Max    Allegra  masculino                 NaN    467.0   \n",
            "9   5428583       Mimi    Maxwell   femenino          1985-05-04    546.0   \n",
            "10  1007469      Wanda       Burt   femenino          1973-05-21      NaN   \n",
            "11  6497735    Crystal    Lavelle   femenino          1979-08-27    421.0   \n",
            "12  2479885     Judith        NaN   femenino          1986-01-15    526.0   \n",
            "13  2786655       Mary        NaN   femenino          1983-09-21    661.0   \n",
            "14  9348656        ???     Fricke  masculino          1975-11-21    476.0   \n",
            "15  1945735    Stanley   Roderick        NaN          1988-01-03    390.0   \n",
            "16  6910445     Robert     Parker  masculino          1985-09-21      NaN   \n",
            "17  7267886     Dwight     Albino  masculino          1986-01-22    158.0   \n",
            "18  9010043     Eugene     Orozco  masculino          1986-01-20    895.0   \n",
            "19  6120269      Casey     Watson   femenino          1976-04-19    638.0   \n",
            "20  9541242      Diane    Grenier   femenino          1985-05-16    400.0   \n",
            "21  5880168       Alex      Hicks  masculino          1981-03-15    613.0   \n",
            "22  5217160     Harold   Metivier  masculino                 NaN    712.0   \n",
            "23  6094234      Alice       Kane   femenino          1990-03-10     28.0   \n",
            "24  9695376   Danielle    Simpson   femenino          1972-03-07      NaN   \n",
            "25  4849092  Catherine      Green   femenino          1979-02-06    741.0   \n",
            "26  6484634      Brian        NaN  masculino          1986-12-09    731.0   \n",
            "27  1272526    Harriet     Reilly   femenino          1972-01-12    117.0   \n",
            "28  1183343      Keith      Andes  masculino                 NaN      NaN   \n",
            "29  1384708    Frances        NaN   femenino                 NaN    998.0   \n",
            "30  7312826     Robert   Lapierre  masculino          1972-06-01    363.0   \n",
            "31  6321489        ???      Omara   femenino          1986-11-14      NaN   \n",
            "32  6667157       Rosa      Grant   femenino          1972-08-25    377.0   \n",
            "33  2299917        ???   Phillips        NaN          1977-08-08    410.0   \n",
            "34  1789947        ???   Anderson   femenino          1986-09-08    668.0   \n",
            "35  7033621    Annette       Simm   femenino          1982-04-04    612.0   \n",
            "36  3841383     Luther   Robinson  masculino          1983-05-14    530.0   \n",
            "37  9607843    Suzanne     Rincon        NaN          1987-04-22    895.0   \n",
            "38  9328845     Trisha      Hague   femenino          1974-12-22      NaN   \n",
            "39  5295642  Katherine  Gutierrez   femenino          1973-06-10    445.0   \n",
            "40  2821714    Richard     Howard  masculino          1986-08-17    576.0   \n",
            "41  4857361      Debra    Monarez        NaN          1985-03-10    312.0   \n",
            "42  3819168       Kris  Armstrong   femenino          1982-04-23    826.0   \n",
            "43  5018014     Thomas     Tongue  masculino          1980-08-01    399.0   \n",
            "44  2076649       Lara      Soucy   femenino          1979-09-29     97.0   \n",
            "45  4297762     Harold     Howard  masculino          1981-12-09    401.0   \n",
            "46  6667462      Mario       Tate  masculino          1980-10-07      NaN   \n",
            "47  9112214      Leila    Fuentes   femenino          1987-04-17    672.0   \n",
            "48  9035777      Katie     Hardin   femenino          1987-06-20    713.0   \n",
            "49  9479397     Brenda     Arnold   femenino          1988-04-26    836.0   \n",
            "\n",
            "    dato 02     dato 03     dato 04     dato 05      dato 06  \n",
            "0     666.0         NaN    8.348096         NaN          NaN  \n",
            "1     678.0  531.908726         NaN  531.908726          NaN  \n",
            "2     940.0  634.372023  774.595716  634.372023  1408.967738  \n",
            "3     176.0  181.339371  419.969781  181.339371   601.309152  \n",
            "4       NaN  405.608945         NaN  405.608945          NaN  \n",
            "5     795.0  275.142805  873.447967  275.142805  1148.590773  \n",
            "6     139.0  791.892719  475.066515  791.892719  1266.959234  \n",
            "7     392.0  327.593104  976.313296  327.593104  1303.906400  \n",
            "8     385.0  268.400996  265.210264  268.400996   533.611260  \n",
            "9     243.0  157.481774  426.939683  157.481774   584.421458  \n",
            "10    504.0  709.203480  578.718582  709.203480  1287.922061  \n",
            "11    813.0  444.283423  866.470594  444.283423  1310.754017  \n",
            "12    176.0  146.491995  548.467254  146.491995   694.959249  \n",
            "13    317.0  679.721783  894.378825  679.721783  1574.100609  \n",
            "14    369.0  171.569390  120.983420  171.569390   292.552810  \n",
            "15    202.0   95.919213         NaN   95.919213          NaN  \n",
            "16    425.0  684.884157  781.899476  684.884157  1466.783633  \n",
            "17    641.0  192.767701  402.148325  192.767701   594.916026  \n",
            "18     83.0  102.453252  120.386433  102.453252   222.839685  \n",
            "19    607.0   34.027543  114.493141   34.027543   148.520684  \n",
            "20    542.0  446.349352  414.963482  446.349352   861.312834  \n",
            "21    951.0  177.843045  921.834868  177.843045  1099.677913  \n",
            "22     29.0  938.937514  779.415939  938.937514  1718.353453  \n",
            "23    812.0  336.236790  480.610693  336.236790   816.847482  \n",
            "24    137.0  918.232060  371.214999  918.232060  1289.447059  \n",
            "25      NaN  993.932350  471.824089  993.932350  1465.756439  \n",
            "26    203.0  349.211183         NaN  349.211183          NaN  \n",
            "27    745.0  926.932778  521.791550  926.932778  1448.724328  \n",
            "28    386.0  228.738205   18.387064  228.738205   247.125268  \n",
            "29    980.0  147.102588  259.565053  147.102588   406.667640  \n",
            "30    125.0  315.197015  676.431428  315.197015   991.628442  \n",
            "31     77.0  220.913964  250.256204  220.913964   471.170168  \n",
            "32    663.0  692.048386  686.330655  692.048386  1378.379041  \n",
            "33    802.0  113.107506  222.662909  113.107506   335.770415  \n",
            "34    554.0  941.033761    7.133942  941.033761   948.167703  \n",
            "35    856.0   14.003894  741.738159   14.003894   755.742053  \n",
            "36    488.0   19.060838  345.545005   19.060838   364.605843  \n",
            "37    661.0  551.448196  824.835620  551.448196  1376.283817  \n",
            "38    802.0  837.335328  752.771586  837.335328  1590.106913  \n",
            "39    444.0  135.127939  404.796242  135.127939   539.924181  \n",
            "40    815.0  969.838392  297.443130  969.838392  1267.281522  \n",
            "41    281.0  774.698606         NaN  774.698606          NaN  \n",
            "42    105.0  664.534002  143.061001  664.534002   807.595003  \n",
            "43    145.0  976.394745  809.289486  976.394745  1785.684231  \n",
            "44      NaN  455.914487  701.041567  455.914487  1156.956055  \n",
            "45    173.0  965.993949  751.407470  965.993949  1717.401419  \n",
            "46    381.0  186.256052  169.403874  186.256052   355.659926  \n",
            "47    394.0  786.760581  571.549874  786.760581  1358.310454  \n",
            "48    179.0         NaN  404.242245         NaN          NaN  \n",
            "49    447.0         NaN  934.527206         NaN          NaN  \n"
          ]
        }
      ]
    },
    {
      "cell_type": "code",
      "metadata": {
        "colab": {
          "base_uri": "https://localhost:8080/"
        },
        "id": "wPp3zOa13IAN",
        "outputId": "dc3bb5d5-3da1-4260-9932-aa00a9e1e056"
      },
      "source": [
        "print(data)"
      ],
      "execution_count": null,
      "outputs": [
        {
          "output_type": "stream",
          "name": "stdout",
          "text": [
            "         id     nombre   apellido  ...     dato 04     dato 05      dato 06\n",
            "0   4292166      Glenn   Hubertus  ...    8.348096         NaN          NaN\n",
            "1   4660687      Jesse    Andrews  ...         NaN  531.908726          NaN\n",
            "2   2083836     Harold    Maulden  ...  774.595716  634.372023  1408.967738\n",
            "3   8070304    Darrick     Graham  ...  419.969781  181.339371   601.309152\n",
            "4   2664601   Madeline      Corns  ...         NaN  405.608945          NaN\n",
            "5   2312309      James  Mcfarland  ...  873.447967  275.142805  1148.590773\n",
            "6   5090841        ???        NaN  ...  475.066515  791.892719  1266.959234\n",
            "7   5055108       Jeff      Piper  ...  976.313296  327.593104  1303.906400\n",
            "8   4222113        Max    Allegra  ...  265.210264  268.400996   533.611260\n",
            "9   5428583       Mimi    Maxwell  ...  426.939683  157.481774   584.421458\n",
            "10  1007469      Wanda       Burt  ...  578.718582  709.203480  1287.922061\n",
            "11  6497735    Crystal    Lavelle  ...  866.470594  444.283423  1310.754017\n",
            "12  2479885     Judith        NaN  ...  548.467254  146.491995   694.959249\n",
            "13  2786655       Mary        NaN  ...  894.378825  679.721783  1574.100609\n",
            "14  9348656        ???     Fricke  ...  120.983420  171.569390   292.552810\n",
            "15  1945735    Stanley   Roderick  ...         NaN   95.919213          NaN\n",
            "16  6910445     Robert     Parker  ...  781.899476  684.884157  1466.783633\n",
            "17  7267886     Dwight     Albino  ...  402.148325  192.767701   594.916026\n",
            "18  9010043     Eugene     Orozco  ...  120.386433  102.453252   222.839685\n",
            "19  6120269      Casey     Watson  ...  114.493141   34.027543   148.520684\n",
            "20  9541242      Diane    Grenier  ...  414.963482  446.349352   861.312834\n",
            "21  5880168       Alex      Hicks  ...  921.834868  177.843045  1099.677913\n",
            "22  5217160     Harold   Metivier  ...  779.415939  938.937514  1718.353453\n",
            "23  6094234      Alice       Kane  ...  480.610693  336.236790   816.847482\n",
            "24  9695376   Danielle    Simpson  ...  371.214999  918.232060  1289.447059\n",
            "25  4849092  Catherine      Green  ...  471.824089  993.932350  1465.756439\n",
            "26  6484634      Brian        NaN  ...         NaN  349.211183          NaN\n",
            "27  1272526    Harriet     Reilly  ...  521.791550  926.932778  1448.724328\n",
            "28  1183343      Keith      Andes  ...   18.387064  228.738205   247.125268\n",
            "29  1384708    Frances        NaN  ...  259.565053  147.102588   406.667640\n",
            "30  7312826     Robert   Lapierre  ...  676.431428  315.197015   991.628442\n",
            "31  6321489        ???      Omara  ...  250.256204  220.913964   471.170168\n",
            "32  6667157       Rosa      Grant  ...  686.330655  692.048386  1378.379041\n",
            "33  2299917        ???   Phillips  ...  222.662909  113.107506   335.770415\n",
            "34  1789947        ???   Anderson  ...    7.133942  941.033761   948.167703\n",
            "35  7033621    Annette       Simm  ...  741.738159   14.003894   755.742053\n",
            "36  3841383     Luther   Robinson  ...  345.545005   19.060838   364.605843\n",
            "37  9607843    Suzanne     Rincon  ...  824.835620  551.448196  1376.283817\n",
            "38  9328845     Trisha      Hague  ...  752.771586  837.335328  1590.106913\n",
            "39  5295642  Katherine  Gutierrez  ...  404.796242  135.127939   539.924181\n",
            "40  2821714    Richard     Howard  ...  297.443130  969.838392  1267.281522\n",
            "41  4857361      Debra    Monarez  ...         NaN  774.698606          NaN\n",
            "42  3819168       Kris  Armstrong  ...  143.061001  664.534002   807.595003\n",
            "43  5018014     Thomas     Tongue  ...  809.289486  976.394745  1785.684231\n",
            "44  2076649       Lara      Soucy  ...  701.041567  455.914487  1156.956055\n",
            "45  4297762     Harold     Howard  ...  751.407470  965.993949  1717.401419\n",
            "46  6667462      Mario       Tate  ...  169.403874  186.256052   355.659926\n",
            "47  9112214      Leila    Fuentes  ...  571.549874  786.760581  1358.310454\n",
            "48  9035777      Katie     Hardin  ...  404.242245         NaN          NaN\n",
            "49  9479397     Brenda     Arnold  ...  934.527206         NaN          NaN\n",
            "\n",
            "[50 rows x 11 columns]\n"
          ]
        }
      ]
    },
    {
      "cell_type": "code",
      "metadata": {
        "id": "QM1bgx7P3LPU"
      },
      "source": [
        ""
      ],
      "execution_count": null,
      "outputs": []
    }
  ]
}