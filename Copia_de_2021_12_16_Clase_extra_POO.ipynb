{
  "nbformat": 4,
  "nbformat_minor": 0,
  "metadata": {
    "colab": {
      "name": "Copia de 2021 12 16 - Clase extra - POO.ipynb",
      "provenance": [],
      "collapsed_sections": [],
      "include_colab_link": true
    },
    "kernelspec": {
      "name": "python3",
      "display_name": "Python 3"
    },
    "language_info": {
      "name": "python"
    }
  },
  "cells": [
    {
      "cell_type": "markdown",
      "metadata": {
        "id": "view-in-github",
        "colab_type": "text"
      },
      "source": [
        "<a href=\"https://colab.research.google.com/github/devjaime/data_science_escalab/blob/main/Copia_de_2021_12_16_Clase_extra_POO.ipynb\" target=\"_parent\"><img src=\"https://colab.research.google.com/assets/colab-badge.svg\" alt=\"Open In Colab\"/></a>"
      ]
    },
    {
      "cell_type": "code",
      "source": [
        "# para recordar\n",
        "def sumar(x,y):\n",
        "  return x + y\n",
        "\n",
        "print(sumar(2,8))"
      ],
      "metadata": {
        "colab": {
          "base_uri": "https://localhost:8080/"
        },
        "id": "g7NQFb6xuACn",
        "outputId": "90405dbc-05c5-4374-c860-cfce6133cac6"
      },
      "execution_count": null,
      "outputs": [
        {
          "output_type": "stream",
          "name": "stdout",
          "text": [
            "10\n"
          ]
        }
      ]
    },
    {
      "cell_type": "code",
      "execution_count": null,
      "metadata": {
        "id": "9gylJIW4tZya"
      },
      "outputs": [],
      "source": [
        "class Animal():\n",
        "  \"\"\"\n",
        "  Clase Animal: Define un animal nuevo.....\n",
        "  \"\"\"\n",
        "  def __init__(self, especie, patas=4, vuela=False):\n",
        "    \"Define un animal nuevo.....\"\n",
        "    self.especie = especie\n",
        "    self.patas = patas\n",
        "    self.con_hambre = True\n",
        "    self.corriendo = False\n",
        "    self.cansado = False\n",
        "    self.vuela = vuela\n",
        "  \n",
        "  def comer(self):\n",
        "    \"pone a comer al animal y desactiva con_hambre\"\n",
        "    if self.corriendo == True:\n",
        "      self.parar()\n",
        "    self.con_hambre = False\n",
        "\n",
        "  def correr(self):\n",
        "    self.corriendo = True\n",
        "\n",
        "  def parar(self):\n",
        "    if self.corriendo == True:\n",
        "      self.cansado = True\n",
        "      self.corriendo == False\n",
        "    elif self.corriendo == False:\n",
        "      self.cansado = False\n",
        "    self.corriendo = False\n",
        "\n",
        "\n"
      ]
    },
    {
      "cell_type": "code",
      "source": [
        "Toby = Animal(especie = \"Perro\")\n",
        "Sasha = Animal(especie = \"Gato\", patas = 4)\n",
        "Poly = Animal(especie = \"Loro\", patas = 2, vuela=True)"
      ],
      "metadata": {
        "id": "bWndyQpjt_kh"
      },
      "execution_count": null,
      "outputs": []
    },
    {
      "cell_type": "code",
      "source": [
        "print(type(Toby))\n",
        "print(type(Sasha))\n",
        "print(type(Poly))"
      ],
      "metadata": {
        "colab": {
          "base_uri": "https://localhost:8080/"
        },
        "id": "dJJptMYyvBNY",
        "outputId": "29837645-bf15-46d0-d68e-5768d7c0d64e"
      },
      "execution_count": null,
      "outputs": [
        {
          "output_type": "stream",
          "name": "stdout",
          "text": [
            "<class '__main__.Animal'>\n",
            "<class '__main__.Animal'>\n",
            "<class '__main__.Animal'>\n"
          ]
        }
      ]
    },
    {
      "cell_type": "code",
      "source": [
        "print(Toby.especie, Toby.patas, Toby.vuela)\n",
        "print(Sasha.especie, Sasha.patas)\n",
        "print(Poly.especie, Poly.patas, Poly.vuela)"
      ],
      "metadata": {
        "colab": {
          "base_uri": "https://localhost:8080/"
        },
        "id": "cyi7GkmNvC2H",
        "outputId": "fc0e9139-1f15-446f-b61d-21d2c95db8be"
      },
      "execution_count": null,
      "outputs": [
        {
          "output_type": "stream",
          "name": "stdout",
          "text": [
            "Perro 4 False\n",
            "Gato 4\n",
            "Loro 2 True\n"
          ]
        }
      ]
    },
    {
      "cell_type": "code",
      "source": [
        "print(Toby.con_hambre)\n",
        "Toby.co\n",
        "\n",
        "print(Toby.con_hambre)"
      ],
      "metadata": {
        "colab": {
          "base_uri": "https://localhost:8080/"
        },
        "id": "tVUBdxxavSPo",
        "outputId": "bcd473cb-e535-4ecc-f1e9-ba426602cc2e"
      },
      "execution_count": null,
      "outputs": [
        {
          "output_type": "stream",
          "name": "stdout",
          "text": [
            "True\n",
            "False\n"
          ]
        }
      ]
    },
    {
      "cell_type": "code",
      "source": [
        "print(Sasha.con_hambre)\n",
        "Sasha.comer()\n",
        "print(Sasha.con_hambre)"
      ],
      "metadata": {
        "colab": {
          "base_uri": "https://localhost:8080/"
        },
        "id": "6h7TKGsLwdLw",
        "outputId": "4820b085-d00e-43d8-9d7f-ce0a242f5405"
      },
      "execution_count": null,
      "outputs": [
        {
          "output_type": "stream",
          "name": "stdout",
          "text": [
            "True\n",
            "False\n"
          ]
        }
      ]
    },
    {
      "cell_type": "markdown",
      "source": [
        "### Prueba"
      ],
      "metadata": {
        "id": "2M97uhx5ySjD"
      }
    },
    {
      "cell_type": "code",
      "source": [
        "print(\"Sasha está cansada?: \", Sasha.cansado)\n",
        "print(\"Sasha está corriendo?: \", Sasha.corriendo)\n",
        "print(\"enviamos a correr a Sasha\")\n",
        "Sasha.correr()\n",
        "print(\"Sasha está cansada?: \", Sasha.cansado)\n",
        "print(\"Sasha está corriendo?: \", Sasha.corriendo)\n",
        "\n",
        "print()\n",
        "print(\"enviamos a parar a Sasha\")\n",
        "Sasha.parar()\n",
        "print(\"Sasha está cansada?: \", Sasha.cansado)\n",
        "print(\"Sasha está corriendo?: \", Sasha.corriendo)"
      ],
      "metadata": {
        "colab": {
          "base_uri": "https://localhost:8080/"
        },
        "id": "lhP5SQN0wgy7",
        "outputId": "fb6c6b70-7f98-4d41-a080-97422bc40ca7"
      },
      "execution_count": null,
      "outputs": [
        {
          "output_type": "stream",
          "name": "stdout",
          "text": [
            "Sasha está cansada?:  False\n",
            "Sasha está corriendo?:  False\n",
            "enviamos a correr a Sasha\n",
            "Sasha está cansada?:  False\n",
            "Sasha está corriendo?:  True\n",
            "\n",
            "enviamos a parar a Sasha\n",
            "Sasha está cansada?:  True\n",
            "Sasha está corriendo?:  False\n"
          ]
        }
      ]
    },
    {
      "cell_type": "code",
      "source": [
        "Toby.con_hambre"
      ],
      "metadata": {
        "colab": {
          "base_uri": "https://localhost:8080/"
        },
        "id": "fLVDoS37wiXo",
        "outputId": "9aca11da-3e0d-4970-af85-bb92438debc1"
      },
      "execution_count": null,
      "outputs": [
        {
          "output_type": "execute_result",
          "data": {
            "text/plain": [
              "True"
            ]
          },
          "metadata": {},
          "execution_count": 86
        }
      ]
    },
    {
      "cell_type": "code",
      "source": [
        "Toby.correr()"
      ],
      "metadata": {
        "id": "DobbPjH41fdQ"
      },
      "execution_count": null,
      "outputs": []
    },
    {
      "cell_type": "code",
      "source": [
        "Toby.corriendo"
      ],
      "metadata": {
        "colab": {
          "base_uri": "https://localhost:8080/"
        },
        "id": "Oe_Mji3l1hpH",
        "outputId": "acf3efd4-b6a1-4f3b-fc9e-5b188977cbf4"
      },
      "execution_count": null,
      "outputs": [
        {
          "output_type": "execute_result",
          "data": {
            "text/plain": [
              "True"
            ]
          },
          "metadata": {},
          "execution_count": 88
        }
      ]
    },
    {
      "cell_type": "code",
      "source": [
        "Toby.comer()"
      ],
      "metadata": {
        "id": "SbQIM5Fa1koo"
      },
      "execution_count": null,
      "outputs": []
    },
    {
      "cell_type": "code",
      "source": [
        "Toby.con_hambre"
      ],
      "metadata": {
        "colab": {
          "base_uri": "https://localhost:8080/"
        },
        "id": "0Nt_v53U1o7Z",
        "outputId": "a866d4ec-1cb5-4033-b1ba-3ada352d08d3"
      },
      "execution_count": null,
      "outputs": [
        {
          "output_type": "execute_result",
          "data": {
            "text/plain": [
              "False"
            ]
          },
          "metadata": {},
          "execution_count": 90
        }
      ]
    },
    {
      "cell_type": "code",
      "source": [
        "Toby.corriendo"
      ],
      "metadata": {
        "colab": {
          "base_uri": "https://localhost:8080/"
        },
        "id": "TGbivwls1quQ",
        "outputId": "d332997a-56e2-4492-9ac1-c3b9317150ff"
      },
      "execution_count": null,
      "outputs": [
        {
          "output_type": "execute_result",
          "data": {
            "text/plain": [
              "False"
            ]
          },
          "metadata": {},
          "execution_count": 91
        }
      ]
    },
    {
      "cell_type": "code",
      "source": [
        ""
      ],
      "metadata": {
        "id": "VBQSnyPm1tnY"
      },
      "execution_count": null,
      "outputs": []
    }
  ]
}